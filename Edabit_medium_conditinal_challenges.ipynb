{
 "cells": [
  {
   "cell_type": "markdown",
   "id": "02a5da7d-cfa4-4fbf-aff8-a828c9c5f95f",
   "metadata": {},
   "source": [
    "# 1. Adding Numbers\n",
    "Create a function that takes two number strings and returns their sum as a string.\n",
    "\n",
    "Examples:\n",
    "add(\"111\", \"111\") ➞ \"222\"\n",
    "\n",
    "add(\"10\", \"80\") ➞ \"90\"\n",
    "\n",
    "add(\"\", \"20\") ➞ \"Invalid Operation\"\n",
    "\n",
    "Notes:\n",
    "If any input is \"\" or None, return \"Invalid Operation\"."
   ]
  },
  {
   "cell_type": "code",
   "execution_count": 12,
   "id": "ae6fcc8a-17a0-40ea-a4e8-e2e2d3c5fe71",
   "metadata": {},
   "outputs": [],
   "source": [
    "def add(x,y):\n",
    "    if x==\"\" or y==\"\" or x== None or y== None:\n",
    "        j= \"invalid operation\" \n",
    "        \n",
    "    else:\n",
    "        b=int(x)\n",
    "        c=int(y)\n",
    "        a=b+c\n",
    "        j=str(a)\n",
    "    \n",
    "    return j\n",
    "        "
   ]
  },
  {
   "cell_type": "code",
   "execution_count": 13,
   "id": "5d65ae87-81f6-498a-8b95-5fab76aa0719",
   "metadata": {},
   "outputs": [
    {
     "data": {
      "text/plain": [
       "'222'"
      ]
     },
     "execution_count": 13,
     "metadata": {},
     "output_type": "execute_result"
    }
   ],
   "source": [
    "add(\"111\", \"111\") "
   ]
  },
  {
   "cell_type": "markdown",
   "id": "52524781-c946-4422-ae87-d0d56fd5ac7d",
   "metadata": {},
   "source": [
    "# 2. Quadratic Equation\n",
    "Create a function to find only the root value of x in any quadratic equation ax^2 + bx + c. The function will take three arguments:\n",
    "\n",
    "a as the coefficient of x^2\n",
    "b as the coefficient of x\n",
    "c as the constant term\n",
    "\n",
    "Examples:\n",
    "quadratic_equation(1, 2, -3) ➞ 1\n",
    "\n",
    "quadratic_equation(2, -7, 3) ➞ 3\n",
    "\n",
    "quadratic_equation(1, -12, -28) ➞ 14\n",
    "\n",
    "Notes:\n",
    "\n",
    "Quadratic equation is always guaranteed to have a root.\n",
    "\n",
    "Check the Resources tab for more information on quadratic equations.\n",
    "\n",
    "Calculate only the root that sums the square root of the discriminant, not the one that subtracts it.\n",
    "\n",
    "Round the value / return only integer value."
   ]
  },
  {
   "cell_type": "code",
   "execution_count": 18,
   "id": "b38840cb-a2da-48d7-9ba5-0ee6e74dc371",
   "metadata": {},
   "outputs": [],
   "source": [
    "def quadratic_eq(a,b,c):\n",
    "    discriminant= b**2-4*a*c\n",
    "    x= (-b+(discriminant**0.5))/(2*a)\n",
    "    return x\n",
    "    "
   ]
  },
  {
   "cell_type": "code",
   "execution_count": 19,
   "id": "4c1f6881-97a2-49f3-8957-802ce719c729",
   "metadata": {},
   "outputs": [
    {
     "data": {
      "text/plain": [
       "1.0"
      ]
     },
     "execution_count": 19,
     "metadata": {},
     "output_type": "execute_result"
    }
   ],
   "source": [
    "quadratic_eq(1,2,-3)"
   ]
  },
  {
   "cell_type": "code",
   "execution_count": 20,
   "id": "ff2f4f75-4e56-47cf-8e0f-5be76168d090",
   "metadata": {},
   "outputs": [
    {
     "data": {
      "text/plain": [
       "3.0"
      ]
     },
     "execution_count": 20,
     "metadata": {},
     "output_type": "execute_result"
    }
   ],
   "source": [
    "quadratic_eq(2,-7,3)"
   ]
  },
  {
   "cell_type": "markdown",
   "id": "c0f43b30-574e-4fc4-ab65-c0d6c69dcce0",
   "metadata": {},
   "source": [
    "# 3 Two Distinct Elements\n",
    "In each input list, every number repeats at least once, except for two. Write a function that returns the two unique numbers.\n",
    "\n",
    "Examples return_unique([1, 9, 8, 8, 7, 6, 1, 6]) ➞ [9, 7]\n",
    "\n",
    "return_unique([5, 5, 2, 4, 4, 4, 9, 9, 9, 1]) ➞ [2, 1]\n",
    "\n",
    "return_unique([9, 5, 6, 8, 7, 7, 1, 1, 1, 1, 1, 9, 8]) ➞ [5, 6] Notes Keep the same ordering in the output."
   ]
  },
  {
   "cell_type": "code",
   "execution_count": 7,
   "id": "12cb5bd6-a61a-4200-94e8-c6a88d7c17e2",
   "metadata": {},
   "outputs": [],
   "source": [
    "def return_unique(x):\n",
    "    \n",
    "    a=[]\n",
    "    for i in range(len(x)):\n",
    "        if x.count(x[i])==1 and (x[i])!=2:\n",
    "            a.append(x[i])\n",
    "    return a\n",
    "        "
   ]
  },
  {
   "cell_type": "code",
   "execution_count": 8,
   "id": "e2d66c7c-53e0-4ef1-851c-0b4825e29a98",
   "metadata": {},
   "outputs": [
    {
     "data": {
      "text/plain": [
       "[9, 7]"
      ]
     },
     "execution_count": 8,
     "metadata": {},
     "output_type": "execute_result"
    }
   ],
   "source": [
    "return_unique([1, 9, 8, 8, 7, 6, 1, 6])"
   ]
  },
  {
   "cell_type": "code",
   "execution_count": 10,
   "id": "fc0506a9-9e83-4347-9f9a-0fdbccc784e9",
   "metadata": {},
   "outputs": [
    {
     "data": {
      "text/plain": [
       "[6, 5]"
      ]
     },
     "execution_count": 10,
     "metadata": {},
     "output_type": "execute_result"
    }
   ],
   "source": [
    "return_unique([1,2,3,4,1,2,3,4,6,5])"
   ]
  },
  {
   "cell_type": "markdown",
   "id": "f61beea0-5bfa-4276-9ce7-c2eff990a002",
   "metadata": {},
   "source": [
    "# 4 Stupid Addition\n",
    "Create a function that takes two parameters and, if both parameters are strings, add them as if they were integers or if the two parameters are integers, concatenate them.\n",
    "\n",
    "Examples stupid_addition(1, 2) ➞ \"12\"\n",
    "\n",
    "stupid_addition(\"1\", \"2\") ➞ 3\n",
    "\n",
    "stupid_addition(\"1\", 2) ➞ None Notes If the two parameters are different data types, return None. All parameters will either be strings or integers."
   ]
  },
  {
   "cell_type": "code",
   "execution_count": 32,
   "id": "5142e5e2-26b2-469a-86fc-d5766aece310",
   "metadata": {},
   "outputs": [],
   "source": [
    "def stupid_addition(x,y):\n",
    "    if type(x)==int and type(y)==int:\n",
    "        z=str(x)+str(y)\n",
    "    elif type(x)==str and type(y)==str:\n",
    "        z=int(x)+int(y)\n",
    "    elif type(x)==int and type(y)==str or type(x)==str and type(y)==int:\n",
    "        z= \"None\"\n",
    "    return z"
   ]
  },
  {
   "cell_type": "code",
   "execution_count": 33,
   "id": "798fb9e6-7354-4ec8-bdc4-6a8ac92ed659",
   "metadata": {},
   "outputs": [
    {
     "data": {
      "text/plain": [
       "'12'"
      ]
     },
     "execution_count": 33,
     "metadata": {},
     "output_type": "execute_result"
    }
   ],
   "source": [
    "stupid_addition(1, 2) "
   ]
  },
  {
   "cell_type": "code",
   "execution_count": 34,
   "id": "322053dc-96fc-4a05-a934-94078699ec40",
   "metadata": {},
   "outputs": [
    {
     "data": {
      "text/plain": [
       "3"
      ]
     },
     "execution_count": 34,
     "metadata": {},
     "output_type": "execute_result"
    }
   ],
   "source": [
    "stupid_addition(\"1\", \"2\")"
   ]
  },
  {
   "cell_type": "code",
   "execution_count": 35,
   "id": "6e1cfa50-4153-45a4-8810-270b3869444c",
   "metadata": {},
   "outputs": [
    {
     "data": {
      "text/plain": [
       "'None'"
      ]
     },
     "execution_count": 35,
     "metadata": {},
     "output_type": "execute_result"
    }
   ],
   "source": [
    "stupid_addition(\"1\", 2)"
   ]
  },
  {
   "cell_type": "markdown",
   "id": "c6c4da21-4d1a-4271-a5ed-0e448a70dbb1",
   "metadata": {},
   "source": [
    "# 5 Transcribe to mRNA\n",
    "Transcribe the given DNA strand into corresponding mRNA - a type of RNA, that will be formed from it after transcription. DNA has the bases A, T, G and C, while RNA converts to U, A, C and G respectively.\n",
    "\n",
    "Examples \n",
    "\n",
    "dna_to_rna(\"ATTAGCGCGATATACGCGTAC\") ➞ \"UAAUCGCGCUAUAUGCGCAUG\"\n",
    "\n",
    "dna_to_rna(\"CGATATA\") ➞ \"GCUAUAU\"\n",
    "\n",
    "dna_to_rna(\"GTCATACGACGTA\") ➞ \"CAGUAUGCUGCAU\"\n",
    "\n",
    "Notes Transcription is the process of making complementary strand. \n",
    "\n",
    "A, T, G and C in DNA converts to U, A, C and G respectively, when in mRNA."
   ]
  },
  {
   "cell_type": "code",
   "execution_count": 37,
   "id": "f952ab30-7412-4930-beee-157c36ce3f63",
   "metadata": {},
   "outputs": [],
   "source": [
    "def dna_to_rna(x):\n",
    "    table=x.maketrans(\"ATGC\",\"UACG\")\n",
    "    y=x.translate(table)\n",
    "    return y\n",
    "        "
   ]
  },
  {
   "cell_type": "code",
   "execution_count": 38,
   "id": "91143635-7972-4431-974c-690656160a58",
   "metadata": {},
   "outputs": [
    {
     "data": {
      "text/plain": [
       "'UAAUCGCGCUAUAUGCGCAUG'"
      ]
     },
     "execution_count": 38,
     "metadata": {},
     "output_type": "execute_result"
    }
   ],
   "source": [
    "dna_to_rna(\"ATTAGCGCGATATACGCGTAC\") "
   ]
  },
  {
   "cell_type": "markdown",
   "id": "a360afb6-1cf9-46c2-a049-51080d62cb88",
   "metadata": {},
   "source": [
    "# 6 A Long Long Time\n",
    "Create a function that takes three values:\n",
    "\n",
    "h hours m minutes s seconds Return the value that's the longest duration.\n",
    "\n",
    "Examples longest_time(1, 59, 3598) ➞ 1\n",
    "\n",
    "longest_time(2, 300, 15000) ➞ 300\n",
    "\n",
    "longest_time(15, 955, 59400) ➞ 59400 Notes No two durations will be the same."
   ]
  },
  {
   "cell_type": "code",
   "execution_count": 72,
   "id": "7eee8320-4e77-4de6-a5bb-5a73fcb3dba3",
   "metadata": {},
   "outputs": [],
   "source": [
    "def longest_time(H,M,S):\n",
    "    H=H*3600\n",
    "    M=M*60\n",
    "    S=S\n",
    "    if H>S and M:\n",
    "        return int(H/3600)\n",
    "    elif M>S and H:\n",
    "        return int(M/60)\n",
    "    else:\n",
    "        return S\n",
    "    "
   ]
  },
  {
   "cell_type": "code",
   "execution_count": 73,
   "id": "386d7813-dbf4-4333-9364-284970f93877",
   "metadata": {},
   "outputs": [
    {
     "data": {
      "text/plain": [
       "1"
      ]
     },
     "execution_count": 73,
     "metadata": {},
     "output_type": "execute_result"
    }
   ],
   "source": [
    "longest_time(1, 59, 3598) "
   ]
  },
  {
   "cell_type": "code",
   "execution_count": 74,
   "id": "c2b5d7fd-73f8-4bc4-add8-08364c9bb4e2",
   "metadata": {},
   "outputs": [
    {
     "data": {
      "text/plain": [
       "300"
      ]
     },
     "execution_count": 74,
     "metadata": {},
     "output_type": "execute_result"
    }
   ],
   "source": [
    "longest_time(2, 300, 15000)"
   ]
  },
  {
   "cell_type": "code",
   "execution_count": 75,
   "id": "780897d0-7c39-438a-9f3a-61d886b83dd7",
   "metadata": {},
   "outputs": [
    {
     "data": {
      "text/plain": [
       "59400"
      ]
     },
     "execution_count": 75,
     "metadata": {},
     "output_type": "execute_result"
    }
   ],
   "source": [
    "longest_time(15, 955, 59400)"
   ]
  },
  {
   "cell_type": "markdown",
   "id": "c76d77f5-f0f9-402c-8ea2-da725458b91b",
   "metadata": {},
   "source": [
    "# 7 Likes vs. Dislikes\n",
    "YouTube currently displays a like and a dislike button, allowing you to express your opinions about particular content. It's set up in such a way that you cannot like and dislike a video at the same time.\n",
    "\n",
    "There are two other interesting rules to be noted about the interface:\n",
    "\n",
    "Pressing a button, which is already active, will undo your press. \n",
    "\n",
    "If you press the like button after pressing the dislike button, the like button overwrites the previous \"dislike\" state.\n",
    "\n",
    "The same is true for the other way round. Create a function that takes in a list of button inputs and returns the final state.\n",
    "\n",
    "Examples\n",
    "\n",
    "like_or_dislike([\"Dislike\"]) ➞ \"Dislike\"\n",
    "\n",
    "like_or_dislike([\"Like\", \"Like\"]) ➞ \"Nothing\"\n",
    "\n",
    "like_or_dislike([\"Dislike\", \"Like\"]) ➞ \"Like\"\n",
    "\n",
    "like_or_dislike([\"Like\", \"Dislike\", \"Dislike\"]) ➞ \"Nothing\" \n",
    "\n",
    "Notes If no button is currently active, return \"Nothing\". If the list is empty, return \"Nothing\"."
   ]
  },
  {
   "cell_type": "code",
   "execution_count": 30,
   "id": "6aae38db-e3d2-4c7e-bdbd-d2cd1f4e0c32",
   "metadata": {},
   "outputs": [],
   "source": [
    "def like_or_dislike(buttons):\n",
    "    button_active = \"Nothing\"  \n",
    "    \n",
    "    for opinion in buttons:\n",
    "        if opinion == \"Like\":\n",
    "            if button_active == \"Like\":\n",
    "                button_active = \"Nothing\" \n",
    "            else:\n",
    "                button_active = \"Like\" \n",
    "        elif opinion == \"Dislike\":\n",
    "            if button_active == \"Dislike\":\n",
    "                button_active = \"Nothing\"  \n",
    "            else:\n",
    "                button_active = \"Dislike\"  \n",
    "    \n",
    "    return button_active"
   ]
  },
  {
   "cell_type": "code",
   "execution_count": 31,
   "id": "eb3ea075-db8e-4c99-8be6-c5cd33578d48",
   "metadata": {},
   "outputs": [
    {
     "data": {
      "text/plain": [
       "'Dislike'"
      ]
     },
     "execution_count": 31,
     "metadata": {},
     "output_type": "execute_result"
    }
   ],
   "source": [
    "like_or_dislike([\"Dislike\"])"
   ]
  },
  {
   "cell_type": "code",
   "execution_count": 32,
   "id": "75b1e3a3-cfca-4325-8405-31ebc7392fe2",
   "metadata": {},
   "outputs": [
    {
     "data": {
      "text/plain": [
       "'Nothing'"
      ]
     },
     "execution_count": 32,
     "metadata": {},
     "output_type": "execute_result"
    }
   ],
   "source": [
    "like_or_dislike([''])"
   ]
  },
  {
   "cell_type": "code",
   "execution_count": 33,
   "id": "ad323818-8f39-4847-9f04-3c5024ef98a1",
   "metadata": {},
   "outputs": [
    {
     "data": {
      "text/plain": [
       "'Nothing'"
      ]
     },
     "execution_count": 33,
     "metadata": {},
     "output_type": "execute_result"
    }
   ],
   "source": [
    "like_or_dislike([\"Like\", \"Like\"])"
   ]
  },
  {
   "cell_type": "code",
   "execution_count": 34,
   "id": "e9f391cd-94df-4931-8dd5-6a315b1f79a9",
   "metadata": {},
   "outputs": [
    {
     "data": {
      "text/plain": [
       "'Like'"
      ]
     },
     "execution_count": 34,
     "metadata": {},
     "output_type": "execute_result"
    }
   ],
   "source": [
    "like_or_dislike([\"Dislike\", \"Like\"])"
   ]
  },
  {
   "cell_type": "markdown",
   "id": "c81af8f0-ae69-40bc-a54d-0e3b21fce6f2",
   "metadata": {},
   "source": [
    "# 8 Oddish vs. Evenish\n",
    "Create a function that determines whether a number is Oddish or Evenish. A number is Oddish if the sum of all of its digits is odd, and a number is Evenish if the sum of all of its digits is even. If a number is Oddish, return \"Oddish\". Otherwise, return \"Evenish\".\n",
    "\n",
    "For example, oddish_or_evenish(121) should return \"Evenish\", since 1 + 2 + 1 = 4. oddish_or_evenish(41) should return \"Oddish\", since 4 + 1 = 5.\n",
    "\n",
    "Examples oddish_or_evenish(43) ➞ \"Oddish\"\n",
    "\n",
    "4 + 3 = 7\n",
    "7 % 2 = 1\n",
    "oddish_or_evenish(373) ➞ \"Oddish\"\n",
    "\n",
    "3 + 7 + 3 = 13\n",
    "13 % 2 = 1\n",
    "oddish_or_evenish(4433) ➞ \"Evenish\"\n",
    "\n",
    "4 + 4 + 3 + 3 = 14\n",
    "14 % 2 = 0"
   ]
  },
  {
   "cell_type": "code",
   "execution_count": 44,
   "id": "eeb9ecef-8055-43d6-ba9e-6c6dd7898b2a",
   "metadata": {},
   "outputs": [],
   "source": [
    "def oddish_or_evenish(num):\n",
    "    digit_sum=sum(int(digit) for digit in str(num))\n",
    "    if digit_sum%2==0:\n",
    "        return \"Evenish\"\n",
    "    else:\n",
    "        return \"Oddish\"\n",
    "    "
   ]
  },
  {
   "cell_type": "code",
   "execution_count": 50,
   "id": "4f0496c3-e54f-4e4b-a43a-31cef520ee4f",
   "metadata": {},
   "outputs": [
    {
     "data": {
      "text/plain": [
       "'Evenish'"
      ]
     },
     "execution_count": 50,
     "metadata": {},
     "output_type": "execute_result"
    }
   ],
   "source": [
    "oddish_or_evenish(4433)"
   ]
  },
  {
   "cell_type": "markdown",
   "id": "9cc7b212-d00d-49cc-8f2e-501cdd52e15f",
   "metadata": {},
   "source": [
    "# 9 The Fifth Argument\n",
    "Create a function (named fifth) that takes some arguments and returns the type of the fifth argument. In case the arguments were less than 5, return \"Not enough arguments\".\n",
    "\n",
    "Examples \n",
    "\n",
    "fifth(1, 2, 3, 4, 5) ➞ int\n",
    "\n",
    "fifth(\"a\", 2, 3, [1, 2, 3], \"five\") ➞ str\n",
    "\n",
    "fifth() ➞ \"Not enough arguments\" \n",
    "\n",
    "Notes Don't get confused between zero-indexing and one-indexing. If you get stuck check the Resources tab."
   ]
  },
  {
   "cell_type": "code",
   "execution_count": 3,
   "id": "6ee881f2-67eb-4697-891e-4fb9a2137bdd",
   "metadata": {},
   "outputs": [],
   "source": [
    "def fifth_arg_type(*args):   \n",
    "    if len(args)<5:\n",
    "        return \"Not enough arguments\"\n",
    "    else:\n",
    "         return type(args[4])"
   ]
  },
  {
   "cell_type": "code",
   "execution_count": 4,
   "id": "393c8ac3-8b40-46e3-9345-32b814020093",
   "metadata": {},
   "outputs": [
    {
     "data": {
      "text/plain": [
       "int"
      ]
     },
     "execution_count": 4,
     "metadata": {},
     "output_type": "execute_result"
    }
   ],
   "source": [
    "fifth_arg_type(1,2,3,4,5)"
   ]
  },
  {
   "cell_type": "code",
   "execution_count": 4,
   "id": "f84fbd40-99b8-4f1a-b4c3-2a6726d78835",
   "metadata": {},
   "outputs": [
    {
     "data": {
      "text/plain": [
       "'Not enough arguments'"
      ]
     },
     "execution_count": 4,
     "metadata": {},
     "output_type": "execute_result"
    }
   ],
   "source": [
    "fifth_arg_type()"
   ]
  },
  {
   "cell_type": "code",
   "execution_count": 6,
   "id": "83ad1f07-4cbb-4605-8840-b9dd994fff24",
   "metadata": {},
   "outputs": [
    {
     "data": {
      "text/plain": [
       "str"
      ]
     },
     "execution_count": 6,
     "metadata": {},
     "output_type": "execute_result"
    }
   ],
   "source": [
    "fifth_arg_type(\"a\", 2, 3, [1, 2, 3], \"five\")"
   ]
  },
  {
   "cell_type": "markdown",
   "id": "82139a14-bdba-4aca-a74e-876e09678ac7",
   "metadata": {},
   "source": [
    "# 10 Censor Words Longer Than Four Characters\n",
    "Create a function that takes a string and censors words over four characters with *.\n",
    "\n",
    "Examples censor(\"The code is fourty\") ➞ \"The code is ******\"\n",
    "\n",
    "censor(\"Two plus three is five\") ➞ \"Two plus ***** is five\"\n",
    "\n",
    "censor(\"aaaa aaaaa 1234 12345\") ➞ \"aaaa ***** 1234 ****\" \n",
    "\n",
    "Notes Don't censor words with exactly four characters.\n",
    "\n",
    "If all words have four characters or less, return the original string. The amount of is the same as the length of the word."
   ]
  },
  {
   "cell_type": "code",
   "execution_count": 112,
   "id": "08e3dc5f-afba-4852-9bfc-b385a85a1836",
   "metadata": {},
   "outputs": [],
   "source": [
    "def censor(sentence):\n",
    "    lst= sentence.split(' ')\n",
    "    for element in range(len(lst)):\n",
    "        word=lst[element]\n",
    "        updated_word=''\n",
    "        for char in word:\n",
    "            if len(word)>4:\n",
    "                char='*'\n",
    "                updated_word+=char\n",
    "            else:\n",
    "                updated_word+=char\n",
    "        lst[element]=updated_word \n",
    "    return ' '.join(lst)"
   ]
  },
  {
   "cell_type": "code",
   "execution_count": 113,
   "id": "4dbff354-a375-4b65-8ca9-4ed5e82cbc01",
   "metadata": {},
   "outputs": [
    {
     "data": {
      "text/plain": [
       "'The code is ******'"
      ]
     },
     "execution_count": 113,
     "metadata": {},
     "output_type": "execute_result"
    }
   ],
   "source": [
    "censor(\"The code is fourty\")"
   ]
  },
  {
   "cell_type": "code",
   "execution_count": 114,
   "id": "e8eba011-a9c5-4396-bdc7-c872f152de5f",
   "metadata": {},
   "outputs": [
    {
     "data": {
      "text/plain": [
       "'Two plus ***** is five'"
      ]
     },
     "execution_count": 114,
     "metadata": {},
     "output_type": "execute_result"
    }
   ],
   "source": [
    "censor(\"Two plus three is five\") "
   ]
  },
  {
   "cell_type": "code",
   "execution_count": 115,
   "id": "4afaf8cc-79c0-468c-b350-a5c493166261",
   "metadata": {},
   "outputs": [
    {
     "data": {
      "text/plain": [
       "'aaaa ***** 1234 *****'"
      ]
     },
     "execution_count": 115,
     "metadata": {},
     "output_type": "execute_result"
    }
   ],
   "source": [
    "censor(\"aaaa aaaaa 1234 12345\")"
   ]
  },
  {
   "cell_type": "code",
   "execution_count": 116,
   "id": "b0a338ba-87c5-4d2a-a326-7cb5c661d6ee",
   "metadata": {},
   "outputs": [
    {
     "data": {
      "text/plain": [
       "'The code is four'"
      ]
     },
     "execution_count": 116,
     "metadata": {},
     "output_type": "execute_result"
    }
   ],
   "source": [
    "censor(\"The code is four\")"
   ]
  },
  {
   "cell_type": "markdown",
   "id": "279a46eb-8f29-4284-998b-b001686ece5b",
   "metadata": {},
   "source": [
    "# 11 Neutralisation\n",
    "Given two strings comprised of + and -, return a new string which shows how the two strings interact in the following way:\n",
    "\n",
    "When positives and positives interact, they remain positive. When negatives and negatives interact, they remain negative.\n",
    "\n",
    "But when negatives and positives interact, they become neutral, and are shown as the number 0. \n",
    "\n",
    "Worked Example \n",
    "\n",
    "neutralise(\"+-+\", \"+--\") ➞ \"+-0\"\n",
    "\n",
    "Compare the first characters of each string, then the next in turn.\n",
    "\"+\" against a \"+\" returns another \"+\".\n",
    "\"-\" against a \"-\" returns another \"-\".\n",
    "\"+\" against a \"-\" returns \"0\".\n",
    "\n",
    "Return the string of characters.\n",
    "\n",
    "Examples:\n",
    "\n",
    "neutralise(\"--++--\", \"++--++\") ➞ \"000000\"\n",
    "\n",
    "neutralise(\"-+-+-+\", \"-+-+-+\") ➞ \"-+-+-+\"\n",
    "\n",
    "neutralise(\"-++-\", \"-+-+\") ➞ \"-+00\" Notes The two strings will be the same length."
   ]
  },
  {
   "cell_type": "code",
   "execution_count": 182,
   "id": "29397a99-24b1-427a-879c-0619dcc9daab",
   "metadata": {},
   "outputs": [],
   "source": [
    "def neutralise(string1,string2):\n",
    "    a=len(string1)\n",
    "    b=len(string2)\n",
    "    neutralised=''\n",
    "    if a!=b:\n",
    "        return 'both strings are not of same length'\n",
    "    \n",
    "    for char in range(len(string1)):\n",
    "        A= string1[char]\n",
    "        B= string2[char]\n",
    "        \n",
    "        if A=='+' and B=='+':\n",
    "            neutralised+='+'\n",
    "        elif A=='-' and B=='-':\n",
    "            neutralised+='-'\n",
    "        else:\n",
    "            neutralised+='0'\n",
    "                \n",
    "    return neutralised    "
   ]
  },
  {
   "cell_type": "code",
   "execution_count": 183,
   "id": "ebe921a1-3a99-4301-9440-75ef1daf378a",
   "metadata": {},
   "outputs": [
    {
     "data": {
      "text/plain": [
       "'000000'"
      ]
     },
     "execution_count": 183,
     "metadata": {},
     "output_type": "execute_result"
    }
   ],
   "source": [
    "neutralise(\"--++--\", \"++--++\")"
   ]
  },
  {
   "cell_type": "code",
   "execution_count": 181,
   "id": "45c45267-f015-4520-aea0-bd299e78963c",
   "metadata": {},
   "outputs": [
    {
     "data": {
      "text/plain": [
       "'-+-+-+'"
      ]
     },
     "execution_count": 181,
     "metadata": {},
     "output_type": "execute_result"
    }
   ],
   "source": [
    "neutralise(\"-+-+-+\", \"-+-+-+\")"
   ]
  },
  {
   "cell_type": "markdown",
   "id": "1e353ba5-6ec6-4282-b56a-b0fcaa868436",
   "metadata": {},
   "source": [
    "# 12 Are the Sum of Digits in the Numbers Equal\n",
    "\n",
    "Write a function that takes a list of two numbers and determines if the sum of the digits in each number are equal to each other.\n",
    "\n",
    "Examples:\n",
    "\n",
    "is_equal([105, 42]) ➞ True\n",
    "\n",
    "1 + 0 + 5 = 6\n",
    "4 + 2 = 6\n",
    "\n",
    "is_equal([21, 35]) ➞ False\n",
    "\n",
    "is_equal([0, 0]) ➞ True "
   ]
  },
  {
   "cell_type": "code",
   "execution_count": 198,
   "id": "448d698f-6598-45bf-9d8f-4a466994bc74",
   "metadata": {},
   "outputs": [],
   "source": [
    "def is_equal(num):\n",
    "    num1=num[0]\n",
    "    num2=num[1]\n",
    "    num1_digit_sum=sum(int(digit) for digit in str(num1))\n",
    "    num2_digit_sum=sum(int(digit) for digit in str(num2))\n",
    "    return num1_digit_sum==num2_digit_sum"
   ]
  },
  {
   "cell_type": "code",
   "execution_count": 199,
   "id": "dbe4c4e9-9d08-4429-a08e-6131bd3dfe00",
   "metadata": {},
   "outputs": [
    {
     "data": {
      "text/plain": [
       "True"
      ]
     },
     "execution_count": 199,
     "metadata": {},
     "output_type": "execute_result"
    }
   ],
   "source": [
    "is_equal([105,42])"
   ]
  },
  {
   "cell_type": "code",
   "execution_count": 200,
   "id": "9fe376af-53e2-4253-aa37-939df38f16d3",
   "metadata": {},
   "outputs": [
    {
     "data": {
      "text/plain": [
       "False"
      ]
     },
     "execution_count": 200,
     "metadata": {},
     "output_type": "execute_result"
    }
   ],
   "source": [
    "is_equal([21, 35])"
   ]
  },
  {
   "cell_type": "code",
   "execution_count": 211,
   "id": "6b543bf2-9b58-4992-8134-e116767f91a9",
   "metadata": {},
   "outputs": [
    {
     "data": {
      "text/plain": [
       "True"
      ]
     },
     "execution_count": 211,
     "metadata": {},
     "output_type": "execute_result"
    }
   ],
   "source": [
    "is_equal([0, 0]) "
   ]
  },
  {
   "cell_type": "code",
   "execution_count": null,
   "id": "8a99dd73-7f06-4e85-8acc-02b67bb7f636",
   "metadata": {},
   "outputs": [],
   "source": []
  },
  {
   "cell_type": "markdown",
   "id": "e044b088-ff31-48de-b896-f5cb45dae6de",
   "metadata": {},
   "source": [
    "# 13 Hold Your Breath!\n",
    "You will be given a list of numbers which represent your character's altitude above sea level at regular intervals:\n",
    "\n",
    "Positive numbers represent height above the water. 0 is sea level. Negative numbers represent depth below the water's surface. Create a function which returns whether your character survives their unsupervised diving experience, given a list of integers.\n",
    "\n",
    "Your character starts with a breath meter of 10, which is the maximum. When diving underwater, your breath meter decreases by 2 per item in the array. Watch out! If your breath diminishes to 0, your character dies!\n",
    "\n",
    "To prevent this, you can replenish your breath by 4 (up to the maximum of 10) for each item in the array where you are at or above sea level.\n",
    "\n",
    "Your function should return True if your character survives, and False if not.\n",
    "\n",
    "Worked Example diving_minigame([-5, -15, -4, 0, 5]) ➞ True\n",
    "\n",
    "Breath meter starts at 10.\n",
    "-5 is below water, so breath meter decreases to 8.\n",
    "-15 is below water, so breath meter decreases to 6.\n",
    "-4 is below water, so breath meter decreases to 4.\n",
    "0 is at sea level, so breath meter increases to 8.\n",
    "5 is above sea level and breath meter is capped at 10 (would've been 12 otherwise).\n",
    "Character survives!\n",
    "Examples:\n",
    "\n",
    "diving_minigame([1, 2, 3, 4, 5, 6, 7, 8, 9, 10]) ➞ True\n",
    "\n",
    "diving_minigame([-3, -6, -2, -6, -2]) ➞ False\n",
    "\n",
    "diving_minigame([2, 1, 2, 1, -3, -4, -5, -3, -4]) ➞ False \n",
    "\n",
    "Notes Lists may be of any length. All lists are valid."
   ]
  },
  {
   "cell_type": "code",
   "execution_count": 207,
   "id": "da74cf43-8b6d-45d0-ad1a-e65dc1cf263f",
   "metadata": {},
   "outputs": [],
   "source": [
    "def diving_minigame(altitudes_array):\n",
    "    breath_meter=10\n",
    "    for altitude in altitudes_array:\n",
    "        \n",
    "        if altitude<0:\n",
    "            breath_meter-=2\n",
    "        else:\n",
    "            breath_meter+=4\n",
    "        \n",
    "        if breath_meter>10:\n",
    "            breath_meter=10\n",
    "            \n",
    "        if breath_meter<=0:\n",
    "            return False\n",
    "    return True\n",
    "        \n",
    "    "
   ]
  },
  {
   "cell_type": "code",
   "execution_count": 208,
   "id": "78fdfbd0-ac79-430e-bacf-301c36a0b1d5",
   "metadata": {},
   "outputs": [
    {
     "data": {
      "text/plain": [
       "False"
      ]
     },
     "execution_count": 208,
     "metadata": {},
     "output_type": "execute_result"
    }
   ],
   "source": [
    "diving_minigame([2, 1, 2, 1, -3, -4, -5, -3, -4])"
   ]
  },
  {
   "cell_type": "code",
   "execution_count": 209,
   "id": "8a97f18b-bf1d-4182-91e3-3a4b92a34ea0",
   "metadata": {},
   "outputs": [
    {
     "data": {
      "text/plain": [
       "True"
      ]
     },
     "execution_count": 209,
     "metadata": {},
     "output_type": "execute_result"
    }
   ],
   "source": [
    "diving_minigame([1, 2, 3, 4, 5, 6, 7, 8, 9, 10])"
   ]
  },
  {
   "cell_type": "code",
   "execution_count": 210,
   "id": "ecfd4fe0-e860-49ab-80bc-1ff106876c3e",
   "metadata": {},
   "outputs": [
    {
     "data": {
      "text/plain": [
       "False"
      ]
     },
     "execution_count": 210,
     "metadata": {},
     "output_type": "execute_result"
    }
   ],
   "source": [
    "diving_minigame([-3, -6, -2, -6, -2])"
   ]
  },
  {
   "cell_type": "markdown",
   "id": "a8bd8e7d-8f55-4bc5-ba40-e8e9a78ba080",
   "metadata": {},
   "source": [
    "# 14 Operations\n",
    "Write a function that does the following operations: adding, subtracting, dividing, or multiplying values. It is simply referred to as variable operation variable. Of course, the variables have to be defined, but in this challenge the variables will be defined for you. All you have to do is look at the variables, do some string to integer conversions, use some if conditionals, and combine them based on the operation.\n",
    "\n",
    "The numbers and operation will be given as strings, and you should return the value as a string as well.\n",
    "\n",
    "Examples:\n",
    "\n",
    "operation(\"1\", \"2\", \"add\" ) ➞ \"3\"\n",
    "\n",
    "operation(\"4\", \"5\", \"subtract\") ➞ \"-1\"\n",
    "\n",
    "operation(\"6\", \"3\", \"divide\") ➞ \"2\" \n",
    "\n",
    "Notes: The numbers and operation will be given as strings, and you should also return the value as a string.\n",
    "\n",
    "If the answer is \"undefined\", return \"undefined\" (e.g. dividing by zero). For divide, go ahead and round down to an integer."
   ]
  },
  {
   "cell_type": "code",
   "execution_count": 218,
   "id": "d0a46a51-179f-4793-ab15-a6865141b02c",
   "metadata": {},
   "outputs": [],
   "source": [
    "def operation(x,y,operand):\n",
    "    if operand==\"add\":\n",
    "        z=int(x)+int(y)\n",
    "    elif operand==\"subtract\":\n",
    "        z=int(x)-int(y)\n",
    "    elif operand==\"divide\":\n",
    "        if int(y)==0:\n",
    "            z=\"undefined\"\n",
    "        else:\n",
    "            z=int(x)//int(y)\n",
    "    return str(z)\n",
    "        "
   ]
  },
  {
   "cell_type": "code",
   "execution_count": 219,
   "id": "4cd5de96-de47-4bfc-a9e2-6038b950fdf4",
   "metadata": {},
   "outputs": [
    {
     "data": {
      "text/plain": [
       "'undefined'"
      ]
     },
     "execution_count": 219,
     "metadata": {},
     "output_type": "execute_result"
    }
   ],
   "source": [
    "operation(\"6\", \"0\", \"divide\")"
   ]
  },
  {
   "cell_type": "code",
   "execution_count": 220,
   "id": "fe7f68b9-66f8-4c74-a519-b4eea750b34b",
   "metadata": {},
   "outputs": [
    {
     "data": {
      "text/plain": [
       "'2'"
      ]
     },
     "execution_count": 220,
     "metadata": {},
     "output_type": "execute_result"
    }
   ],
   "source": [
    "operation(\"6\", \"3\", \"divide\")"
   ]
  },
  {
   "cell_type": "code",
   "execution_count": 221,
   "id": "a0374f42-85fc-47f2-8ab9-3f93f12705d5",
   "metadata": {},
   "outputs": [
    {
     "data": {
      "text/plain": [
       "'-1'"
      ]
     },
     "execution_count": 221,
     "metadata": {},
     "output_type": "execute_result"
    }
   ],
   "source": [
    "operation(\"4\", \"5\", \"subtract\")"
   ]
  },
  {
   "cell_type": "code",
   "execution_count": 222,
   "id": "f813bfa2-c362-4125-a7d1-157088ded4a9",
   "metadata": {},
   "outputs": [
    {
     "data": {
      "text/plain": [
       "'3'"
      ]
     },
     "execution_count": 222,
     "metadata": {},
     "output_type": "execute_result"
    }
   ],
   "source": [
    "operation(\"1\", \"2\", \"add\" )"
   ]
  },
  {
   "cell_type": "markdown",
   "id": "11f4bc42-0015-41e0-834b-91e843488c02",
   "metadata": {},
   "source": [
    "# 15 Balanced List\n",
    "Given a list of even length, copy the half with the higher sum of numbers to the other half of the list. \n",
    "\n",
    "If the sum of the first half equals the sum of the second half, return the original list.\n",
    "\n",
    "Examples:\n",
    "    \n",
    "balanced([1, 2, 4, 6, 3, 1]) ➞ [6, 3, 1, 6, 3, 1]\n",
    "\n",
    "1 + 2 + 4 < 6 + 3 + 1 sol = [6, 3, 1, 6, 3, 1]\n",
    "\n",
    "balanced([88, 3, 27, 5, 9, 0, 13, 10]) ➞ [88, 3, 27, 5, 88, 3, 27, 5]\n",
    "\n",
    "88 + 3 + 27 + 5 > 9 + 0 + 13 + 10 sol = [88, 3, 27, 5, 88, 3, 27, 5]\n",
    "\n",
    "balanced([7, 5, 2, 6, 1, 0, 1, 5, 2, 7, 0, 6]) ➞ [7, 5, 2, 6, 1, 0, 1, 5, 2, 7, 0, 6]\n",
    "\n",
    "7 + 5 + 2 + 6 + 1 + 0 = 1 + 5 + 2 + 7 + 0 + 6 sol = [7, 5, 2, 6, 1, 0, 1, 5, 2, 7, 0, 6]\n",
    "\n",
    "Notes The length of the list is even."
   ]
  },
  {
   "cell_type": "code",
   "execution_count": 5,
   "id": "05bb3732-1e2a-49da-9522-9757ef823d56",
   "metadata": {},
   "outputs": [],
   "source": [
    "def  balanced(x):\n",
    "    if len(x)%2==0:\n",
    "        a=[]\n",
    "        b=[]\n",
    "        sum1=sum(element for element in range(0,len(x)//2))\n",
    "        \n",
    "        sum2=sum(element for element in range(len(x)//2,len(x)))\n",
    "        \n",
    "        for element in range(0,len(x)//2):\n",
    "            a.append(x[element])\n",
    "        \n",
    "        for element in range(len(x)//2,len(x)):\n",
    "            b.append(x[element])\n",
    "        if sum1>sum2:\n",
    "            return a*2\n",
    "        elif sum2>sum1:\n",
    "            return b*2\n",
    "        else:\n",
    "            return x\n",
    "        "
   ]
  },
  {
   "cell_type": "code",
   "execution_count": 13,
   "id": "56474e55-cb50-44a1-a611-e6fee917f566",
   "metadata": {},
   "outputs": [
    {
     "data": {
      "text/plain": [
       "[6, 3, 1, 6, 3, 1]"
      ]
     },
     "execution_count": 13,
     "metadata": {},
     "output_type": "execute_result"
    }
   ],
   "source": [
    "balanced([1, 2, 4, 6, 3, 1])"
   ]
  },
  {
   "cell_type": "code",
   "execution_count": 16,
   "id": "98114596-9806-4f48-8cf0-a6c105f8b6da",
   "metadata": {},
   "outputs": [
    {
     "data": {
      "text/plain": [
       "[9, 0, 13, 10, 9, 0, 13, 10]"
      ]
     },
     "execution_count": 16,
     "metadata": {},
     "output_type": "execute_result"
    }
   ],
   "source": [
    "balanced([88, 3, 27, 5, 9, 0, 13, 10])"
   ]
  },
  {
   "cell_type": "markdown",
   "id": "d7e86a66-fcd7-41ba-95d8-68751084148a",
   "metadata": {},
   "source": [
    "# 16 Rock, Paper, Scissors\n",
    "Create a function which takes two strings (p1 and p2 ⁠— which represent player 1 and 2) as arguments and returns a string stating the winner in a game of Rock, Paper, Scissors.\n",
    "\n",
    "Each argument will contain a single string: \"Rock\", \"Paper\", or \"Scissors\". Return the winner according to the following rules:\n",
    "\n",
    "Rock beats Scissors Scissors beats Paper Paper beats Rock If p1 wins, return the string \"The winner is p1\".\n",
    "\n",
    "If p2 wins, return the string \"The winner is p2\" and if p1 and p2 are the same, return \"It's a draw\".\n",
    "\n",
    "Examples:\n",
    "\n",
    "rps(\"Rock\", \"Paper\") ➞ \"The winner is p2\"\n",
    "\n",
    "rps(\"Scissors\", \"Paper\") ➞ \"The winner is p1\"\n",
    "\n",
    "rps(\"Paper\", \"Paper\") ➞ \"It's a draw\" \n",
    "\n",
    "Notes All inputs will be valid strings."
   ]
  },
  {
   "cell_type": "code",
   "execution_count": 25,
   "id": "0f0f537e-bd20-4ec9-a309-eb1bdae44004",
   "metadata": {},
   "outputs": [],
   "source": [
    "def rock_paper_sci(p1,p2):\n",
    "    a=\"The winner is \"\n",
    "    if p1==\"Rock\" and p2==\"Paper\":\n",
    "        return a+\"p2\"\n",
    "    elif p1==\"Scissors\" and p2==\"Paper\":\n",
    "        return a+\"p1\"\n",
    "    elif p1==\"Scissors\" and p2==\"Rock\":\n",
    "        return a+\"p2\"\n",
    "    elif p1==p2:\n",
    "        return \"its's a draw\"       "
   ]
  },
  {
   "cell_type": "code",
   "execution_count": 26,
   "id": "0ac5fa0d-4bc3-4728-bb05-14f0102c494e",
   "metadata": {},
   "outputs": [
    {
     "data": {
      "text/plain": [
       "'The winner is p2'"
      ]
     },
     "execution_count": 26,
     "metadata": {},
     "output_type": "execute_result"
    }
   ],
   "source": [
    "rock_paper_sci(\"Rock\", \"Paper\")"
   ]
  },
  {
   "cell_type": "code",
   "execution_count": 27,
   "id": "1605c437-42c6-40eb-bfed-6b4a88bc91cc",
   "metadata": {},
   "outputs": [
    {
     "data": {
      "text/plain": [
       "'The winner is p1'"
      ]
     },
     "execution_count": 27,
     "metadata": {},
     "output_type": "execute_result"
    }
   ],
   "source": [
    "rock_paper_sci(\"Scissors\", \"Paper\")"
   ]
  },
  {
   "cell_type": "code",
   "execution_count": 28,
   "id": "2485898c-9e8d-466d-8a5b-ec26d52edcf0",
   "metadata": {},
   "outputs": [
    {
     "data": {
      "text/plain": [
       "\"its's a draw\""
      ]
     },
     "execution_count": 28,
     "metadata": {},
     "output_type": "execute_result"
    }
   ],
   "source": [
    "rock_paper_sci(\"Paper\", \"Paper\")"
   ]
  },
  {
   "cell_type": "code",
   "execution_count": null,
   "id": "bfa52ef4-613e-4649-9484-4624348bf39c",
   "metadata": {},
   "outputs": [],
   "source": []
  },
  {
   "cell_type": "markdown",
   "id": "4f7dad24-2379-4fca-95ce-5a6f92a2d934",
   "metadata": {},
   "source": [
    "# 17 Car Timer 🏎️\n",
    "A built-in timer inside your car can count the length of your ride in minutes and you have started your ride at 00:00.\n",
    "\n",
    "Given the number of minutes n at the end of the ride, calculate the current time. Return the sum of digits that the digital timer in the format hh:mm will show at the end of the ride.\n",
    "\n",
    "Examples:\n",
    "\n",
    "car_timer(240) ➞ 4\n",
    "\n",
    "240 minutes have passed since 00:00, the current time is 04:00\n",
    "\n",
    "Digits sum up is 0 + 4 + 0 + 0 = 4\n",
    "\n",
    "\n",
    "car_timer(14) ➞ 5\n",
    "\n",
    "Digits sum up is 0 + 0 + 1 + 4\n",
    "\n",
    "\n",
    "car_timer(808) ➞ 14 "
   ]
  },
  {
   "cell_type": "code",
   "execution_count": 36,
   "id": "d1d0ec72-9d0c-4dfd-a3e7-55fbfc2e03ff",
   "metadata": {},
   "outputs": [],
   "source": [
    "def car_timer(minutes):\n",
    "    hours=minutes//60\n",
    "    mins=minutes%60\n",
    "    time = \"{:02d}:{:02d}\".format(hours, mins)   # 02 specifies minimum width of the value, d refers to dtype of value as int \n",
    "    digit_sum = 0\n",
    "    for digit in time:\n",
    "        if digit.isdigit():\n",
    "            digit_sum += int(digit)\n",
    "    return digit_sum"
   ]
  },
  {
   "cell_type": "code",
   "execution_count": 19,
   "id": "c46ccf5c-e0d6-4c0b-9ab3-808d23d80163",
   "metadata": {},
   "outputs": [
    {
     "data": {
      "text/plain": [
       "14"
      ]
     },
     "execution_count": 19,
     "metadata": {},
     "output_type": "execute_result"
    }
   ],
   "source": [
    "car_timer(808)"
   ]
  },
  {
   "cell_type": "code",
   "execution_count": null,
   "id": "6c6f40cb-a42b-40a5-865c-77cbe2025bd0",
   "metadata": {},
   "outputs": [],
   "source": []
  },
  {
   "cell_type": "markdown",
   "id": "eeb5d190-87ab-407b-99f6-4c07f8931291",
   "metadata": {},
   "source": [
    "# 18 Letters Only\n",
    "Check if the given string consists of only letters and spaces and if every letter is in lower case.\n",
    "\n",
    "Examples:\n",
    "\n",
    "letters_only(\"PYTHON\") ➞ False\n",
    "\n",
    "letters_only(\"python\") ➞ True\n",
    "\n",
    "letters_only(\"12321313\") ➞ False\n",
    "\n",
    "letters_only(\"i have spaces\") ➞ True\n",
    "\n",
    "letters_only(\"i have numbers(1-10)\") ➞ False\n",
    "\n",
    "letters_only(\"\") ➞ False \n",
    "\n",
    "Notes Empty arguments will always return False. Input values will be mixed (symbols, letters, numbers)."
   ]
  },
  {
   "cell_type": "code",
   "execution_count": 39,
   "id": "856b0c8d-1891-42f1-a545-7d761ce444af",
   "metadata": {},
   "outputs": [],
   "source": [
    "def letters_only(txt):\n",
    "    if not txt:\n",
    "        return False\n",
    "\n",
    "    for char in txt:\n",
    "        if not char.isalpha() and char != ' ':\n",
    "            return False\n",
    "        if char.isalpha() and not char.islower():\n",
    "            return False\n",
    "\n",
    "    return True"
   ]
  },
  {
   "cell_type": "code",
   "execution_count": 40,
   "id": "31176ee4-f135-4854-9d87-cd834358b60e",
   "metadata": {},
   "outputs": [
    {
     "data": {
      "text/plain": [
       "False"
      ]
     },
     "execution_count": 40,
     "metadata": {},
     "output_type": "execute_result"
    }
   ],
   "source": [
    "letters_only(\"\")"
   ]
  },
  {
   "cell_type": "code",
   "execution_count": 41,
   "id": "d4924eea-2557-4d03-8880-4d0e8f246e1e",
   "metadata": {},
   "outputs": [
    {
     "data": {
      "text/plain": [
       "False"
      ]
     },
     "execution_count": 41,
     "metadata": {},
     "output_type": "execute_result"
    }
   ],
   "source": [
    "letters_only(\"i have numbers(1-10)\") "
   ]
  },
  {
   "cell_type": "code",
   "execution_count": 42,
   "id": "a4db3711-a673-4522-899b-b6f069b00749",
   "metadata": {},
   "outputs": [
    {
     "data": {
      "text/plain": [
       "True"
      ]
     },
     "execution_count": 42,
     "metadata": {},
     "output_type": "execute_result"
    }
   ],
   "source": [
    "letters_only(\"i have spaces\") "
   ]
  },
  {
   "cell_type": "code",
   "execution_count": null,
   "id": "d15d4421-deaf-4792-bdd4-ee00c8d67e78",
   "metadata": {},
   "outputs": [],
   "source": []
  },
  {
   "cell_type": "markdown",
   "id": "de1f346d-6ca0-41ec-852a-53e4737d076d",
   "metadata": {},
   "source": [
    "# 19 Find the Shared Letters between Two Strings\n",
    "Given two strings, return a string containing only the letters shared between the two.\n",
    "\n",
    "Examples:\n",
    "\n",
    "shared_letters(\"house\", \"home\") ➞ \"eho\"\n",
    "\n",
    "shared_letters(\"Micky\", \"mouse\") ➞ \"m\"\n",
    "\n",
    "shared_letters(\"house\", \"villa\") ➞ \"\" \n",
    "\n",
    "Notes If none of the letters are shared, return an empty string. \n",
    "\n",
    "The function should be case insensitive (e.g. comparing A and a should return a). \n",
    "\n",
    "Sort the resulting string alphabetically before returning it."
   ]
  },
  {
   "cell_type": "code",
   "execution_count": 43,
   "id": "6cc077a2-2860-47b7-8821-9ceb5296ba3e",
   "metadata": {},
   "outputs": [],
   "source": [
    "def shared_letters(str1, str2):\n",
    "    str1 = str1.lower()\n",
    "    str2 = str2.lower()\n",
    "    shared = set()\n",
    "    \n",
    "    for char in str1:\n",
    "        if char in str2:\n",
    "            shared.add(char)\n",
    "    \n",
    "    shared = sorted(shared)\n",
    "    \n",
    "    result = ''\n",
    "    for char in shared:\n",
    "        result += char\n",
    "    \n",
    "    return result"
   ]
  },
  {
   "cell_type": "code",
   "execution_count": 44,
   "id": "1897ef3e-9674-4b5f-a582-b84e3c0118cc",
   "metadata": {},
   "outputs": [
    {
     "data": {
      "text/plain": [
       "''"
      ]
     },
     "execution_count": 44,
     "metadata": {},
     "output_type": "execute_result"
    }
   ],
   "source": [
    "shared_letters(\"house\", \"villa\")"
   ]
  },
  {
   "cell_type": "code",
   "execution_count": 45,
   "id": "968772a0-9d1c-42be-b78d-67c863ad0226",
   "metadata": {},
   "outputs": [
    {
     "data": {
      "text/plain": [
       "'m'"
      ]
     },
     "execution_count": 45,
     "metadata": {},
     "output_type": "execute_result"
    }
   ],
   "source": [
    "shared_letters(\"Micky\", \"mouse\")"
   ]
  },
  {
   "cell_type": "code",
   "execution_count": 46,
   "id": "1a547c8a-4cab-4028-ac07-45e40bac0184",
   "metadata": {},
   "outputs": [
    {
     "data": {
      "text/plain": [
       "'eho'"
      ]
     },
     "execution_count": 46,
     "metadata": {},
     "output_type": "execute_result"
    }
   ],
   "source": [
    "shared_letters(\"house\", \"home\")"
   ]
  },
  {
   "cell_type": "markdown",
   "id": "a85eeff2-e892-445a-a060-2b07eb66e179",
   "metadata": {},
   "source": [
    "# 20 List Chunking\n",
    "Given a list and chunk size \"n\", create a function such that it divides the list into many sublists where each sublist is of length size \"n\".\n",
    "\n",
    "Examples chunk([1, 2, 3, 4], 2) ➞ [ [1, 2], [3, 4] ]\n",
    "\n",
    "chunk([1, 2, 3, 4, 5, 6, 7], 3) ➞ [ [1, 2, 3], [4, 5, 6], [7] ]\n",
    "\n",
    "chunk([1, 2, 3, 4 ,5], 10) ➞ [ [1, 2, 3, 4, 5] ] \n",
    "\n",
    "Notes Remember that number of sublists may not be equal to chunk size."
   ]
  },
  {
   "cell_type": "code",
   "execution_count": 3,
   "id": "b953f71b-a520-4604-963e-ecd205b8dc9a",
   "metadata": {},
   "outputs": [],
   "source": [
    "def chunk(lst,n):\n",
    "    return [lst[i:i+n] for i in range(0, len(lst), n)]"
   ]
  },
  {
   "cell_type": "code",
   "execution_count": 4,
   "id": "3fed58f0-e91c-4c72-99b6-9e9fc99dae73",
   "metadata": {},
   "outputs": [
    {
     "data": {
      "text/plain": [
       "[[1, 2], [3, 4]]"
      ]
     },
     "execution_count": 4,
     "metadata": {},
     "output_type": "execute_result"
    }
   ],
   "source": [
    "chunk([1, 2, 3, 4], 2)"
   ]
  },
  {
   "cell_type": "code",
   "execution_count": 5,
   "id": "dfa525dd-72a8-4bd9-88e9-9f88f9621e1b",
   "metadata": {},
   "outputs": [
    {
     "data": {
      "text/plain": [
       "[[1, 2, 3], [4, 5, 6], [7]]"
      ]
     },
     "execution_count": 5,
     "metadata": {},
     "output_type": "execute_result"
    }
   ],
   "source": [
    "chunk([1, 2, 3, 4, 5, 6, 7], 3)"
   ]
  },
  {
   "cell_type": "code",
   "execution_count": null,
   "id": "6da8dab9-5390-42e9-83c8-d42a4a734adf",
   "metadata": {},
   "outputs": [],
   "source": []
  },
  {
   "cell_type": "markdown",
   "id": "5e5e43c9-762f-4550-84db-71f09aae609d",
   "metadata": {},
   "source": [
    "# 21 Flash Cards\n",
    "Create a function that outputs the results of a flashcard. A flashcard is a list of three elements: a number, an operator symbol, and another number. Return the mathematical result of that expression.\n",
    "\n",
    "There are 4 operators: + (addition), - (subtraction), x (multiplication), and / (division). If the flashcard displays a number being divided by zero, e.g. [3, \"/\", 0], then return None. For division, round to the hundredths place. So [10, \"/\", 3] should return 3.33.\n",
    "\n",
    "Examples:\n",
    "\n",
    "flash([3, \"x\", 7]) ➞ 21\n",
    "\n",
    "flash([5, \"+\", 7]) ➞ 12\n",
    "\n",
    "flash([10, \"-\", 9]) ➞ 1\n",
    "\n",
    "flash([10, \"/\", 0]) ➞ None\n",
    "\n",
    "flash([10, \"/\", 3]) ➞ 3.\n",
    "\n",
    "33 Notes Flash cards contain only zero or positive numbers."
   ]
  },
  {
   "cell_type": "code",
   "execution_count": 50,
   "id": "e61a9897-9966-4ee1-8a3b-764067ab29d9",
   "metadata": {},
   "outputs": [],
   "source": [
    "def flash(lst):\n",
    "    if lst[1] == \"x\":\n",
    "        return (lst[0]*lst[2]) \n",
    "    elif lst[1] == \"+\":\n",
    "        return (lst[0]+lst[2]) \n",
    "    elif lst[1] == \"-\":\n",
    "        return (lst[0]-lst[2]) \n",
    "    elif lst[1] == \"/\":\n",
    "        if lst[2] == 0 :\n",
    "            return \"None\" \n",
    "        else:\n",
    "            result= (lst[0]/lst[2])\n",
    "            return  result\n",
    "        "
   ]
  },
  {
   "cell_type": "code",
   "execution_count": 51,
   "id": "ad9e8713-87d9-4aa5-9e79-ee10a3981565",
   "metadata": {},
   "outputs": [
    {
     "data": {
      "text/plain": [
       "21"
      ]
     },
     "execution_count": 51,
     "metadata": {},
     "output_type": "execute_result"
    }
   ],
   "source": [
    "flash([3, \"x\", 7]) "
   ]
  },
  {
   "cell_type": "code",
   "execution_count": 52,
   "id": "6595f852-9db9-40fe-a2bb-8920e786cd48",
   "metadata": {},
   "outputs": [
    {
     "data": {
      "text/plain": [
       "'None'"
      ]
     },
     "execution_count": 52,
     "metadata": {},
     "output_type": "execute_result"
    }
   ],
   "source": [
    "flash([10, \"/\", 0])"
   ]
  },
  {
   "cell_type": "code",
   "execution_count": null,
   "id": "4c17846c-cbc2-4ecb-9c52-8d056b9b2d47",
   "metadata": {},
   "outputs": [],
   "source": []
  },
  {
   "cell_type": "markdown",
   "id": "ae5c4084-7e0d-4224-866f-6d6960f112cd",
   "metadata": {},
   "source": [
    "# 22 What's My Golf Score?\n",
    "A standard-sized golf course has 18 holes. Each hole is given a par, which is the expected number of strokes (hits) that a good player would use to complete a hole. Golf also uses different terms for a player being over/under par for a particular hole:\n",
    "\n",
    "\"eagle\" = 2 under par (-2) \"birdie\" = 1 under par (-1) \"bogey\" = 1 over par (+1) \"double-bogey\" = 2 over par (+2) Example scores:\n",
    "\n",
    "\"birdie\" on a par 3 hole = 2 \"eagle\" on a par 5 hole = 3 \"par\" on a par 3 hole = 3 \"bogey\" on a par 4 hole = 5 Given a list of pars for an 18-hole golf course, and another list containing the player result for each hole, return the total score for the round of golf.\n",
    "\n",
    "Example course = [4, 4, 5, 3, 4, 4, 3, 5, 5, 3, 5, 4, 4, 4, 4, 3, 4, 4]\n",
    "\n",
    "result = [\"eagle\", \"bogey\", \"par\", \"bogey\", \"double-bogey\", \"birdie\", \"bogey\", \"par\", \"birdie\", \"par\", \"par\", \"par\", \"par\", \"par\", \"bogey\", \"eagle\", \"bogey\", \"par\"]\n",
    "\n",
    "score = 2+5+5+4+6+3+4+5+4+3+5+4+4+4+5+1+5+4 = 73 \n",
    "\n",
    "Notes: For this challenge, there will be no holes-in-one, albatrosses (-3), or anything worse than a double-bogey."
   ]
  },
  {
   "cell_type": "code",
   "execution_count": 58,
   "id": "7aa649ef-eb3f-4c5b-864c-19093f3a56d1",
   "metadata": {},
   "outputs": [],
   "source": [
    "def calc_golf_score(course, result):\n",
    "    point_values = {\"eagle\": -2, \"birdie\": -1,\"par\": 0,\"bogey\": 1,\"double-bogey\": 2}\n",
    "    score = 0\n",
    "    for i in range(len(course)):\n",
    "        score += course[i] + point_values[result[i]]\n",
    "\n",
    "    return score"
   ]
  },
  {
   "cell_type": "code",
   "execution_count": 59,
   "id": "f21490fa-ebf5-4b90-b503-982d6c47fb4f",
   "metadata": {},
   "outputs": [
    {
     "data": {
      "text/plain": [
       "73"
      ]
     },
     "execution_count": 59,
     "metadata": {},
     "output_type": "execute_result"
    }
   ],
   "source": [
    "course = [4, 4, 5, 3, 4, 4, 3, 5, 5, 3, 5, 4, 4, 4, 4, 3, 4, 4]\n",
    "result = [\"eagle\", \"bogey\", \"par\", \"bogey\", \"double-bogey\", \"birdie\", \"bogey\", \"par\", \"birdie\", \"par\", \"par\", \"par\", \"par\", \"par\", \"bogey\", \"eagle\", \"bogey\", \"par\"]\n",
    "\n",
    "calc_golf_score(course, result)"
   ]
  },
  {
   "cell_type": "code",
   "execution_count": 65,
   "id": "91c8d3cb-fa6f-4ea1-898f-b1e4fb29e4b0",
   "metadata": {},
   "outputs": [
    {
     "data": {
      "text/plain": [
       "68"
      ]
     },
     "execution_count": 65,
     "metadata": {},
     "output_type": "execute_result"
    }
   ],
   "source": [
    "calc_golf_score([5, 4, 4, 4, 4, 4, 5, 4, 3, 3, 4, 5, 3, 4, 4, 3, 5, 4], ['par', 'bogey', 'birdie', 'bogey', 'par', 'birdie', 'par', 'bogey', 'eagle', 'par', 'par', 'birdie', 'par', 'eagle', 'double-bogey', 'birdie', 'par', 'birdie'])\n"
   ]
  },
  {
   "cell_type": "code",
   "execution_count": null,
   "id": "93e98ed8-dcb3-444a-acd8-4ffee7ce3b74",
   "metadata": {},
   "outputs": [],
   "source": []
  },
  {
   "cell_type": "markdown",
   "id": "4688192e-1dcb-43b9-a1b9-a7f3b12f9113",
   "metadata": {},
   "source": [
    "# 23 The Major Sum\n",
    "Create a function that takes an integer list and return the biggest between positive sum, negative sum, or 0s count. The major is understood as the greatest absolute.\n",
    "\n",
    "l = [1,2,3,4,0,0,-3,-2], the function has to return 10, because:\n",
    "\n",
    "Positive sum = 1+2+3+4 = 10 Negative sum = (-3)+(-2) = -5 0s count = 2 (there are two zeros in list)\n",
    "\n",
    "Examples:\n",
    "\n",
    "major_sum([1, 2, 3, 4, 0, 0, -3, -2]) ➞ 10\n",
    "\n",
    "major_sum([-4, -8, -12, -3, 4, 7, 1, 3, 0, 0, 0, 0]) ➞ -27\n",
    "\n",
    "major_sum([0, 0, 0, 0, 0, 1, 2, -3]) ➞ 5\n",
    "\n",
    "Because -3 < 1+2 < 0sCount = 5\n",
    "\n",
    "Notes All numbers are integers. There aren't empty lists. All tests are made to return only one value."
   ]
  },
  {
   "cell_type": "code",
   "execution_count": 74,
   "id": "39c3d004-de82-4c55-936e-eb2747ee1be2",
   "metadata": {},
   "outputs": [],
   "source": [
    "def major_sum(lst):\n",
    "    positive_sum = 0\n",
    "    negative_sum = 0\n",
    "    zeros_count = 0\n",
    "\n",
    "    for num in lst:\n",
    "        if num > 0:\n",
    "            positive_sum += num\n",
    "        elif num < 0:\n",
    "            negative_sum += num\n",
    "        else:\n",
    "            zeros_count += 1\n",
    "            \n",
    "    if zeros_count > positive_sum and zeros_count > -negative_sum:\n",
    "        return zeros_count\n",
    "    elif positive_sum > -negative_sum:\n",
    "        return positive_sum\n",
    "    else:\n",
    "        return -negative_sum"
   ]
  },
  {
   "cell_type": "code",
   "execution_count": 75,
   "id": "cae0971a-edc3-4d20-a0e8-fb5a788f29ee",
   "metadata": {},
   "outputs": [
    {
     "data": {
      "text/plain": [
       "10"
      ]
     },
     "execution_count": 75,
     "metadata": {},
     "output_type": "execute_result"
    }
   ],
   "source": [
    "major_sum([1, 2, 3, 4, 0, 0, -3, -2])"
   ]
  },
  {
   "cell_type": "code",
   "execution_count": 76,
   "id": "bdb0f2b7-8a7e-4ca8-95ee-2624af52dfc7",
   "metadata": {},
   "outputs": [
    {
     "data": {
      "text/plain": [
       "27"
      ]
     },
     "execution_count": 76,
     "metadata": {},
     "output_type": "execute_result"
    }
   ],
   "source": [
    "major_sum([-4, -8, -12, -3, 4, 7, 1, 3, 0, 0, 0, 0])"
   ]
  },
  {
   "cell_type": "code",
   "execution_count": 77,
   "id": "d1dcae45-b5a4-4815-aad8-236b2b5420fa",
   "metadata": {},
   "outputs": [
    {
     "data": {
      "text/plain": [
       "5"
      ]
     },
     "execution_count": 77,
     "metadata": {},
     "output_type": "execute_result"
    }
   ],
   "source": [
    "major_sum([0, 0, 0, 0, 0, 1, 2, -3])"
   ]
  },
  {
   "cell_type": "code",
   "execution_count": null,
   "id": "3db17227-e0dd-4b9a-b9ba-3d6903e420a0",
   "metadata": {},
   "outputs": [],
   "source": []
  },
  {
   "cell_type": "markdown",
   "id": "20eec181-8db9-4b04-a8f4-f576d831cdb1",
   "metadata": {},
   "source": [
    "# 24 Numerical Morphisms\n",
    "A number num, that elevated to the power of another number k \"ends\" with the same num, it's automorphic.\n",
    "\n",
    "5² = 25\n",
    "\n",
    "It's automorphic because \"25\" ends with \"5\"\n",
    "5³ = 125\n",
    "\n",
    "It's automorphic because \"125\" ends with \"5\"\n",
    "76⁴ = 33362176\n",
    "\n",
    "It's automorphic because \"33362176\" ends with \"76\"\n",
    "\n",
    "A number can have various powers that make it automorphic (i.e. look at number 5 in the above example).\n",
    "\n",
    "In this challenge, you have to verify if the given number is automorphic for each power from 2 up to 10.\n",
    "\n",
    "Given a non-negative integer num, implement a function that returns the string:\n",
    "\n",
    "\"Polymorphic\" if num is automorphic for every power from 2 up to 10.\n",
    "\n",
    "\"Quadrimorphic\" if num is automorphic for only four powers (any from 2 up to 10). \n",
    "\n",
    "\"Dimorphic\" if num is automorphic for only two powers (any from 2 up to 10). \n",
    "\n",
    "\"Enamorphic\" if num is automorphic for only one power (any from 2 up to 10).\n",
    "\n",
    "\"Amorphic\" if num is not automorphic for for any powers from 2 up to 10. \n",
    "\n",
    "Examples:\n",
    "\n",
    "power_morphic(5) ➞ \"Polymorphic\"\n",
    "\n",
    "From 2 up to 10, every power of 5 ends with 5\n",
    "\n",
    "power_morphic(21) ➞ \"Enamorphic\"\n",
    "\n",
    "21⁶ = 85766121\n",
    "\n",
    "power_morphic(7) ➞ \"Dimorphic\"\n",
    "\n",
    "7⁵ = 716807\n",
    "7⁹ = 40353607\n",
    "\n",
    "power_morphic(4) ➞ \"Quadrimorphic\"\n",
    "\n",
    "4³ = 64\n",
    "4⁵ = 1024\n",
    "4⁷ = 16384\n",
    "4⁹ = 262144\n",
    "\n",
    "power_morphic(10) ➞ \"Amorphic\"\n",
    "\n",
    "There are no powers that make it automorphic\n",
    "Notes You can do a complete loop cycle to check if num is automorphic for each power, or you can try to spot the discriminants that permit you to shorten the logic of your code. Despite being inspired by the OEIS sequence A003226, the assertions of this challenge are to be considered properly valid only in the specific context."
   ]
  },
  {
   "cell_type": "code",
   "execution_count": 78,
   "id": "da6a8caa-43b5-4c3a-974c-3221d6cae8dd",
   "metadata": {},
   "outputs": [],
   "source": [
    "def power_morphic(num):\n",
    "    c=0;n=0;s=len(str(num))\n",
    "    d={9:\"Polymorphic\",4:\"Quadramorphic\",2:\"Dimorphic\",1:\"Enamorphic\",0:\"Amorphic\"}\n",
    "    for x in range(2,11):\n",
    "        n=num**x\n",
    "        if n%(10**s)==num:\n",
    "            c+=1\n",
    "        else:\n",
    "            continue\n",
    "    for y in d:\n",
    "        if c==y:\n",
    "            return d[y]\n",
    "        else:\n",
    "            continue\n",
    "    return None"
   ]
  },
  {
   "cell_type": "code",
   "execution_count": 79,
   "id": "fa0ed640-0b89-429f-b710-47f500cf1e99",
   "metadata": {},
   "outputs": [
    {
     "data": {
      "text/plain": [
       "'Polymorphic'"
      ]
     },
     "execution_count": 79,
     "metadata": {},
     "output_type": "execute_result"
    }
   ],
   "source": [
    "power_morphic(5)"
   ]
  },
  {
   "cell_type": "code",
   "execution_count": 80,
   "id": "42c4cd1e-bff5-4118-80df-fed53f46bc9b",
   "metadata": {},
   "outputs": [
    {
     "data": {
      "text/plain": [
       "'Enamorphic'"
      ]
     },
     "execution_count": 80,
     "metadata": {},
     "output_type": "execute_result"
    }
   ],
   "source": [
    "power_morphic(21)"
   ]
  },
  {
   "cell_type": "code",
   "execution_count": 81,
   "id": "8992bbac-70bb-4ab3-bdf5-562b75b0058a",
   "metadata": {},
   "outputs": [
    {
     "data": {
      "text/plain": [
       "'Dimorphic'"
      ]
     },
     "execution_count": 81,
     "metadata": {},
     "output_type": "execute_result"
    }
   ],
   "source": [
    "power_morphic(7)"
   ]
  },
  {
   "cell_type": "code",
   "execution_count": 82,
   "id": "7a02e06a-9d96-468a-89f6-ee3a6a982234",
   "metadata": {},
   "outputs": [
    {
     "data": {
      "text/plain": [
       "'Quadramorphic'"
      ]
     },
     "execution_count": 82,
     "metadata": {},
     "output_type": "execute_result"
    }
   ],
   "source": [
    "power_morphic(4)"
   ]
  },
  {
   "cell_type": "code",
   "execution_count": 83,
   "id": "9f4e6219-67f6-4466-8a79-6341a1a2505b",
   "metadata": {},
   "outputs": [
    {
     "data": {
      "text/plain": [
       "'Amorphic'"
      ]
     },
     "execution_count": 83,
     "metadata": {},
     "output_type": "execute_result"
    }
   ],
   "source": [
    "power_morphic(10) "
   ]
  },
  {
   "cell_type": "code",
   "execution_count": null,
   "id": "daa44532-b3a6-49bf-8510-3d991c81932b",
   "metadata": {},
   "outputs": [],
   "source": []
  },
  {
   "cell_type": "markdown",
   "id": "b0aec293-5f73-49a6-baec-5418dc4614fd",
   "metadata": {},
   "source": [
    "# 25 Order by Length First\n",
    "Graded lexicographic order (grlex order for short) is a way of ordering words that:\n",
    "\n",
    "First orders words by length. Then orders words of the same size by their dictionary order. \n",
    "\n",
    "For example, in grlex order:\n",
    "\n",
    "\"tray\" < \"trapped\" since \"tray\" has length 4 while \"trapped\" has length 7.\n",
    "\n",
    "\"trap\" < \"tray\" since both have length 4, but \"trap\" comes before \"tray\" in the dictionary.\n",
    "\n",
    "Given a list of words, return that list in grlex order.\n",
    "\n",
    "Examples \n",
    "\n",
    "make_grlex([\"small\", \"big\"]) ➞ [\"big\", \"small\"]\n",
    "\n",
    "make_grlex([\"cat\", \"ran\", \"for\", \"the\", \"rat\"]) ➞ [\"cat\", \"for\", \"ran\", \"rat\", \"the\"]\n",
    "\n",
    "make_grlex([\"this\", \"is\", \"a\", \"small\", \"test\"]) ➞ [\"a\", \"is\", \"test\", \"this\", \"small\"]"
   ]
  },
  {
   "cell_type": "code",
   "execution_count": 84,
   "id": "0fc7d5a4-da5e-4dc3-b438-32ee0fbdc1cb",
   "metadata": {},
   "outputs": [],
   "source": [
    "def make_grlex(words):\n",
    "    return sorted(words, key=lambda word: (len(word), word))"
   ]
  },
  {
   "cell_type": "code",
   "execution_count": 85,
   "id": "c80fca67-5f93-4d95-b8dc-62f1178f3a44",
   "metadata": {},
   "outputs": [
    {
     "data": {
      "text/plain": [
       "['big', 'small']"
      ]
     },
     "execution_count": 85,
     "metadata": {},
     "output_type": "execute_result"
    }
   ],
   "source": [
    "make_grlex([\"small\", \"big\"])"
   ]
  },
  {
   "cell_type": "code",
   "execution_count": 86,
   "id": "4a04c673-90b8-4de1-b670-9bec4a5665db",
   "metadata": {},
   "outputs": [
    {
     "data": {
      "text/plain": [
       "['cat', 'for', 'ran', 'rat', 'the']"
      ]
     },
     "execution_count": 86,
     "metadata": {},
     "output_type": "execute_result"
    }
   ],
   "source": [
    "make_grlex([\"cat\", \"ran\", \"for\", \"the\", \"rat\"])"
   ]
  },
  {
   "cell_type": "code",
   "execution_count": 87,
   "id": "fe3f7605-5a7e-447c-b5ce-4b031f203f70",
   "metadata": {},
   "outputs": [
    {
     "data": {
      "text/plain": [
       "['a', 'is', 'test', 'this', 'small']"
      ]
     },
     "execution_count": 87,
     "metadata": {},
     "output_type": "execute_result"
    }
   ],
   "source": [
    "make_grlex([\"this\", \"is\", \"a\", \"small\", \"test\"])"
   ]
  },
  {
   "cell_type": "code",
   "execution_count": null,
   "id": "8963998d-867c-44a0-a8f6-9264b9db177f",
   "metadata": {},
   "outputs": [],
   "source": []
  },
  {
   "cell_type": "code",
   "execution_count": null,
   "id": "211a3c55-f9a7-4ca0-a50d-7d4af4bfc0ae",
   "metadata": {},
   "outputs": [],
   "source": []
  },
  {
   "cell_type": "code",
   "execution_count": null,
   "id": "0b435384-f464-48a9-84a5-24a8dcc69dcc",
   "metadata": {},
   "outputs": [],
   "source": []
  },
  {
   "cell_type": "code",
   "execution_count": null,
   "id": "bef8cd91-a7b0-4889-9aeb-839279b8f254",
   "metadata": {},
   "outputs": [],
   "source": []
  },
  {
   "cell_type": "code",
   "execution_count": null,
   "id": "2871ab46-fe51-4df8-ac03-1b0fa9e4902f",
   "metadata": {},
   "outputs": [],
   "source": []
  },
  {
   "cell_type": "code",
   "execution_count": null,
   "id": "ee7b7cc5-83d8-4bc9-88ff-8322422ecb50",
   "metadata": {},
   "outputs": [],
   "source": []
  },
  {
   "cell_type": "code",
   "execution_count": null,
   "id": "5a639df4-2f62-4b71-8b1f-8436846d380f",
   "metadata": {},
   "outputs": [],
   "source": []
  },
  {
   "cell_type": "code",
   "execution_count": null,
   "id": "435b2f71-ad54-4f3d-a75a-9e5551877f7a",
   "metadata": {},
   "outputs": [],
   "source": []
  },
  {
   "cell_type": "code",
   "execution_count": null,
   "id": "c6fd6e1b-a86c-484a-bb68-cf931916340c",
   "metadata": {},
   "outputs": [],
   "source": []
  },
  {
   "cell_type": "code",
   "execution_count": null,
   "id": "483d953c-aa51-4804-991e-66592858fd44",
   "metadata": {},
   "outputs": [],
   "source": []
  },
  {
   "cell_type": "code",
   "execution_count": null,
   "id": "38210520-9ffc-433e-847f-0572c5d1d41c",
   "metadata": {},
   "outputs": [],
   "source": []
  },
  {
   "cell_type": "code",
   "execution_count": null,
   "id": "bfb07761-25cd-4bc3-97dd-a1f7b800d1c0",
   "metadata": {},
   "outputs": [],
   "source": []
  },
  {
   "cell_type": "code",
   "execution_count": null,
   "id": "2d65bf04-0133-4beb-96fa-52fea8441edf",
   "metadata": {},
   "outputs": [],
   "source": []
  },
  {
   "cell_type": "code",
   "execution_count": null,
   "id": "7ff4390f-b2a5-4cc0-99d5-be99f785a798",
   "metadata": {},
   "outputs": [],
   "source": []
  },
  {
   "cell_type": "code",
   "execution_count": null,
   "id": "7fb59b8b-ceb3-4b06-a4d0-c6e9672ddf78",
   "metadata": {},
   "outputs": [],
   "source": []
  },
  {
   "cell_type": "code",
   "execution_count": null,
   "id": "a1f1ff31-f817-471f-ac9b-86975254be2f",
   "metadata": {},
   "outputs": [],
   "source": []
  },
  {
   "cell_type": "code",
   "execution_count": null,
   "id": "2678b8b7-7451-4773-bf1d-5196bc35ec34",
   "metadata": {},
   "outputs": [],
   "source": []
  },
  {
   "cell_type": "code",
   "execution_count": null,
   "id": "97d27401-bec5-40e9-8812-0d0edf22f41a",
   "metadata": {},
   "outputs": [],
   "source": []
  },
  {
   "cell_type": "code",
   "execution_count": null,
   "id": "f0d44747-dd1b-4c3d-b5e6-29f0ed83f136",
   "metadata": {},
   "outputs": [],
   "source": []
  },
  {
   "cell_type": "code",
   "execution_count": null,
   "id": "38c50039-684b-4960-bb0f-a171b94dc293",
   "metadata": {},
   "outputs": [],
   "source": []
  },
  {
   "cell_type": "code",
   "execution_count": null,
   "id": "d2b9d9c5-e3d5-439c-ad12-c9b62166660e",
   "metadata": {},
   "outputs": [],
   "source": []
  },
  {
   "cell_type": "code",
   "execution_count": null,
   "id": "9db94d78-5015-4bfb-bde6-2acb39d57e63",
   "metadata": {},
   "outputs": [],
   "source": []
  },
  {
   "cell_type": "code",
   "execution_count": null,
   "id": "a246ac19-32c3-43c6-b508-9c354dfc9b92",
   "metadata": {},
   "outputs": [],
   "source": []
  },
  {
   "cell_type": "code",
   "execution_count": null,
   "id": "0e549cbe-6ddc-48f0-be1d-fde31550078c",
   "metadata": {},
   "outputs": [],
   "source": []
  },
  {
   "cell_type": "code",
   "execution_count": null,
   "id": "f871b0f4-b9cf-4f1b-a080-5414563026b3",
   "metadata": {},
   "outputs": [],
   "source": []
  },
  {
   "cell_type": "code",
   "execution_count": null,
   "id": "0281172a-4780-4224-99eb-0306a65d035e",
   "metadata": {},
   "outputs": [],
   "source": []
  },
  {
   "cell_type": "code",
   "execution_count": null,
   "id": "ae473cad-0ac1-4003-bdca-f015a82ae8a2",
   "metadata": {},
   "outputs": [],
   "source": []
  },
  {
   "cell_type": "code",
   "execution_count": null,
   "id": "8bb38917-1049-46f5-bd36-a01802df2115",
   "metadata": {},
   "outputs": [],
   "source": []
  },
  {
   "cell_type": "code",
   "execution_count": null,
   "id": "39ba2566-e65b-4f22-b5fb-a48301c0bbab",
   "metadata": {},
   "outputs": [],
   "source": []
  },
  {
   "cell_type": "code",
   "execution_count": null,
   "id": "05e52e43-fa78-42a6-95cb-63aedaf1988a",
   "metadata": {},
   "outputs": [],
   "source": []
  },
  {
   "cell_type": "code",
   "execution_count": null,
   "id": "aeb8a2dd-156b-405c-87c5-7cd4134e45b9",
   "metadata": {},
   "outputs": [],
   "source": []
  },
  {
   "cell_type": "code",
   "execution_count": null,
   "id": "dad536db-a548-4a9c-a58b-6a13f3d5174f",
   "metadata": {},
   "outputs": [],
   "source": []
  },
  {
   "cell_type": "code",
   "execution_count": null,
   "id": "fc3eb357-f873-4a1d-8d85-947e7d078fe9",
   "metadata": {},
   "outputs": [],
   "source": []
  },
  {
   "cell_type": "code",
   "execution_count": null,
   "id": "62599532-5586-427a-85b4-f77df0db58a9",
   "metadata": {},
   "outputs": [],
   "source": []
  },
  {
   "cell_type": "code",
   "execution_count": null,
   "id": "9dc41e12-d607-412b-8587-d5ebbabf4756",
   "metadata": {},
   "outputs": [],
   "source": []
  }
 ],
 "metadata": {
  "kernelspec": {
   "display_name": "Python 3 (ipykernel)",
   "language": "python",
   "name": "python3"
  },
  "language_info": {
   "codemirror_mode": {
    "name": "ipython",
    "version": 3
   },
   "file_extension": ".py",
   "mimetype": "text/x-python",
   "name": "python",
   "nbconvert_exporter": "python",
   "pygments_lexer": "ipython3",
   "version": "3.9.7"
  }
 },
 "nbformat": 4,
 "nbformat_minor": 5
}

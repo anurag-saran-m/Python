{
 "cells": [
  {
   "cell_type": "code",
   "execution_count": 9,
   "id": "40a63916-cf6c-402e-a74c-78f85f6e60d1",
   "metadata": {},
   "outputs": [
    {
     "name": "stdin",
     "output_type": "stream",
     "text": [
      "['type any number: '] 123456\n"
     ]
    },
    {
     "name": "stdout",
     "output_type": "stream",
     "text": [
      "1\n",
      "2\n",
      "3\n",
      "4\n",
      "5\n",
      "6\n"
     ]
    }
   ],
   "source": [
    "#1. Write a Python program to loop through all the elements in a list Ex: Input: [1,2,3,4,5,6]\n",
    "\n",
    "x=input([\"type any number: \"])\n",
    "for y in x:\n",
    "    print(y)"
   ]
  },
  {
   "cell_type": "code",
   "execution_count": 3,
   "id": "c5c69097-0f0f-487f-bacc-ad274c266a1a",
   "metadata": {},
   "outputs": [
    {
     "name": "stdin",
     "output_type": "stream",
     "text": [
      "Please enter an element you want to insert in the list  1\n",
      "Please enter q to quit the program  2\n",
      "Please enter an element you want to insert in the list  3\n",
      "Please enter q to quit the program  @\n",
      "Please enter an element you want to insert in the list  q\n",
      "Please enter q to quit the program  q\n"
     ]
    },
    {
     "name": "stdout",
     "output_type": "stream",
     "text": [
      "['1', '3', 'q']\n"
     ]
    }
   ],
   "source": [
    "#2. Write a Python program where you will ask the users to insert elements in a list\n",
    "\n",
    "x=[];a=\"\";b=0\n",
    "while not(a==\"q\" or a==\"Q\"):\n",
    "    i=input(\"Please enter an element you want to insert in the list \")\n",
    "    x.insert(b,i)\n",
    "    b+=1\n",
    "    a=input(\"Please enter q to quit the program \")\n",
    "print(x)"
   ]
  },
  {
   "cell_type": "code",
   "execution_count": 1,
   "id": "e1c8930d-c33d-4857-a860-4892b39c02ae",
   "metadata": {},
   "outputs": [
    {
     "name": "stdout",
     "output_type": "stream",
     "text": [
      "[1, 3, 5, 7]\n"
     ]
    }
   ],
   "source": [
    "#3. Write a Python program to remove all the odd index value from a list and only even index elements should remain\n",
    "#Ex:\n",
    "#Input: [1,2,3,4,5,6,7,”a”]\n",
    "#Output: [1,3,5,7]\n",
    "l=[]\n",
    "x=[1,2,3,4,5,6,7,\"a\"]\n",
    "for y in range(0,len(x)):\n",
    "    if y%2==0:\n",
    "        l.append(x[y])\n",
    "    else:\n",
    "        continue\n",
    "print(l)  "
   ]
  },
  {
   "cell_type": "code",
   "execution_count": null,
   "id": "6068e38b-c413-48fb-aedc-32e461f4a927",
   "metadata": {},
   "outputs": [],
   "source": [
    "x=[1,2,3,4,5,6,7,\"a\"]\n",
    "x[::2]"
   ]
  },
  {
   "cell_type": "code",
   "execution_count": 4,
   "id": "42de5de7-906b-4882-8dd8-79cc04b248cc",
   "metadata": {},
   "outputs": [
    {
     "name": "stdout",
     "output_type": "stream",
     "text": [
      "sum of all input number: 10\n",
      "product of all input number: 24\n"
     ]
    }
   ],
   "source": [
    "# 4. Write a Python program to sum and multiply all the items in a list.Ex:Input: [1,2,3,4] Output: sum: -10 Product: -24\n",
    "x=[1,2,3,4]\n",
    "add=0\n",
    "mul=1\n",
    "for a in x:\n",
    "    add+=a\n",
    "    mul*=a\n",
    "print('sum of all input number:', add )\n",
    "print('product of all input number:', mul )"
   ]
  },
  {
   "cell_type": "code",
   "execution_count": 10,
   "id": "9966071a-a0d7-48df-9816-ddf7bc76759f",
   "metadata": {},
   "outputs": [
    {
     "name": "stdout",
     "output_type": "stream",
     "text": [
      "90\n",
      "4\n"
     ]
    }
   ],
   "source": [
    "# 5. Write a Python program to get the maximum and minimum numbers from a list Ex:Input: [8,4,11,7,90]\n",
    "x=[8,4,11,7,90]\n",
    "ma=0\n",
    "mi=0\n",
    "for a in x:\n",
    "    if a>ma:\n",
    "        ma=a\n",
    "mi=ma\n",
    "    \n",
    "for a in x:\n",
    "    if a<mi:\n",
    "        mi=a\n",
    "print(ma)\n",
    "print(mi)"
   ]
  },
  {
   "cell_type": "code",
   "execution_count": 11,
   "id": "8f7035e7-a141-4e93-a9ad-fbaa416b01d2",
   "metadata": {},
   "outputs": [
    {
     "data": {
      "text/plain": [
       "['Green', 'White', 'Black']"
      ]
     },
     "execution_count": 11,
     "metadata": {},
     "output_type": "execute_result"
    }
   ],
   "source": [
    "#6.Write a python program to print a specified list after removing the 0th,4th and 5th elements.\n",
    "#Ex:Input: ['Red', 'Green', 'White', 'Black', 'Pink', 'Yellow'] - - Output: ['Green', 'White', 'Black']\n",
    "\n",
    "x=['Red', 'Green', 'White', 'Black', 'Pink', 'Yellow']\n",
    "a=[]\n",
    "for y in range(0,len(x)):\n",
    "    if y!=0 and y!=4 and y!=5:\n",
    "        a.append(x[y])\n",
    "    else:\n",
    "        continue\n",
    "a"
   ]
  },
  {
   "cell_type": "code",
   "execution_count": 12,
   "id": "2e5b1e9e-4fb5-4e50-8959-18d32bec460c",
   "metadata": {},
   "outputs": [
    {
     "name": "stdout",
     "output_type": "stream",
     "text": [
      "123456\n"
     ]
    },
    {
     "data": {
      "text/plain": [
       "str"
      ]
     },
     "execution_count": 12,
     "metadata": {},
     "output_type": "execute_result"
    }
   ],
   "source": [
    "# 7. write a Python program to convert a list of characters into a string\n",
    "x=[1,2,3,4,5,6]\n",
    "a=\"\"\n",
    "for y in x:\n",
    "    a+=str(y)\n",
    "print(a)\n",
    "type(a)\n",
    "\n"
   ]
  },
  {
   "cell_type": "code",
   "execution_count": 16,
   "id": "441ba27c-cab8-4c04-8700-74c3eee2da5f",
   "metadata": {},
   "outputs": [
    {
     "name": "stdin",
     "output_type": "stream",
     "text": [
      "enter number of elements to enter: 5\n",
      "enter elements: 1\n",
      "enter elements: 2\n",
      "enter elements: 3\n",
      "enter elements: 4\n",
      "enter elements: 5\n"
     ]
    },
    {
     "name": "stdout",
     "output_type": "stream",
     "text": [
      "[1, 2, 3, 4, 5]\n"
     ]
    },
    {
     "data": {
      "text/plain": [
       "3.0"
      ]
     },
     "execution_count": 16,
     "metadata": {},
     "output_type": "execute_result"
    }
   ],
   "source": [
    "# 8. average of elements in list\n",
    "\n",
    "g=int(input('enter number of elements to enter:'))\n",
    "h=[]\n",
    "j=0\n",
    "itr=0\n",
    "for x in range(0,g):\n",
    "    i=int(input('enter elements:'))\n",
    "    h.append(i)\n",
    "print(h)   \n",
    "for x in h:\n",
    "    itr+=1\n",
    "    j+=x\n",
    "avg=j/itr\n",
    "avg"
   ]
  },
  {
   "cell_type": "code",
   "execution_count": 15,
   "id": "d127248f-bd84-4b8e-8767-d9712b82ec53",
   "metadata": {},
   "outputs": [
    {
     "name": "stdout",
     "output_type": "stream",
     "text": [
      "number of integers are: 5\n"
     ]
    }
   ],
   "source": [
    "#9. number of integers in list\n",
    "k= [10, 'a',2,3,5.5,1.34,'Abc','rt']\n",
    "l=0\n",
    "for x in k:\n",
    "    if type(x)== int or type(x)==float:\n",
    "        l+=1\n",
    "print('number of integers are:',l) "
   ]
  },
  {
   "cell_type": "code",
   "execution_count": 14,
   "id": "bd67922b-783a-4b3f-8f2b-bbe59aed5b5d",
   "metadata": {},
   "outputs": [
    {
     "name": "stdin",
     "output_type": "stream",
     "text": [
      "enter number of characters in list: 3\n",
      "enter characters a\n",
      "enter characters b\n",
      "enter characters c\n"
     ]
    },
    {
     "name": "stdout",
     "output_type": "stream",
     "text": [
      "['a', 'b', 'c']\n",
      "['c', 'b', 'a']\n"
     ]
    }
   ],
   "source": [
    "#10. reverse list\n",
    "m=[]\n",
    "p=[]\n",
    "n=int(input('enter number of characters in list:'))\n",
    "for x in range(0,n):\n",
    "    o=input('enter characters')\n",
    "    m.append(o)\n",
    "print(m)\n",
    "p = m[::-1]\n",
    "print(p)"
   ]
  },
  {
   "cell_type": "code",
   "execution_count": 13,
   "id": "62a45581-7c29-4c40-83f8-3649bd631875",
   "metadata": {},
   "outputs": [
    {
     "data": {
      "text/plain": [
       "('p', 'y', 't', 'h', 'o', 'n', '3', '.', '2')"
      ]
     },
     "execution_count": 13,
     "metadata": {},
     "output_type": "execute_result"
    }
   ],
   "source": [
    "#11. Write a Python program convert a given string to a tuple\n",
    "q='python3.2'\n",
    "r=[]\n",
    "for x in q:\n",
    "    r.append(x)\n",
    "s=tuple(r)\n",
    "s"
   ]
  },
  {
   "cell_type": "code",
   "execution_count": null,
   "id": "16ae3ea3-0e14-40c9-a08d-c91d5acec910",
   "metadata": {},
   "outputs": [],
   "source": []
  },
  {
   "cell_type": "code",
   "execution_count": null,
   "id": "03d3e26b-b144-4953-8201-3aa4c0243004",
   "metadata": {},
   "outputs": [],
   "source": []
  }
 ],
 "metadata": {
  "kernelspec": {
   "display_name": "Python 3 (ipykernel)",
   "language": "python",
   "name": "python3"
  },
  "language_info": {
   "codemirror_mode": {
    "name": "ipython",
    "version": 3
   },
   "file_extension": ".py",
   "mimetype": "text/x-python",
   "name": "python",
   "nbconvert_exporter": "python",
   "pygments_lexer": "ipython3",
   "version": "3.9.7"
  }
 },
 "nbformat": 4,
 "nbformat_minor": 5
}

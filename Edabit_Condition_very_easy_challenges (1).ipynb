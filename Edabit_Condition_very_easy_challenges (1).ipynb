{
 "cells": [
  {
   "cell_type": "code",
   "execution_count": 2,
   "id": "0a25fd9f-b21d-4ea5-8388-3d3633c87295",
   "metadata": {},
   "outputs": [],
   "source": [
    "#1 Create a function that takes a boolean variable flag and returns it as a string.\n",
    "#Examples\n",
    "#bool_to_string(True) ➞ \"True\"\n",
    "#bool_to_string(False) ➞ \"False\"\n",
    "\n",
    "def bool_to_string(flag):\n",
    "    if flag==True:\n",
    "        return \"True\"\n",
    "    elif flag==False:\n",
    "        return \"False\"\n",
    "    else:\n",
    "        return None\n"
   ]
  },
  {
   "cell_type": "code",
   "execution_count": 3,
   "id": "adbeb027-4c9b-49d0-bc20-b25f115467a3",
   "metadata": {},
   "outputs": [
    {
     "data": {
      "text/plain": [
       "'True'"
      ]
     },
     "execution_count": 3,
     "metadata": {},
     "output_type": "execute_result"
    }
   ],
   "source": [
    "bool_to_string(True)"
   ]
  },
  {
   "cell_type": "code",
   "execution_count": 4,
   "id": "f528f1ee-5bc8-4f97-a60e-fa5f728e05d0",
   "metadata": {},
   "outputs": [
    {
     "data": {
      "text/plain": [
       "'False'"
      ]
     },
     "execution_count": 4,
     "metadata": {},
     "output_type": "execute_result"
    }
   ],
   "source": [
    "bool_to_string(False)"
   ]
  },
  {
   "cell_type": "code",
   "execution_count": null,
   "id": "ae5cd44c-afe8-4532-aa65-3048a68c5b9e",
   "metadata": {},
   "outputs": [],
   "source": []
  },
  {
   "cell_type": "code",
   "execution_count": 3,
   "id": "ed1a5268-dac0-4781-90b5-6ea518c8edae",
   "metadata": {},
   "outputs": [],
   "source": [
    "#2 Create a function that returns True when num1 is equal to num2; otherwise return False.\n",
    "#Examples\n",
    "#is_same_num(4, 8) ➞ False\n",
    "#is_same_num(2, 2) ➞  True\n",
    "#is_same_num(2, \"2\") ➞ False\n",
    "\n",
    "def is_same_num(num1,num2):\n",
    "    if num1==num2:\n",
    "        print(True)\n",
    "    else:\n",
    "        print(False)\n"
   ]
  },
  {
   "cell_type": "code",
   "execution_count": 4,
   "id": "d78cc83b-5a10-403b-9b69-29786860674d",
   "metadata": {},
   "outputs": [
    {
     "name": "stdout",
     "output_type": "stream",
     "text": [
      "True\n"
     ]
    }
   ],
   "source": [
    "is_same_num(55,55)"
   ]
  },
  {
   "cell_type": "code",
   "execution_count": 1,
   "id": "79b3be67-28e0-456b-a723-9faaddf04bd8",
   "metadata": {},
   "outputs": [],
   "source": [
    "#3 Create a function that takes a number as its only argument and returns True if it's less than or equal to zero, \n",
    "#otherwise return False.\n",
    "#Examples\n",
    "#less_than_or_equal_to_zero(5) ➞ False\n",
    "#less_than_or_equal_to_zero(0) ➞ True\n",
    "#less_than_or_equal_to_zero(-2) ➞ True\n",
    "def less_than_or_equal_to_zero(x):\n",
    "    if x<=0:\n",
    "        print(True)\n",
    "    else:\n",
    "        print(False)\n"
   ]
  },
  {
   "cell_type": "code",
   "execution_count": 2,
   "id": "0a549718-8453-4606-98a9-013ac9a949e2",
   "metadata": {},
   "outputs": [
    {
     "name": "stdout",
     "output_type": "stream",
     "text": [
      "False\n",
      "True\n",
      "True\n"
     ]
    }
   ],
   "source": [
    "less_than_or_equal_to_zero(5)\n",
    "less_than_or_equal_to_zero(0)\n",
    "less_than_or_equal_to_zero(-2)"
   ]
  },
  {
   "cell_type": "code",
   "execution_count": 3,
   "id": "d858ff43-fe68-4552-ac1c-e19efef10d61",
   "metadata": {},
   "outputs": [],
   "source": [
    "#4 Emmy has written a function that returns a greeting to users. \n",
    "#However, she's in love with Mubashir, and would like to greet him slightly differently.\n",
    "#She added a special case in her function, but she made a mistake.\n",
    "#Can you help her?\n",
    "#Examples\n",
    "#greeting(\"Matt\") ➞ \"Hello, Matt!\"\n",
    "#greeting(\"Helen\") ➞ \"Hello, Helen!\"\n",
    "#greeting(\"Mubashir\") ➞ \"Hello, my Love!\"\n",
    "def greetings(x=\"person1\"):\n",
    "    if x==\"Mubashir\":\n",
    "        print(\"Hello, My Love!\")\n",
    "    else:\n",
    "        print(\"Hello, {}!\".format(x))\n",
    "    "
   ]
  },
  {
   "cell_type": "code",
   "execution_count": 4,
   "id": "a6e0831e-b9d2-46f0-b9ed-aa09d0c30ca0",
   "metadata": {},
   "outputs": [
    {
     "name": "stdout",
     "output_type": "stream",
     "text": [
      "Hello, Matt!\n",
      "Hello, Helen!\n",
      "Hello, My Love!\n"
     ]
    }
   ],
   "source": [
    "greetings(\"Matt\")\n",
    "greetings(\"Helen\")\n",
    "greetings(\"Mubashir\")"
   ]
  },
  {
   "cell_type": "code",
   "execution_count": 5,
   "id": "a708c1e1-3864-4007-a255-3064bbcb7024",
   "metadata": {},
   "outputs": [],
   "source": [
    "#5 Create a function that takes two arguments. Both arguments are integers, a and b. \n",
    "#Return True if one of them is 10 or if their sum is 10.\n",
    "#Examples\n",
    "#makes10(9, 10) ➞ True\n",
    "#makes10(9, 9) ➞ False\n",
    "#makes10(1, 9) ➞ True\n",
    "\n",
    "def makes10(x,y):\n",
    "    z=x+y\n",
    "    if x==10 or y==10 or z==10:\n",
    "        print(True)\n",
    "    else:\n",
    "        print(False)"
   ]
  },
  {
   "cell_type": "code",
   "execution_count": 6,
   "id": "5a4e57af-8880-41b8-ac49-6d529c92be32",
   "metadata": {},
   "outputs": [
    {
     "name": "stdout",
     "output_type": "stream",
     "text": [
      "True\n",
      "False\n",
      "True\n",
      "False\n",
      "True\n",
      "True\n",
      "False\n",
      "True\n"
     ]
    }
   ],
   "source": [
    "makes10(2,8)\n",
    "makes10(2,2)\n",
    "makes10(10,10)\n",
    "makes10(9,9)\n",
    "makes10(7,3)\n",
    "makes10(10,2)\n",
    "makes10(9,90)\n",
    "makes10(9,1)"
   ]
  },
  {
   "cell_type": "code",
   "execution_count": null,
   "id": "e8336862-fb88-4c6a-b5dd-c5ba1aaa659b",
   "metadata": {},
   "outputs": [],
   "source": []
  },
  {
   "cell_type": "code",
   "execution_count": 67,
   "id": "fdc4187f-0797-4b49-ac25-857c1af406de",
   "metadata": {},
   "outputs": [],
   "source": [
    "#6. Create a function that takes three arguments prob, prize, pay and \n",
    "# returns True if prob * prize > pay; otherwise return False. \n",
    "# To illustrate: profitable_gamble(0.2, 50, 9)\n",
    "#... should yield True, since the net profit is 1 (0.2 * 50 - 9), and 1 > 0.\n",
    "\n",
    "def proftiable_gamble(a,b,c):\n",
    "    if a*b>c:\n",
    "        print(True)\n",
    "    else:\n",
    "        print(False)"
   ]
  },
  {
   "cell_type": "code",
   "execution_count": 71,
   "id": "d272a948-86dd-4d32-b1ba-ae8203ef8cb9",
   "metadata": {},
   "outputs": [
    {
     "name": "stdout",
     "output_type": "stream",
     "text": [
      "True\n",
      "False\n",
      "False\n"
     ]
    }
   ],
   "source": [
    "proftiable_gamble(0.2, 50, 9)\n",
    "proftiable_gamble(0.3, 50, 16)\n",
    "proftiable_gamble(50, 0.5, 26)"
   ]
  },
  {
   "cell_type": "code",
   "execution_count": 72,
   "id": "d9e699b1-fa22-4c70-8b56-f5f35258888e",
   "metadata": {},
   "outputs": [],
   "source": [
    "# 7. Create a function that takes an integer and returns True if it's divisible by 100, otherwise return False.\n",
    "# Examples divisible(1) ➞ False, divisible(1000) ➞ True, divisible(100) ➞ True.\n",
    "def divisible_100(x):\n",
    "    if x%100==0:\n",
    "        print(True)\n",
    "    else:\n",
    "        print(False)      "
   ]
  },
  {
   "cell_type": "code",
   "execution_count": 74,
   "id": "e1df5978-3c5b-4ec7-a0c2-8c16978dc471",
   "metadata": {},
   "outputs": [
    {
     "name": "stdout",
     "output_type": "stream",
     "text": [
      "True\n",
      "False\n",
      "True\n"
     ]
    }
   ],
   "source": [
    "divisible_100(1000)\n",
    "divisible_100(90)\n",
    "divisible_100(900)"
   ]
  },
  {
   "cell_type": "code",
   "execution_count": 75,
   "id": "18f13c09-a6e1-4b51-815e-094c85c7a96a",
   "metadata": {},
   "outputs": [],
   "source": [
    "# 8. Create a function that takes two strings as arguments and return either True or False depending on \n",
    "# whether the total number of characters in the first string is equal to the total number of characters in the second string.\n",
    "# Examples: comp(\"AB\", \"CD\") ➞ True, comp(\"ABC\", \"DE\") ➞ False, comp(\"hello\", \"edabit\") ➞ False.\n",
    "\n",
    "def string_length_match(x=\"string1\",y=\"string2\"):\n",
    "    if len(x)==len(y):\n",
    "        print(True)\n",
    "    else:\n",
    "        print(False)"
   ]
  },
  {
   "cell_type": "code",
   "execution_count": 81,
   "id": "012e7f1b-e86e-4292-acac-e077a03f9052",
   "metadata": {},
   "outputs": [
    {
     "name": "stdout",
     "output_type": "stream",
     "text": [
      "False\n",
      "True\n",
      "True\n",
      "True\n"
     ]
    }
   ],
   "source": [
    "string_length_match(x=\"alai\",y=\"balai\")\n",
    "string_length_match(x=\"yo\",y=\"yo\")\n",
    "string_length_match(x=\"blah\",y=\"blah\")\n",
    "string_length_match(x=\"\",y=\"\")"
   ]
  },
  {
   "cell_type": "code",
   "execution_count": 82,
   "id": "269a48fc-45e8-4408-a5d4-8aa61be97172",
   "metadata": {},
   "outputs": [],
   "source": [
    "#9. Given a string, return True if its length is even or False if the length is odd.\n",
    "# Examples: odd_or_even(\"apples\") ➞ True\n",
    "# The word \"apples\" has 6 characters.\n",
    "# 6 is an even number, so the program outputs True.\n",
    "\n",
    "def odd_even_string(a=\"string\"):\n",
    "    b=len(a)\n",
    "    if b%2==0:\n",
    "        print(True)\n",
    "    else:\n",
    "        print(False)"
   ]
  },
  {
   "cell_type": "code",
   "execution_count": 85,
   "id": "50a923c9-6f72-42b5-a8b6-4b7ab3eab5aa",
   "metadata": {},
   "outputs": [
    {
     "name": "stdout",
     "output_type": "stream",
     "text": [
      "True\n",
      "False\n",
      "True\n"
     ]
    }
   ],
   "source": [
    "odd_even_string(\"apples\")\n",
    "odd_even_string(\"pears\")\n",
    "odd_even_string(\"cherry\")"
   ]
  },
  {
   "cell_type": "code",
   "execution_count": 88,
   "id": "f5482b23-89a4-4962-94db-f3ae1477e86f",
   "metadata": {},
   "outputs": [],
   "source": [
    "#10. Create a function that takes a string; we'll say that the front is the first three characters of the string.\n",
    "# If the string length is less than three characters, the front is whatever is there. \n",
    "# Return a new string, which is three copies of the front.\n",
    "# Examples front3(\"Python\") ➞ \"PytPytPyt\", front3(\"Cucumber\") ➞ \"CucCucCuc\", front3(\"bioshock\") ➞ \"biobiobio\"\n",
    "\n",
    "def front3_char_string(y=\"string\"):\n",
    "    print(y[0:3]*3)\n"
   ]
  },
  {
   "cell_type": "code",
   "execution_count": 90,
   "id": "a0c72c76-1c51-4775-8dea-ec698bbb4123",
   "metadata": {},
   "outputs": [
    {
     "name": "stdout",
     "output_type": "stream",
     "text": [
      "pytpytpyt\n",
      "cuccuccuc\n",
      "biobiobio\n"
     ]
    }
   ],
   "source": [
    "front3_char_string(y=\"python\")\n",
    "front3_char_string(y=\"cucumber\")\n",
    "front3_char_string(y=\"biography\")"
   ]
  },
  {
   "cell_type": "code",
   "execution_count": 99,
   "id": "795909af-d82d-420b-bee6-8a342870b922",
   "metadata": {},
   "outputs": [],
   "source": [
    "# 11. Darts is a target game played by throwing feathered darts at a circular board with numbered spaces. \n",
    "# Our darts game is the simplest of all games. \n",
    "# The score of a single turn is calculated based on the distance from the middle. \n",
    "# You need to create a function that takes the dart location as two cartesian coordinates (x, y) \n",
    "# and returns a score based on the distance from the middle, aka Bullseye (x=0, y=0).\n",
    "\n",
    "def darts(x,y):\n",
    "    distance = ((x**2)+(y**2))**0.5 # using r =sq.rt(x**2+y**2) we will identify the distance at which dart fell on board\n",
    "    if distance > 10:\n",
    "        return 0\n",
    "    elif distance > 5:\n",
    "        return 1\n",
    "    elif distance > 1:\n",
    "        return 5\n",
    "    else:\n",
    "        return 10"
   ]
  },
  {
   "cell_type": "code",
   "execution_count": 102,
   "id": "0bf3a419-2157-4bb8-a0f0-543593e554e7",
   "metadata": {},
   "outputs": [
    {
     "data": {
      "text/plain": [
       "10"
      ]
     },
     "execution_count": 102,
     "metadata": {},
     "output_type": "execute_result"
    }
   ],
   "source": [
    "darts(0,0)"
   ]
  },
  {
   "cell_type": "code",
   "execution_count": 103,
   "id": "65980504-a0f8-4a59-83d1-62085cb72014",
   "metadata": {},
   "outputs": [
    {
     "data": {
      "text/plain": [
       "5"
      ]
     },
     "execution_count": 103,
     "metadata": {},
     "output_type": "execute_result"
    }
   ],
   "source": [
    "darts(3,2)"
   ]
  },
  {
   "cell_type": "code",
   "execution_count": 104,
   "id": "90b1c754-13b6-482f-b7fc-f0afa80583e1",
   "metadata": {},
   "outputs": [
    {
     "data": {
      "text/plain": [
       "10"
      ]
     },
     "execution_count": 104,
     "metadata": {},
     "output_type": "execute_result"
    }
   ],
   "source": [
    "darts(0,0.8)"
   ]
  },
  {
   "cell_type": "code",
   "execution_count": 10,
   "id": "82352fd5-9ced-434b-80b7-5feef90842a2",
   "metadata": {},
   "outputs": [],
   "source": [
    "#12 Create a function that takes a number as an argument and returns \"even\" for even numbers and \"odd\" for odd numbers.\n",
    "#Examples\n",
    "#isEvenOrOdd(3) ➞ \"odd\"\n",
    "#isEvenOrOdd(146) ➞ \"even\"\n",
    "#isEvenOrOdd(19) ➞ \"odd\"\n",
    "def isEvenOrOdd(x):\n",
    "    if x%2==0:\n",
    "        print(\"Even\")\n",
    "    else:\n",
    "        print(\"Odd\")                      \n",
    "                     \n"
   ]
  },
  {
   "cell_type": "code",
   "execution_count": 11,
   "id": "ddce6034-098b-4581-a139-63ec9903b926",
   "metadata": {},
   "outputs": [
    {
     "name": "stdout",
     "output_type": "stream",
     "text": [
      "Odd\n",
      "Even\n",
      "Odd\n"
     ]
    }
   ],
   "source": [
    "isEvenOrOdd(3)\n",
    "isEvenOrOdd(146)\n",
    "isEvenOrOdd(19)"
   ]
  },
  {
   "cell_type": "code",
   "execution_count": 12,
   "id": "22e593ee-3e86-4351-949f-d742390b969d",
   "metadata": {},
   "outputs": [],
   "source": [
    "#13 Create a function that takes in a word and determines whether or not it is plural. A plural word is one that ends in \"s\".\n",
    "#Examples\n",
    "#is_plural(\"changes\") ➞ True\n",
    "#is_plural(\"change\") ➞ False\n",
    "#is_plural(\"dudes\") ➞ True\n",
    "#is_plural(\"magic\") ➞ False\n",
    "def is_plural(a=\"string\"):\n",
    "    if a.endswith(\"s\"):\n",
    "        print(True)\n",
    "    else:\n",
    "        print(False)\n"
   ]
  },
  {
   "cell_type": "code",
   "execution_count": 13,
   "id": "2bcd91eb-0db7-4d78-b11f-d9aa1141e2db",
   "metadata": {},
   "outputs": [
    {
     "name": "stdout",
     "output_type": "stream",
     "text": [
      "True\n",
      "False\n",
      "True\n",
      "False\n"
     ]
    }
   ],
   "source": [
    "is_plural(\"changes\")\n",
    "is_plural(\"change\")\n",
    "is_plural(\"dudes\")\n",
    "is_plural(\"magic\")"
   ]
  },
  {
   "cell_type": "code",
   "execution_count": 14,
   "id": "64896829-e88e-45ca-8e28-1bb28f2a7863",
   "metadata": {},
   "outputs": [],
   "source": [
    "#14 Create a function that takes a string (a random name). If the last character of the name is an \"n\", return True, otherwise return False.\n",
    "#Examples\n",
    "#is_last_character_n(\"Aiden\") ➞ True\n",
    "#is_last_character_n(\"Piet\") ➞ False\n",
    "#is_last_character_n(\"Bert\") ➞ False\n",
    "#is_last_character_n(\"Dean\") ➞ True\n",
    "\n",
    "def is_last_character_n(b=\"string\"):\n",
    "    if b.endswith(\"n\"):\n",
    "        print(True)\n",
    "    else:\n",
    "        print(False)\n",
    "        "
   ]
  },
  {
   "cell_type": "code",
   "execution_count": 16,
   "id": "1123b2a7-1edb-4fe2-af20-8a613f2e5882",
   "metadata": {},
   "outputs": [
    {
     "name": "stdout",
     "output_type": "stream",
     "text": [
      "True\n",
      "False\n",
      "True\n",
      "True\n"
     ]
    }
   ],
   "source": [
    "is_last_character_n(\"Aiden\")\n",
    "is_last_character_n(\"julie\")\n",
    "is_last_character_n(\"Biden\")\n",
    "is_last_character_n(\"Dean\")"
   ]
  },
  {
   "cell_type": "code",
   "execution_count": 37,
   "id": "acaa9bb4-57c6-47b0-a792-27a88033001f",
   "metadata": {},
   "outputs": [],
   "source": [
    "#15 The packaging system is running wild! The candy is lying loose all over in the warehouse, the cereal is missing,\n",
    "#and bread is stuffed in a bottle. What is going on here? The candy should be in plastic and the bread should be in\n",
    "#a bag.\n",
    "#The packaging machine is running the get_container() function to retrieve the container of a product. But something is not right...\n",
    "#Examples\n",
    "#get_container(\"Bread\") ➞ \"bag\"\n",
    "#get_container(\"Beer\") ➞ \"bottle\"\n",
    "#get_container(\"Candy\") ➞ \"plastic\"\n",
    "#get_container(\"Cheese\") ➞ None\n",
    "\n",
    "def get_container_for(product):\n",
    "    \n",
    "    matches = {\"Bread\":\"bag\", \"Milk\":\"bottle\",\"Beer\":\"bottle\",\"Eggs\":\"carton\",\"Cerials\":\"box\",\"candy\":\"plastic\",\"cheese\":\"packet\"}\n",
    "    \n",
    "    return matches[product]"
   ]
  },
  {
   "cell_type": "code",
   "execution_count": 34,
   "id": "7ae2b3e6-dbcd-43da-9cb4-92fe2531daab",
   "metadata": {},
   "outputs": [
    {
     "data": {
      "text/plain": [
       "'plastic'"
      ]
     },
     "execution_count": 34,
     "metadata": {},
     "output_type": "execute_result"
    }
   ],
   "source": [
    "get_container_for(\"candy\")"
   ]
  },
  {
   "cell_type": "code",
   "execution_count": 35,
   "id": "090c0685-50ca-4af4-88de-7a59b0ddff16",
   "metadata": {},
   "outputs": [
    {
     "data": {
      "text/plain": [
       "'bottle'"
      ]
     },
     "execution_count": 35,
     "metadata": {},
     "output_type": "execute_result"
    }
   ],
   "source": [
    "get_container_for(\"Beer\")"
   ]
  },
  {
   "cell_type": "code",
   "execution_count": 36,
   "id": "9331178c-2e2f-4186-8280-b50cffe6765c",
   "metadata": {},
   "outputs": [
    {
     "data": {
      "text/plain": [
       "'bag'"
      ]
     },
     "execution_count": 36,
     "metadata": {},
     "output_type": "execute_result"
    }
   ],
   "source": [
    "get_container_for(\"Bread\")"
   ]
  },
  {
   "cell_type": "code",
   "execution_count": 50,
   "id": "a4b12530-a1f4-4c34-ad76-8a4808c1b0fa",
   "metadata": {},
   "outputs": [],
   "source": [
    "#16 Create a function that returns the opposite of the given boolean, as a number.\n",
    "#Examples\n",
    "#flip_bool(True) ➞ 0\n",
    "#flip_bool(False) ➞ 1\n",
    "#flip_bool(1) ➞ 0\n",
    "#flip_bool(0) ➞ 1\n",
    "\n",
    "def flip_bool(given):\n",
    "    \n",
    "    if given==\"True\" or given==1:\n",
    "         print(0)\n",
    "    elif given==\"False\"or given==0:\n",
    "        print(1)\n",
    "\n",
    "#return not given"
   ]
  },
  {
   "cell_type": "code",
   "execution_count": 51,
   "id": "364ad6aa-faf1-453c-bd51-d79e80376038",
   "metadata": {},
   "outputs": [
    {
     "name": "stdout",
     "output_type": "stream",
     "text": [
      "0\n",
      "1\n",
      "0\n",
      "1\n"
     ]
    }
   ],
   "source": [
    "flip_bool(True)\n",
    "flip_bool(False)\n",
    "flip_bool(1)\n",
    "flip_bool(0)"
   ]
  },
  {
   "cell_type": "code",
   "execution_count": 4,
   "id": "5ec53c3d-c40d-4ad1-8ce2-e77e9a8a3879",
   "metadata": {},
   "outputs": [],
   "source": [
    "#17 Write a function that accepts base (decimal), height (decimal) and shape (\"triangle\", \"parallelogram\") as input and calculates the area of that shape.\n",
    "#Examples\n",
    "#area_shape(2, 3, \"triangle\") ➞ 3\n",
    "#area_shape(8, 6, \"parallelogram\") ➞ 48\n",
    "#area_shape(2.9, 1.3, \"parallelogram\") ➞ 3.77\n",
    "def area_shape(b,h,s):\n",
    "    if s == \"triangle\":\n",
    "        area_of_triangle = (0.5*b*h)\n",
    "        print(area_of_triangle)\n",
    "    elif s == \"parallelogram\":\n",
    "        area_of_parallelogram = b*h\n",
    "        print(area_of_parallelogram)\n",
    "               \n"
   ]
  },
  {
   "cell_type": "code",
   "execution_count": 5,
   "id": "50131de1-6816-4551-b1e0-68fc4976914c",
   "metadata": {},
   "outputs": [
    {
     "name": "stdout",
     "output_type": "stream",
     "text": [
      "34.0\n"
     ]
    }
   ],
   "source": [
    "area_shape(8.5,8,\"triangle\")"
   ]
  },
  {
   "cell_type": "code",
   "execution_count": 7,
   "id": "bf71e7fa-ba21-40b1-8323-d241fd341844",
   "metadata": {},
   "outputs": [
    {
     "name": "stdout",
     "output_type": "stream",
     "text": [
      "33.75\n"
     ]
    }
   ],
   "source": [
    "area_shape(4.5,7.5,\"parallelogram\")"
   ]
  },
  {
   "cell_type": "code",
   "execution_count": 2,
   "id": "0ed391da-0a29-4d7d-97a1-903a1b0121a2",
   "metadata": {},
   "outputs": [],
   "source": [
    "#18 You will need to write three unfinished logic gates. Continue to write the three logic gates: AND, OR, and NOT.\n",
    "#Examples\n",
    "#AND(1, 1) ➞ 1\n",
    "#AND(0, 0) ➞ 0\n",
    "#OR(1, 0) ➞ 1\n",
    "#OR(1, 1) ➞ 1\n",
    "#NOT(0) ➞ 1\n",
    "#NOT(1) ➞ 0\n",
    "\n",
    "def AND(x,y):\n",
    "    if x==1 and y==1:\n",
    "        print(1)\n",
    "    else:\n",
    "        print(0)\n",
    "def OR(x,y):\n",
    "    if x==1 or y==1:\n",
    "        print(1)\n",
    "    else:\n",
    "        print(0)\n",
    "def NOT(x):\n",
    "    if x==1:\n",
    "        print(0)\n",
    "    else:\n",
    "        print(1)  \n"
   ]
  },
  {
   "cell_type": "code",
   "execution_count": 4,
   "id": "7bcbc64d-0204-47e1-a153-644bb6154219",
   "metadata": {},
   "outputs": [
    {
     "name": "stdout",
     "output_type": "stream",
     "text": [
      "1\n",
      "0\n",
      "0\n",
      "0\n",
      "1\n",
      "1\n",
      "0\n",
      "1\n",
      "1\n",
      "0\n"
     ]
    }
   ],
   "source": [
    "AND(1, 1)\n",
    "AND(1, 0)\n",
    "AND(0, 1)\n",
    "AND(0, 0)\n",
    "OR(1, 0)\n",
    "OR(0, 1)\n",
    "OR(0, 0)\n",
    "OR(1, 1)\n",
    "NOT(0)\n",
    "NOT(1)"
   ]
  },
  {
   "cell_type": "code",
   "execution_count": 7,
   "id": "7bda6e55-03da-46d9-a8df-98b3daa9db4e",
   "metadata": {},
   "outputs": [],
   "source": [
    "#19 A bartender is writing a simple program to determine whether he should serve drinks to someone. He only serves drinks to people 18 and older and when he's not on break.\n",
    "#Given the person's age, and whether break time is in session, create a function which returns whether he should serve drinks.\n",
    "#Examples\n",
    "#should_serve_drinks(17, True) ➞ False\n",
    "#should_serve_drinks(19, False) ➞ True\n",
    "#should_serve_drinks(30, True) ➞ False\n",
    "\n",
    "def should_serve_drinks(x,y):\n",
    "    if x==18 and y==\"True\":\n",
    "        print(True)\n",
    "    elif x!=18 and y==\"False\":\n",
    "        print(True)\n",
    "    else:\n",
    "        print(False)"
   ]
  },
  {
   "cell_type": "code",
   "execution_count": 8,
   "id": "679ebb91-90c1-4c4a-afaf-6b784278292c",
   "metadata": {},
   "outputs": [
    {
     "name": "stdout",
     "output_type": "stream",
     "text": [
      "True\n",
      "False\n",
      "True\n",
      "False\n"
     ]
    }
   ],
   "source": [
    "should_serve_drinks(18, \"True\")\n",
    "should_serve_drinks(18, \"False\")\n",
    "should_serve_drinks(19, \"False\")\n",
    "should_serve_drinks(17, \"True\")"
   ]
  },
  {
   "cell_type": "code",
   "execution_count": 12,
   "id": "4130c7a3-bde8-4b35-9686-370000495c8c",
   "metadata": {},
   "outputs": [],
   "source": [
    "#20 Create a function that takes a string txt and a number n and returns the repeated string n number of times.\n",
    "#If given argument txt is not a string, return Not A String !!\n",
    "#Examples\n",
    "#repeat_string(\"Mubashir\", 2) ➞ \"MubashirMubashir\"\n",
    "#repeat_string(\"Matt\", 3) ➞ \"MattMattMatt\"\n",
    "#repeat_string(1990, 7) ➞ \"Not A String !!\"\n",
    "\n",
    "def repeat_string(x,y):\n",
    "    if x==str(x):\n",
    "        print(x*y)\n",
    "    else:\n",
    "        print(\"not a string\")\n"
   ]
  },
  {
   "cell_type": "code",
   "execution_count": 13,
   "id": "6dff4674-2c02-451b-86a1-18b762fa1f4d",
   "metadata": {},
   "outputs": [
    {
     "name": "stdout",
     "output_type": "stream",
     "text": [
      "MubashirMubashir\n",
      "MattMattMatt\n",
      "not a string\n"
     ]
    }
   ],
   "source": [
    "repeat_string(\"Mubashir\", 2)\n",
    "repeat_string(\"Matt\", 3)\n",
    "repeat_string(1990, 7)"
   ]
  },
  {
   "cell_type": "code",
   "execution_count": 6,
   "id": "b09a18a0-9219-467d-98e3-3456f70f3eba",
   "metadata": {},
   "outputs": [],
   "source": [
    "#21 A taxi journey costs $3 for the first kilometer travelled. However, all kilometers travelled after that will\n",
    "#cost $2 each.\n",
    "#Create a function which returns the distance that the taxi must've travelled, given the cost as a parameter.\n",
    "#Examples\n",
    "#journey_distance(3) ➞ 1\n",
    "# The first kilometer costs $3\n",
    "#journey_distance(9) ➞ 4\n",
    "# The first kilometer costs $3 plus the other three kilometers (costing $2 each)\n",
    "#journey_distance(5) ➞ 2\n",
    "def dist_taxi_travel(x):\n",
    "    if x==3:\n",
    "        print(1)\n",
    "    elif x>3:\n",
    "        a = 1+(x-3)//2\n",
    "        print(a)\n"
   ]
  },
  {
   "cell_type": "code",
   "execution_count": 8,
   "id": "7d195331-dc79-4b12-baa9-7f9510b51728",
   "metadata": {},
   "outputs": [
    {
     "name": "stdout",
     "output_type": "stream",
     "text": [
      "1\n",
      "4\n",
      "2\n"
     ]
    }
   ],
   "source": [
    "dist_taxi_travel(3)\n",
    "dist_taxi_travel(9)\n",
    "dist_taxi_travel(5)"
   ]
  },
  {
   "cell_type": "code",
   "execution_count": null,
   "id": "9ff7b649-b128-4837-b50a-a1e9e9642635",
   "metadata": {},
   "outputs": [],
   "source": []
  },
  {
   "cell_type": "code",
   "execution_count": 9,
   "id": "785eb8b0-cfca-47ea-92c5-2f97edfa7433",
   "metadata": {},
   "outputs": [],
   "source": [
    "#22 Given a list that contains the fulcrum \"f\", the effort \"e\", and the load \"l\", write a function that determines \n",
    "#whether or not the list shows a first class lever, second class lever, or a third class lever.\n",
    "#Examples\n",
    "#determine_lever([\"e\", \"f\", \"l\"]) ➞ \"first class lever\"\n",
    "#determine_lever([\"e\", \"l\", \"f\"]) ➞ \"second class lever\"\n",
    "#determine_lever([\"f\", \"e\", \"l\"]) ➞ \"third class lever\"\n",
    "def determine_lever(l):\n",
    "    if l[0]==\"e\" and l[1]==\"f\" and l[2]==\"l\":\n",
    "        return \"first class lever\"\n",
    "    elif l[0]==\"e\" and l[1]==\"l\" and l[2]==\"f\":\n",
    "        return \"second class lever\"\n",
    "    elif l[0]==\"f\" and l[1]==\"e\" and l[2]==\"l\":\n",
    "        return \"third class lever\"\n",
    "    else:\n",
    "        return \"None\"\n"
   ]
  },
  {
   "cell_type": "code",
   "execution_count": 10,
   "id": "0d83c5db-a22a-412b-8527-5bef84c95f3c",
   "metadata": {},
   "outputs": [
    {
     "data": {
      "text/plain": [
       "'first class lever'"
      ]
     },
     "execution_count": 10,
     "metadata": {},
     "output_type": "execute_result"
    }
   ],
   "source": [
    "determine_lever([\"e\", \"f\", \"l\"])"
   ]
  },
  {
   "cell_type": "code",
   "execution_count": null,
   "id": "79ab59a9-d7ba-48dc-a98c-4c08478a84b8",
   "metadata": {},
   "outputs": [],
   "source": []
  },
  {
   "cell_type": "code",
   "execution_count": 11,
   "id": "3e2c03ee-18f8-4f63-9437-280357846a21",
   "metadata": {},
   "outputs": [],
   "source": [
    "#23 Write a function that checks whether a person can watch an MA15+ rated movie. One of the following two \n",
    "#conditions is required for admittance:\n",
    "#The person is at least 15 years old.\n",
    "#They have parental supervision.\n",
    "#The function accepts two parameters, age and is_supervised. Return a boolean.\n",
    "#Examples\n",
    "#accept_into_movie(14, True) ➞ True\n",
    "#accept_into_movie(14, False) ➞ False\n",
    "#accept_into_movie(16, False) ➞ True\n",
    "\n",
    "def accept_into_movie(age,sup):\n",
    "    return age>=15 or sup==True"
   ]
  },
  {
   "cell_type": "code",
   "execution_count": 12,
   "id": "ee96cfc6-4bf9-4acb-af74-6acbdd6fda0d",
   "metadata": {},
   "outputs": [
    {
     "data": {
      "text/plain": [
       "True"
      ]
     },
     "execution_count": 12,
     "metadata": {},
     "output_type": "execute_result"
    }
   ],
   "source": [
    "accept_into_movie(14, True)"
   ]
  },
  {
   "cell_type": "code",
   "execution_count": null,
   "id": "d27de4ff-7c11-4886-974e-d9e210239b6b",
   "metadata": {},
   "outputs": [],
   "source": []
  },
  {
   "cell_type": "code",
   "execution_count": 13,
   "id": "68d818f3-5c61-4178-a65a-6aaf501445b9",
   "metadata": {},
   "outputs": [],
   "source": [
    "#24 Create a function that returns a number, based on the string provided. Here is a list of all digits:\n",
    "#word(\"one\") ➞ 1\n",
    "#word(\"two\") ➞ 2\n",
    "#word(\"nine\") ➞ 9\n",
    "def word(x):\n",
    "    y=x.lower()\n",
    "    num={\"one\":1,\"two\":2,\"three\":3,\"four\":4,\"five\":5,\"six\":6,\"seven\":7,\"eight\":8,\"nine\":9,\"zero\":0}\n",
    "    return num[y]\n"
   ]
  },
  {
   "cell_type": "code",
   "execution_count": 15,
   "id": "dd4af2f7-360f-4e0a-ab53-10affcf39154",
   "metadata": {},
   "outputs": [
    {
     "data": {
      "text/plain": [
       "2"
      ]
     },
     "execution_count": 15,
     "metadata": {},
     "output_type": "execute_result"
    }
   ],
   "source": [
    "word(\"two\")"
   ]
  },
  {
   "cell_type": "code",
   "execution_count": null,
   "id": "aa6a7f5a-1b69-48d8-8a70-04df77b6d12a",
   "metadata": {},
   "outputs": [],
   "source": [
    "#25 Write a function that uses the ternary operator to return \"yeah\" if b is True, and \"nope\" otherwise.\n",
    "\n"
   ]
  },
  {
   "cell_type": "code",
   "execution_count": null,
   "id": "ab4d7e88-d7f8-4a75-9b4a-a054b155aa97",
   "metadata": {},
   "outputs": [],
   "source": []
  },
  {
   "cell_type": "code",
   "execution_count": null,
   "id": "93262f03-b90d-4f2a-b3f9-78f3b57223ef",
   "metadata": {},
   "outputs": [],
   "source": []
  },
  {
   "cell_type": "code",
   "execution_count": null,
   "id": "87031577-8a7c-42f8-bc50-ddad858e6da3",
   "metadata": {},
   "outputs": [],
   "source": []
  },
  {
   "cell_type": "code",
   "execution_count": null,
   "id": "24d66312-80b6-4f47-b124-a3c2a2167764",
   "metadata": {},
   "outputs": [],
   "source": []
  },
  {
   "cell_type": "code",
   "execution_count": null,
   "id": "dca33f29-7209-45d5-a109-6501a1125b56",
   "metadata": {},
   "outputs": [],
   "source": []
  },
  {
   "cell_type": "code",
   "execution_count": null,
   "id": "cd9ad31c-d264-4429-913d-bdb8e94d5c53",
   "metadata": {},
   "outputs": [],
   "source": []
  },
  {
   "cell_type": "code",
   "execution_count": null,
   "id": "4d4633c1-59d6-4629-8867-84e30c37d0fb",
   "metadata": {},
   "outputs": [],
   "source": []
  },
  {
   "cell_type": "code",
   "execution_count": null,
   "id": "2905a370-b93c-4891-bd6c-dbaa9b45fa9e",
   "metadata": {},
   "outputs": [],
   "source": []
  },
  {
   "cell_type": "code",
   "execution_count": null,
   "id": "0f48ae61-97ef-442d-a2fa-188325f90812",
   "metadata": {},
   "outputs": [],
   "source": []
  },
  {
   "cell_type": "code",
   "execution_count": null,
   "id": "7d3bd8a5-3337-44ef-bdba-eaa78c3269c4",
   "metadata": {},
   "outputs": [],
   "source": []
  },
  {
   "cell_type": "code",
   "execution_count": null,
   "id": "cea41d3b-2b9c-464c-9d7f-45011617139b",
   "metadata": {},
   "outputs": [],
   "source": []
  },
  {
   "cell_type": "code",
   "execution_count": null,
   "id": "b4d2feef-5fe9-478b-962b-a902204aa7ed",
   "metadata": {},
   "outputs": [],
   "source": []
  }
 ],
 "metadata": {
  "kernelspec": {
   "display_name": "Python 3 (ipykernel)",
   "language": "python",
   "name": "python3"
  },
  "language_info": {
   "codemirror_mode": {
    "name": "ipython",
    "version": 3
   },
   "file_extension": ".py",
   "mimetype": "text/x-python",
   "name": "python",
   "nbconvert_exporter": "python",
   "pygments_lexer": "ipython3",
   "version": "3.9.7"
  }
 },
 "nbformat": 4,
 "nbformat_minor": 5
}

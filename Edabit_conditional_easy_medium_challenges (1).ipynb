{
 "cells": [
  {
   "cell_type": "code",
   "execution_count": null,
   "id": "eb9c35b4-b620-4c64-b895-3ae880312e12",
   "metadata": {},
   "outputs": [],
   "source": []
  },
  {
   "cell_type": "code",
   "execution_count": 5,
   "id": "6d137247-ae61-43f3-afb6-f6a2fbd135d4",
   "metadata": {},
   "outputs": [],
   "source": [
    "#26 Create a function that takes a number x and a character y (\"m\" for male, \"f\" for female), and returns the \n",
    "#name of an ancestor (m/f) or descendant (m/f).\n",
    "#If the number is negative, return the related ancestor.\n",
    "#If positive, return the related descendant.\n",
    "#You are generation 0. In the case of 0 (male or female), return \"me!\".\n",
    "#Examples\n",
    "#generation(2, \"f\") ➞ \"granddaughter\"\n",
    "#generation(-3, \"m\") ➞ \"great grandfather\"\n",
    "#generation(1, \"f\") ➞ \"daughter\"\n",
    "\n",
    "def generation(x,y):\n",
    "    \n",
    "    relations = {-3:{\"m\":\"great grand father\", \"f\":\"great grand mother\"}, -2:{\"m\":\"grand father\", \"f\":\"grand mother\"},\\\n",
    "                 -1:{\"m\":\"father\", \"f\":\"mother\"}, 0:{\"m\":\"me\", \"f\":\"me\"}, 1:{\"m\":\"son\", \"f\":\"daughter\"},\\\n",
    "                 2:{\"m\":\"grand son\", \"f\":\"grand daughter\"},3:{\"m\":\"great grand son\", \"f\":\"great grand daughter\"}}\n",
    "    return relations[x][y]"
   ]
  },
  {
   "cell_type": "code",
   "execution_count": 9,
   "id": "86d9793f-e865-4c33-88e8-c5418fd88b27",
   "metadata": {},
   "outputs": [
    {
     "data": {
      "text/plain": [
       "'grand daughter'"
      ]
     },
     "execution_count": 9,
     "metadata": {},
     "output_type": "execute_result"
    }
   ],
   "source": [
    "generation(2,\"f\")"
   ]
  },
  {
   "cell_type": "code",
   "execution_count": 10,
   "id": "44272ac8-15d7-4431-8639-dba846585cd9",
   "metadata": {},
   "outputs": [
    {
     "data": {
      "text/plain": [
       "'great grand father'"
      ]
     },
     "execution_count": 10,
     "metadata": {},
     "output_type": "execute_result"
    }
   ],
   "source": [
    "generation(-3, \"m\")"
   ]
  },
  {
   "cell_type": "code",
   "execution_count": 11,
   "id": "4f4b3629-366c-432c-bbd0-485281fce041",
   "metadata": {},
   "outputs": [
    {
     "data": {
      "text/plain": [
       "'daughter'"
      ]
     },
     "execution_count": 11,
     "metadata": {},
     "output_type": "execute_result"
    }
   ],
   "source": [
    "generation(1, \"f\")"
   ]
  },
  {
   "cell_type": "code",
   "execution_count": 2,
   "id": "fc48fac7-b27d-49f1-ba0a-ae2fbbdbe5d5",
   "metadata": {},
   "outputs": [],
   "source": [
    "#27 Backpack Bill and Wallet Will set off for the annual festival. As they approach the stalls, Bill retorts that \n",
    "#he'll be able to bring home more stuff than Will. Taking this as a challenge, Will refutes and a competition \n",
    "#spurs into action.\n",
    "#Backpack Bill has an infinite inventory space, but a limited number of coins.\n",
    "#Wallet Will has an infinite number of coins, but a limited inventory space.\n",
    "#Create a function that returns the name of the man who can bring home the most items. The parameters are given\n",
    "#as follows:\n",
    "#Bill's amount of money.\n",
    "#Will's amount of inventory space.\n",
    "#The item's price.\n",
    "#The item's size.\n",
    "\n",
    "def who_brings_most(bill_money, will_space, item_price, item_size):\n",
    "    bill_items = bill_money/item_price\n",
    "    wil_items = will_space/item_size\n",
    "    if bill_items > wil_items:\n",
    "        return \"bill_won\"\n",
    "    elif wil_items > bill_items:\n",
    "        return \"will_won\"\n",
    "    else:\n",
    "        return \"it_is_a_Tie\"\n",
    "    "
   ]
  },
  {
   "cell_type": "code",
   "execution_count": 21,
   "id": "8f6f0c38-2020-44bb-a9ae-2b93ca96d497",
   "metadata": {},
   "outputs": [
    {
     "data": {
      "text/plain": [
       "'will_won'"
      ]
     },
     "execution_count": 21,
     "metadata": {},
     "output_type": "execute_result"
    }
   ],
   "source": [
    "who_brings_most(3,4,5,6)\n"
   ]
  },
  {
   "cell_type": "code",
   "execution_count": 22,
   "id": "ac4fe282-623b-4511-95b0-4b7728d17fb8",
   "metadata": {},
   "outputs": [
    {
     "data": {
      "text/plain": [
       "'will_won'"
      ]
     },
     "execution_count": 22,
     "metadata": {},
     "output_type": "execute_result"
    }
   ],
   "source": [
    "who_brings_most(1,2,3,4)"
   ]
  },
  {
   "cell_type": "code",
   "execution_count": 3,
   "id": "6d5b5fab-58e1-4124-b1d9-054016847983",
   "metadata": {},
   "outputs": [
    {
     "data": {
      "text/plain": [
       "'bill_won'"
      ]
     },
     "execution_count": 3,
     "metadata": {},
     "output_type": "execute_result"
    }
   ],
   "source": [
    "who_brings_most(2,1,4,3)"
   ]
  },
  {
   "cell_type": "code",
   "execution_count": 38,
   "id": "b781a24d-56c5-4af0-889b-d76df4d1e98b",
   "metadata": {},
   "outputs": [],
   "source": [
    "#28 Create a function that validates whether a number n is within the bounds of lower and upper. Return False\n",
    "#if n is not an integer.\n",
    "#Examples\n",
    "#int_within_bounds(3, 1, 9) ➞ True\n",
    "#int_within_bounds(6, 1, 6) ➞ False\n",
    "#int_within_bounds(4.5, 3, 8) ➞ False\n",
    "\n",
    "def int_within_bounds(x,y,z):\n",
    "    if y<x<z and x==int(x):\n",
    "        print(True)\n",
    "    else:\n",
    "        print(False)"
   ]
  },
  {
   "cell_type": "code",
   "execution_count": 39,
   "id": "33b17d51-470e-4b2d-8822-387b444e2a63",
   "metadata": {},
   "outputs": [
    {
     "name": "stdout",
     "output_type": "stream",
     "text": [
      "True\n",
      "False\n",
      "False\n"
     ]
    }
   ],
   "source": [
    "int_within_bounds(3, 1, 9)\n",
    "int_within_bounds(6, 1, 6)\n",
    "int_within_bounds(4.5, 3, 8)"
   ]
  },
  {
   "cell_type": "code",
   "execution_count": 40,
   "id": "018c8154-e478-432b-ae18-df34702c8d5e",
   "metadata": {},
   "outputs": [],
   "source": [
    "#29 Write a function that returns the boolean True if the given number is zero, the string \"positive\" if the \n",
    "#number is greater than zero or the string \"negative\" if it's smaller than zero.\n",
    "def is_positive_or_negative(n):\n",
    "    if n>0:\n",
    "        return \"positive\"\n",
    "    elif n<0:\n",
    "        return \"negative\"\n",
    "    else:\n",
    "        return n==0"
   ]
  },
  {
   "cell_type": "code",
   "execution_count": 41,
   "id": "e7f1ca99-766a-44cc-bafb-115e56916796",
   "metadata": {},
   "outputs": [
    {
     "data": {
      "text/plain": [
       "True"
      ]
     },
     "execution_count": 41,
     "metadata": {},
     "output_type": "execute_result"
    }
   ],
   "source": [
    "is_positive_or_negative(0)"
   ]
  },
  {
   "cell_type": "code",
   "execution_count": 42,
   "id": "c885208d-bdbd-44e2-bfb0-92d0c798eceb",
   "metadata": {},
   "outputs": [
    {
     "data": {
      "text/plain": [
       "'negative'"
      ]
     },
     "execution_count": 42,
     "metadata": {},
     "output_type": "execute_result"
    }
   ],
   "source": [
    "is_positive_or_negative(-9)"
   ]
  },
  {
   "cell_type": "code",
   "execution_count": null,
   "id": "3a7399c5-4999-4bff-b3f3-e947cd29cf8e",
   "metadata": {},
   "outputs": [],
   "source": []
  },
  {
   "cell_type": "code",
   "execution_count": 43,
   "id": "51002bf8-d838-47fc-80ae-17ce6cc4351c",
   "metadata": {},
   "outputs": [],
   "source": [
    "#30 Create a function that takes three numbers as arguments and returns True if it's a triangle and False if not.\n",
    "def is_triangle(a, b, c):\n",
    "    return a+b>c or a+c>b or b+c>a\n"
   ]
  },
  {
   "cell_type": "code",
   "execution_count": 44,
   "id": "c91e360a-c5c7-41a9-9113-7a462016f4f4",
   "metadata": {},
   "outputs": [
    {
     "data": {
      "text/plain": [
       "True"
      ]
     },
     "execution_count": 44,
     "metadata": {},
     "output_type": "execute_result"
    }
   ],
   "source": [
    "is_triangle(2, 3, 4)"
   ]
  },
  {
   "cell_type": "code",
   "execution_count": null,
   "id": "66df3753-643d-4c2e-88c3-13d2cac289bf",
   "metadata": {},
   "outputs": [],
   "source": []
  },
  {
   "cell_type": "code",
   "execution_count": 47,
   "id": "212994c6-d19e-485b-ac70-b247386a2252",
   "metadata": {},
   "outputs": [],
   "source": [
    "#31 A \"truthy\" value is a value that translates to True when evaluated in a Boolean context. All values are truthy \n",
    "#unless they're defined as falsy.\n",
    "#All falsy values are as follows:\n",
    "#False, None, 0, [], {},\"\"\n",
    "#Create a function that takes an argument of any data type and returns 1 if it's truthy and 0 if it's falsy.\n",
    "\n",
    "def is_truthy(a):\n",
    "    if a==False or a==None or a==0 or a==[] or a=={} or a==\"\":\n",
    "        print(False)\n",
    "    else:\n",
    "        print(True)"
   ]
  },
  {
   "cell_type": "code",
   "execution_count": 48,
   "id": "87ea8aae-7c3a-4e2c-92b2-0a47bb0caee5",
   "metadata": {},
   "outputs": [
    {
     "name": "stdout",
     "output_type": "stream",
     "text": [
      "False\n",
      "False\n",
      "False\n"
     ]
    }
   ],
   "source": [
    "is_truthy(0)\n",
    "is_truthy(False)\n",
    "is_truthy(\"\")"
   ]
  },
  {
   "cell_type": "code",
   "execution_count": 52,
   "id": "317dc57b-85ad-4e30-9e41-1f26d4817213",
   "metadata": {},
   "outputs": [],
   "source": [
    "#32 Write a function that returns True if both numbers are:\n",
    "#Smaller than 0, OR ...\n",
    "#Greater than 0, OR ...\n",
    "#Exactly 0\n",
    "#Otherwise, return False.\n",
    "def both(n1, n2):\n",
    "    if n1>0 and n2>0:\n",
    "        return True\n",
    "    elif n1<0 and n2<0:\n",
    "        return True\n",
    "    elif n1==0 and n2==0:\n",
    "        return True\n",
    "    else:\n",
    "        return False"
   ]
  },
  {
   "cell_type": "code",
   "execution_count": 53,
   "id": "dd5e8b1a-4640-46ec-8a05-5237401eff8d",
   "metadata": {},
   "outputs": [
    {
     "data": {
      "text/plain": [
       "False"
      ]
     },
     "execution_count": 53,
     "metadata": {},
     "output_type": "execute_result"
    }
   ],
   "source": [
    "both(-5, 2) "
   ]
  },
  {
   "cell_type": "code",
   "execution_count": 54,
   "id": "f886b1bf-046c-49e5-aaf3-2983726f803b",
   "metadata": {},
   "outputs": [
    {
     "data": {
      "text/plain": [
       "True"
      ]
     },
     "execution_count": 54,
     "metadata": {},
     "output_type": "execute_result"
    }
   ],
   "source": [
    "both(-5, -2) "
   ]
  },
  {
   "cell_type": "code",
   "execution_count": 55,
   "id": "ddcffdd4-3d15-4e1e-9c81-dee91043bec3",
   "metadata": {},
   "outputs": [],
   "source": [
    "#33 Create a function that takes a list. This list will contain numbers represented as strings.Your function should\n",
    "#split this list into two new lists. The first list should contain only even numbers. The second only odd. Then, \n",
    "#wrap these two lists in one main list and return it.Return an empty list if there are no even numbers, or odd.\n",
    "def clean_up_list(a):\n",
    "    eve=[];odd=[];lst=[]\n",
    "    for x in a:\n",
    "        y=int(x)\n",
    "        if y%2==0:\n",
    "            eve.append(y)\n",
    "        else:\n",
    "            odd.append(y)\n",
    "    lst.append(eve)\n",
    "    lst.append(odd)\n",
    "    return lst"
   ]
  },
  {
   "cell_type": "code",
   "execution_count": 56,
   "id": "aaab6fb3-5f8c-46fa-b45d-857921f828b6",
   "metadata": {},
   "outputs": [
    {
     "data": {
      "text/plain": [
       "[[], [7]]"
      ]
     },
     "execution_count": 56,
     "metadata": {},
     "output_type": "execute_result"
    }
   ],
   "source": [
    "clean_up_list([\"7\"])"
   ]
  },
  {
   "cell_type": "code",
   "execution_count": 60,
   "id": "99b2495b-8da3-4322-b906-f9f890858455",
   "metadata": {},
   "outputs": [
    {
     "data": {
      "text/plain": [
       "[[8, 2], []]"
      ]
     },
     "execution_count": 60,
     "metadata": {},
     "output_type": "execute_result"
    }
   ],
   "source": [
    "clean_up_list([\"8\",\"2\"])"
   ]
  },
  {
   "cell_type": "code",
   "execution_count": 59,
   "id": "6c13d8a3-979c-40c2-b975-89a7dc950118",
   "metadata": {},
   "outputs": [
    {
     "data": {
      "text/plain": [
       "[[6], [5, 7, 9]]"
      ]
     },
     "execution_count": 59,
     "metadata": {},
     "output_type": "execute_result"
    }
   ],
   "source": [
    "clean_up_list([\"5\",\"6\",\"7\",\"9\"])"
   ]
  },
  {
   "cell_type": "code",
   "execution_count": null,
   "id": "7446c91f-5861-4941-b4d5-41222bf31287",
   "metadata": {},
   "outputs": [],
   "source": []
  },
  {
   "cell_type": "code",
   "execution_count": 62,
   "id": "2fd4b97c-6002-4cdc-8d90-8f51dae8334b",
   "metadata": {},
   "outputs": [],
   "source": [
    "#34 When creating variables, the variable name must always start with a letter and cannot contain spaces, though \n",
    "#numbers and underscores are allowed to be contained in it also.\n",
    "#Create a function which returns True if a given variable name is valid, otherwise return False.\n",
    "def variable_valid(var):\n",
    "    if var[0].isalpha() and var==var.split()[0] and var==var.split()[_] :\n",
    "        return True\n",
    "    else:\n",
    "        return False"
   ]
  },
  {
   "cell_type": "code",
   "execution_count": 63,
   "id": "a1f3c700-1e3e-4445-b870-022954e78381",
   "metadata": {},
   "outputs": [
    {
     "data": {
      "text/plain": [
       "False"
      ]
     },
     "execution_count": 63,
     "metadata": {},
     "output_type": "execute_result"
    }
   ],
   "source": [
    "variable_valid(\"odd nums\")"
   ]
  },
  {
   "cell_type": "code",
   "execution_count": 66,
   "id": "d873d930-c7bb-4581-890a-427c476b0ffe",
   "metadata": {},
   "outputs": [
    {
     "data": {
      "text/plain": [
       "True"
      ]
     },
     "execution_count": 66,
     "metadata": {},
     "output_type": "execute_result"
    }
   ],
   "source": [
    "variable_valid(\"odd_nums\")"
   ]
  },
  {
   "cell_type": "code",
   "execution_count": 65,
   "id": "7e2c6eaa-7b4f-4fa6-b270-28ca47240dc1",
   "metadata": {},
   "outputs": [
    {
     "data": {
      "text/plain": [
       "False"
      ]
     },
     "execution_count": 65,
     "metadata": {},
     "output_type": "execute_result"
    }
   ],
   "source": [
    "variable_valid(\"0dd_nums\")"
   ]
  },
  {
   "cell_type": "code",
   "execution_count": 68,
   "id": "7a38b171-17d2-4c20-9420-298b3815cb47",
   "metadata": {},
   "outputs": [],
   "source": [
    "#35 In a board game, a piece may advance 1-6 tiles forward depending on the number rolled on a six-sided die. \n",
    "#If you advance your piece onto the same tile as another player's piece, both of you earn a bonus.Can you reach \n",
    "#your friend's tile number in the next roll? Create a function that returns if it's possible to earn a bonus when \n",
    "#you roll the die.\n",
    "def possible_bonus(a,b):\n",
    "    if a<b and b-a<=6:\n",
    "        return True\n",
    "    else:\n",
    "        return False"
   ]
  },
  {
   "cell_type": "code",
   "execution_count": 69,
   "id": "c0b3686c-f9ab-4ee8-b2ec-7d4c6d510b3e",
   "metadata": {},
   "outputs": [
    {
     "data": {
      "text/plain": [
       "True"
      ]
     },
     "execution_count": 69,
     "metadata": {},
     "output_type": "execute_result"
    }
   ],
   "source": [
    "possible_bonus(3, 7)"
   ]
  },
  {
   "cell_type": "code",
   "execution_count": 70,
   "id": "6c8b94ca-34ce-403a-88d5-67dc18c98d6a",
   "metadata": {},
   "outputs": [
    {
     "data": {
      "text/plain": [
       "False"
      ]
     },
     "execution_count": 70,
     "metadata": {},
     "output_type": "execute_result"
    }
   ],
   "source": [
    "possible_bonus(1, 9)"
   ]
  },
  {
   "cell_type": "code",
   "execution_count": 71,
   "id": "a5ed396e-924f-4891-9d5b-deb1255dbb69",
   "metadata": {},
   "outputs": [
    {
     "data": {
      "text/plain": [
       "False"
      ]
     },
     "execution_count": 71,
     "metadata": {},
     "output_type": "execute_result"
    }
   ],
   "source": [
    "possible_bonus(5, 3)"
   ]
  },
  {
   "cell_type": "code",
   "execution_count": 74,
   "id": "db96db3b-844d-4e4c-a001-16e6f956e285",
   "metadata": {},
   "outputs": [],
   "source": [
    "#36 Create a function that takes two integers and checks if they are equal.\n",
    "def is_equal(a,b):\n",
    "    return(a==b)"
   ]
  },
  {
   "cell_type": "code",
   "execution_count": 75,
   "id": "7f376df5-300d-4ea5-8243-2e5c81ba9a3c",
   "metadata": {},
   "outputs": [
    {
     "data": {
      "text/plain": [
       "False"
      ]
     },
     "execution_count": 75,
     "metadata": {},
     "output_type": "execute_result"
    }
   ],
   "source": [
    "is_equal(\"a\", 1)"
   ]
  },
  {
   "cell_type": "code",
   "execution_count": 76,
   "id": "ba587e2a-3fb6-4caa-9e8a-ef5d083c3ea9",
   "metadata": {},
   "outputs": [
    {
     "data": {
      "text/plain": [
       "True"
      ]
     },
     "execution_count": 76,
     "metadata": {},
     "output_type": "execute_result"
    }
   ],
   "source": [
    "is_equal(1.0, 1)"
   ]
  },
  {
   "cell_type": "code",
   "execution_count": 77,
   "id": "6bf86edb-25cb-47c7-b2b5-b67271372592",
   "metadata": {},
   "outputs": [],
   "source": [
    "#37 Write a function that takes a string name and a number num (either 0 or 1) and return \"Hello\" + name if num\n",
    "#is 1, otherwise return \"Bye\" + name.\n",
    "\n",
    "def say_hello_bye(name,num):\n",
    "    if num==0:\n",
    "        return (\"Bye \"+name)\n",
    "    elif num==1:\n",
    "        return (\"Hello \"+name)\n",
    "    else:\n",
    "        return(none)"
   ]
  },
  {
   "cell_type": "code",
   "execution_count": 78,
   "id": "ef5c9625-211f-4ba6-b84b-7957afeba48d",
   "metadata": {},
   "outputs": [
    {
     "data": {
      "text/plain": [
       "'Bye raghu'"
      ]
     },
     "execution_count": 78,
     "metadata": {},
     "output_type": "execute_result"
    }
   ],
   "source": [
    "say_hello_bye(\"raghu\",0)"
   ]
  },
  {
   "cell_type": "code",
   "execution_count": 79,
   "id": "1167cac4-0a33-493d-b69f-b30ac3164bc0",
   "metadata": {},
   "outputs": [
    {
     "data": {
      "text/plain": [
       "'Hello raghu'"
      ]
     },
     "execution_count": 79,
     "metadata": {},
     "output_type": "execute_result"
    }
   ],
   "source": [
    "say_hello_bye(\"raghu\",1)"
   ]
  },
  {
   "cell_type": "code",
   "execution_count": 81,
   "id": "3fabccee-a48a-44be-8c96-3fc963414a2d",
   "metadata": {},
   "outputs": [],
   "source": [
    "# 38. Create a function that takes three number arguments — one number as an input and two additional numbers \n",
    "#representing the endpoints of a closed range — and return the number limited to this range.\n",
    "#If the number falls within the range, the number should be returned.\n",
    "#If the number is less than the lower limit of the range, the lower limit should be returned.\n",
    "#If the number is greater than the upper limit of the range, the upper limit should be returned.\n",
    "def limit_number(a,l,u):\n",
    "    if a>l and a<u:\n",
    "        return a\n",
    "    elif a<l:\n",
    "        return l\n",
    "    else:\n",
    "        return u"
   ]
  },
  {
   "cell_type": "code",
   "execution_count": 82,
   "id": "c2c4aa71-3dc8-4d5d-b7a8-44f7efd8d66f",
   "metadata": {},
   "outputs": [
    {
     "data": {
      "text/plain": [
       "4"
      ]
     },
     "execution_count": 82,
     "metadata": {},
     "output_type": "execute_result"
    }
   ],
   "source": [
    "limit_number(4,3,9)"
   ]
  },
  {
   "cell_type": "code",
   "execution_count": 84,
   "id": "365996f9-c822-4410-a544-fba6b7b1183a",
   "metadata": {},
   "outputs": [
    {
     "data": {
      "text/plain": [
       "5"
      ]
     },
     "execution_count": 84,
     "metadata": {},
     "output_type": "execute_result"
    }
   ],
   "source": [
    "limit_number(3,5,8)"
   ]
  },
  {
   "cell_type": "code",
   "execution_count": 85,
   "id": "f1233238-e9b7-4871-a585-eca4602ac5eb",
   "metadata": {},
   "outputs": [
    {
     "data": {
      "text/plain": [
       "8"
      ]
     },
     "execution_count": 85,
     "metadata": {},
     "output_type": "execute_result"
    }
   ],
   "source": [
    "limit_number(10,3,8)"
   ]
  },
  {
   "cell_type": "code",
   "execution_count": 103,
   "id": "151d031c-a0a1-4ac8-9b0b-1c59aa4fa338",
   "metadata": {},
   "outputs": [],
   "source": [
    "#39 Write a function that takes an integer and:\n",
    "#If the number is a multiple of 3, return \"Hello\".\n",
    "#If the number is a multiple of 5, return \"World\".\n",
    "#If the number is a multiple of both 3 and 5, return \"Hello World\".\n",
    "def mult_of_3_5(x):\n",
    "    if x%3==0 and x%5==0:\n",
    "        return \"Hello world\"\n",
    "    elif x%5==0:\n",
    "        return \"world\"\n",
    "    elif x%3==0:\n",
    "        return \"Hello\"\n",
    "    else:\n",
    "        print(None)"
   ]
  },
  {
   "cell_type": "code",
   "execution_count": 99,
   "id": "e7aa0f5c-9506-4e5f-818d-5a2891a6f824",
   "metadata": {},
   "outputs": [
    {
     "name": "stdout",
     "output_type": "stream",
     "text": [
      "None\n"
     ]
    }
   ],
   "source": [
    "mult_of_3_5(2)"
   ]
  },
  {
   "cell_type": "code",
   "execution_count": 101,
   "id": "ee681253-b661-460f-b732-d47c99e2ac5c",
   "metadata": {},
   "outputs": [
    {
     "data": {
      "text/plain": [
       "'world'"
      ]
     },
     "execution_count": 101,
     "metadata": {},
     "output_type": "execute_result"
    }
   ],
   "source": [
    "mult_of_3_5(20)"
   ]
  },
  {
   "cell_type": "code",
   "execution_count": 100,
   "id": "f6618842-9f5e-4b2f-b059-747445b48c4a",
   "metadata": {},
   "outputs": [
    {
     "data": {
      "text/plain": [
       "'Hello'"
      ]
     },
     "execution_count": 100,
     "metadata": {},
     "output_type": "execute_result"
    }
   ],
   "source": [
    "mult_of_3_5(9)"
   ]
  },
  {
   "cell_type": "code",
   "execution_count": 104,
   "id": "17797873-6d20-4bd7-b12f-31a25c464dea",
   "metadata": {},
   "outputs": [
    {
     "data": {
      "text/plain": [
       "'Hello world'"
      ]
     },
     "execution_count": 104,
     "metadata": {},
     "output_type": "execute_result"
    }
   ],
   "source": [
    "mult_of_3_5(15)"
   ]
  },
  {
   "cell_type": "code",
   "execution_count": 109,
   "id": "432891c2-5a93-4c49-a7b3-135540a21a61",
   "metadata": {},
   "outputs": [],
   "source": [
    "#40 Given a string and a style character, return the newly formatted string. Style characters are single letters \n",
    "#that represent the different types of formatting.\n",
    "#For the purposes of this challenge, the style characters are as follows:\n",
    "#\"b\" is for bold\n",
    "#\"i\" is for italics\n",
    "#\"c\" is for inline code\n",
    "#\"s\" is for strikethrough\n",
    "\n",
    "def format_string(text, style):\n",
    "    if style == \"b\":\n",
    "        return f\"**{text}**\"\n",
    "    elif style == \"i\":\n",
    "        return f\"*{text}*\"\n",
    "    elif style == \"c\":\n",
    "        return f\"`{text}`\"\n",
    "    elif style == \"s\":\n",
    "        return f\"~~{text}~~\"\n",
    "    else:\n",
    "        return text"
   ]
  },
  {
   "cell_type": "code",
   "execution_count": 110,
   "id": "7ba5f7d8-2b64-49e1-bad9-34a07dc854aa",
   "metadata": {},
   "outputs": [
    {
     "data": {
      "text/plain": [
       "'**char**'"
      ]
     },
     "execution_count": 110,
     "metadata": {},
     "output_type": "execute_result"
    }
   ],
   "source": [
    "format_string(\"char\",\"b\") #bold"
   ]
  },
  {
   "cell_type": "code",
   "execution_count": 111,
   "id": "025090a5-f586-4b51-99a6-5cf5e0858bd0",
   "metadata": {},
   "outputs": [
    {
     "data": {
      "text/plain": [
       "'`char`'"
      ]
     },
     "execution_count": 111,
     "metadata": {},
     "output_type": "execute_result"
    }
   ],
   "source": [
    "format_string(\"char\",\"c\")"
   ]
  },
  {
   "cell_type": "code",
   "execution_count": null,
   "id": "778a8c09-29be-4965-8ff6-1846b6a8b8f3",
   "metadata": {},
   "outputs": [],
   "source": []
  },
  {
   "cell_type": "code",
   "execution_count": 112,
   "id": "1f61008d-fae1-4c3a-918a-5c2bb9c4661b",
   "metadata": {},
   "outputs": [],
   "source": [
    "#41 Darts is a target game played by throwing feathered darts at a circular board with numbered spaces. \n",
    "#Our darts game is the simplest of all games. The score of a single turn is calculated based on the distance \n",
    "#from the middle. You need to create a function that takes the dart location as two cartesian coordinates (x, y)\n",
    "#and returns a score based on the distance from the middle, aka Bullseye (x=0, y=0).\n",
    "#Bullseye and inner circle scores = 10 points\n",
    "#Middle ring scores = 5 points\n",
    "#Outer ring scores = 1 point\n",
    "#Outside the target = 0 points\n",
    "#We play it simple so a dart in the double or treble ring counts as usual and does not affect the segment score.\n",
    "#Board and circle radius is as follows:\n",
    "#Board radius and outer circle radius = 10 units\n",
    "#Middle circle radius = 5 units\n",
    "#Inner circle radius = 1 unit\n",
    "\n",
    "def darts(x,y):\n",
    "    distance = ((x**2)+(y**2))**0.5 # using r =sq.rt(x**2+y**2) we will identify the distance at which dart fell on board\n",
    "    if distance > 10:\n",
    "        return 0\n",
    "    elif distance > 5:\n",
    "        return 1\n",
    "    elif distance > 1:\n",
    "        return 5\n",
    "    else:\n",
    "        return 10"
   ]
  },
  {
   "cell_type": "code",
   "execution_count": 113,
   "id": "3a654915-51ee-4f18-bad9-53f5b58d9af5",
   "metadata": {},
   "outputs": [
    {
     "data": {
      "text/plain": [
       "10"
      ]
     },
     "execution_count": 113,
     "metadata": {},
     "output_type": "execute_result"
    }
   ],
   "source": [
    "darts(0,0)"
   ]
  },
  {
   "cell_type": "code",
   "execution_count": 114,
   "id": "9a1342ef-36e9-423b-842c-aa8ad8709a44",
   "metadata": {},
   "outputs": [
    {
     "data": {
      "text/plain": [
       "5"
      ]
     },
     "execution_count": 114,
     "metadata": {},
     "output_type": "execute_result"
    }
   ],
   "source": [
    "darts(3,2)"
   ]
  },
  {
   "cell_type": "code",
   "execution_count": null,
   "id": "e395937a-14d2-4783-a0fa-79ae538abc06",
   "metadata": {},
   "outputs": [],
   "source": []
  },
  {
   "cell_type": "code",
   "execution_count": 115,
   "id": "f2b47c28-f426-4514-ae5a-e08cb76c959d",
   "metadata": {},
   "outputs": [],
   "source": [
    "#42 Write a function that returns True if a year is a leap, otherwise return False.A year is a \"leap year\" if it \n",
    "#lasts 366 days, instead of 365 in a typical year. That extra day is added to the end of the shortest month, \n",
    "#creating February 29.A leap year occurs every four years, and will take place if the year is a multiple of four.\n",
    "#The exception to this is a year at the beginning of a century (for example, 1900 or 2000), where the year must\n",
    "#be divisible by 400 to be a leap year.Look at the examples, and if you need help, look at the resources panel.\n",
    "def leap_year_or_not(x):\n",
    "    if x%400 == 0 and x%100 == 0:\n",
    "        print(True)\n",
    "        \n",
    "    elif x%4==0 and x%100!=0:\n",
    "        print(True)\n",
    "    \n",
    "    else:\n",
    "        print(False)"
   ]
  },
  {
   "cell_type": "code",
   "execution_count": 116,
   "id": "d6f1c9a0-746d-4430-98a0-c0fe484817c2",
   "metadata": {},
   "outputs": [
    {
     "name": "stdout",
     "output_type": "stream",
     "text": [
      "False\n",
      "True\n",
      "True\n",
      "False\n"
     ]
    }
   ],
   "source": [
    "leap_year_or_not(1900)\n",
    "leap_year_or_not(1924)\n",
    "leap_year_or_not(2000)\n",
    "leap_year_or_not(2100)"
   ]
  },
  {
   "cell_type": "code",
   "execution_count": 117,
   "id": "d87a8fa7-c66e-45b0-84d2-e49ea54c589a",
   "metadata": {},
   "outputs": [],
   "source": [
    "#43 Given a pH value, return whether that value is \"alkaline\" (greater than 7), \"acidic\" (less than 7), or\n",
    "#\"neutral\" (7). Return \"invalid\" if the value given is less than 0 or greater than 14.\n",
    "def pH_Value (x):\n",
    "    if x<0 or x>14:\n",
    "        print(\"invalid\")\n",
    "    elif x<7:\n",
    "        print(\"acidic\")\n",
    "    elif x>7:\n",
    "        print(\"alkaline\")\n",
    "    else:\n",
    "        print(\"neutral\")"
   ]
  },
  {
   "cell_type": "code",
   "execution_count": 118,
   "id": "14c89374-df12-4958-82c7-077fe5a11498",
   "metadata": {},
   "outputs": [
    {
     "name": "stdout",
     "output_type": "stream",
     "text": [
      "acidic\n",
      "neutral\n",
      "alkaline\n",
      "invalid\n",
      "invalid\n"
     ]
    }
   ],
   "source": [
    "pH_Value (6.8)\n",
    "pH_Value (7.0)\n",
    "pH_Value (7.1)\n",
    "pH_Value (-1)\n",
    "pH_Value (14.1)"
   ]
  },
  {
   "cell_type": "code",
   "execution_count": null,
   "id": "93d327fb-eb5c-485e-abbf-091b55197bea",
   "metadata": {},
   "outputs": [],
   "source": []
  },
  {
   "cell_type": "code",
   "execution_count": 126,
   "id": "131eebea-4421-4014-b9bc-154404c680f1",
   "metadata": {},
   "outputs": [],
   "source": [
    "#44 Create a function that takes an array of hurdle heights and a jumper's jump height, and determine \n",
    "# whether or not the hurdler can clear all the hurdles.A hurdler can clear a hurdle if their \n",
    "# jump height is greater than or equal to the hurdle height.\n",
    "#Examples\n",
    "#hurdle_jump([1, 2, 3, 4, 5], 5) ➞ True \n",
    "#hurdle_jump([5, 5, 3, 4, 5], 3) ➞ False \n",
    "#hurdle_jump([5, 4, 5, 6], 10) ➞ True \n",
    "#hurdle_jump([1, 2, 1], 1) ➞ False\n",
    "\n",
    "def hurdle_jump(hurdle_heights, jump_height):\n",
    "    for height in hurdle_heights:\n",
    "        if height > jump_height:\n",
    "            return False\n",
    "    else:\n",
    "        return True"
   ]
  },
  {
   "cell_type": "code",
   "execution_count": 128,
   "id": "98bac04a-d7f9-4fe4-bd62-a94260535a00",
   "metadata": {},
   "outputs": [
    {
     "data": {
      "text/plain": [
       "True"
      ]
     },
     "execution_count": 128,
     "metadata": {},
     "output_type": "execute_result"
    }
   ],
   "source": [
    "hurdle_jump([1, 2, 3, 4, 5], 5)"
   ]
  },
  {
   "cell_type": "code",
   "execution_count": 129,
   "id": "85a3c191-3175-49fe-9e84-7043c8724f8b",
   "metadata": {},
   "outputs": [
    {
     "data": {
      "text/plain": [
       "False"
      ]
     },
     "execution_count": 129,
     "metadata": {},
     "output_type": "execute_result"
    }
   ],
   "source": [
    "hurdle_jump([5, 5, 3, 4, 5], 3) "
   ]
  },
  {
   "cell_type": "code",
   "execution_count": 130,
   "id": "7bd8d324-b359-401e-bfc3-ad893853b361",
   "metadata": {},
   "outputs": [
    {
     "data": {
      "text/plain": [
       "True"
      ]
     },
     "execution_count": 130,
     "metadata": {},
     "output_type": "execute_result"
    }
   ],
   "source": [
    "hurdle_jump([5, 4, 5, 6], 10) "
   ]
  },
  {
   "cell_type": "code",
   "execution_count": 131,
   "id": "b7540891-eb14-4ffc-a246-ed06d8fef618",
   "metadata": {},
   "outputs": [
    {
     "data": {
      "text/plain": [
       "False"
      ]
     },
     "execution_count": 131,
     "metadata": {},
     "output_type": "execute_result"
    }
   ],
   "source": [
    "hurdle_jump([1, 2, 1], 1)"
   ]
  },
  {
   "cell_type": "code",
   "execution_count": 133,
   "id": "7e648e60-0369-4b0a-8a90-e49ae8df3825",
   "metadata": {},
   "outputs": [],
   "source": [
    "#45 Create a function which returns the type of triangle, given the side lengths. Return the following values if \n",
    "#they match the criteria.\n",
    "#No sides equal: \"scalene\"\n",
    "#Two sides equal: \"isosceles\"\n",
    "#All sides equal: \"equilateral\"\n",
    "#Less or more than 3 sides given: \"not a triangle\"\n",
    "\n",
    "def get_triangle_type(l):\n",
    "    if len(l)==3:\n",
    "        if l[0]==l[1] and l[1]==l[2]:\n",
    "            return \"equilateral\"\n",
    "        elif l[0]==l[1] or l[1]==l[2] or l[2]==l[0]:\n",
    "            return \"isosceles\"\n",
    "        else:\n",
    "            return \"scalene\"\n",
    "    else:\n",
    "        return \"not a triangle\""
   ]
  },
  {
   "cell_type": "code",
   "execution_count": 134,
   "id": "d7150f7d-be62-4b72-9b2d-14fe2fd2eb8a",
   "metadata": {},
   "outputs": [
    {
     "data": {
      "text/plain": [
       "'scalene'"
      ]
     },
     "execution_count": 134,
     "metadata": {},
     "output_type": "execute_result"
    }
   ],
   "source": [
    "get_triangle_type([2, 6, 5])"
   ]
  },
  {
   "cell_type": "code",
   "execution_count": 135,
   "id": "a2deed02-e9e8-4507-9c66-a46880be21e1",
   "metadata": {},
   "outputs": [
    {
     "data": {
      "text/plain": [
       "'isosceles'"
      ]
     },
     "execution_count": 135,
     "metadata": {},
     "output_type": "execute_result"
    }
   ],
   "source": [
    "get_triangle_type([4, 4, 7])"
   ]
  },
  {
   "cell_type": "code",
   "execution_count": 136,
   "id": "a2e0d735-543d-4048-9a78-f11ab8bd27e3",
   "metadata": {},
   "outputs": [
    {
     "data": {
      "text/plain": [
       "'equilateral'"
      ]
     },
     "execution_count": 136,
     "metadata": {},
     "output_type": "execute_result"
    }
   ],
   "source": [
    "get_triangle_type([8, 8, 8])"
   ]
  },
  {
   "cell_type": "code",
   "execution_count": 137,
   "id": "e434841f-a24b-4cf9-b1fa-0af7a17d6c94",
   "metadata": {},
   "outputs": [
    {
     "data": {
      "text/plain": [
       "'not a triangle'"
      ]
     },
     "execution_count": 137,
     "metadata": {},
     "output_type": "execute_result"
    }
   ],
   "source": [
    "get_triangle_type([3, 5, 5, 2])"
   ]
  },
  {
   "cell_type": "code",
   "execution_count": null,
   "id": "14818ea4-56f2-43d2-bece-d5af6b956ea2",
   "metadata": {},
   "outputs": [],
   "source": [
    "#46 Write a function that returns True if two rooks can attack each other, and False otherwise.\n"
   ]
  },
  {
   "cell_type": "code",
   "execution_count": null,
   "id": "762099a5-4c8b-4835-8e1e-4e3cb89ee56a",
   "metadata": {},
   "outputs": [],
   "source": [
    "#47 Given an integer n. Your task is to find how many digits this integer contains without using str or len methods\n"
   ]
  },
  {
   "cell_type": "code",
   "execution_count": null,
   "id": "53b7e266-2c82-4bd5-b40f-af718d05cb3c",
   "metadata": {},
   "outputs": [],
   "source": [
    "#48 Create a function that takes in a two-dimensional list and returns the number of sub-lists with only \n",
    "#identical elements.\n"
   ]
  },
  {
   "cell_type": "code",
   "execution_count": 138,
   "id": "96f6c6af-6819-4a81-ab4a-03e0333a8223",
   "metadata": {},
   "outputs": [],
   "source": [
    "#49 Create a function that takes a number (from 1 to 12) and returns its corresponding month name as a string. \n",
    "#For example, if you're given 3 as input, your function should return \"March\", because March is the 3rd month.\n",
    "def month_name(num):\n",
    "    year={1:\"January\",2:\"February\",3:\"March\",4:\"April\",5:\"May\",6:\"June\",7:\"July\",8:\"August\",9:\"September\",\\\n",
    "          10:\"October\",11:\"November\",12:\"December\"}\n",
    "    for x in year.keys():\n",
    "        if x==num:\n",
    "            month=year[x]\n",
    "        else:\n",
    "            continue\n",
    "    return month"
   ]
  },
  {
   "cell_type": "code",
   "execution_count": 139,
   "id": "2a79bf67-0011-41b4-bfe2-8cca2609f288",
   "metadata": {},
   "outputs": [
    {
     "data": {
      "text/plain": [
       "'June'"
      ]
     },
     "execution_count": 139,
     "metadata": {},
     "output_type": "execute_result"
    }
   ],
   "source": [
    "month_name(6)"
   ]
  },
  {
   "cell_type": "code",
   "execution_count": null,
   "id": "350a9971-d067-4b00-a1dd-a59722083081",
   "metadata": {},
   "outputs": [],
   "source": []
  },
  {
   "cell_type": "code",
   "execution_count": null,
   "id": "ab135593-d8d6-4598-8771-81cb657d7485",
   "metadata": {},
   "outputs": [],
   "source": [
    "#50 Create a function that takes an initial word and extracts any words that start with the same letters as\n",
    "#the initial word.\n"
   ]
  },
  {
   "cell_type": "code",
   "execution_count": null,
   "id": "0d867e8b-07cd-438d-ad5d-c780cfe326f1",
   "metadata": {},
   "outputs": [],
   "source": [
    "#51 Create a function that takes a list of strings and returns the words that are exactly four letters.\n"
   ]
  },
  {
   "cell_type": "code",
   "execution_count": null,
   "id": "e889df4d-30dd-4481-8df3-3d7ab4497873",
   "metadata": {},
   "outputs": [],
   "source": [
    "#52 Create a function that takes a year as an argument and returns the corresponding Chinese zodiac.\n"
   ]
  },
  {
   "cell_type": "code",
   "execution_count": null,
   "id": "cb4eadd3-2337-409e-82b6-f1b631bf9460",
   "metadata": {},
   "outputs": [],
   "source": [
    "#53 Create a function that determines if the temp of the water is considered boiling or not. temp will be measured\n",
    "#in Fahrenheit and Celsius.\n"
   ]
  },
  {
   "cell_type": "code",
   "execution_count": null,
   "id": "942b52f7-f4c8-411b-a0d7-c3c9718ddd07",
   "metadata": {},
   "outputs": [],
   "source": [
    "#54 Create a function that takes two arguments of a list of numbers lst and a constant number n and returns the\n",
    "#n largest numbers from the given list.\n"
   ]
  },
  {
   "cell_type": "code",
   "execution_count": null,
   "id": "eb2ba23c-72b6-4d6b-9a61-d7748934e90c",
   "metadata": {},
   "outputs": [],
   "source": [
    "#55 Create a function that takes a range object r,index i,and returns a list where the first element is the number\n",
    "#of elements in the range object, and the second element is the element of the range object at the given index.\n"
   ]
  },
  {
   "cell_type": "code",
   "execution_count": null,
   "id": "ce0c1fc3-8313-4b74-8f92-0f65a2013674",
   "metadata": {},
   "outputs": [],
   "source": [
    "#56 Two sisters are eating chocolate, whose pieces are represented as subarrays of [l x w].\n",
    "#Write a function that returns True if the total area of chocolate is the same for each sister.\n"
   ]
  },
  {
   "cell_type": "code",
   "execution_count": null,
   "id": "683655d2-0309-4e20-b38d-0f8f6e8601fc",
   "metadata": {},
   "outputs": [],
   "source": [
    "#57 Failed or passed an exam. First parameter is the user's score. Second parameter is the required score.\n"
   ]
  },
  {
   "cell_type": "code",
   "execution_count": null,
   "id": "32c2590f-eb31-4c0a-bb41-8117f33df590",
   "metadata": {},
   "outputs": [],
   "source": []
  },
  {
   "cell_type": "code",
   "execution_count": null,
   "id": "efa5dcee-3b1f-46b0-8d2a-516acb78a7e3",
   "metadata": {},
   "outputs": [],
   "source": []
  },
  {
   "cell_type": "code",
   "execution_count": null,
   "id": "ca3fe4a0-be16-4a20-b06b-5a82db0b4869",
   "metadata": {},
   "outputs": [],
   "source": []
  },
  {
   "cell_type": "code",
   "execution_count": null,
   "id": "803969c5-ea4d-45d8-ace3-641196b543bd",
   "metadata": {},
   "outputs": [],
   "source": []
  },
  {
   "cell_type": "code",
   "execution_count": null,
   "id": "e75477f8-628b-497b-98fe-022936014a3d",
   "metadata": {},
   "outputs": [],
   "source": []
  },
  {
   "cell_type": "code",
   "execution_count": null,
   "id": "d2149432-0518-4d8f-9d80-aaf4bbcd7945",
   "metadata": {},
   "outputs": [],
   "source": []
  },
  {
   "cell_type": "code",
   "execution_count": null,
   "id": "ef2cee7a-cf3d-4935-9843-f944ed990e25",
   "metadata": {},
   "outputs": [],
   "source": []
  },
  {
   "cell_type": "code",
   "execution_count": null,
   "id": "ad3517f2-2469-4117-a3fc-2fde14a240c7",
   "metadata": {},
   "outputs": [],
   "source": []
  },
  {
   "cell_type": "code",
   "execution_count": null,
   "id": "ad1c5d81-4ed9-43d5-90bd-8cbf43c7e3e4",
   "metadata": {},
   "outputs": [],
   "source": []
  },
  {
   "cell_type": "code",
   "execution_count": null,
   "id": "0b11d1ee-0bfc-4ed8-8e59-6f44ad7d5903",
   "metadata": {},
   "outputs": [],
   "source": []
  },
  {
   "cell_type": "code",
   "execution_count": null,
   "id": "f829e92f-3152-45c7-bf4a-94f15ba83b6d",
   "metadata": {},
   "outputs": [],
   "source": []
  },
  {
   "cell_type": "code",
   "execution_count": null,
   "id": "e93e3b35-3b26-4801-b09d-5150fe1e4e7a",
   "metadata": {},
   "outputs": [],
   "source": []
  },
  {
   "cell_type": "code",
   "execution_count": null,
   "id": "666d21dd-c05e-487c-af5f-f3967ee8308a",
   "metadata": {},
   "outputs": [],
   "source": []
  },
  {
   "cell_type": "code",
   "execution_count": null,
   "id": "1d90c22a-5358-47a6-ba13-02be7d823371",
   "metadata": {},
   "outputs": [],
   "source": []
  },
  {
   "cell_type": "code",
   "execution_count": null,
   "id": "e304a046-c376-4c04-8b0b-6fd0f218800e",
   "metadata": {},
   "outputs": [],
   "source": []
  },
  {
   "cell_type": "code",
   "execution_count": null,
   "id": "9a28f527-0b67-4cd8-bbbc-7579d2340b3e",
   "metadata": {},
   "outputs": [],
   "source": []
  },
  {
   "cell_type": "code",
   "execution_count": null,
   "id": "caec39ff-c682-402f-a16e-69425cd0a139",
   "metadata": {},
   "outputs": [],
   "source": []
  },
  {
   "cell_type": "code",
   "execution_count": null,
   "id": "14a3aa7a-29b3-4278-9a2a-239a7f4307f8",
   "metadata": {},
   "outputs": [],
   "source": []
  },
  {
   "cell_type": "code",
   "execution_count": null,
   "id": "70b4772c-e2f7-458f-be3c-ed59b152f287",
   "metadata": {},
   "outputs": [],
   "source": []
  },
  {
   "cell_type": "code",
   "execution_count": null,
   "id": "b67cf904-fe1a-436c-9508-1b24151e69cf",
   "metadata": {},
   "outputs": [],
   "source": []
  },
  {
   "cell_type": "code",
   "execution_count": null,
   "id": "6b331f6a-bde3-4e76-8e21-a443d446be8b",
   "metadata": {},
   "outputs": [],
   "source": []
  }
 ],
 "metadata": {
  "kernelspec": {
   "display_name": "Python 3 (ipykernel)",
   "language": "python",
   "name": "python3"
  },
  "language_info": {
   "codemirror_mode": {
    "name": "ipython",
    "version": 3
   },
   "file_extension": ".py",
   "mimetype": "text/x-python",
   "name": "python",
   "nbconvert_exporter": "python",
   "pygments_lexer": "ipython3",
   "version": "3.9.7"
  }
 },
 "nbformat": 4,
 "nbformat_minor": 5
}

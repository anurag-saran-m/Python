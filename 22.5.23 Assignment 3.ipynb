{
 "cells": [
  {
   "cell_type": "code",
   "execution_count": 17,
   "id": "cf217498-59aa-454e-b143-eadd894001b1",
   "metadata": {},
   "outputs": [
    {
     "name": "stdout",
     "output_type": "stream",
     "text": [
      "0\n",
      "1\n",
      "2\n",
      "4\n",
      "5\n"
     ]
    }
   ],
   "source": [
    "#1. Write a Python program that prints all the numbers from 0 to 6 except 3 and 6\n",
    "for y in range(7):\n",
    "    if y != 3 and y != 6:\n",
    "        print(y)"
   ]
  },
  {
   "cell_type": "code",
   "execution_count": 19,
   "id": "96ae852c-e7e8-4f65-a1e9-3ad04fe272a6",
   "metadata": {},
   "outputs": [
    {
     "name": "stdin",
     "output_type": "stream",
     "text": [
      "Enter a number:  5\n"
     ]
    },
    {
     "name": "stdout",
     "output_type": "stream",
     "text": [
      "Sum of numbers from 1 to 5 is: 15\n"
     ]
    }
   ],
   "source": [
    "#2. Write a program to accept a number from a user and calculate the sum of all numbers from 1 to a given number\n",
    "num = int(input(\"Enter a number: \"))\n",
    "sum_of_numbers = 0\n",
    "for i in range(1, num + 1):\n",
    "    sum_of_numbers += i\n",
    "print(\"Sum of numbers from 1 to\", num, \"is:\", sum_of_numbers)"
   ]
  },
  {
   "cell_type": "code",
   "execution_count": 20,
   "id": "f011a7c7-4bda-4f76-b737-327531984e91",
   "metadata": {},
   "outputs": [
    {
     "name": "stdin",
     "output_type": "stream",
     "text": [
      "which table do you want 2\n"
     ]
    },
    {
     "name": "stdout",
     "output_type": "stream",
     "text": [
      "2*1=2\n",
      "2*2=4\n",
      "2*3=6\n",
      "2*4=8\n",
      "2*5=10\n",
      "2*6=12\n",
      "2*7=14\n",
      "2*8=16\n",
      "2*9=18\n",
      "2*10=20\n"
     ]
    }
   ],
   "source": [
    "#3. Write a program to print multiplication table of a given number(input)\n",
    "table=int(input(\"which table do you want\"))\n",
    "for x in range(1,11):\n",
    "    print(\"{}*{}={}\".format(table,x,table*x))"
   ]
  },
  {
   "cell_type": "code",
   "execution_count": 21,
   "id": "e6d58ce3-266f-4ba9-a6b4-a1c58340e7e2",
   "metadata": {},
   "outputs": [
    {
     "name": "stdin",
     "output_type": "stream",
     "text": [
      "Enter a digit:  12345\n"
     ]
    },
    {
     "name": "stdout",
     "output_type": "stream",
     "text": [
      "Total number of digits: 5\n"
     ]
    }
   ],
   "source": [
    "#4. Write a program to count the total number of digits in a number using a while loop.\n",
    "#For example, the number is 75869, so the output should be 5.\n",
    "x=input(\"Enter a digit: \")\n",
    "y=0\n",
    "while y<len(x):\n",
    "    y+=1\n",
    "print(\"Total number of digits: \"+str(y))"
   ]
  },
  {
   "cell_type": "code",
   "execution_count": null,
   "id": "4e06bc03-2ccd-4857-b627-b8c008952542",
   "metadata": {},
   "outputs": [],
   "source": [
    "#5.Write a Python program to guess a number between 1 to 10\n",
    "\"\"\"Example: User is prompted to enter a guess. \n",
    "If the user guesses wrong then the prompt appears again until the guess is correct, on successful guess, \n",
    "user will get a \"Well guessed!\" message, and the program will exit.\"\"\"\n"
   ]
  },
  {
   "cell_type": "code",
   "execution_count": 4,
   "id": "638e6f42-ed76-43cd-bc82-ce2b81a41aa1",
   "metadata": {},
   "outputs": [
    {
     "name": "stdout",
     "output_type": "stream",
     "text": [
      "Fizz\n",
      "1\n",
      "2\n",
      "Fizz\n",
      "4\n",
      "Buzz\n",
      "Fizz\n",
      "7\n",
      "8\n",
      "Fizz\n",
      "Buzz\n",
      "11\n",
      "Fizz\n",
      "13\n",
      "14\n",
      "Fizz\n",
      "16\n",
      "17\n",
      "Fizz\n",
      "19\n",
      "Buzz\n",
      "Fizz\n",
      "22\n",
      "23\n",
      "Fizz\n",
      "Buzz\n",
      "26\n",
      "Fizz\n",
      "28\n",
      "29\n",
      "Fizz\n",
      "31\n",
      "32\n",
      "Fizz\n",
      "34\n",
      "Buzz\n",
      "Fizz\n",
      "37\n",
      "38\n",
      "Fizz\n",
      "Buzz\n",
      "41\n",
      "Fizz\n",
      "43\n",
      "44\n",
      "Fizz\n",
      "46\n",
      "47\n",
      "Fizz\n",
      "49\n",
      "Buzz\n",
      "Fizz\n",
      "52\n",
      "53\n",
      "Fizz\n",
      "Buzz\n",
      "56\n",
      "Fizz\n",
      "58\n",
      "59\n",
      "Fizz\n"
     ]
    }
   ],
   "source": [
    "#6.Write a Python program which iterates the integers from 1 to 60. \n",
    "#For multiples of three print \"Fizz\" instead of the number and for the multiples of five print \"Buzz\". \n",
    "#For numbers which are multiples of both three and five print \"FizzBuzz\".\n",
    "\n",
    "for y in range(61):\n",
    "    if y%3==0:\n",
    "        print(\"Fizz\")\n",
    "    elif y%5==0:\n",
    "        print(\"Buzz\")\n",
    "    else: print(y)\n"
   ]
  },
  {
   "cell_type": "code",
   "execution_count": 28,
   "id": "60a6c95d-0798-440b-9ee6-c52f1ceb8509",
   "metadata": {},
   "outputs": [
    {
     "name": "stdin",
     "output_type": "stream",
     "text": [
      "type any string:  abc123\n"
     ]
    },
    {
     "name": "stdout",
     "output_type": "stream",
     "text": [
      "3\n",
      "3\n"
     ]
    }
   ],
   "source": [
    "#7.Write a Python program that accepts a string and calculate the number of digits and letters\n",
    "#the number of digits and letters Example: Input Python 3.2 Output Letters 6 Digits 2\n",
    "x= input(\"type any string: \")\n",
    "len(x)\n",
    "a=0\n",
    "b=0\n",
    "for y in range(len(x)):\n",
    "    z=x[y]\n",
    "    if z.isalpha():\n",
    "        a=a+1\n",
    "    elif z.isdigit():\n",
    "        b=b+1\n",
    "print(a)\n",
    "print(b)\n"
   ]
  },
  {
   "cell_type": "code",
   "execution_count": null,
   "id": "a9b67e31-3a03-4dae-bfb5-6a38e6254a92",
   "metadata": {},
   "outputs": [],
   "source": []
  },
  {
   "cell_type": "code",
   "execution_count": null,
   "id": "89168d35-25c3-4d81-95f3-5abe0b356ac4",
   "metadata": {},
   "outputs": [],
   "source": [
    "#8.Write a Python program to check the validity of password input by users.\n",
    "#Validation: At least 1 letter between [a-z] and 1 letter between [A-Z].\n",
    "#At least 1 number between [0-9]. \n",
    "#At least 1 character from [$#@]. \n",
    "#Minimum length 6 characters. \n",
    "#Maximum length 16 characters.\n",
    "\n"
   ]
  },
  {
   "cell_type": "code",
   "execution_count": 19,
   "id": "8d48048e-dc54-424d-bf4d-f3f8fe302c10",
   "metadata": {},
   "outputs": [
    {
     "name": "stdin",
     "output_type": "stream",
     "text": [
      "type any word:  abcdef\n"
     ]
    },
    {
     "name": "stdout",
     "output_type": "stream",
     "text": [
      "fedcba\n"
     ]
    }
   ],
   "source": [
    "#9.Write a program in Python to reverse a word by using while loop\n",
    "x=input(\"type any word: \")\n",
    "i=len(x)-1\n",
    "z=\"\"\n",
    "while i>=0:\n",
    "    z=z+x[i]\n",
    "    i=i-1\n",
    "print(z)            "
   ]
  },
  {
   "cell_type": "code",
   "execution_count": 9,
   "id": "e744ed92-a69d-457b-9fcd-c161ad76ee20",
   "metadata": {},
   "outputs": [
    {
     "name": "stdin",
     "output_type": "stream",
     "text": [
      "type any number: 1\n",
      "type any number: 2\n",
      "type any number: 3\n",
      "type any number: 4\n",
      "type any number: 5\n",
      "type any number: 6\n",
      "type any number: 7\n",
      "type any number: 8\n",
      "type any number: 9\n",
      "type any number: 10\n"
     ]
    },
    {
     "name": "stdout",
     "output_type": "stream",
     "text": [
      "avg of given 10 int:5.5\n"
     ]
    }
   ],
   "source": [
    "#10.Write a program which takes 10 integers as input using loop and print their average value on the screen\n",
    "z=0\n",
    "\n",
    "for y in range(10):\n",
    "    x=int(input(\"type any number:\"))\n",
    "    z=z+x\n",
    "print(\"avg of given 10 int:\"+ str(z/10))"
   ]
  },
  {
   "cell_type": "code",
   "execution_count": null,
   "id": "cf66a39d-5ec9-434d-9384-8e9486ff6256",
   "metadata": {},
   "outputs": [],
   "source": []
  },
  {
   "cell_type": "code",
   "execution_count": 10,
   "id": "51372a97-d9a6-4b83-a5d0-8b809a92f397",
   "metadata": {},
   "outputs": [
    {
     "name": "stdin",
     "output_type": "stream",
     "text": [
      "Enter an integer (or 'q' to quit):  1\n",
      "Enter an integer (or 'q' to quit):  2\n",
      "Enter an integer (or 'q' to quit):  3\n",
      "Enter an integer (or 'q' to quit):  4\n",
      "Enter an integer (or 'q' to quit):  5\n",
      "Enter an integer (or 'q' to quit):  q\n"
     ]
    },
    {
     "name": "stdout",
     "output_type": "stream",
     "text": [
      "Average: 3.0\n",
      "Product: 120\n"
     ]
    }
   ],
   "source": [
    "#11.Write a program which takes integer inputs from user until he/she presses “q” \n",
    "#(Ask to press q to quit after every integer input). \n",
    "#Print average and product of all numbers.\n",
    "num_sum = 0\n",
    "product = 1\n",
    "count = 0\n",
    "\n",
    "while True:\n",
    "    user_input = input(\"Enter an integer (or 'q' to quit): \")\n",
    "\n",
    "    if user_input.lower() == \"q\":\n",
    "        break\n",
    "\n",
    "    if user_input.isdigit():\n",
    "        num = int(user_input)\n",
    "        num_sum += num\n",
    "        product *= num\n",
    "        count += 1\n",
    "    else:\n",
    "        print(\"Invalid input. Please enter an integer or 'q' to quit.\")\n",
    "\n",
    "if count > 0:\n",
    "    average = num_sum / count\n",
    "    print(\"Average:\", average)\n",
    "    print(\"Product:\", product)\n",
    "else:\n",
    "    print(\"No numbers were entered.\")\n"
   ]
  },
  {
   "cell_type": "code",
   "execution_count": 14,
   "id": "580bc3ab-3856-45c7-af67-567d1f9daff3",
   "metadata": {},
   "outputs": [
    {
     "name": "stdin",
     "output_type": "stream",
     "text": [
      "type any string:  asd12.asd22\n"
     ]
    },
    {
     "name": "stdout",
     "output_type": "stream",
     "text": [
      "asdasd\n"
     ]
    }
   ],
   "source": [
    "#12.Write a Python program which will remove all digits or any other characters from the string except alphabets\n",
    "#Example:Input:“asd12.asd22”. Output:'asdasd'\n",
    "x= input(\"type any string: \")\n",
    "len(x)\n",
    "a=\"\"\n",
    "for y in range(len(x)):\n",
    "    z=x[y]\n",
    "    if z.isalpha():\n",
    "        a=a+z\n",
    "print(a)"
   ]
  },
  {
   "cell_type": "code",
   "execution_count": 15,
   "id": "d910080b-3026-46e7-9016-fb2deb2421bc",
   "metadata": {},
   "outputs": [
    {
     "name": "stdout",
     "output_type": "stream",
     "text": [
      "Sum is: 30\n"
     ]
    }
   ],
   "source": [
    "#13.Write a python program to find the sum of all even numbers from 0 to 10\n",
    "b=0\n",
    "for y in range(0,11):\n",
    "    if y%2==0:\n",
    "        b+=y\n",
    "    else:\n",
    "        continue\n",
    "print(\"Sum is: \"+str(b))"
   ]
  },
  {
   "cell_type": "code",
   "execution_count": 11,
   "id": "68672655-46f8-4912-9d75-e102e6f32426",
   "metadata": {},
   "outputs": [
    {
     "name": "stdin",
     "output_type": "stream",
     "text": [
      "type a number 5\n"
     ]
    },
    {
     "name": "stdout",
     "output_type": "stream",
     "text": [
      "5\n",
      "4\n",
      "3\n",
      "2\n",
      "1\n",
      "0\n"
     ]
    }
   ],
   "source": [
    "#14.Write a python program which will accept a digit and print All the numbers before it till 0\n",
    "\n",
    "A=int(input(\"type a number\"))\n",
    "for y in range (A,-1,-1):\n",
    "    print(y)\n"
   ]
  },
  {
   "cell_type": "code",
   "execution_count": null,
   "id": "0e9812a6-6d12-4420-92a7-faae0d80fe3c",
   "metadata": {},
   "outputs": [],
   "source": [
    "#15.Create a dynamic calculator which will run continually till you press “c”\n",
    "x=input(\"type 0 to start\")\n",
    "\n",
    "while x==\"0\":\n",
    "    num1=int(input(\"type a number\"))\n",
    "    operator=input(\"type a symbol +,-,*,/\")\n",
    "    num2=int(input(\"type a number\"))\n",
    "    \n",
    "    if operator==\"+\":\n",
    "        print(num1+num2)\n",
    "        y=input(\" press y/n to continue:\")\n",
    "    elif operator==\"-\":\n",
    "        print(num1-num2)\n",
    "        y=input(\" press y/n to continue:\")\n",
    "    \n",
    "    elif operator==\"*\":\n",
    "        print(num1*num2)\n",
    "        y=input(\" press y/n to continue:\")\n",
    "    \n",
    "    elif operator==\"/\":\n",
    "        print(num1/num2)\n",
    "        y=input(\" press y/n to continue:\")\n",
    "\n",
    "        \n",
    "    if y==\"c\":\n",
    "        break\n",
    "    \n",
    "        \n",
    "    else:\n",
    "        continue"
   ]
  }
 ],
 "metadata": {
  "kernelspec": {
   "display_name": "Python 3 (ipykernel)",
   "language": "python",
   "name": "python3"
  },
  "language_info": {
   "codemirror_mode": {
    "name": "ipython",
    "version": 3
   },
   "file_extension": ".py",
   "mimetype": "text/x-python",
   "name": "python",
   "nbconvert_exporter": "python",
   "pygments_lexer": "ipython3",
   "version": "3.9.7"
  }
 },
 "nbformat": 4,
 "nbformat_minor": 5
}

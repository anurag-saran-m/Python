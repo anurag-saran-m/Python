{
 "cells": [
  {
   "cell_type": "code",
   "execution_count": 3,
   "id": "c2c7dcf9-febf-4d3a-bc16-907df387797a",
   "metadata": {},
   "outputs": [
    {
     "name": "stdout",
     "output_type": "stream",
     "text": [
      "* * *\n",
      "*   *\n",
      "* * *\n",
      "*   *\n",
      "*   *\n"
     ]
    }
   ],
   "source": [
    "for var1 in \"12345\":\n",
    "    if var1==\"1\" or var1==\"3\":\n",
    "        print(\"* * *\")\n",
    "    else:\n",
    "        print(\"*   *\")"
   ]
  },
  {
   "cell_type": "code",
   "execution_count": 4,
   "id": "e5df8530-1903-43f9-8288-8e48a2ee06d8",
   "metadata": {},
   "outputs": [
    {
     "name": "stdout",
     "output_type": "stream",
     "text": [
      "* * * \n",
      "*    *\n",
      "* * * \n",
      "*    *\n",
      "* * * \n"
     ]
    }
   ],
   "source": [
    "for var1 in \"12345\":\n",
    "    if var1==\"3\":\n",
    "         print(\"* * * \")\n",
    "    elif var1==\"1\"  or var1==\"5\":\n",
    "        print(\"* * * \")\n",
    "    else:\n",
    "        print(\"*    *\")\n",
    "    "
   ]
  },
  {
   "cell_type": "code",
   "execution_count": 5,
   "id": "9c29d624-7162-4f51-9635-8b108abefd0b",
   "metadata": {},
   "outputs": [
    {
     "name": "stdout",
     "output_type": "stream",
     "text": [
      " * * *\n",
      "*\n",
      "*\n",
      "*\n",
      " * * *\n"
     ]
    }
   ],
   "source": [
    "for var1 in \"12345\":\n",
    "    if var1==\"1\" or var1==\"5\":\n",
    "        print(\" * * *\")\n",
    "    else:\n",
    "        print(\"*\")"
   ]
  },
  {
   "cell_type": "code",
   "execution_count": null,
   "id": "3218e9a6-3b9b-49bd-86a0-4866ce603b0a",
   "metadata": {},
   "outputs": [],
   "source": []
  }
 ],
 "metadata": {
  "kernelspec": {
   "display_name": "Python 3 (ipykernel)",
   "language": "python",
   "name": "python3"
  },
  "language_info": {
   "codemirror_mode": {
    "name": "ipython",
    "version": 3
   },
   "file_extension": ".py",
   "mimetype": "text/x-python",
   "name": "python",
   "nbconvert_exporter": "python",
   "pygments_lexer": "ipython3",
   "version": "3.9.7"
  }
 },
 "nbformat": 4,
 "nbformat_minor": 5
}

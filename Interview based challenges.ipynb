{
 "cells": [
  {
   "cell_type": "markdown",
   "id": "f791f6bf-acf0-4f85-8e6b-b76954386296",
   "metadata": {},
   "source": [
    "# 1.Write a program to reverse an integer in Python."
   ]
  },
  {
   "cell_type": "code",
   "execution_count": 8,
   "id": "d1631a9a-b10c-4852-a3e9-d81e3a9864fa",
   "metadata": {},
   "outputs": [],
   "source": [
    "def reverse_integer(num):\n",
    "    string=str(num)\n",
    "    reverse_str = string[::-1]\n",
    "    return int(reverse_str)"
   ]
  },
  {
   "cell_type": "code",
   "execution_count": 9,
   "id": "72a552a2-ad65-4716-8fec-228a3e81c76a",
   "metadata": {},
   "outputs": [
    {
     "data": {
      "text/plain": [
       "4321"
      ]
     },
     "execution_count": 9,
     "metadata": {},
     "output_type": "execute_result"
    }
   ],
   "source": [
    "reverse_integer(1234)"
   ]
  },
  {
   "cell_type": "code",
   "execution_count": null,
   "id": "0f4e167c-a48d-499d-8162-d30a0b78fec8",
   "metadata": {},
   "outputs": [],
   "source": []
  },
  {
   "cell_type": "markdown",
   "id": "afd92e92-cfca-44d5-b133-db377f59e01a",
   "metadata": {},
   "source": [
    "# 2.Write a program in Python to check whether an integer is Armstrong number or not.\n",
    "\n",
    "An Armstrong number is one whose sum of digits raised to the power three equals the number itself. \n",
    "\n",
    "371, for example, is an Armstrong number because 3**3 + 7**3 + 1**3 = 371."
   ]
  },
  {
   "cell_type": "code",
   "execution_count": 6,
   "id": "eca3c673-9bbd-4a9f-ba56-b0a3322b8237",
   "metadata": {},
   "outputs": [],
   "source": [
    "def armstrong_num(num):\n",
    "    string=str(num)\n",
    "    sum1=0\n",
    "    for char in string:\n",
    "        sum1=sum1+int(char)**3\n",
    "        if sum1==num:\n",
    "            result=\"Armstrong number\"\n",
    "        else:\n",
    "            result=\"Not an Armstrong number\"\n",
    "    return result    "
   ]
  },
  {
   "cell_type": "code",
   "execution_count": 7,
   "id": "d15a631d-213c-4223-baae-7d3c068992ae",
   "metadata": {},
   "outputs": [
    {
     "data": {
      "text/plain": [
       "'Armstrong number'"
      ]
     },
     "execution_count": 7,
     "metadata": {},
     "output_type": "execute_result"
    }
   ],
   "source": [
    "armstrong_num(371)"
   ]
  },
  {
   "cell_type": "code",
   "execution_count": null,
   "id": "e0b7f447-b9ca-41d1-a28a-41f142d19c49",
   "metadata": {},
   "outputs": [],
   "source": []
  },
  {
   "cell_type": "markdown",
   "id": "0377cad0-c875-4823-9620-610ed4322c25",
   "metadata": {},
   "source": [
    "# 3. Write a program in Python to check given number is prime or not."
   ]
  },
  {
   "cell_type": "code",
   "execution_count": 11,
   "id": "f7f0f372-d5d4-43ba-b627-0b70faf0b857",
   "metadata": {},
   "outputs": [],
   "source": [
    "def is_prime(num):\n",
    "    return num > 1 and all(num % i != 0 for i in range(2, int(num ** 0.5) + 1))"
   ]
  },
  {
   "cell_type": "code",
   "execution_count": 12,
   "id": "2bd81199-075d-4190-9dd2-6fd3526d2cc2",
   "metadata": {},
   "outputs": [
    {
     "data": {
      "text/plain": [
       "True"
      ]
     },
     "execution_count": 12,
     "metadata": {},
     "output_type": "execute_result"
    }
   ],
   "source": [
    "is_prime(11)"
   ]
  },
  {
   "cell_type": "code",
   "execution_count": 13,
   "id": "b70dcdd4-c321-459e-865d-56d2e58e87b8",
   "metadata": {},
   "outputs": [
    {
     "data": {
      "text/plain": [
       "True"
      ]
     },
     "execution_count": 13,
     "metadata": {},
     "output_type": "execute_result"
    }
   ],
   "source": [
    "is_prime(97)"
   ]
  },
  {
   "cell_type": "code",
   "execution_count": null,
   "id": "7883e255-76d5-4bbc-a94a-32d1ccdba2d8",
   "metadata": {},
   "outputs": [],
   "source": []
  },
  {
   "cell_type": "markdown",
   "id": "568df0ff-2cc2-427a-9500-0f4123812ba4",
   "metadata": {},
   "source": [
    "# 4. Write a program in Python to print the Fibonacci series using iterative method."
   ]
  },
  {
   "cell_type": "code",
   "execution_count": 27,
   "id": "d26ed1e6-8f01-41ee-b6ae-31148c3775b4",
   "metadata": {},
   "outputs": [
    {
     "name": "stdout",
     "output_type": "stream",
     "text": [
      "Fibonacci series:  0 1 1 2 3 5 8 13 21 34 55 89 144 233 377 610 987 1597 2584 4181 "
     ]
    }
   ],
   "source": [
    "num= 20\n",
    "n1,n2=0,1\n",
    "print(\"Fibonacci series: \", n1,n2, end = \" \")\n",
    "for i in range(2,num):\n",
    "    n3=n1+n2\n",
    "    n1=n2\n",
    "    n2=n3\n",
    "    print(n3, end = \" \")\n"
   ]
  },
  {
   "cell_type": "code",
   "execution_count": null,
   "id": "8133d329-149a-4161-a869-f13553fcdc68",
   "metadata": {},
   "outputs": [],
   "source": []
  },
  {
   "cell_type": "markdown",
   "id": "7037eacb-d456-47d7-982e-277926ae5d71",
   "metadata": {},
   "source": [
    "# 5. Write a program in Python to print the Fibonacci series using recursive method."
   ]
  },
  {
   "cell_type": "code",
   "execution_count": 14,
   "id": "2ec1d3ca-0ee7-4574-b860-6ae39d58006f",
   "metadata": {},
   "outputs": [],
   "source": [
    "def fibonacciSeries(i):\n",
    "    if i <= 1:\n",
    "        return i\n",
    "    else:\n",
    "        return (fibonacciSeries(i - 1) + fibonacciSeries(i - 2))"
   ]
  },
  {
   "cell_type": "code",
   "execution_count": 15,
   "id": "b8dd320e-1922-4be9-b530-07be3fa8c404",
   "metadata": {},
   "outputs": [
    {
     "name": "stdout",
     "output_type": "stream",
     "text": [
      "Fibonacci Series: 0 1 1 2 3 5 8 13 21 34 "
     ]
    }
   ],
   "source": [
    "num=10\n",
    "if num <=0:\n",
    "    print(\"Please enter a Positive Number\")\n",
    "else:\n",
    "    print(\"Fibonacci Series:\", end=\" \")\n",
    "    \n",
    "    for i in range(num):\n",
    "        print(fibonacciSeries(i), end=\" \")"
   ]
  },
  {
   "cell_type": "markdown",
   "id": "44d51b05-4cc7-41f8-b963-9f71a2a29ebb",
   "metadata": {},
   "source": [
    "# 6. Write a program in Python to check whether a number is palindrome or not with out using iterative method."
   ]
  },
  {
   "cell_type": "code",
   "execution_count": 11,
   "id": "f150bfa0-1109-4d01-a695-9686183572e9",
   "metadata": {},
   "outputs": [],
   "source": [
    "def palindrome_or_not(num):\n",
    "    string=str(num)\n",
    "    reverse_str = string[::-1]\n",
    "    if string == reverse_str:\n",
    "        result=\"Given number is a Palindrome number\"\n",
    "    else:\n",
    "        result=\"Given number is not a palindrome\"\n",
    "    return result"
   ]
  },
  {
   "cell_type": "code",
   "execution_count": 12,
   "id": "64c38589-af01-4309-a36d-742aad407ec4",
   "metadata": {},
   "outputs": [
    {
     "data": {
      "text/plain": [
       "'Given number is a Palindrome number'"
      ]
     },
     "execution_count": 12,
     "metadata": {},
     "output_type": "execute_result"
    }
   ],
   "source": [
    "palindrome_or_not(121)"
   ]
  },
  {
   "cell_type": "code",
   "execution_count": null,
   "id": "467beec3-ff86-4e54-9eaa-4a5230abcaca",
   "metadata": {},
   "outputs": [],
   "source": []
  },
  {
   "cell_type": "markdown",
   "id": "00061f84-feb9-4679-8d6b-83b6b9068b3e",
   "metadata": {},
   "source": [
    "# 7. Write a program in Python to check whether a number is palindrome or not using iterative method."
   ]
  },
  {
   "cell_type": "code",
   "execution_count": 107,
   "id": "cb181a7f-a956-4c32-bbc7-ae96ba0412af",
   "metadata": {},
   "outputs": [],
   "source": [
    "def palindrome_check(num):\n",
    "    string=str(num)\n",
    "    x=len(string)\n",
    "    y=-1\n",
    "    result=''\n",
    "    for char in range(0,x):\n",
    "        result=result+string[y-char]\n",
    "        \n",
    "    return result==string\n",
    "        "
   ]
  },
  {
   "cell_type": "code",
   "execution_count": 112,
   "id": "b5a66af9-5041-47ca-a872-373712bfafe6",
   "metadata": {},
   "outputs": [
    {
     "data": {
      "text/plain": [
       "True"
      ]
     },
     "execution_count": 112,
     "metadata": {},
     "output_type": "execute_result"
    }
   ],
   "source": [
    "palindrome_check(77779897777)"
   ]
  },
  {
   "cell_type": "markdown",
   "id": "023bd118-b869-46b9-bb07-9137b80e7232",
   "metadata": {},
   "source": [
    "# 7. Write a program in Python to check whether a number is palindrome or not using recursive method."
   ]
  },
  {
   "cell_type": "code",
   "execution_count": 67,
   "id": "032be2dc-7a62-4927-90e7-f6717f476e70",
   "metadata": {},
   "outputs": [],
   "source": [
    "def palindrome_check(num):\n",
    "    string=str(num)\n",
    "    if len(string) <= 1:\n",
    "        return True\n",
    "    if string[0] == string[-1]:\n",
    "        return palindrome_check(string[1:-1])\n",
    "    else: False"
   ]
  },
  {
   "cell_type": "code",
   "execution_count": 68,
   "id": "9f66ef18-3856-47d6-a6c5-fbfb79ab621a",
   "metadata": {},
   "outputs": [
    {
     "data": {
      "text/plain": [
       "True"
      ]
     },
     "execution_count": 68,
     "metadata": {},
     "output_type": "execute_result"
    }
   ],
   "source": [
    "palindrome_check(121)"
   ]
  },
  {
   "cell_type": "code",
   "execution_count": null,
   "id": "f713471c-49ac-4f04-841c-e060fea9845d",
   "metadata": {},
   "outputs": [],
   "source": []
  },
  {
   "cell_type": "markdown",
   "id": "f2c2cab8-5c5b-4165-aee4-324c0bac1f27",
   "metadata": {},
   "source": [
    "# 8.Write a program in Python to find greatest among three integers."
   ]
  },
  {
   "cell_type": "code",
   "execution_count": 115,
   "id": "cfb97191-9add-4f40-b700-bcfda2e1268c",
   "metadata": {},
   "outputs": [
    {
     "name": "stdin",
     "output_type": "stream",
     "text": [
      "type any number-n1:  12\n",
      "type any number-n2:  13\n",
      "type any number-n3  14\n"
     ]
    },
    {
     "name": "stdout",
     "output_type": "stream",
     "text": [
      "n3 is greatest\n"
     ]
    }
   ],
   "source": [
    "n1=int(input(\"type any number-n1: \"))\n",
    "n2=int(input(\"type any number-n2: \"))\n",
    "n3=int(input(\"type any number-n3 \"))\n",
    "if n1>=n2 and n1>=n3: \n",
    "    print(\" n1 is greatest\");\n",
    "if n2>=n1 and n2>=n3:\n",
    "    print(\" n2 is greatest\");\n",
    "if n3>=n1 and n3>=n2:\n",
    "    print(\"n3 is greatest\"); "
   ]
  },
  {
   "cell_type": "code",
   "execution_count": null,
   "id": "e15cf544-2621-409a-8bcb-f094218e221c",
   "metadata": {},
   "outputs": [],
   "source": []
  },
  {
   "cell_type": "markdown",
   "id": "1eeaeef9-370c-4bc2-8b45-fc95dde89448",
   "metadata": {},
   "source": [
    "# 9. Write a program in Python to check if a number is binary"
   ]
  },
  {
   "cell_type": "code",
   "execution_count": 2,
   "id": "a82528f6-b4a4-4a2a-8e61-e0d473fe151f",
   "metadata": {},
   "outputs": [],
   "source": [
    "def is_binary(num):\n",
    "    string=str(num)\n",
    "    for char in string:\n",
    "        if char!='1' and char!='0':\n",
    "            return \"not a binary number\"\n",
    "    return \"Binary number\""
   ]
  },
  {
   "cell_type": "code",
   "execution_count": 3,
   "id": "67e5be0a-713f-4ac5-842a-a07f9e11ffe2",
   "metadata": {},
   "outputs": [
    {
     "data": {
      "text/plain": [
       "'Binary number'"
      ]
     },
     "execution_count": 3,
     "metadata": {},
     "output_type": "execute_result"
    }
   ],
   "source": [
    "is_binary(1010)"
   ]
  },
  {
   "cell_type": "code",
   "execution_count": 4,
   "id": "cfef710f-e10a-4328-952b-b6fcee375a9b",
   "metadata": {},
   "outputs": [
    {
     "data": {
      "text/plain": [
       "'not a binary number'"
      ]
     },
     "execution_count": 4,
     "metadata": {},
     "output_type": "execute_result"
    }
   ],
   "source": [
    "is_binary(10102)"
   ]
  },
  {
   "cell_type": "code",
   "execution_count": 6,
   "id": "4fd39f6d-1178-4b4f-8612-e4e2907985b8",
   "metadata": {},
   "outputs": [
    {
     "data": {
      "text/plain": [
       "'not a binary number'"
      ]
     },
     "execution_count": 6,
     "metadata": {},
     "output_type": "execute_result"
    }
   ],
   "source": [
    "is_binary(10-110)"
   ]
  },
  {
   "cell_type": "code",
   "execution_count": null,
   "id": "ac2723a6-06d3-4dd0-9a39-57dffcf4a740",
   "metadata": {},
   "outputs": [],
   "source": []
  },
  {
   "cell_type": "markdown",
   "id": "d8bba8b9-3cee-4868-8023-d5ba6a0fd24f",
   "metadata": {},
   "source": [
    "# 10 Write a program in Python to find sum of digits of a number using recursion"
   ]
  },
  {
   "cell_type": "code",
   "execution_count": 39,
   "id": "0aac29d8-b51c-4f7f-a0c3-5d309b537ec0",
   "metadata": {},
   "outputs": [],
   "source": [
    "def sum_of_digits(num):\n",
    "    if num == 0:\n",
    "        return 0\n",
    "    else:\n",
    "        return num % 10 + sum_of_digits(num // 10)"
   ]
  },
  {
   "cell_type": "code",
   "execution_count": 40,
   "id": "6226187f-071e-4e6f-bd94-666b3d8817f3",
   "metadata": {},
   "outputs": [
    {
     "data": {
      "text/plain": [
       "6"
      ]
     },
     "execution_count": 40,
     "metadata": {},
     "output_type": "execute_result"
    }
   ],
   "source": [
    "sum_of_digits(123)"
   ]
  },
  {
   "cell_type": "code",
   "execution_count": null,
   "id": "fb297e76-2910-43e7-918c-9eeaa3c36c44",
   "metadata": {},
   "outputs": [],
   "source": []
  },
  {
   "cell_type": "markdown",
   "id": "d5c1158e-4bda-4c93-a915-6c98e48ea956",
   "metadata": {},
   "source": [
    "# 11 Write a program in Python to swap two numbers without using third variable"
   ]
  },
  {
   "cell_type": "code",
   "execution_count": 41,
   "id": "b0197908-3714-47ab-a467-959c96efadc0",
   "metadata": {},
   "outputs": [],
   "source": [
    "def swap_numbers(a, b):\n",
    "    a = a ^ b\n",
    "    b = a ^ b\n",
    "    a = a ^ b\n",
    "    return a, b"
   ]
  },
  {
   "cell_type": "code",
   "execution_count": 42,
   "id": "c97e2880-b1c1-4731-b15f-8398f92d03b8",
   "metadata": {},
   "outputs": [
    {
     "data": {
      "text/plain": [
       "(20, 10)"
      ]
     },
     "execution_count": 42,
     "metadata": {},
     "output_type": "execute_result"
    }
   ],
   "source": [
    "swap_numbers(10, 20)"
   ]
  },
  {
   "cell_type": "code",
   "execution_count": null,
   "id": "ac643d29-f88a-42bc-ac22-c474c4a7abee",
   "metadata": {},
   "outputs": [],
   "source": []
  },
  {
   "cell_type": "markdown",
   "id": "aaca5b17-814f-4248-b59c-ea7480935990",
   "metadata": {},
   "source": [
    "# 12 Write a program in Python to swap two numbers using third variable"
   ]
  },
  {
   "cell_type": "code",
   "execution_count": 61,
   "id": "9ac04781-467b-47d8-bb86-bdaea62934b6",
   "metadata": {},
   "outputs": [],
   "source": [
    "def swap_numbers_3v(a, b):\n",
    "    c = a\n",
    "    a = b\n",
    "    b = c\n",
    "    return a, b"
   ]
  },
  {
   "cell_type": "code",
   "execution_count": 62,
   "id": "9b59cb60-ac42-49bd-b3a3-9fca333c582f",
   "metadata": {},
   "outputs": [
    {
     "data": {
      "text/plain": [
       "(20, 10)"
      ]
     },
     "execution_count": 62,
     "metadata": {},
     "output_type": "execute_result"
    }
   ],
   "source": [
    "swap_numbers_3v(10, 20)"
   ]
  },
  {
   "cell_type": "code",
   "execution_count": null,
   "id": "12dc28ef-0b20-4164-b300-2b84a3189736",
   "metadata": {},
   "outputs": [],
   "source": []
  },
  {
   "cell_type": "markdown",
   "id": "34be6475-8cb7-4921-b9c2-c73efa8070e9",
   "metadata": {},
   "source": [
    "# 13 Write a program in Python to find prime factors of a given integer"
   ]
  },
  {
   "cell_type": "code",
   "execution_count": 120,
   "id": "fbca2144-6581-4073-933c-99e38b1e8583",
   "metadata": {},
   "outputs": [],
   "source": [
    "def find_prime_factors(number):\n",
    "    factors = set()\n",
    "    divisor = 2\n",
    "\n",
    "    while divisor <= number:\n",
    "        if number % divisor == 0:\n",
    "            factors.add(divisor)\n",
    "            number //= divisor\n",
    "        else:\n",
    "            divisor += 1\n",
    "\n",
    "    return factors"
   ]
  },
  {
   "cell_type": "code",
   "execution_count": 121,
   "id": "0d69416a-3fe2-4943-aca2-2fb17f72cebe",
   "metadata": {},
   "outputs": [
    {
     "data": {
      "text/plain": [
       "{2, 3}"
      ]
     },
     "execution_count": 121,
     "metadata": {},
     "output_type": "execute_result"
    }
   ],
   "source": [
    "find_prime_factors(24)"
   ]
  },
  {
   "cell_type": "code",
   "execution_count": null,
   "id": "9dc44c35-66d5-47b9-990b-ea04c936769f",
   "metadata": {},
   "outputs": [],
   "source": []
  },
  {
   "cell_type": "markdown",
   "id": "8141a89a-deb4-4f35-bcb9-0fa39f0b4728",
   "metadata": {},
   "source": [
    "# 14 Write a program in Python to add two integer without using arithmetic operator"
   ]
  },
  {
   "cell_type": "code",
   "execution_count": 79,
   "id": "56c13509-debb-483a-ba65-2ed3ae95feb7",
   "metadata": {},
   "outputs": [
    {
     "name": "stdin",
     "output_type": "stream",
     "text": [
      "type any num:  10\n",
      "type any num:  15\n"
     ]
    },
    {
     "name": "stdout",
     "output_type": "stream",
     "text": [
      "25\n"
     ]
    }
   ],
   "source": [
    "x=int(input(\"type any num: \"))\n",
    "y=int(input(\"type any num: \"))\n",
    "a=(x,y)\n",
    "\n",
    "print(sum(a))"
   ]
  },
  {
   "cell_type": "code",
   "execution_count": null,
   "id": "a95bdcb5-d5e6-4b30-ab04-ff755f9931e3",
   "metadata": {},
   "outputs": [],
   "source": []
  },
  {
   "cell_type": "markdown",
   "id": "95b6dc23-974d-4972-ae7a-cb74aef4b0ab",
   "metadata": {},
   "source": [
    "# 15 Write a program in Python to find given number is perfect or not"
   ]
  },
  {
   "cell_type": "code",
   "execution_count": 124,
   "id": "c2cd3b73-6fb8-42f6-9d5a-d6634b647798",
   "metadata": {},
   "outputs": [],
   "source": [
    "def is_perfect_number(num):\n",
    "    divisors = []\n",
    "    for y in range(1, num):\n",
    "        if num % y == 0:\n",
    "            divisors.append(y)\n",
    "    print(\"sum of divisors: \",sum(divisors))\n",
    "\n",
    "    if sum(divisors) == num:\n",
    "        return \"Given number is a perfect number\"\n",
    "    else:\n",
    "        return \"Given number is not a perfect number\""
   ]
  },
  {
   "cell_type": "code",
   "execution_count": 125,
   "id": "1b827290-1eee-426b-a0d4-3e379262e4f0",
   "metadata": {},
   "outputs": [
    {
     "name": "stdout",
     "output_type": "stream",
     "text": [
      "sum of divisors:  9\n"
     ]
    },
    {
     "data": {
      "text/plain": [
       "'Given number is not a perfect number'"
      ]
     },
     "execution_count": 125,
     "metadata": {},
     "output_type": "execute_result"
    }
   ],
   "source": [
    "is_perfect_number(15)"
   ]
  },
  {
   "cell_type": "code",
   "execution_count": 126,
   "id": "b1a2966c-88e4-489f-8c9d-623ce7b777c4",
   "metadata": {},
   "outputs": [
    {
     "name": "stdout",
     "output_type": "stream",
     "text": [
      "sum of divisors:  6\n"
     ]
    },
    {
     "data": {
      "text/plain": [
       "'Given number is a perfect number'"
      ]
     },
     "execution_count": 126,
     "metadata": {},
     "output_type": "execute_result"
    }
   ],
   "source": [
    "is_perfect_number(6)"
   ]
  },
  {
   "cell_type": "markdown",
   "id": "757690fb-f507-4a9c-8606-bc62f99829d7",
   "metadata": {},
   "source": [
    "# 16 Python Program to find the Average of numbers with explanations"
   ]
  },
  {
   "cell_type": "code",
   "execution_count": 129,
   "id": "7a71d2ad-09b9-45db-a001-cb445e98439b",
   "metadata": {},
   "outputs": [],
   "source": [
    "def calculate_average(numbers):\n",
    "    count = len(numbers) # considering numbers as a list and counting its length\n",
    "    total = sum(numbers) # considering sum of elements of the given list\n",
    "    average = total / count # using averge formula to calculate the average of list of numbers given\n",
    "    return average"
   ]
  },
  {
   "cell_type": "code",
   "execution_count": 130,
   "id": "ed9e566d-9234-494b-969b-dbcb786a3bda",
   "metadata": {},
   "outputs": [
    {
     "data": {
      "text/plain": [
       "5.3"
      ]
     },
     "execution_count": 130,
     "metadata": {},
     "output_type": "execute_result"
    }
   ],
   "source": [
    "calculate_average([1,2,3,4.5,6.2,5.5,7.8,8.3,9.4])"
   ]
  },
  {
   "cell_type": "markdown",
   "id": "a6f99879-1aa0-4f20-bfae-991ff8a48023",
   "metadata": {},
   "source": [
    "# 17 Python Program to calculate factorial using iterative method"
   ]
  },
  {
   "cell_type": "code",
   "execution_count": 153,
   "id": "1771b3c5-95d6-439d-ae00-0b50c259d191",
   "metadata": {},
   "outputs": [],
   "source": [
    "def factorial(num):\n",
    "    factorials=1\n",
    "    for i in range(1,num+1):\n",
    "        factorials*=i\n",
    "        \n",
    "    return factorials"
   ]
  },
  {
   "cell_type": "code",
   "execution_count": 154,
   "id": "d70f60c3-d167-489b-8779-b1ec7bc1b4c7",
   "metadata": {},
   "outputs": [
    {
     "data": {
      "text/plain": [
       "6"
      ]
     },
     "execution_count": 154,
     "metadata": {},
     "output_type": "execute_result"
    }
   ],
   "source": [
    "factorial(3)"
   ]
  },
  {
   "cell_type": "markdown",
   "id": "63aef432-207b-4946-9d69-9c0b49e57762",
   "metadata": {},
   "source": [
    "# 18 Python Program to calculate factorial using recursion"
   ]
  },
  {
   "cell_type": "code",
   "execution_count": 159,
   "id": "e35f2d16-c22c-4904-9b59-5952209ce9d2",
   "metadata": {},
   "outputs": [],
   "source": [
    "def calc_factorial(num):\n",
    "    if num == 0:\n",
    "        return 1\n",
    "    else:\n",
    "        return num * calculate_factorial(num - 1)"
   ]
  },
  {
   "cell_type": "code",
   "execution_count": 160,
   "id": "4e42b296-b899-4138-b3dd-9fe48553804c",
   "metadata": {},
   "outputs": [
    {
     "data": {
      "text/plain": [
       "6"
      ]
     },
     "execution_count": 160,
     "metadata": {},
     "output_type": "execute_result"
    }
   ],
   "source": [
    "calc_factorial(3)"
   ]
  },
  {
   "cell_type": "code",
   "execution_count": null,
   "id": "2b4df330-ae03-4d0a-804e-3034996ae640",
   "metadata": {},
   "outputs": [],
   "source": []
  },
  {
   "cell_type": "markdown",
   "id": "a7002a89-17e9-4d57-8bc0-82f1a46b26fa",
   "metadata": {},
   "source": [
    "# 19 Python Program to check a given number is even or odd"
   ]
  },
  {
   "cell_type": "code",
   "execution_count": 161,
   "id": "331779c2-c5df-4eb8-9d01-c0b9b470d14d",
   "metadata": {},
   "outputs": [],
   "source": [
    "def isEvenOrOdd(x):\n",
    "    if x%2==0:\n",
    "        print(\"Even\")\n",
    "    else:\n",
    "        print(\"Odd\") "
   ]
  },
  {
   "cell_type": "code",
   "execution_count": 162,
   "id": "56dfbd8c-a1be-4ffa-9a91-ea7aef3ad60b",
   "metadata": {},
   "outputs": [
    {
     "name": "stdout",
     "output_type": "stream",
     "text": [
      "Odd\n",
      "Even\n",
      "Odd\n"
     ]
    }
   ],
   "source": [
    "isEvenOrOdd(3)\n",
    "isEvenOrOdd(146)\n",
    "isEvenOrOdd(19)"
   ]
  },
  {
   "cell_type": "code",
   "execution_count": null,
   "id": "15c4999d-97de-4d0c-b9bb-50a4b2fd6fb7",
   "metadata": {},
   "outputs": [],
   "source": []
  },
  {
   "cell_type": "markdown",
   "id": "68e46e00-4212-4aa7-999d-6e3eddb01f3c",
   "metadata": {},
   "source": [
    "# 20 Python program to print first n Prime Number with explanation"
   ]
  },
  {
   "cell_type": "code",
   "execution_count": null,
   "id": "b5dae99a-4bf9-4e5e-9e5a-795d0fecab8d",
   "metadata": {},
   "outputs": [],
   "source": []
  },
  {
   "cell_type": "code",
   "execution_count": null,
   "id": "d3596655-58ce-42aa-ba42-27ee7c6ff185",
   "metadata": {},
   "outputs": [],
   "source": []
  },
  {
   "cell_type": "code",
   "execution_count": null,
   "id": "b96803fa-f8a8-4c43-9620-d93c1131a040",
   "metadata": {},
   "outputs": [],
   "source": []
  },
  {
   "cell_type": "markdown",
   "id": "6f25a190-f59e-47b6-a3f1-3a6f9175ea0d",
   "metadata": {},
   "source": [
    "# 21 Python Program to print Prime Number in a given range"
   ]
  },
  {
   "cell_type": "code",
   "execution_count": 239,
   "id": "ccb2fce4-5ac6-49e2-8994-cfbd9f893b85",
   "metadata": {},
   "outputs": [],
   "source": [
    "def find_prime_num(a, b):\n",
    "    prime_num = []\n",
    "    \n",
    "    for num in range(a, b + 1):\n",
    "        if num > 1:\n",
    "            is_prime = True\n",
    "\n",
    "            for i in range(2, int(num ** 0.5) + 1):\n",
    "                if num % i == 0:\n",
    "                    is_prime = False\n",
    "                    break\n",
    "\n",
    "            if is_prime:\n",
    "                prime_num.append(num)\n",
    "\n",
    "    return prime_numbers"
   ]
  },
  {
   "cell_type": "code",
   "execution_count": 240,
   "id": "3142c0c4-1ad8-4991-aadf-12728045fa55",
   "metadata": {},
   "outputs": [
    {
     "data": {
      "text/plain": [
       "[2, 3, 5, 7, 11, 13, 17, 19]"
      ]
     },
     "execution_count": 240,
     "metadata": {},
     "output_type": "execute_result"
    }
   ],
   "source": [
    "find_prime_numbers(1,21)"
   ]
  },
  {
   "cell_type": "code",
   "execution_count": 234,
   "id": "1eea3bc6-6f81-4c40-8748-f70b1858ef8b",
   "metadata": {},
   "outputs": [
    {
     "data": {
      "text/plain": [
       "[2, 3, 5, 7, 11, 13, 17, 19]"
      ]
     },
     "execution_count": 234,
     "metadata": {},
     "output_type": "execute_result"
    }
   ],
   "source": [
    "def prime_range(a,b):\n",
    "    c=[]\n",
    "    \n",
    "    for x in range(a,b+1):\n",
    "        d=2\n",
    "        while x>d:\n",
    "            if x%d!=0:\n",
    "                d+=1\n",
    "            else:\n",
    "                break\n",
    "               \n",
    "        if d==x:\n",
    "            c.append(x)\n",
    "        \n",
    "    return c\n",
    "prime_range(0,21)"
   ]
  },
  {
   "cell_type": "markdown",
   "id": "b118b3b9-b23d-4385-bfff-2a52bc198519",
   "metadata": {},
   "source": [
    "# 22 Python Program to find Smallest number among three."
   ]
  },
  {
   "cell_type": "code",
   "execution_count": 250,
   "id": "312d893d-6c1b-4dc3-b5f8-dfe732553d54",
   "metadata": {},
   "outputs": [
    {
     "data": {
      "text/plain": [
       "11"
      ]
     },
     "execution_count": 250,
     "metadata": {},
     "output_type": "execute_result"
    }
   ],
   "source": [
    "def smallest_of_three_num(a,b,c):\n",
    "    if a<b<c:\n",
    "        return a\n",
    "    elif a<c<b:\n",
    "        return a\n",
    "    elif b<c<a:\n",
    "        return b\n",
    "    elif b<a<c:\n",
    "        return b\n",
    "    elif c<b<a:\n",
    "        return c\n",
    "    elif c<a<b:\n",
    "        return c\n",
    "    \n",
    "smallest_of_three_num(11,22,33)"
   ]
  },
  {
   "cell_type": "code",
   "execution_count": 253,
   "id": "25798c0d-1b4f-4095-8259-563ea389715c",
   "metadata": {},
   "outputs": [
    {
     "data": {
      "text/plain": [
       "12"
      ]
     },
     "execution_count": 253,
     "metadata": {},
     "output_type": "execute_result"
    }
   ],
   "source": [
    "smallest_of_three_num(25,12,32)"
   ]
  },
  {
   "cell_type": "code",
   "execution_count": 252,
   "id": "8850a368-af95-47d8-a0e0-c43bd99006a0",
   "metadata": {},
   "outputs": [
    {
     "data": {
      "text/plain": [
       "1"
      ]
     },
     "execution_count": 252,
     "metadata": {},
     "output_type": "execute_result"
    }
   ],
   "source": [
    "smallest_of_three_num(3,2,1)"
   ]
  },
  {
   "cell_type": "code",
   "execution_count": 257,
   "id": "3a9d3f32-e358-43a9-9da6-28fb98b3754e",
   "metadata": {},
   "outputs": [],
   "source": [
    "def small_of_3(x,y,z):\n",
    "    print (min(x,y,z))"
   ]
  },
  {
   "cell_type": "code",
   "execution_count": 258,
   "id": "4e33c233-0a56-4515-b9da-71ebbaa20814",
   "metadata": {},
   "outputs": [
    {
     "name": "stdout",
     "output_type": "stream",
     "text": [
      "11\n",
      "12\n",
      "1\n"
     ]
    }
   ],
   "source": [
    "small_of_3(11,22,33)\n",
    "small_of_3(25,12,32)\n",
    "small_of_3(3,2,1)"
   ]
  },
  {
   "cell_type": "code",
   "execution_count": null,
   "id": "140d4253-0fc2-473b-bf7c-4ec104fb4d91",
   "metadata": {},
   "outputs": [],
   "source": []
  },
  {
   "cell_type": "markdown",
   "id": "d0b62a7a-6704-4157-920c-5e6fb6ef0703",
   "metadata": {},
   "source": [
    "# 23 Python program to calculate the power using the POW method"
   ]
  },
  {
   "cell_type": "code",
   "execution_count": 259,
   "id": "ccc2099f-c3a8-42e5-9f79-504a4a2fbeca",
   "metadata": {},
   "outputs": [],
   "source": [
    "def calc_pow(x,y):\n",
    "    a=pow(x,y)\n",
    "    return a"
   ]
  },
  {
   "cell_type": "code",
   "execution_count": 260,
   "id": "a4318e76-29f1-4831-bcb1-ea7ab0e730bf",
   "metadata": {},
   "outputs": [
    {
     "data": {
      "text/plain": [
       "8"
      ]
     },
     "execution_count": 260,
     "metadata": {},
     "output_type": "execute_result"
    }
   ],
   "source": [
    "calc_pow(2,3)"
   ]
  },
  {
   "cell_type": "code",
   "execution_count": null,
   "id": "be9354e5-181c-4bc4-af56-e93d4356315e",
   "metadata": {},
   "outputs": [],
   "source": []
  },
  {
   "cell_type": "markdown",
   "id": "3e8dc595-5b65-4848-b5b2-4c3bd328e06f",
   "metadata": {},
   "source": [
    "# 24 Python Program to calculate the power without using POW function.(using for loop)"
   ]
  },
  {
   "cell_type": "code",
   "execution_count": 296,
   "id": "3827a30a-6441-4edc-8ab8-c51cd273bee9",
   "metadata": {},
   "outputs": [],
   "source": [
    "def calc_power(a,b):\n",
    "    result=1\n",
    "    for x in range(b):\n",
    "        result*=a\n",
    "        \n",
    "    return result"
   ]
  },
  {
   "cell_type": "code",
   "execution_count": 295,
   "id": "5b9e43df-8cc7-4ee4-a068-f33a8c1c17e0",
   "metadata": {},
   "outputs": [
    {
     "data": {
      "text/plain": [
       "8"
      ]
     },
     "execution_count": 295,
     "metadata": {},
     "output_type": "execute_result"
    }
   ],
   "source": [
    "calc_power(2,3)"
   ]
  },
  {
   "cell_type": "code",
   "execution_count": null,
   "id": "77d0e2b4-2644-415a-ab9e-04aff8662976",
   "metadata": {},
   "outputs": [],
   "source": []
  },
  {
   "cell_type": "markdown",
   "id": "3ca9e4c0-9833-46c9-8335-7c1680aeaea1",
   "metadata": {},
   "source": [
    "# 25 Python Program to calculate the power without using POW function.(using while loop)"
   ]
  },
  {
   "cell_type": "code",
   "execution_count": 308,
   "id": "695d01b7-3567-4d8c-97b8-5ace9198e588",
   "metadata": {},
   "outputs": [],
   "source": [
    "def calc_power_of(base, exponent):\n",
    "    result = 1\n",
    "\n",
    "    while exponent > 0:\n",
    "        result *= base\n",
    "        exponent -= 1\n",
    "\n",
    "    return result"
   ]
  },
  {
   "cell_type": "code",
   "execution_count": 310,
   "id": "32347d56-9757-480f-818a-a2dc674a489e",
   "metadata": {},
   "outputs": [
    {
     "data": {
      "text/plain": [
       "2"
      ]
     },
     "execution_count": 310,
     "metadata": {},
     "output_type": "execute_result"
    }
   ],
   "source": [
    "calc_power_of(2,0.5)"
   ]
  },
  {
   "cell_type": "code",
   "execution_count": null,
   "id": "4331076a-613f-4172-8d0f-4a8e57dff4df",
   "metadata": {},
   "outputs": [],
   "source": []
  },
  {
   "cell_type": "markdown",
   "id": "1d5023ed-98d5-40eb-99a9-080ecff0ce02",
   "metadata": {},
   "source": [
    "# 26 Python Program to calculate the square of a given number"
   ]
  },
  {
   "cell_type": "code",
   "execution_count": 6,
   "id": "7153bbb2-f1a7-44af-aaa0-06da5aa6d5d1",
   "metadata": {},
   "outputs": [],
   "source": [
    "def square_num(x):\n",
    "    if type(x)==int or type(x)==float:\n",
    "        result=x*x\n",
    "        return result"
   ]
  },
  {
   "cell_type": "code",
   "execution_count": 12,
   "id": "55e7fe71-ece3-4ee9-8363-1150f5481ce6",
   "metadata": {},
   "outputs": [
    {
     "data": {
      "text/plain": [
       "10000"
      ]
     },
     "execution_count": 12,
     "metadata": {},
     "output_type": "execute_result"
    }
   ],
   "source": [
    "square_num(100)"
   ]
  },
  {
   "cell_type": "code",
   "execution_count": null,
   "id": "a78b31fe-1d11-42ed-8fee-84d53398c51b",
   "metadata": {},
   "outputs": [],
   "source": []
  },
  {
   "cell_type": "markdown",
   "id": "69f71694-723c-418d-9830-866b25216727",
   "metadata": {},
   "source": [
    "# 27 Python Program to calculate the cube of a given number"
   ]
  },
  {
   "cell_type": "code",
   "execution_count": 14,
   "id": "fc389fb1-6ff5-4463-b0fc-3235b3808495",
   "metadata": {},
   "outputs": [],
   "source": [
    "def cube_num(x):\n",
    "    if type(x)==int or type(x)==float:\n",
    "        return x*x*x"
   ]
  },
  {
   "cell_type": "code",
   "execution_count": 16,
   "id": "e0198e1d-2c06-4fed-a1d6-a0bb14cea0bf",
   "metadata": {},
   "outputs": [
    {
     "data": {
      "text/plain": [
       "27"
      ]
     },
     "execution_count": 16,
     "metadata": {},
     "output_type": "execute_result"
    }
   ],
   "source": [
    "cube_num(3)"
   ]
  },
  {
   "cell_type": "code",
   "execution_count": null,
   "id": "f4823fd5-7040-45e6-88aa-9b726bdda91d",
   "metadata": {},
   "outputs": [],
   "source": []
  },
  {
   "cell_type": "markdown",
   "id": "5bc11bf6-85a2-4544-af03-9565a8109ac1",
   "metadata": {},
   "source": [
    "# 28 Python Program to calculate the square root of a given number"
   ]
  },
  {
   "cell_type": "code",
   "execution_count": 23,
   "id": "124fde92-6d9d-468e-87d5-3cb4106b2723",
   "metadata": {},
   "outputs": [],
   "source": [
    "def sq_rt(num):\n",
    "    if type(num)==int or type(num)==float:\n",
    "        return (num**0.5)"
   ]
  },
  {
   "cell_type": "code",
   "execution_count": 24,
   "id": "7fa848b8-8eca-48e5-b849-6a76e1b22767",
   "metadata": {},
   "outputs": [
    {
     "data": {
      "text/plain": [
       "2.0"
      ]
     },
     "execution_count": 24,
     "metadata": {},
     "output_type": "execute_result"
    }
   ],
   "source": [
    "sq_rt(4)"
   ]
  },
  {
   "cell_type": "code",
   "execution_count": null,
   "id": "0ef5b809-255b-4e7d-bb02-7b4263116a3c",
   "metadata": {},
   "outputs": [],
   "source": []
  },
  {
   "cell_type": "markdown",
   "id": "20ab140c-6376-4285-9f42-a877d0c2badf",
   "metadata": {},
   "source": [
    "# 29 Python program to calculate LCM of given two numbers"
   ]
  },
  {
   "cell_type": "code",
   "execution_count": 12,
   "id": "c0ff6291-6835-48c5-9a37-ad9e6dddf158",
   "metadata": {},
   "outputs": [],
   "source": [
    "def calc_lcm(a,b):\n",
    "    \n",
    "    maximum = max(a,b)\n",
    "\n",
    "    while True:\n",
    "        if maximum % a == 0 and maximum % b == 0:\n",
    "            lcm = maximum\n",
    "            break\n",
    "        maximum += 1\n",
    "\n",
    "    return lcm"
   ]
  },
  {
   "cell_type": "code",
   "execution_count": 16,
   "id": "1f2f0f90-e415-4eed-9912-82c4e36e84ea",
   "metadata": {},
   "outputs": [
    {
     "data": {
      "text/plain": [
       "20"
      ]
     },
     "execution_count": 16,
     "metadata": {},
     "output_type": "execute_result"
    }
   ],
   "source": [
    "calc_lcm(4,5)"
   ]
  },
  {
   "cell_type": "code",
   "execution_count": null,
   "id": "a4714b59-8c03-4665-8908-08178d8cb067",
   "metadata": {},
   "outputs": [],
   "source": []
  },
  {
   "cell_type": "markdown",
   "id": "bab48663-79e7-4d25-9399-21ca86c0da7f",
   "metadata": {},
   "source": [
    "# 30 Python Program to find GCD or HCF of two numbers"
   ]
  },
  {
   "cell_type": "code",
   "execution_count": 2,
   "id": "4cda6c3d-7534-462a-bb10-abea527a5c7f",
   "metadata": {},
   "outputs": [],
   "source": [
    "def calc_gcd(a,b):\n",
    "    while b!= 0:\n",
    "        a,b = b, a % b\n",
    "    return a"
   ]
  },
  {
   "cell_type": "code",
   "execution_count": 3,
   "id": "d67a7d52-f503-48f6-8ddb-1db7f66ff19a",
   "metadata": {},
   "outputs": [
    {
     "data": {
      "text/plain": [
       "3"
      ]
     },
     "execution_count": 3,
     "metadata": {},
     "output_type": "execute_result"
    }
   ],
   "source": [
    "calc_gcd(3,6)"
   ]
  },
  {
   "cell_type": "code",
   "execution_count": null,
   "id": "517706cc-5d21-401a-b7cb-73c0fe83f74f",
   "metadata": {},
   "outputs": [],
   "source": []
  },
  {
   "cell_type": "markdown",
   "id": "4c4fa484-2741-4c42-a18a-2efaccccd8f6",
   "metadata": {},
   "source": [
    "# 31 Python Program to find GCD of two numbers using recursion"
   ]
  },
  {
   "cell_type": "code",
   "execution_count": null,
   "id": "8329088a-816b-4e6d-b90e-2d3cecf866e6",
   "metadata": {},
   "outputs": [],
   "source": []
  },
  {
   "cell_type": "code",
   "execution_count": null,
   "id": "26bdfeb9-08ac-4e9a-9ed9-405d9dac60fa",
   "metadata": {},
   "outputs": [],
   "source": []
  },
  {
   "cell_type": "code",
   "execution_count": null,
   "id": "f9ce0e45-365c-49c0-9128-d3f202d7e50e",
   "metadata": {},
   "outputs": [],
   "source": []
  },
  {
   "cell_type": "markdown",
   "id": "62af6ad2-5a93-42d6-b149-8412e015dbc2",
   "metadata": {},
   "source": [
    "# 32 Python Program to Convert Decimal Number into Binary"
   ]
  },
  {
   "cell_type": "code",
   "execution_count": 21,
   "id": "76234986-b501-4624-92ed-3244d32ba5ec",
   "metadata": {},
   "outputs": [],
   "source": [
    "def decimal_binary(num):\n",
    "     \n",
    "    if num >= 1:\n",
    "        decimal_binary(num // 2)\n",
    "    print(num % 2, end = '')"
   ]
  },
  {
   "cell_type": "code",
   "execution_count": 22,
   "id": "46d3774c-84ce-436b-a684-25ade7cb1cc1",
   "metadata": {},
   "outputs": [
    {
     "name": "stdout",
     "output_type": "stream",
     "text": [
      "01010"
     ]
    }
   ],
   "source": [
    "decimal_binary(10)"
   ]
  },
  {
   "cell_type": "code",
   "execution_count": null,
   "id": "20039bf8-6d15-442e-aace-8aa1e1cbceb1",
   "metadata": {},
   "outputs": [],
   "source": []
  },
  {
   "cell_type": "markdown",
   "id": "9de7d8cf-5eef-47a3-a419-57f592e0a700",
   "metadata": {},
   "source": [
    "# 33 Python Program to convert Decimal number to Octal number"
   ]
  },
  {
   "cell_type": "code",
   "execution_count": 23,
   "id": "df1e7c6d-d307-4f78-90af-0475d80adf36",
   "metadata": {},
   "outputs": [],
   "source": [
    "def decimal_octal(num):\n",
    "     \n",
    "    if num >= 1:\n",
    "        decimal_octal(num // 8)\n",
    "    print(num % 8, end = '')"
   ]
  },
  {
   "cell_type": "code",
   "execution_count": 26,
   "id": "9097a4f4-a62d-4b8f-8418-be6421250daf",
   "metadata": {},
   "outputs": [
    {
     "name": "stdout",
     "output_type": "stream",
     "text": [
      "03400"
     ]
    }
   ],
   "source": [
    "decimal_octal(1792)"
   ]
  },
  {
   "cell_type": "code",
   "execution_count": null,
   "id": "1220cc5e-b569-4197-8a0c-d81984f1e112",
   "metadata": {},
   "outputs": [],
   "source": []
  },
  {
   "cell_type": "markdown",
   "id": "a9705119-00dc-4bf0-9eb7-bec82af1a217",
   "metadata": {},
   "source": [
    "# 34 Python Program to check the given year is a leap year or not"
   ]
  },
  {
   "cell_type": "code",
   "execution_count": 28,
   "id": "a49dbe8c-36c4-4406-9424-c8cf2d7bdf2d",
   "metadata": {},
   "outputs": [],
   "source": [
    "def leap_year_or_not(x):\n",
    "    if x%400 == 0 and x%100 == 0:\n",
    "        print(True)\n",
    "        \n",
    "    elif x%4==0 and x%100!=0:\n",
    "        print(True)\n",
    "    \n",
    "    else:\n",
    "        print(False)"
   ]
  },
  {
   "cell_type": "code",
   "execution_count": 29,
   "id": "60e2b842-82b7-49e6-b08d-9f7822ef0224",
   "metadata": {},
   "outputs": [
    {
     "name": "stdout",
     "output_type": "stream",
     "text": [
      "True\n"
     ]
    }
   ],
   "source": [
    "leap_year_or_not(2020)"
   ]
  },
  {
   "cell_type": "code",
   "execution_count": null,
   "id": "837f635e-023a-429a-81fe-7bdff96297ab",
   "metadata": {},
   "outputs": [],
   "source": []
  },
  {
   "cell_type": "markdown",
   "id": "550b7a4b-b8a0-409c-9abd-18c52703d578",
   "metadata": {},
   "source": [
    "# 35 Python Program to convert Celsius to Fahrenheit"
   ]
  },
  {
   "cell_type": "code",
   "execution_count": 37,
   "id": "8256a131-49e3-4a4d-b8b6-dc4fdc23366e",
   "metadata": {},
   "outputs": [],
   "source": [
    "def cel_far(x):\n",
    "    result = print((x*(9/5)+32),\"deg F\")\n",
    "    return result"
   ]
  },
  {
   "cell_type": "code",
   "execution_count": 38,
   "id": "397d1ed7-22b6-4827-a260-c53e3335e0d5",
   "metadata": {},
   "outputs": [
    {
     "name": "stdout",
     "output_type": "stream",
     "text": [
      "212.0 deg F\n"
     ]
    }
   ],
   "source": [
    "cel_far(100)"
   ]
  },
  {
   "cell_type": "code",
   "execution_count": null,
   "id": "930b24b5-e2e6-45ae-b27f-44fdb2002d76",
   "metadata": {},
   "outputs": [],
   "source": []
  },
  {
   "cell_type": "markdown",
   "id": "311fc9c6-23bb-44e3-99c8-e7c97c29423a",
   "metadata": {},
   "source": [
    "# 36 Python Program to convert Fahrenheit to Celsius"
   ]
  },
  {
   "cell_type": "code",
   "execution_count": 39,
   "id": "5925a510-f53d-4cf8-824f-10288dfcd835",
   "metadata": {},
   "outputs": [],
   "source": [
    "def far_cel(x):\n",
    "    result = print((x-32)*(5/9),\"deg C\")\n",
    "    return result"
   ]
  },
  {
   "cell_type": "code",
   "execution_count": 40,
   "id": "43465001-5796-48f2-bc5e-7081948a3b2b",
   "metadata": {},
   "outputs": [
    {
     "name": "stdout",
     "output_type": "stream",
     "text": [
      "100.0 deg C\n"
     ]
    }
   ],
   "source": [
    "far_cel(212)"
   ]
  },
  {
   "cell_type": "code",
   "execution_count": null,
   "id": "5dc4ba7a-1af8-4a56-bb6f-c848cb6f83e7",
   "metadata": {},
   "outputs": [],
   "source": []
  },
  {
   "cell_type": "markdown",
   "id": "aa722177-c742-4e6e-9c11-92bd7322207f",
   "metadata": {},
   "source": [
    "# 37 Python program to calculate Simple Interest with explanation"
   ]
  },
  {
   "cell_type": "code",
   "execution_count": 45,
   "id": "3b08571e-6e6b-4b62-b874-faebe497fa44",
   "metadata": {},
   "outputs": [],
   "source": [
    "def simple_interest(P,R,T):\n",
    "    S_Int = (P*R*T)/100 # p i sprinciple amount, r is roi, t is time in years s_int is the simple interest for a year\n",
    "    \n",
    "    return S_Int    "
   ]
  },
  {
   "cell_type": "code",
   "execution_count": 44,
   "id": "89cb664c-b9f1-4232-a8e8-1984da150975",
   "metadata": {},
   "outputs": [
    {
     "data": {
      "text/plain": [
       "50.0"
      ]
     },
     "execution_count": 44,
     "metadata": {},
     "output_type": "execute_result"
    }
   ],
   "source": [
    "simple_interest(1000,5,1)"
   ]
  },
  {
   "cell_type": "code",
   "execution_count": null,
   "id": "4594d5e9-c361-42d3-b41b-76b1a2392de0",
   "metadata": {},
   "outputs": [],
   "source": []
  },
  {
   "cell_type": "markdown",
   "id": "1bfdd023-c26d-4849-9f8e-1e19b0f0b854",
   "metadata": {},
   "source": [
    "# 38 Python program to remove given character from String"
   ]
  },
  {
   "cell_type": "code",
   "execution_count": 75,
   "id": "de659a6e-12a1-4ea1-9dbf-5f44f557c049",
   "metadata": {},
   "outputs": [],
   "source": [
    "def remove_char_str(string,char):\n",
    "    new_string=\"\"\n",
    "    for c in string:\n",
    "        if c!=char:\n",
    "            new_string+=c\n",
    "    return new_string"
   ]
  },
  {
   "cell_type": "code",
   "execution_count": 76,
   "id": "63149c16-7601-4f7b-96b1-f4e2cb4dde47",
   "metadata": {},
   "outputs": [
    {
     "data": {
      "text/plain": [
       "'hello'"
      ]
     },
     "execution_count": 76,
     "metadata": {},
     "output_type": "execute_result"
    }
   ],
   "source": [
    "remove_char_str(\"hello@\",\"@\")"
   ]
  },
  {
   "cell_type": "code",
   "execution_count": null,
   "id": "f52d82be-ab42-4da8-9948-9e46d4daa452",
   "metadata": {},
   "outputs": [],
   "source": []
  },
  {
   "cell_type": "markdown",
   "id": "b7d5cf03-1781-4ac1-8711-a59382e85148",
   "metadata": {},
   "source": [
    "# 39 Python Program to count occurrence of a given characters in string"
   ]
  },
  {
   "cell_type": "code",
   "execution_count": 77,
   "id": "da504254-9ba1-4ee0-b1a8-2024386c128e",
   "metadata": {},
   "outputs": [],
   "source": [
    "def count_occurrences(string, char):\n",
    "    count = 0\n",
    "    for c in string:\n",
    "        if c == char:\n",
    "            count += 1\n",
    "    return count"
   ]
  },
  {
   "cell_type": "code",
   "execution_count": 78,
   "id": "f777009b-0642-4831-abf3-0b3293be179f",
   "metadata": {},
   "outputs": [
    {
     "data": {
      "text/plain": [
       "2"
      ]
     },
     "execution_count": 78,
     "metadata": {},
     "output_type": "execute_result"
    }
   ],
   "source": [
    "count_occurrences(\"hello@\",\"l\")"
   ]
  },
  {
   "cell_type": "code",
   "execution_count": null,
   "id": "861bf603-070d-497a-ae03-d25da6ae1714",
   "metadata": {},
   "outputs": [],
   "source": []
  },
  {
   "cell_type": "markdown",
   "id": "c14eba37-821b-4156-9a41-506a8d39dccd",
   "metadata": {},
   "source": [
    "# 40 Python Program to check if two Strings are Anagram"
   ]
  },
  {
   "cell_type": "code",
   "execution_count": 83,
   "id": "82cebe2e-9750-4beb-80d2-4e10b6169fbc",
   "metadata": {},
   "outputs": [],
   "source": [
    "def anagram_or_not(string1,string2):\n",
    "    for char in string1:\n",
    "        if char in string2:\n",
    "            return True"
   ]
  },
  {
   "cell_type": "code",
   "execution_count": 84,
   "id": "6808cdb3-166c-44b0-a257-bc1b9ba6fa74",
   "metadata": {},
   "outputs": [
    {
     "data": {
      "text/plain": [
       "True"
      ]
     },
     "execution_count": 84,
     "metadata": {},
     "output_type": "execute_result"
    }
   ],
   "source": [
    "anagram_or_not(\"fried\",\"fired\")"
   ]
  },
  {
   "cell_type": "code",
   "execution_count": null,
   "id": "16b86aea-798f-43e5-a912-07501e9c15b2",
   "metadata": {},
   "outputs": [],
   "source": []
  },
  {
   "cell_type": "markdown",
   "id": "a5bfc972-1a96-4e40-bed4-b3873d2d0f8f",
   "metadata": {},
   "source": [
    "# 41 Python program to check a String is palindrome or not."
   ]
  },
  {
   "cell_type": "code",
   "execution_count": 87,
   "id": "970b4419-eb1e-44c1-918e-7d7a05761646",
   "metadata": {},
   "outputs": [],
   "source": [
    "def palindrome_check(string1):\n",
    "    string=str(string1)\n",
    "    reverse_str = string[::-1]\n",
    "    if string == reverse_str:\n",
    "        result=\"Given string is a Palindrome number\"\n",
    "    else:\n",
    "        result=\"Given string is not a palindrome\"\n",
    "    return result"
   ]
  },
  {
   "cell_type": "code",
   "execution_count": 88,
   "id": "5ea2bccd-95e4-448e-912f-6dd456a29ceb",
   "metadata": {},
   "outputs": [
    {
     "data": {
      "text/plain": [
       "'Given string is a Palindrome number'"
      ]
     },
     "execution_count": 88,
     "metadata": {},
     "output_type": "execute_result"
    }
   ],
   "source": [
    "palindrome_check(\"OYO\")"
   ]
  },
  {
   "cell_type": "code",
   "execution_count": null,
   "id": "2f27607a-383c-4144-b115-d7e24ec0349d",
   "metadata": {},
   "outputs": [],
   "source": []
  },
  {
   "cell_type": "markdown",
   "id": "61c15636-d90a-473f-9d08-e950bd346092",
   "metadata": {},
   "source": [
    "# 42 Python program to check given character is vowel or consonant."
   ]
  },
  {
   "cell_type": "code",
   "execution_count": 96,
   "id": "064d2e9b-c351-45f3-94ab-7456dccca1e3",
   "metadata": {},
   "outputs": [],
   "source": [
    "def vowel_consonant(char):\n",
    "    if char in [\"a\",\"e\",\"i\",\"o\",\"u\",\"A\",\"E\",\"I\",\"O\",\"U\"]:\n",
    "        result =  \"given char is vowel\"\n",
    "    else:\n",
    "        result = \"given char is consonant\"\n",
    "    return result"
   ]
  },
  {
   "cell_type": "code",
   "execution_count": 97,
   "id": "d7abd7ec-45c1-440f-a1d9-b9f9928e4c90",
   "metadata": {},
   "outputs": [
    {
     "data": {
      "text/plain": [
       "'given char is vowel'"
      ]
     },
     "execution_count": 97,
     "metadata": {},
     "output_type": "execute_result"
    }
   ],
   "source": [
    "vowel_consonant(\"a\")"
   ]
  },
  {
   "cell_type": "code",
   "execution_count": null,
   "id": "e4dac4a0-4bf8-40c0-a560-bd4f6347682e",
   "metadata": {},
   "outputs": [],
   "source": []
  },
  {
   "cell_type": "markdown",
   "id": "f00079ab-3a37-4e78-9406-98d206faaa5b",
   "metadata": {},
   "source": [
    "# 43 Python program to check given character is digit or not"
   ]
  },
  {
   "cell_type": "code",
   "execution_count": 111,
   "id": "37bda2e3-a57f-4f55-9bf7-a0863a09b8b3",
   "metadata": {},
   "outputs": [],
   "source": [
    "def digit_or_not(x):\n",
    "    if 0<=ord(x)<=47 or 58<=ord(x)<=127:\n",
    "        return \"not digit\"\n",
    "    else:\n",
    "        return \"is digit\""
   ]
  },
  {
   "cell_type": "code",
   "execution_count": 112,
   "id": "8bae1b04-5b82-4603-8d54-000faa3d73b7",
   "metadata": {},
   "outputs": [
    {
     "data": {
      "text/plain": [
       "'is digit'"
      ]
     },
     "execution_count": 112,
     "metadata": {},
     "output_type": "execute_result"
    }
   ],
   "source": [
    "digit_or_not('1')"
   ]
  },
  {
   "cell_type": "code",
   "execution_count": null,
   "id": "8c74bb75-182b-4fbc-ac20-848b5e78e303",
   "metadata": {},
   "outputs": [],
   "source": []
  },
  {
   "cell_type": "markdown",
   "id": "3928cc60-fe38-4d1b-8086-ca758c33d94b",
   "metadata": {},
   "source": [
    "# 44 Python program to check given character is digit or not using isdigit() method."
   ]
  },
  {
   "cell_type": "code",
   "execution_count": 102,
   "id": "00afaeda-725c-44d7-ab85-2018007604dc",
   "metadata": {},
   "outputs": [],
   "source": [
    "def is_digit(character):\n",
    "    return character.isdigit()"
   ]
  },
  {
   "cell_type": "code",
   "execution_count": 104,
   "id": "d8f1d792-4b9d-418d-bc21-91c61ed6db89",
   "metadata": {},
   "outputs": [
    {
     "data": {
      "text/plain": [
       "True"
      ]
     },
     "execution_count": 104,
     "metadata": {},
     "output_type": "execute_result"
    }
   ],
   "source": [
    "is_digit('1')"
   ]
  },
  {
   "cell_type": "code",
   "execution_count": null,
   "id": "c10c6010-6b1d-4ed6-b5c0-6b91f2a96483",
   "metadata": {},
   "outputs": [],
   "source": []
  },
  {
   "cell_type": "markdown",
   "id": "b70f5d02-218e-478f-a20d-5e33d36f01af",
   "metadata": {},
   "source": [
    "# 45 Python program to replace the string space with a given character."
   ]
  },
  {
   "cell_type": "code",
   "execution_count": 120,
   "id": "88478f88-57c3-4378-bd22-0b5a64b052af",
   "metadata": {},
   "outputs": [],
   "source": [
    "def string_space_with_char(string,char):\n",
    "    new_string=\"\"\n",
    "    for c in string:\n",
    "        if c == \" \":\n",
    "            c = char\n",
    "        new_string+=c\n",
    "    return new_string"
   ]
  },
  {
   "cell_type": "code",
   "execution_count": 121,
   "id": "328dac67-4a5f-4fb1-91d8-fdc35280dbdc",
   "metadata": {},
   "outputs": [
    {
     "data": {
      "text/plain": [
       "'hello@world'"
      ]
     },
     "execution_count": 121,
     "metadata": {},
     "output_type": "execute_result"
    }
   ],
   "source": [
    "string_space_with_char(\"hello world\",\"@\")"
   ]
  },
  {
   "cell_type": "code",
   "execution_count": null,
   "id": "74613f3c-3452-45e5-b82c-d2c431b5c0ca",
   "metadata": {},
   "outputs": [],
   "source": []
  },
  {
   "cell_type": "markdown",
   "id": "e8d9665b-04a3-46fd-a948-42bc36c68e31",
   "metadata": {},
   "source": [
    "# 46 Python program to replace the string space with a given character using replace() method."
   ]
  },
  {
   "cell_type": "code",
   "execution_count": 122,
   "id": "d4a78d2b-bee8-4fda-87aa-cbdd45512f1c",
   "metadata": {},
   "outputs": [],
   "source": [
    "def space_with_char(string,char):\n",
    "    for c in string:\n",
    "        if c == \" \":\n",
    "            new_string= string.replace(\" \",char)\n",
    "    return new_string"
   ]
  },
  {
   "cell_type": "code",
   "execution_count": 123,
   "id": "6aa58539-e609-431c-8012-9e13ac84ce0e",
   "metadata": {},
   "outputs": [
    {
     "data": {
      "text/plain": [
       "'hello@world'"
      ]
     },
     "execution_count": 123,
     "metadata": {},
     "output_type": "execute_result"
    }
   ],
   "source": [
    "space_with_char(\"hello world\",\"@\")"
   ]
  },
  {
   "cell_type": "code",
   "execution_count": null,
   "id": "6f23e08c-158b-4498-81cd-968e0a02ac70",
   "metadata": {},
   "outputs": [],
   "source": []
  },
  {
   "cell_type": "markdown",
   "id": "85146b87-ef46-450f-bdcc-ac738023c41a",
   "metadata": {},
   "source": [
    "# 47 Python program to convert lowercase char to uppercase of string."
   ]
  },
  {
   "cell_type": "code",
   "execution_count": 124,
   "id": "e34cd4c9-e930-4368-a715-a0bcf1a190fc",
   "metadata": {},
   "outputs": [],
   "source": [
    "def upper_custom(string):\n",
    "    if type(string)==str:\n",
    "        empty_lst=[]\n",
    "        for char in string:\n",
    "\n",
    "            if 97<=ord(char)<=122:\n",
    "                char=chr(ord(char)-32)\n",
    "                empty_lst.append(char)\n",
    "            else:\n",
    "                empty_lst.append(char)\n",
    "        return ''.join(empty_lst)\n",
    "    else:\n",
    "        return 'please enter string'"
   ]
  },
  {
   "cell_type": "code",
   "execution_count": 125,
   "id": "b5fcc1b7-bec9-4fcc-ae59-089c8754d099",
   "metadata": {},
   "outputs": [
    {
     "data": {
      "text/plain": [
       "'PYTHON'"
      ]
     },
     "execution_count": 125,
     "metadata": {},
     "output_type": "execute_result"
    }
   ],
   "source": [
    "upper_custom(\"python\")"
   ]
  },
  {
   "cell_type": "code",
   "execution_count": null,
   "id": "d1e10233-f3b1-4bcd-8aa2-ecd054de5037",
   "metadata": {},
   "outputs": [],
   "source": []
  },
  {
   "cell_type": "markdown",
   "id": "5e382ece-7706-4da6-8a01-b1bc301b1e76",
   "metadata": {},
   "source": [
    "# 48 Python program to convert lowercase vowel to uppercase in string"
   ]
  },
  {
   "cell_type": "code",
   "execution_count": 129,
   "id": "a7f2558d-d550-4e6f-8ede-153e17e51286",
   "metadata": {},
   "outputs": [],
   "source": [
    "def upper_vowel(string):\n",
    "    if type(string)==str:\n",
    "        empty_lst=[]\n",
    "        for char in string:\n",
    "            if char in [\"a\",\"e\",\"i\",\"o\",\"u\",\"A\",\"E\",\"I\",\"O\",\"U\"] and  97<=ord(char)<=122:\n",
    "                            \n",
    "                char=chr(ord(char)-32)\n",
    "                empty_lst.append(char)\n",
    "            else:\n",
    "                empty_lst.append(char)\n",
    "        return ''.join(empty_lst)\n",
    "    else:\n",
    "        return 'please enter string'"
   ]
  },
  {
   "cell_type": "code",
   "execution_count": 130,
   "id": "b305a899-1ece-4e45-8e6a-0af22038b386",
   "metadata": {},
   "outputs": [
    {
     "data": {
      "text/plain": [
       "'hEllO wElcOmE'"
      ]
     },
     "execution_count": 130,
     "metadata": {},
     "output_type": "execute_result"
    }
   ],
   "source": [
    "upper_vowel(\"hello welcome\")"
   ]
  },
  {
   "cell_type": "code",
   "execution_count": null,
   "id": "16c62063-dee0-4140-b79d-1f7505032d45",
   "metadata": {},
   "outputs": [],
   "source": []
  },
  {
   "cell_type": "markdown",
   "id": "52d576a6-3f75-4abf-a45b-9e0486406436",
   "metadata": {},
   "source": [
    "# 49 Python program to delete vowels in a given string."
   ]
  },
  {
   "cell_type": "code",
   "execution_count": 147,
   "id": "744ddd36-d253-4618-a6a4-73051c614776",
   "metadata": {},
   "outputs": [],
   "source": [
    "def delete_vowel(string):\n",
    "    if type(string)==str:\n",
    "        new_string = \"\"\n",
    "        for char in string:\n",
    "            if char not in [\"a\",\"e\",\"i\",\"o\",\"u\",\"A\",\"E\",\"I\",\"O\",\"U\"]:\n",
    "                new_string += char\n",
    "        return new_string"
   ]
  },
  {
   "cell_type": "code",
   "execution_count": 148,
   "id": "cab2da6c-2c7b-404b-8ee2-76890d8cb89c",
   "metadata": {},
   "outputs": [
    {
     "data": {
      "text/plain": [
       "'hll wlcm'"
      ]
     },
     "execution_count": 148,
     "metadata": {},
     "output_type": "execute_result"
    }
   ],
   "source": [
    "delete_vowel(\"hello welcome\")"
   ]
  },
  {
   "cell_type": "code",
   "execution_count": null,
   "id": "9adc7a32-3dca-46c6-a3a9-8d50408aaa9a",
   "metadata": {},
   "outputs": [],
   "source": []
  },
  {
   "cell_type": "markdown",
   "id": "1be1526f-a838-48be-84f4-b0e964086383",
   "metadata": {},
   "source": [
    "# 50 Python program to count the Occurrence Of Vowels & Consonants in a String"
   ]
  },
  {
   "cell_type": "code",
   "execution_count": 151,
   "id": "d6cced93-af1c-42ab-b5f8-9d0c2e9ff097",
   "metadata": {},
   "outputs": [],
   "source": [
    "def count_vowels_cons(string):\n",
    "    vowel_count=0\n",
    "    consonants_count=0\n",
    "    for char in string:\n",
    "        if char in [\"a\",\"e\",\"i\",\"o\",\"u\",\"A\",\"E\",\"I\",\"O\",\"U\"]:\n",
    "            vowel_count+=1\n",
    "        elif char not in [\"a\",\"e\",\"i\",\"o\",\"u\",\"A\",\"E\",\"I\",\"O\",\"U\"]:\n",
    "            consonants_count+=1\n",
    "    return vowel_count,consonants_count"
   ]
  },
  {
   "cell_type": "code",
   "execution_count": 152,
   "id": "4e41251c-2ce6-4685-933c-2157fec4269d",
   "metadata": {},
   "outputs": [
    {
     "data": {
      "text/plain": [
       "(5, 8)"
      ]
     },
     "execution_count": 152,
     "metadata": {},
     "output_type": "execute_result"
    }
   ],
   "source": [
    "count_vowels_cons(\"hello welcome\")"
   ]
  },
  {
   "cell_type": "code",
   "execution_count": null,
   "id": "3d21e987-7c39-482d-a3ea-48849d4b75e1",
   "metadata": {},
   "outputs": [],
   "source": []
  },
  {
   "cell_type": "markdown",
   "id": "2a5a15ce-a601-4f61-b978-bcafd0c08b93",
   "metadata": {},
   "source": [
    "# 51 Python program to print the highest frequency character in a String."
   ]
  },
  {
   "cell_type": "code",
   "execution_count": null,
   "id": "d7ed01c1-b69b-4e76-8f42-1df41969e3ef",
   "metadata": {},
   "outputs": [],
   "source": [
    "def "
   ]
  },
  {
   "cell_type": "code",
   "execution_count": null,
   "id": "8a05dcb4-0b6a-4c3a-82a2-c2ba474fb943",
   "metadata": {},
   "outputs": [],
   "source": []
  },
  {
   "cell_type": "code",
   "execution_count": null,
   "id": "3a46b7a5-c155-4e60-b223-a7c8047bfa70",
   "metadata": {},
   "outputs": [],
   "source": []
  },
  {
   "cell_type": "code",
   "execution_count": null,
   "id": "091d33dc-8610-48f9-a4c9-c5db301fefbc",
   "metadata": {},
   "outputs": [],
   "source": []
  },
  {
   "cell_type": "code",
   "execution_count": null,
   "id": "e6d80829-1911-41d6-8331-64e242554786",
   "metadata": {},
   "outputs": [],
   "source": []
  },
  {
   "cell_type": "code",
   "execution_count": null,
   "id": "2f86390b-8dc7-4d32-8e11-5b333e7226b9",
   "metadata": {},
   "outputs": [],
   "source": []
  },
  {
   "cell_type": "code",
   "execution_count": null,
   "id": "6493b948-57af-4f07-8e2c-68b855b185d8",
   "metadata": {},
   "outputs": [],
   "source": []
  },
  {
   "cell_type": "code",
   "execution_count": null,
   "id": "1e358b9b-0efa-49a9-aaeb-32fb7f6dd52b",
   "metadata": {},
   "outputs": [],
   "source": []
  },
  {
   "cell_type": "code",
   "execution_count": null,
   "id": "6826129d-75af-41d6-b6d6-97a1f4ade4bf",
   "metadata": {},
   "outputs": [],
   "source": []
  },
  {
   "cell_type": "code",
   "execution_count": null,
   "id": "b88cf678-65c5-4c93-a3e3-600a7421ba39",
   "metadata": {},
   "outputs": [],
   "source": []
  },
  {
   "cell_type": "code",
   "execution_count": null,
   "id": "04871982-e5d7-4a3d-bc65-cf95d1cb8df0",
   "metadata": {},
   "outputs": [],
   "source": []
  },
  {
   "cell_type": "code",
   "execution_count": null,
   "id": "24f58e81-e077-44c5-8617-7908a3704f49",
   "metadata": {},
   "outputs": [],
   "source": []
  },
  {
   "cell_type": "code",
   "execution_count": null,
   "id": "df8ed51c-ee5d-4318-95f7-2f49f0d5b0f7",
   "metadata": {},
   "outputs": [],
   "source": []
  },
  {
   "cell_type": "code",
   "execution_count": null,
   "id": "2039fc2c-d19b-49c4-beb4-e006d254ea8f",
   "metadata": {},
   "outputs": [],
   "source": []
  },
  {
   "cell_type": "code",
   "execution_count": null,
   "id": "54e197dd-6a7a-4ad7-8fb9-ad352b9eda9c",
   "metadata": {},
   "outputs": [],
   "source": []
  },
  {
   "cell_type": "code",
   "execution_count": null,
   "id": "76f0e875-23bc-4e4b-96cb-9fdd0b4b376f",
   "metadata": {},
   "outputs": [],
   "source": []
  },
  {
   "cell_type": "code",
   "execution_count": null,
   "id": "4eaa437c-5116-4fa4-aec7-88e517a53fc3",
   "metadata": {},
   "outputs": [],
   "source": []
  },
  {
   "cell_type": "code",
   "execution_count": null,
   "id": "64d8d501-8f75-4db1-b697-cf5bacd80e2c",
   "metadata": {},
   "outputs": [],
   "source": []
  },
  {
   "cell_type": "code",
   "execution_count": null,
   "id": "022e737c-4b98-4cc6-8d5b-ce2229641686",
   "metadata": {},
   "outputs": [],
   "source": []
  },
  {
   "cell_type": "code",
   "execution_count": null,
   "id": "8179e64f-ae94-4399-8b31-bce4b033a7b7",
   "metadata": {},
   "outputs": [],
   "source": []
  },
  {
   "cell_type": "code",
   "execution_count": null,
   "id": "4814b3de-8088-4262-bb15-36add187b433",
   "metadata": {},
   "outputs": [],
   "source": []
  },
  {
   "cell_type": "code",
   "execution_count": null,
   "id": "1b1044f4-dcc0-43e7-a619-cc29ab20ab5b",
   "metadata": {},
   "outputs": [],
   "source": []
  },
  {
   "cell_type": "code",
   "execution_count": null,
   "id": "a0571819-5820-4723-b673-835a195ef42f",
   "metadata": {},
   "outputs": [],
   "source": []
  },
  {
   "cell_type": "code",
   "execution_count": null,
   "id": "016550ee-c3a8-4f45-a99f-669eb3d644ab",
   "metadata": {},
   "outputs": [],
   "source": []
  },
  {
   "cell_type": "code",
   "execution_count": null,
   "id": "62b48d65-3d5a-49f5-b255-13b80b5a9dee",
   "metadata": {},
   "outputs": [],
   "source": []
  },
  {
   "cell_type": "code",
   "execution_count": null,
   "id": "ca394b57-ad94-4a12-959c-d45ee386ffaa",
   "metadata": {},
   "outputs": [],
   "source": []
  },
  {
   "cell_type": "code",
   "execution_count": null,
   "id": "5af2494a-bb07-492c-86cf-2cae620a4434",
   "metadata": {},
   "outputs": [],
   "source": []
  },
  {
   "cell_type": "code",
   "execution_count": null,
   "id": "6dfd07a6-9fbb-464b-b39d-66958a06853b",
   "metadata": {},
   "outputs": [],
   "source": []
  },
  {
   "cell_type": "code",
   "execution_count": null,
   "id": "7523f070-9ebf-480d-a406-af94c8198aac",
   "metadata": {},
   "outputs": [],
   "source": []
  },
  {
   "cell_type": "code",
   "execution_count": null,
   "id": "8971827e-5bfc-42a0-ac43-a9b4177d2827",
   "metadata": {},
   "outputs": [],
   "source": []
  },
  {
   "cell_type": "code",
   "execution_count": null,
   "id": "6e351f98-20e7-41f4-a20d-265f898addf7",
   "metadata": {},
   "outputs": [],
   "source": []
  },
  {
   "cell_type": "code",
   "execution_count": null,
   "id": "bd249280-8b49-45fa-a700-edb755872d62",
   "metadata": {},
   "outputs": [],
   "source": []
  },
  {
   "cell_type": "code",
   "execution_count": null,
   "id": "f3286649-a789-4ea9-a7ce-0f002dfece81",
   "metadata": {},
   "outputs": [],
   "source": []
  },
  {
   "cell_type": "code",
   "execution_count": null,
   "id": "594e4b5a-96da-453b-98a2-2ddeb818ab2c",
   "metadata": {},
   "outputs": [],
   "source": []
  },
  {
   "cell_type": "code",
   "execution_count": null,
   "id": "6d33b36a-a48e-497d-8afa-a7d049c21701",
   "metadata": {},
   "outputs": [],
   "source": []
  },
  {
   "cell_type": "code",
   "execution_count": null,
   "id": "219d7474-7f73-48a6-8c2b-eb32d74bb457",
   "metadata": {},
   "outputs": [],
   "source": []
  },
  {
   "cell_type": "code",
   "execution_count": null,
   "id": "c53e9900-01e5-44dd-b63c-0b58261ff561",
   "metadata": {},
   "outputs": [],
   "source": []
  },
  {
   "cell_type": "code",
   "execution_count": null,
   "id": "3f2f03ff-85bc-4563-ab29-bbd8a3510a96",
   "metadata": {},
   "outputs": [],
   "source": []
  },
  {
   "cell_type": "code",
   "execution_count": null,
   "id": "ee698838-9961-478e-aeb2-1b5b80540061",
   "metadata": {},
   "outputs": [],
   "source": []
  },
  {
   "cell_type": "code",
   "execution_count": null,
   "id": "a24d17ba-9e9c-4475-aa9c-0d59abdc1242",
   "metadata": {},
   "outputs": [],
   "source": []
  },
  {
   "cell_type": "code",
   "execution_count": null,
   "id": "07962616-31c0-46e7-b7ec-416e97ae71f2",
   "metadata": {},
   "outputs": [],
   "source": []
  },
  {
   "cell_type": "code",
   "execution_count": null,
   "id": "97911946-17a6-4633-9849-610a100559ce",
   "metadata": {},
   "outputs": [],
   "source": []
  },
  {
   "cell_type": "code",
   "execution_count": null,
   "id": "96ce7848-d090-48d4-8e20-26df6a832003",
   "metadata": {},
   "outputs": [],
   "source": []
  },
  {
   "cell_type": "code",
   "execution_count": null,
   "id": "1289e0e9-4176-43e0-a342-65b78e33402d",
   "metadata": {},
   "outputs": [],
   "source": []
  },
  {
   "cell_type": "code",
   "execution_count": null,
   "id": "220ecd18-ab8d-4c96-a33e-ce8c06968ff6",
   "metadata": {},
   "outputs": [],
   "source": []
  },
  {
   "cell_type": "code",
   "execution_count": null,
   "id": "4a1ed478-2dd1-4974-8238-a9aa7b5e34d0",
   "metadata": {},
   "outputs": [],
   "source": []
  },
  {
   "cell_type": "code",
   "execution_count": null,
   "id": "5b064685-6cc4-431d-8a98-4878c86e9bfc",
   "metadata": {},
   "outputs": [],
   "source": []
  },
  {
   "cell_type": "code",
   "execution_count": null,
   "id": "1c2e8739-d9a5-4470-8e0b-e8aa66ff930b",
   "metadata": {},
   "outputs": [],
   "source": []
  },
  {
   "cell_type": "code",
   "execution_count": null,
   "id": "a44972ee-030f-4404-9a32-188476a9c7f1",
   "metadata": {},
   "outputs": [],
   "source": []
  },
  {
   "cell_type": "code",
   "execution_count": null,
   "id": "798494d4-2f22-4e9c-8637-6e4b60eb0570",
   "metadata": {},
   "outputs": [],
   "source": []
  },
  {
   "cell_type": "code",
   "execution_count": null,
   "id": "355cc981-6ac8-46ac-833d-05c014abf31d",
   "metadata": {},
   "outputs": [],
   "source": []
  },
  {
   "cell_type": "code",
   "execution_count": null,
   "id": "261083c6-ff14-4e4d-8fb3-31d04af5ae53",
   "metadata": {},
   "outputs": [],
   "source": []
  },
  {
   "cell_type": "code",
   "execution_count": null,
   "id": "96193512-cc03-4074-87fd-9c4a20d3798d",
   "metadata": {},
   "outputs": [],
   "source": []
  },
  {
   "cell_type": "code",
   "execution_count": null,
   "id": "b6335eda-c465-4da1-b630-874dae1c8639",
   "metadata": {},
   "outputs": [],
   "source": []
  },
  {
   "cell_type": "code",
   "execution_count": null,
   "id": "5f4beeec-724b-4062-bacb-72d84cd7fbcc",
   "metadata": {},
   "outputs": [],
   "source": []
  },
  {
   "cell_type": "code",
   "execution_count": null,
   "id": "b62a2d6b-61ea-4bb0-9b53-0283d67b0b54",
   "metadata": {},
   "outputs": [],
   "source": []
  },
  {
   "cell_type": "code",
   "execution_count": null,
   "id": "f2015cac-b510-4d5e-83b3-8597301ab24d",
   "metadata": {},
   "outputs": [],
   "source": []
  }
 ],
 "metadata": {
  "kernelspec": {
   "display_name": "Python 3 (ipykernel)",
   "language": "python",
   "name": "python3"
  },
  "language_info": {
   "codemirror_mode": {
    "name": "ipython",
    "version": 3
   },
   "file_extension": ".py",
   "mimetype": "text/x-python",
   "name": "python",
   "nbconvert_exporter": "python",
   "pygments_lexer": "ipython3",
   "version": "3.9.7"
  }
 },
 "nbformat": 4,
 "nbformat_minor": 5
}

{
 "cells": [
  {
   "cell_type": "code",
   "execution_count": 2,
   "id": "def5909c-b1c1-46fd-b97e-f9f647a0bf2d",
   "metadata": {},
   "outputs": [
    {
     "name": "stdout",
     "output_type": "stream",
     "text": [
      "* * *\n",
      "*   *\n",
      "* * *\n",
      "*   *\n"
     ]
    }
   ],
   "source": [
    "a=1\n",
    "b=2\n",
    "c=3\n",
    "d=4\n",
    "e=5\n",
    "if a==1:\n",
    "    print(\"* * *\")\n",
    "if b==2:\n",
    "    print(\"*   *\")\n",
    "if c==3:\n",
    "    print(\"* * *\")\n",
    "if d==4:\n",
    "    print(\"*   *\")"
   ]
  },
  {
   "cell_type": "code",
   "execution_count": 5,
   "id": "d11dafc3-a07b-4951-ba17-04790e3b7d83",
   "metadata": {},
   "outputs": [
    {
     "name": "stdout",
     "output_type": "stream",
     "text": [
      "* * * *\n",
      "*     *\n",
      "* * *\n",
      "*     *\n",
      "* * * *\n"
     ]
    }
   ],
   "source": [
    "a=1\n",
    "b=2\n",
    "c=3\n",
    "d=4\n",
    "e=5\n",
    "if a==1:\n",
    "    print(\"* * * *\")\n",
    "if b==2:\n",
    "    print(\"*     *\")\n",
    "if c==3:\n",
    "    print(\"* * *\")\n",
    "\n",
    "if b==2:\n",
    "    print(\"*     *\")\n",
    "if e==5:\n",
    "    print(\"* * * *\")"
   ]
  },
  {
   "cell_type": "code",
   "execution_count": 7,
   "id": "abd12364-df53-4760-9ea6-ed6e8f18bd97",
   "metadata": {},
   "outputs": [
    {
     "name": "stdout",
     "output_type": "stream",
     "text": [
      "* * *\n",
      "*     \n",
      "* * *\n"
     ]
    }
   ],
   "source": [
    "a=1\n",
    "b=2\n",
    "c=3\n",
    "d=4\n",
    "e=5\n",
    "if a==1:\n",
    "    print(\"* * *\")\n",
    "if b==2:\n",
    "    print(\"*     \")\n",
    "if c==3:\n",
    "    print(\"* * *\")"
   ]
  },
  {
   "cell_type": "code",
   "execution_count": 44,
   "id": "bef41267-f06d-4bb6-a82c-62ef16073229",
   "metadata": {},
   "outputs": [
    {
     "name": "stdout",
     "output_type": "stream",
     "text": [
      "*  *  \n",
      "*    *\n",
      "*  *  \n"
     ]
    }
   ],
   "source": [
    "a=1\n",
    "b=2\n",
    "c=3\n",
    "d=4\n",
    "e=5\n",
    "if a==1:\n",
    "    print(\"*  *  \")\n",
    "if b==2:\n",
    "    print(\"*    *\")\n",
    "if c==3:\n",
    "    print(\"*  *  \")"
   ]
  },
  {
   "cell_type": "code",
   "execution_count": 45,
   "id": "e8bc4b4e-d8f6-4218-b1e2-5d30b024f3ea",
   "metadata": {},
   "outputs": [
    {
     "name": "stdout",
     "output_type": "stream",
     "text": [
      "* * * *\n",
      "*\n",
      "* *   \n",
      "*\n",
      "* * * *\n"
     ]
    }
   ],
   "source": [
    "a=1\n",
    "b=2\n",
    "c=3\n",
    "d=4\n",
    "e=5\n",
    "if a==1:\n",
    "    print(\"* * * *\")\n",
    "if a==1:\n",
    "    print(\"*\")\n",
    "if b==2:\n",
    "    print(\"* *   \")\n",
    "if a==1:\n",
    "    print(\"*\")\n",
    "if c==3:\n",
    "    print(\"* * * *\")"
   ]
  },
  {
   "cell_type": "code",
   "execution_count": 46,
   "id": "8f0db738-0bfd-44ec-86c4-007d9d724e2b",
   "metadata": {},
   "outputs": [
    {
     "name": "stdout",
     "output_type": "stream",
     "text": [
      "* * * *\n",
      "* *   \n",
      "* \n",
      "* \n"
     ]
    }
   ],
   "source": [
    "a=1\n",
    "b=2\n",
    "c=3\n",
    "d=4\n",
    "e=5\n",
    "if a==1:\n",
    "    print(\"* * * *\")\n",
    "if b==2:\n",
    "    print(\"* *   \")\n",
    "if c==3:\n",
    "    print(\"* \")\n",
    "if c==3:\n",
    "    print(\"* \")"
   ]
  },
  {
   "cell_type": "code",
   "execution_count": 24,
   "id": "464d19b7-8158-4f0d-b14d-cfb19640d638",
   "metadata": {},
   "outputs": [
    {
     "name": "stdout",
     "output_type": "stream",
     "text": [
      "* * * *\n",
      "*\n",
      "*   * *\n",
      "* * * * \n"
     ]
    }
   ],
   "source": [
    "a=1\n",
    "b=2\n",
    "c=3\n",
    "d=4\n",
    "e=5\n",
    "if a==1:\n",
    "    print(\"* * * *\")\n",
    "if a==1:\n",
    "    print(\"*\")\n",
    "if b==2:\n",
    "    print(\"*   * *\")\n",
    "if c==3:\n",
    "    print(\"* * * * \")"
   ]
  },
  {
   "cell_type": "code",
   "execution_count": 26,
   "id": "b28d0622-1433-4411-b103-5b3f8127c826",
   "metadata": {},
   "outputs": [
    {
     "name": "stdout",
     "output_type": "stream",
     "text": [
      "*     *\n",
      "*     *\n",
      "* * * *\n",
      "*     *\n",
      "*     *\n"
     ]
    }
   ],
   "source": [
    "a=1\n",
    "b=2\n",
    "c=3\n",
    "d=4\n",
    "e=5\n",
    "if a==1:\n",
    "    print(\"*     *\")\n",
    "if a==1:\n",
    "    print(\"*     *\")\n",
    "if b==2:\n",
    "    print(\"* * * *\")\n",
    "if c==3:\n",
    "    print(\"*     *\")\n",
    "if a==1:\n",
    "    print(\"*     *\")"
   ]
  },
  {
   "cell_type": "code",
   "execution_count": 16,
   "id": "bf9c85f7-8f34-4669-be18-5c29a3378549",
   "metadata": {},
   "outputs": [
    {
     "name": "stdout",
     "output_type": "stream",
     "text": [
      "* * *\n",
      "  *  \n",
      "  *  \n",
      "* * *\n"
     ]
    }
   ],
   "source": [
    "a=1\n",
    "b=2\n",
    "c=3\n",
    "d=4\n",
    "e=5\n",
    "if a==1:\n",
    "    print(\"* * *\")\n",
    "if b==2:\n",
    "    print(\"  *  \")\n",
    "if b==2:\n",
    "    print(\"  *  \")\n",
    "if c==3:\n",
    "    print(\"* * *\")"
   ]
  },
  {
   "cell_type": "code",
   "execution_count": 18,
   "id": "b51d1f0a-1495-4756-aa2b-01a4e9d21dc6",
   "metadata": {},
   "outputs": [
    {
     "name": "stdout",
     "output_type": "stream",
     "text": [
      "* * *\n",
      "    *\n",
      "*   *\n",
      "* * *\n"
     ]
    }
   ],
   "source": [
    "a=1\n",
    "b=2\n",
    "c=3\n",
    "d=4\n",
    "e=5\n",
    "if a==1:\n",
    "    print(\"* * *\")\n",
    "if b==2:\n",
    "    print(\"    *\")\n",
    "if b==2:\n",
    "    print(\"*   *\")\n",
    "if c==3:\n",
    "    print(\"* * *\")"
   ]
  },
  {
   "cell_type": "code",
   "execution_count": 19,
   "id": "ec2f8cc1-8fb3-480f-a013-be84b86daab1",
   "metadata": {},
   "outputs": [
    {
     "name": "stdout",
     "output_type": "stream",
     "text": [
      "*   *\n",
      "* *\n",
      "*   *\n"
     ]
    }
   ],
   "source": [
    "a=1\n",
    "b=2\n",
    "c=3\n",
    "d=4\n",
    "e=5\n",
    "if a==1:\n",
    "    print(\"*   *\")\n",
    "if b==2:\n",
    "    print(\"* *\")\n",
    "if b==2:\n",
    "    print(\"*   *\")\n"
   ]
  },
  {
   "cell_type": "code",
   "execution_count": 21,
   "id": "c5ba8835-e827-4c32-be8d-f6dd6c9b9b15",
   "metadata": {},
   "outputs": [
    {
     "name": "stdout",
     "output_type": "stream",
     "text": [
      "*\n",
      "*\n",
      "*\n",
      "* * *\n"
     ]
    }
   ],
   "source": [
    "a=1\n",
    "b=2\n",
    "c=3\n",
    "d=4\n",
    "e=5\n",
    "if a==1:\n",
    "    print(\"*\")\n",
    "if b==2:\n",
    "    print(\"*\")\n",
    "if b==2:\n",
    "    print(\"*\")\n",
    "if b==2:\n",
    "    print(\"* * *\")"
   ]
  },
  {
   "cell_type": "code",
   "execution_count": 27,
   "id": "cdbccff6-5a48-4f9d-bce8-dab5904335ea",
   "metadata": {},
   "outputs": [
    {
     "name": "stdout",
     "output_type": "stream",
     "text": [
      "*       *\n",
      "*   *   *\n",
      "*       *\n",
      "*       *\n"
     ]
    }
   ],
   "source": [
    "a=1\n",
    "b=2\n",
    "c=3\n",
    "d=4\n",
    "e=5\n",
    "if a==1:\n",
    "    print(\"*       *\")\n",
    "if b==2:\n",
    "    print(\"*   *   *\")\n",
    "if b==2:\n",
    "    print(\"*       *\")\n",
    "if b==2:\n",
    "    print(\"*       *\")"
   ]
  },
  {
   "cell_type": "code",
   "execution_count": 30,
   "id": "ae955aaf-12b6-4854-ba2e-4f5134c95e07",
   "metadata": {},
   "outputs": [
    {
     "name": "stdout",
     "output_type": "stream",
     "text": [
      "*         *\n",
      "*  *      *\n",
      "*      *  *\n",
      "*         *\n"
     ]
    }
   ],
   "source": [
    "a=1\n",
    "b=2\n",
    "c=3\n",
    "d=4\n",
    "e=5\n",
    "if a==1:\n",
    "    print(\"*         *\")\n",
    "if b==2:\n",
    "    print(\"*  *      *\")\n",
    "if b==2:\n",
    "    print(\"*      *  *\")\n",
    "if b==2:\n",
    "    print(\"*         *\")"
   ]
  },
  {
   "cell_type": "code",
   "execution_count": 53,
   "id": "88cdc54a-e169-4151-8aa4-8ad9689bf101",
   "metadata": {},
   "outputs": [
    {
     "name": "stdout",
     "output_type": "stream",
     "text": [
      "    * *    \n",
      "*         *\n",
      "*         *\n",
      "*         *\n",
      "    * *    \n"
     ]
    }
   ],
   "source": [
    "a=1\n",
    "b=2\n",
    "c=3\n",
    "d=4\n",
    "e=5\n",
    "if a==1:\n",
    "    print(\"    * *    \")\n",
    "if b==2:\n",
    "    print(\"*         *\")\n",
    "if b==2:\n",
    "    print(\"*         *\")\n",
    "if b==2:\n",
    "    print(\"*         *\")\n",
    "if b==2:\n",
    "    print(\"    * *    \")"
   ]
  },
  {
   "cell_type": "code",
   "execution_count": 35,
   "id": "1d3702fb-c1db-47c1-96af-750ba192a379",
   "metadata": {},
   "outputs": [
    {
     "name": "stdout",
     "output_type": "stream",
     "text": [
      "*  *  *\n",
      "*     *\n",
      "* * * *\n",
      "*\n",
      "*\n"
     ]
    }
   ],
   "source": [
    "a=1\n",
    "b=2\n",
    "c=3\n",
    "d=4\n",
    "e=5\n",
    "if a==1:\n",
    "    print(\"*  *  *\")\n",
    "if a==1:\n",
    "    print(\"*     *\")\n",
    "if b==2:\n",
    "    print(\"* * * *\")\n",
    "if c==3:\n",
    "    print(\"*\")\n",
    "if a==1:\n",
    "    print(\"*\")"
   ]
  },
  {
   "cell_type": "code",
   "execution_count": 54,
   "id": "71ca1e4b-9846-48ea-a259-fe7bd04fb0e1",
   "metadata": {},
   "outputs": [
    {
     "name": "stdout",
     "output_type": "stream",
     "text": [
      "    * *    \n",
      "*         *\n",
      "*         *\n",
      "*    *    *\n",
      "*         *\n",
      "    * *         * \n"
     ]
    }
   ],
   "source": [
    "a=1\n",
    "b=2\n",
    "c=3\n",
    "d=4\n",
    "e=5\n",
    "if a==1:\n",
    "    print(\"    * *    \")\n",
    "if b==2:\n",
    "    print(\"*         *\")\n",
    "if b==2:\n",
    "    print(\"*         *\")\n",
    "if b==2:\n",
    "    print(\"*    *    *\")\n",
    "if b==2:\n",
    "    print(\"*         *\")\n",
    "if b==2:\n",
    "    print(\"    * *         * \")"
   ]
  },
  {
   "cell_type": "code",
   "execution_count": 37,
   "id": "f663e665-668c-4cd7-b78b-d1bbbf6d160d",
   "metadata": {},
   "outputs": [
    {
     "name": "stdout",
     "output_type": "stream",
     "text": [
      "*  *  *\n",
      "*     *\n",
      "* * * *\n",
      "*   *\n",
      "*      *\n"
     ]
    }
   ],
   "source": [
    "a=1\n",
    "b=2\n",
    "c=3\n",
    "d=4\n",
    "e=5\n",
    "if a==1:\n",
    "    print(\"*  *  *\")\n",
    "if a==1:\n",
    "    print(\"*     *\")\n",
    "if b==2:\n",
    "    print(\"* * * *\")\n",
    "if c==3:\n",
    "    print(\"*   *\")\n",
    "if a==1:\n",
    "    print(\"*      *\")"
   ]
  },
  {
   "cell_type": "code",
   "execution_count": 38,
   "id": "81f0354a-798f-43a9-b249-986889939a1c",
   "metadata": {},
   "outputs": [
    {
     "name": "stdout",
     "output_type": "stream",
     "text": [
      "* * * *\n",
      "*\n",
      "* * * *\n",
      "      *\n",
      "* * * *\n"
     ]
    }
   ],
   "source": [
    "a=1\n",
    "b=2\n",
    "c=3\n",
    "d=4\n",
    "e=5\n",
    "if a==1:\n",
    "    print(\"* * * *\")\n",
    "if a==1:\n",
    "    print(\"*\")\n",
    "if b==2:\n",
    "    print(\"* * * *\")\n",
    "if c==3:\n",
    "    print(\"      *\")\n",
    "if a==1:\n",
    "    print(\"* * * *\")"
   ]
  },
  {
   "cell_type": "code",
   "execution_count": 39,
   "id": "ba60a9ab-ede2-4eed-b901-0b42970d509c",
   "metadata": {},
   "outputs": [
    {
     "name": "stdout",
     "output_type": "stream",
     "text": [
      "* * *\n",
      "  *  \n",
      "  *  \n",
      "  * \n"
     ]
    }
   ],
   "source": [
    "a=1\n",
    "b=2\n",
    "c=3\n",
    "d=4\n",
    "e=5\n",
    "if a==1:\n",
    "    print(\"* * *\")\n",
    "if b==2:\n",
    "    print(\"  *  \")\n",
    "if b==2:\n",
    "    print(\"  *  \")\n",
    "if c==3:\n",
    "    print(\"  * \")"
   ]
  },
  {
   "cell_type": "code",
   "execution_count": 47,
   "id": "090e7d67-71fa-4a2a-850b-eac079996b38",
   "metadata": {},
   "outputs": [
    {
     "name": "stdout",
     "output_type": "stream",
     "text": [
      "*     *\n",
      "*     *\n",
      "*     *\n",
      "*     *\n",
      "* * * *\n"
     ]
    }
   ],
   "source": [
    "a=1\n",
    "b=2\n",
    "c=3\n",
    "d=4\n",
    "e=5\n",
    "if a==1:\n",
    "    print(\"*     *\")\n",
    "if a==1:\n",
    "    print(\"*     *\")\n",
    "if b==2:\n",
    "    print(\"*     *\")\n",
    "if c==3:\n",
    "    print(\"*     *\")\n",
    "if a==1:\n",
    "    print(\"* * * *\")"
   ]
  },
  {
   "cell_type": "code",
   "execution_count": 48,
   "id": "f0c62115-f16b-4cdc-96c6-7da8eff16cb2",
   "metadata": {},
   "outputs": [
    {
     "name": "stdout",
     "output_type": "stream",
     "text": [
      "*     *\n",
      " *   *\n",
      "   *  \n"
     ]
    }
   ],
   "source": [
    "a=1\n",
    "b=2\n",
    "c=3\n",
    "d=4\n",
    "e=5\n",
    "if a==1:\n",
    "    print(\"*     *\")\n",
    "if a==1:\n",
    "    print(\" *   *\")\n",
    "if b==2:\n",
    "    print(\"   *  \")"
   ]
  },
  {
   "cell_type": "code",
   "execution_count": 49,
   "id": "357579f1-ce9f-4c8a-8b35-a858b21d61b7",
   "metadata": {},
   "outputs": [
    {
     "name": "stdout",
     "output_type": "stream",
     "text": [
      "*       *\n",
      "*       *\n",
      "*   *   *\n",
      "*       *\n"
     ]
    }
   ],
   "source": [
    "a=1\n",
    "b=2\n",
    "c=3\n",
    "d=4\n",
    "e=5\n",
    "if a==1:\n",
    "    print(\"*       *\")\n",
    "if b==2:\n",
    "    print(\"*       *\")\n",
    "if b==2:\n",
    "    print(\"*   *   *\")\n",
    "if b==2:\n",
    "    print(\"*       *\")"
   ]
  },
  {
   "cell_type": "code",
   "execution_count": 50,
   "id": "f5e85274-72bd-4eeb-8fa5-8e34c09fd3b7",
   "metadata": {},
   "outputs": [
    {
     "name": "stdout",
     "output_type": "stream",
     "text": [
      "*       *\n",
      "  *  *   \n",
      "    *   \n",
      "  *  *   \n",
      "*       *\n"
     ]
    }
   ],
   "source": [
    "b=2\n",
    "c=3\n",
    "d=4\n",
    "e=5\n",
    "if a==1:\n",
    "    print(\"*       *\")\n",
    "if b==2:\n",
    "    print(\"  *  *   \")\n",
    "if b==2:\n",
    "    print(\"    *   \")\n",
    "if b==2:\n",
    "    print(\"  *  *   \")\n",
    "if b==2:\n",
    "    print(\"*       *\")"
   ]
  },
  {
   "cell_type": "code",
   "execution_count": 52,
   "id": "00967a7a-37e3-4acf-9ae8-2ceac59f79cb",
   "metadata": {},
   "outputs": [
    {
     "name": "stdout",
     "output_type": "stream",
     "text": [
      "Y\n",
      "*       *\n",
      "  *  *   \n",
      "    *   \n",
      "    *   \n",
      "    * \n"
     ]
    }
   ],
   "source": [
    "b=2\n",
    "c=3\n",
    "d=4\n",
    "e=5\n",
    "if a==1:\n",
    "    print(\"Y\")\n",
    "    print(\"*       *\")\n",
    "if b==2:\n",
    "    print(\"  *  *   \")\n",
    "if b==2:\n",
    "    print(\"    *   \")\n",
    "if b==2:\n",
    "    print(\"    *   \")\n",
    "if b==2:\n",
    "    print(\"    * \")"
   ]
  },
  {
   "cell_type": "code",
   "execution_count": 55,
   "id": "26b48ddc-8911-4b8f-ac63-b6215625fa66",
   "metadata": {},
   "outputs": [
    {
     "name": "stdout",
     "output_type": "stream",
     "text": [
      "* * * *\n",
      "   *  \n",
      " *  \n",
      "* * * *\n"
     ]
    }
   ],
   "source": [
    "a=1\n",
    "b=2\n",
    "c=3\n",
    "d=4\n",
    "e=5\n",
    "if a==1:\n",
    "    print(\"* * * *\")\n",
    "if b==2:\n",
    "    print(\"   *  \")\n",
    "if b==2:\n",
    "    print(\" *  \")\n",
    "if c==3:\n",
    "    print(\"* * * *\")"
   ]
  },
  {
   "cell_type": "code",
   "execution_count": null,
   "id": "ba4d4c79-4ab5-40e1-92de-4b29ab55a945",
   "metadata": {},
   "outputs": [],
   "source": []
  }
 ],
 "metadata": {
  "kernelspec": {
   "display_name": "Python 3 (ipykernel)",
   "language": "python",
   "name": "python3"
  },
  "language_info": {
   "codemirror_mode": {
    "name": "ipython",
    "version": 3
   },
   "file_extension": ".py",
   "mimetype": "text/x-python",
   "name": "python",
   "nbconvert_exporter": "python",
   "pygments_lexer": "ipython3",
   "version": "3.9.7"
  }
 },
 "nbformat": 4,
 "nbformat_minor": 5
}

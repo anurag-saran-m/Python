{
 "cells": [
  {
   "cell_type": "code",
   "execution_count": 26,
   "id": "ef56868a-e47c-478f-a5b4-21d555cdf5ce",
   "metadata": {},
   "outputs": [
    {
     "name": "stdout",
     "output_type": "stream",
     "text": [
      "calc status is: 000000000000\n"
     ]
    },
    {
     "name": "stdin",
     "output_type": "stream",
     "text": [
      "do you want to start the calc: type(y/n) y\n",
      "type any number:  22\n",
      "type any of the following symbol (+,-,*,/,//,%,**) @\n",
      "type any of the following symbol (+,-,*,/,//,%,**) +\n",
      "type any number:  11\n"
     ]
    },
    {
     "name": "stdout",
     "output_type": "stream",
     "text": [
      "given number 22\n",
      "given number 11\n",
      "addition 33\n"
     ]
    },
    {
     "name": "stdin",
     "output_type": "stream",
     "text": [
      "do you want to continue the calc: type(y) y\n",
      "type any number:  33\n",
      "type any of the following symbol (+,-,*,/,//,%,**) -\n",
      "type any number:  11\n"
     ]
    },
    {
     "name": "stdout",
     "output_type": "stream",
     "text": [
      "given number 33\n",
      "given number 11\n",
      "subtraction 22\n"
     ]
    },
    {
     "name": "stdin",
     "output_type": "stream",
     "text": [
      "do you want to continue the calc: type(y) y\n",
      "type any number:  11\n",
      "type any of the following symbol (+,-,*,/,//,%,**) *\n",
      "type any number:  2\n"
     ]
    },
    {
     "name": "stdout",
     "output_type": "stream",
     "text": [
      "given number 11\n",
      "given number 2\n",
      "multiplication 22\n"
     ]
    },
    {
     "name": "stdin",
     "output_type": "stream",
     "text": [
      "do you want to continue the calc: type(y) n\n"
     ]
    }
   ],
   "source": [
    "# This code is about a caluclator having dynamic inputing using string method \"format\", while loop, if, elif condition\n",
    "# and asking for valid operator symbol from the defined.\n",
    "status=\"000000000000\"\n",
    "print(f\"calc status is: {status}\")\n",
    "status=input(\"do you want to start the calc: type(y/n)\")\n",
    "\n",
    "while status==\"y\":\n",
    "    x= int(input(\"type any number: \"))\n",
    "    \n",
    "    valid_sy=0\n",
    "    while valid_sy==0:\n",
    "        sy= input(\"type any of the following symbol (+,-,*,/,//,%,**)\")\n",
    "        if sy==\"+\" or sy==\"-\" or sy==\"*\" or sy==\"/\" or sy==\"//\" or sy==\"%\" or sy==\"**\":\n",
    "            valid_sy=1\n",
    "            \n",
    "    y= int(input(\"type any number: \"))\n",
    "    \n",
    "    print(\"given number \"+ str(x))\n",
    "    print(\"given number \"+ str(y))\n",
    "\n",
    "    if sy== \"+\":\n",
    "        print(\"addition \"+ str(x+y))\n",
    "    elif sy==\"-\":\n",
    "        print(\"subtraction \"+ str(x-y))\n",
    "    elif sy== \"*\":\n",
    "        print(\"multiplication \"+ str(x*y))\n",
    "    elif sy==\"/\":\n",
    "        print(\"division \"+ str(x/y))\n",
    "    elif sy==\"//\":\n",
    "        print(\"floor_div \"+ str(x//y))\n",
    "    elif sy==\"%\":\n",
    "        print(\"mod \"+ str(x%y))\n",
    "    elif sy==\"**\":\n",
    "        print(\"exp \"+str(x*y))\n",
    "    status=input(\"do you want to continue the calc: type(y)\")"
   ]
  },
  {
   "cell_type": "code",
   "execution_count": null,
   "id": "fa2cf938-d55b-4770-ba3d-85f38162940b",
   "metadata": {},
   "outputs": [],
   "source": []
  },
  {
   "cell_type": "code",
   "execution_count": null,
   "id": "6f001a10-242d-48a9-8d21-4c54f077650e",
   "metadata": {},
   "outputs": [],
   "source": []
  },
  {
   "cell_type": "code",
   "execution_count": null,
   "id": "4cc98f3e-be3e-4bd0-a84c-a253a8b5ffae",
   "metadata": {},
   "outputs": [],
   "source": []
  },
  {
   "cell_type": "code",
   "execution_count": 27,
   "id": "484239ef-8b50-4d51-b1e8-41757f4928ee",
   "metadata": {},
   "outputs": [
    {
     "name": "stdout",
     "output_type": "stream",
     "text": [
      "calc status is: 000000000000\n"
     ]
    },
    {
     "name": "stdin",
     "output_type": "stream",
     "text": [
      "do you want to start the calc: type(y/n) y\n",
      "type any number:  1234567890123\n"
     ]
    },
    {
     "name": "stdout",
     "output_type": "stream",
     "text": [
      "1234567890123 is more than a 12 digits number\n"
     ]
    },
    {
     "name": "stdin",
     "output_type": "stream",
     "text": [
      "type any number:  22\n",
      "type any of the following symbol (+,-,*,/,//,%,**) @\n",
      "type any of the following symbol (+,-,*,/,//,%,**) +\n",
      "type any number:  11\n"
     ]
    },
    {
     "name": "stdout",
     "output_type": "stream",
     "text": [
      "given number 22\n",
      "given number 11\n",
      "addition 33\n"
     ]
    },
    {
     "name": "stdin",
     "output_type": "stream",
     "text": [
      "do you want to continue the calc: type(y/n) y\n",
      "type any number:  22\n",
      "type any of the following symbol (+,-,*,/,//,%,**) -\n",
      "type any number:  11\n"
     ]
    },
    {
     "name": "stdout",
     "output_type": "stream",
     "text": [
      "given number 22\n",
      "given number 11\n",
      "subtraction 11\n"
     ]
    },
    {
     "name": "stdin",
     "output_type": "stream",
     "text": [
      "do you want to continue the calc: type(y/n) y\n",
      "type any number:  11\n",
      "type any of the following symbol (+,-,*,/,//,%,**) *\n",
      "type any number:  2\n"
     ]
    },
    {
     "name": "stdout",
     "output_type": "stream",
     "text": [
      "given number 11\n",
      "given number 2\n",
      "multiplication 22\n"
     ]
    },
    {
     "name": "stdin",
     "output_type": "stream",
     "text": [
      "do you want to continue the calc: type(y/n) y\n",
      "type any number:  10\n",
      "type any of the following symbol (+,-,*,/,//,%,**) /\n",
      "type any number:  2\n"
     ]
    },
    {
     "name": "stdout",
     "output_type": "stream",
     "text": [
      "given number 10\n",
      "given number 2\n",
      "division 5.0\n"
     ]
    },
    {
     "name": "stdin",
     "output_type": "stream",
     "text": [
      "do you want to continue the calc: type(y/n) y\n",
      "type any number:  10\n",
      "type any of the following symbol (+,-,*,/,//,%,**) //\n",
      "type any number:  2\n"
     ]
    },
    {
     "name": "stdout",
     "output_type": "stream",
     "text": [
      "given number 10\n",
      "given number 2\n",
      "floor_div 5\n"
     ]
    },
    {
     "name": "stdin",
     "output_type": "stream",
     "text": [
      "do you want to continue the calc: type(y/n) n\n"
     ]
    }
   ],
   "source": [
    "# This code is about a caluclator having dynamic inputing using string method \"format\", while loop, if, elif condition\n",
    "#having integers not more than 12 digits.\n",
    "# and asking appropriate for  operator symbol ffrom the defined.\n",
    "status=\"000000000000\"\n",
    "print(f\"calc status is: {status}\")\n",
    "status=input(\"do you want to start the calc: type(y/n)\")\n",
    "\n",
    "while status==\"y\":\n",
    "    x=int(input(\"type any number: \"))\n",
    "    x_length=len(str(x))\n",
    "    while x_length>12:\n",
    "        print(str(x)+\" is more than a 12 digits number\")\n",
    "        x=int(input(\"type any number: \"))\n",
    "        x_length=len(str(x))\n",
    "        \n",
    "    valid_sy=0\n",
    "    while valid_sy==0:\n",
    "        sy= input(\"type any of the following symbol (+,-,*,/,//,%,**)\")\n",
    "        if sy==\"+\" or sy==\"-\" or sy==\"*\" or sy==\"/\" or sy==\"//\" or sy==\"%\" or sy==\"**\":\n",
    "            valid_sy=1\n",
    "            \n",
    "    y= int(input(\"type any number: \"))\n",
    "    y_length=len(str(y))\n",
    "    while y_length>12:\n",
    "        print(str(y)+\" is more than a 12 digits number\")\n",
    "        y=int(input(\"type any number: \"))\n",
    "        y_length=len(str(y))\n",
    "        \n",
    "    print(\"given number \"+ str(x))\n",
    "    print(\"given number \"+ str(y))\n",
    "    \n",
    "    if sy== \"+\":\n",
    "        print(\"addition \"+ str(x+y))\n",
    "    elif sy==\"-\":\n",
    "        print(\"subtraction \"+ str(x-y))\n",
    "    elif sy== \"*\":\n",
    "        print(\"multiplication \"+ str(x*y))\n",
    "    elif sy==\"/\":\n",
    "        print(\"division \"+ str(x/y))\n",
    "    elif sy==\"//\":\n",
    "        print(\"floor_div \"+ str(x//y))\n",
    "    elif sy==\"%\":\n",
    "        print(\"mod \"+ str(x%y))\n",
    "    elif sy==\"*\":\n",
    "        print(\"exp \"+str(x*y))\n",
    "    status=input(\"do you want to continue the calc: type(y/n)\")"
   ]
  },
  {
   "cell_type": "code",
   "execution_count": null,
   "id": "4d30c875-10f5-4936-b8fa-7af6fcdf393a",
   "metadata": {},
   "outputs": [],
   "source": []
  },
  {
   "cell_type": "code",
   "execution_count": null,
   "id": "ed3dea92-983b-4cba-a9ec-9c0fca9ad3fa",
   "metadata": {},
   "outputs": [],
   "source": []
  },
  {
   "cell_type": "code",
   "execution_count": null,
   "id": "f1f3bb8c-8dc4-4d54-8293-9ad4c82bf275",
   "metadata": {},
   "outputs": [],
   "source": []
  }
 ],
 "metadata": {
  "kernelspec": {
   "display_name": "Python 3 (ipykernel)",
   "language": "python",
   "name": "python3"
  },
  "language_info": {
   "codemirror_mode": {
    "name": "ipython",
    "version": 3
   },
   "file_extension": ".py",
   "mimetype": "text/x-python",
   "name": "python",
   "nbconvert_exporter": "python",
   "pygments_lexer": "ipython3",
   "version": "3.9.7"
  }
 },
 "nbformat": 4,
 "nbformat_minor": 5
}

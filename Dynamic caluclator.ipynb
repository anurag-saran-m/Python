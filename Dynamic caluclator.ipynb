{
 "cells": [
  {
   "cell_type": "markdown",
   "id": "ef5baf4b-be02-4f3a-8595-a45575837408",
   "metadata": {},
   "source": [
    "This code is about a caluclator having dynamic inputing using string method \"format\", while loop, if, elif condition\n",
    "and asking for valid operator symbol from the defined."
   ]
  },
  {
   "cell_type": "code",
   "execution_count": 1,
   "id": "fa2cf938-d55b-4770-ba3d-85f38162940b",
   "metadata": {},
   "outputs": [
    {
     "name": "stdout",
     "output_type": "stream",
     "text": [
      "calc status is: 000000000000\n"
     ]
    },
    {
     "name": "stdin",
     "output_type": "stream",
     "text": [
      "do you want to start the calc: type(y/n) y\n",
      "type any number:  22\n",
      "type any of the following symbol (+,-,*,/,//,%,**) @\n",
      "type any of the following symbol (+,-,*,/,//,%,**) +\n",
      "type any number:  11\n"
     ]
    },
    {
     "name": "stdout",
     "output_type": "stream",
     "text": [
      "given numbers: \n",
      "    x = 22\n",
      "    y = 11\n",
      "result:\n",
      "    x+y = 33\n"
     ]
    },
    {
     "name": "stdin",
     "output_type": "stream",
     "text": [
      "do you want to continue the calc: type(y) y\n",
      "type any number:  2\n",
      "type any of the following symbol (+,-,*,/,//,%,**) **\n",
      "type any number:  5\n"
     ]
    },
    {
     "name": "stdout",
     "output_type": "stream",
     "text": [
      "given numbers: \n",
      "    x = 2\n",
      "    y = 5\n",
      "result:\n",
      "    x**y =  10\n"
     ]
    },
    {
     "name": "stdin",
     "output_type": "stream",
     "text": [
      "do you want to continue the calc: type(y) n\n"
     ]
    }
   ],
   "source": [
    "status=\"000000000000\"\n",
    "print(f\"calc status is: {status}\")\n",
    "status=input(\"do you want to start the calc: type(y/n)\")\n",
    "\n",
    "while status==\"y\":\n",
    "    x= int(input(\"type any number: \"))\n",
    "    \n",
    "    valid_sy=0\n",
    "    while valid_sy==0:\n",
    "        sy= input(\"type any of the following symbol (+,-,*,/,//,%,**)\")\n",
    "        if sy==\"+\" or sy==\"-\" or sy==\"*\" or sy==\"/\" or sy==\"//\" or sy==\"%\" or sy==\"**\":\n",
    "            valid_sy=1\n",
    "            \n",
    "    y= int(input(\"type any number: \"))\n",
    "    \n",
    "    print(\"given numbers: \")\n",
    "    print(\"    x = \"+ str(x))\n",
    "    print(\"    y = \"+ str(y))\n",
    "\n",
    "    if sy== \"+\":\n",
    "        print(\"result:\\n    x+y = \"+ str(x+y))\n",
    "    elif sy==\"-\":\n",
    "        print(\"result:\\n    x-y = \"+ str(x-y))\n",
    "    elif sy== \"*\":\n",
    "        print(\"result:\\n    x*y = \"+ str(x*y))\n",
    "    elif sy==\"/\":\n",
    "        print(\"result:\\n    x/y = \"+ str(x/y))\n",
    "    elif sy==\"//\":\n",
    "        print(\"result:\\n    x//y = \"+ str(x//y))\n",
    "    elif sy==\"%\":\n",
    "        print(\"result:\\n    x%y = \"+ str(x%y))\n",
    "    elif sy==\"**\":\n",
    "        print(\"result:\\n    x**y =  \"+str(x*y))\n",
    "    status=input(\"do you want to continue the calc: type(y)\")"
   ]
  },
  {
   "cell_type": "markdown",
   "id": "a9586c8d-37bd-404d-b6e2-209d033de7c3",
   "metadata": {},
   "source": [
    " "
   ]
  },
  {
   "cell_type": "markdown",
   "id": "cf006cd4-e6a4-48ad-a428-646d2396657c",
   "metadata": {},
   "source": [
    " "
   ]
  },
  {
   "cell_type": "markdown",
   "id": "ef158fb7-eca3-4a7a-bb2e-c0d03ec03e41",
   "metadata": {},
   "source": [
    " "
   ]
  },
  {
   "cell_type": "markdown",
   "id": "fa21942b-5341-4b0a-b45b-a18d8c2c64aa",
   "metadata": {},
   "source": [
    "This code is about a caluclator having dynamic inputing using string method \"format\", while loop, if, elif condition\n",
    "having integers not more than 12 digits.\n",
    "and asking appropriate for  operator symbol ffrom the defined."
   ]
  },
  {
   "cell_type": "code",
   "execution_count": 2,
   "id": "8b8f82a7-1b84-4f74-a4eb-b000cb4f2619",
   "metadata": {},
   "outputs": [
    {
     "name": "stdout",
     "output_type": "stream",
     "text": [
      "calc status is: 000000000000\n"
     ]
    },
    {
     "name": "stdin",
     "output_type": "stream",
     "text": [
      "do you want to start the calc: type(y/n) y\n",
      "type any number:  1234567890123\n"
     ]
    },
    {
     "name": "stdout",
     "output_type": "stream",
     "text": [
      "1234567890123 is more than a 12 digits number\n"
     ]
    },
    {
     "name": "stdin",
     "output_type": "stream",
     "text": [
      "type any number:  22\n",
      "type any of the following symbol (+,-,*,/,//,%,**) @\n",
      "type any of the following symbol (+,-,*,/,//,%,**) +\n",
      "type any number:  11\n"
     ]
    },
    {
     "name": "stdout",
     "output_type": "stream",
     "text": [
      "given number 22\n",
      "given number 11\n",
      "addition 33\n"
     ]
    },
    {
     "name": "stdin",
     "output_type": "stream",
     "text": [
      "do you want to continue the calc: type(y/n) y\n",
      "type any number:  11\n",
      "type any of the following symbol (+,-,*,/,//,%,**) *\n",
      "type any number:  2\n"
     ]
    },
    {
     "name": "stdout",
     "output_type": "stream",
     "text": [
      "given number 11\n",
      "given number 2\n",
      "multiplication 22\n"
     ]
    },
    {
     "name": "stdin",
     "output_type": "stream",
     "text": [
      "do you want to continue the calc: type(y/n) y\n",
      "type any number:  15\n",
      "type any of the following symbol (+,-,*,/,//,%,**) /\n",
      "type any number:  3\n"
     ]
    },
    {
     "name": "stdout",
     "output_type": "stream",
     "text": [
      "given number 15\n",
      "given number 3\n",
      "division 5.0\n"
     ]
    },
    {
     "name": "stdin",
     "output_type": "stream",
     "text": [
      "do you want to continue the calc: type(y/n) n\n"
     ]
    }
   ],
   "source": [
    "status=\"000000000000\"\n",
    "print(f\"calc status is: {status}\")\n",
    "status=input(\"do you want to start the calc: type(y/n)\")\n",
    "\n",
    "while status==\"y\":\n",
    "    x=int(input(\"type any number: \"))\n",
    "    x_length=len(str(x))\n",
    "    while x_length>12:\n",
    "        print(str(x)+\" is more than a 12 digits number\")\n",
    "        x=int(input(\"type any number: \"))\n",
    "        x_length=len(str(x))\n",
    "        \n",
    "    valid_sy=0\n",
    "    while valid_sy==0:\n",
    "        sy= input(\"type any of the following symbol (+,-,*,/,//,%,**)\")\n",
    "        if sy==\"+\" or sy==\"-\" or sy==\"*\" or sy==\"/\" or sy==\"//\" or sy==\"%\" or sy==\"**\":\n",
    "            valid_sy=1\n",
    "            \n",
    "    y= int(input(\"type any number: \"))\n",
    "    y_length=len(str(y))\n",
    "    while y_length>12:\n",
    "        print(str(y)+\" is more than a 12 digits number\")\n",
    "        y=int(input(\"type any number: \"))\n",
    "        y_length=len(str(y))\n",
    "        \n",
    "    print(\"given number \"+ str(x))\n",
    "    print(\"given number \"+ str(y))\n",
    "    \n",
    "    if sy== \"+\":\n",
    "        print(\"addition \"+ str(x+y))\n",
    "    elif sy==\"-\":\n",
    "        print(\"subtraction \"+ str(x-y))\n",
    "    elif sy== \"*\":\n",
    "        print(\"multiplication \"+ str(x*y))\n",
    "    elif sy==\"/\":\n",
    "        print(\"division \"+ str(x/y))\n",
    "    elif sy==\"//\":\n",
    "        print(\"floor_div \"+ str(x//y))\n",
    "    elif sy==\"%\":\n",
    "        print(\"mod \"+ str(x%y))\n",
    "    elif sy==\"*\":\n",
    "        print(\"exp \"+str(x*y))\n",
    "    status=input(\"do you want to continue the calc: type(y/n)\")"
   ]
  },
  {
   "cell_type": "code",
   "execution_count": null,
   "id": "f1f3bb8c-8dc4-4d54-8293-9ad4c82bf275",
   "metadata": {},
   "outputs": [],
   "source": []
  }
 ],
 "metadata": {
  "kernelspec": {
   "display_name": "Python 3 (ipykernel)",
   "language": "python",
   "name": "python3"
  },
  "language_info": {
   "codemirror_mode": {
    "name": "ipython",
    "version": 3
   },
   "file_extension": ".py",
   "mimetype": "text/x-python",
   "name": "python",
   "nbconvert_exporter": "python",
   "pygments_lexer": "ipython3",
   "version": "3.9.7"
  }
 },
 "nbformat": 4,
 "nbformat_minor": 5
}

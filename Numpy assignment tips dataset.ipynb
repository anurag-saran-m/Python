{
 "cells": [
  {
   "cell_type": "code",
   "execution_count": 1,
   "id": "6491d97c-d5d9-4d24-9c76-9e9f74b26fa1",
   "metadata": {},
   "outputs": [],
   "source": [
    "import numpy as np"
   ]
  },
  {
   "cell_type": "code",
   "execution_count": 29,
   "id": "72e55f97-3699-41d1-ab48-3480adaa308b",
   "metadata": {},
   "outputs": [],
   "source": [
    "data=np.genfromtxt(r\"C:\\Users\\143sa\\Downloads\\tipsf.csv\",skip_header=1,delimiter=\",\",dtype=None,encoding=None)"
   ]
  },
  {
   "cell_type": "code",
   "execution_count": 57,
   "id": "b2b42fbb-cf1e-4094-84d4-574574388521",
   "metadata": {},
   "outputs": [
    {
     "data": {
      "text/plain": [
       "(244,)"
      ]
     },
     "execution_count": 57,
     "metadata": {},
     "output_type": "execute_result"
    }
   ],
   "source": [
    "data.shape"
   ]
  },
  {
   "cell_type": "code",
   "execution_count": 8,
   "id": "a0bd24d7-8e0f-46a8-9e48-d552219b4785",
   "metadata": {},
   "outputs": [],
   "source": [
    "rows=len(data)\n",
    "cols=len(data[0])"
   ]
  },
  {
   "cell_type": "markdown",
   "id": "f43ef557-eea7-4cfd-869f-f2479da6f7b6",
   "metadata": {
    "tags": []
   },
   "source": [
    "# 1. what is the total bill value"
   ]
  },
  {
   "cell_type": "code",
   "execution_count": 68,
   "id": "71e42815-3a0f-4d13-b360-02926d917b6e",
   "metadata": {},
   "outputs": [],
   "source": [
    "total_bill_array = np.array([])\n",
    "for row in range(rows):\n",
    "    total_bill_array = np.append(total_bill_array, data[row][1])"
   ]
  },
  {
   "cell_type": "code",
   "execution_count": 73,
   "id": "a698f139-444a-4a9f-b0fb-1c905684d324",
   "metadata": {},
   "outputs": [
    {
     "data": {
      "text/plain": [
       "4827.77"
      ]
     },
     "execution_count": 73,
     "metadata": {},
     "output_type": "execute_result"
    }
   ],
   "source": [
    "total_bill_array.sum()"
   ]
  },
  {
   "cell_type": "markdown",
   "id": "f7f25de6-1282-4213-94b1-e2be9e8481b0",
   "metadata": {},
   "source": [
    "# 2. what is the total tip value"
   ]
  },
  {
   "cell_type": "code",
   "execution_count": 85,
   "id": "f0a3eb0d-eaea-4f7b-a631-2d7a65b3b281",
   "metadata": {},
   "outputs": [],
   "source": [
    "total_tip_array = np.array([])\n",
    "for row in range(rows):\n",
    "    total_tip_array = np.append(total_tip_array, data[row][2])"
   ]
  },
  {
   "cell_type": "code",
   "execution_count": 133,
   "id": "6c3e279f-ff90-4b40-8424-461855642761",
   "metadata": {},
   "outputs": [
    {
     "data": {
      "text/plain": [
       "731.58"
      ]
     },
     "execution_count": 133,
     "metadata": {},
     "output_type": "execute_result"
    }
   ],
   "source": [
    "total_tip_array.sum().round(2)"
   ]
  },
  {
   "cell_type": "markdown",
   "id": "d9c4c606-0262-47b2-b49f-ee8681d79565",
   "metadata": {},
   "source": [
    "# 3. What is the average tip given by female."
   ]
  },
  {
   "cell_type": "code",
   "execution_count": 96,
   "id": "5d163f13-7c78-44f2-a833-0b7c0a6173f5",
   "metadata": {},
   "outputs": [],
   "source": [
    "female_tip_array = np.array([])\n",
    "for row in range(rows):\n",
    "    if  data[row][3]==0:\n",
    "        female_tip_array = np.append(female_tip_array, data[row][2])"
   ]
  },
  {
   "cell_type": "code",
   "execution_count": 132,
   "id": "1873cc45-0053-4c5c-8154-f52aa6a198f3",
   "metadata": {},
   "outputs": [
    {
     "data": {
      "text/plain": [
       "2.83"
      ]
     },
     "execution_count": 132,
     "metadata": {},
     "output_type": "execute_result"
    }
   ],
   "source": [
    "female_tip_array.mean().round(2)"
   ]
  },
  {
   "cell_type": "markdown",
   "id": "bfa4fa2c-716c-488d-896d-ce88221299d2",
   "metadata": {},
   "source": [
    "# 4. What is the average tip given by male."
   ]
  },
  {
   "cell_type": "code",
   "execution_count": 98,
   "id": "a6867dda-085c-4357-b983-f384200af84a",
   "metadata": {},
   "outputs": [],
   "source": [
    "male_tip_array = np.array([])\n",
    "for row in range(rows):\n",
    "    if  data[row][3]==1:\n",
    "        male_tip_array = np.append(male_tip_array, data[row][2])"
   ]
  },
  {
   "cell_type": "code",
   "execution_count": 131,
   "id": "41052353-7506-4e40-b0bc-d1b9ec4cb298",
   "metadata": {},
   "outputs": [
    {
     "data": {
      "text/plain": [
       "3.09"
      ]
     },
     "execution_count": 131,
     "metadata": {},
     "output_type": "execute_result"
    }
   ],
   "source": [
    "male_tip_array.mean().round(2)"
   ]
  },
  {
   "cell_type": "markdown",
   "id": "0d95c486-7658-48ef-9e0c-9feded8da89c",
   "metadata": {},
   "source": [
    "# 5 How many saturdays are there"
   ]
  },
  {
   "cell_type": "code",
   "execution_count": 103,
   "id": "56e1e0ca-d29a-47eb-9942-732d82cc941e",
   "metadata": {},
   "outputs": [],
   "source": [
    "total_saturday_array = np.array([])\n",
    "for row in range(rows):\n",
    "    if  data[row][5]==0:\n",
    "        total_saturday_array = np.append(total_saturday_array, data[row][4])"
   ]
  },
  {
   "cell_type": "code",
   "execution_count": 109,
   "id": "75a57ffe-70d9-4b9f-a49f-d76e52de20b7",
   "metadata": {},
   "outputs": [
    {
     "data": {
      "text/plain": [
       "87"
      ]
     },
     "execution_count": 109,
     "metadata": {},
     "output_type": "execute_result"
    }
   ],
   "source": [
    "len(total_saturday_array)"
   ]
  },
  {
   "cell_type": "markdown",
   "id": "2076a7f2-81ca-4404-b596-aade0c4f41a0",
   "metadata": {},
   "source": [
    "# 6 How many sundays are there"
   ]
  },
  {
   "cell_type": "code",
   "execution_count": 110,
   "id": "91afbf6f-22ac-4a07-b22b-3c5da3c550cb",
   "metadata": {},
   "outputs": [],
   "source": [
    "total_sunday_array = np.array([])\n",
    "for row in range(rows):\n",
    "    if  data[row][5]==1:\n",
    "        total_sunday_array = np.append(total_sunday_array, data[row][4])"
   ]
  },
  {
   "cell_type": "code",
   "execution_count": 111,
   "id": "c765f46b-4f2a-4a7a-9633-e4019dbc2066",
   "metadata": {},
   "outputs": [
    {
     "data": {
      "text/plain": [
       "76"
      ]
     },
     "execution_count": 111,
     "metadata": {},
     "output_type": "execute_result"
    }
   ],
   "source": [
    "len(total_sunday_array)"
   ]
  },
  {
   "cell_type": "markdown",
   "id": "3ffa9c92-3f20-4d8e-9e40-8e80056311a4",
   "metadata": {},
   "source": [
    "# 7 How many Fridays are there"
   ]
  },
  {
   "cell_type": "code",
   "execution_count": 113,
   "id": "3412e521-77af-4a85-8f5f-104b56524c3d",
   "metadata": {},
   "outputs": [],
   "source": [
    "total_Friday_array = np.array([])\n",
    "for row in range(rows):\n",
    "    if  data[row][5]==3:\n",
    "        total_Friday_array = np.append(total_Friday_array, data[row][4])"
   ]
  },
  {
   "cell_type": "code",
   "execution_count": 114,
   "id": "3a215cb8-1944-4962-9ec7-27c812373ffe",
   "metadata": {},
   "outputs": [
    {
     "data": {
      "text/plain": [
       "19"
      ]
     },
     "execution_count": 114,
     "metadata": {},
     "output_type": "execute_result"
    }
   ],
   "source": [
    "len(total_Friday_array)"
   ]
  },
  {
   "cell_type": "markdown",
   "id": "f8430840-6ea6-4765-8022-d72101f5dd11",
   "metadata": {},
   "source": [
    "# 8 How many Thursdays are there"
   ]
  },
  {
   "cell_type": "code",
   "execution_count": 115,
   "id": "63e94775-b9c2-4fc6-96e2-d18dcc45e94b",
   "metadata": {},
   "outputs": [],
   "source": [
    "total_Thursday_array = np.array([])\n",
    "for row in range(rows):\n",
    "    if  data[row][5]==2:\n",
    "        total_Thursday_array = np.append(total_Thursday_array, data[row][4])"
   ]
  },
  {
   "cell_type": "code",
   "execution_count": 116,
   "id": "0418145c-b50a-4bc4-b6b9-8a8b01ad9e24",
   "metadata": {},
   "outputs": [
    {
     "data": {
      "text/plain": [
       "62"
      ]
     },
     "execution_count": 116,
     "metadata": {},
     "output_type": "execute_result"
    }
   ],
   "source": [
    "len(total_Thursday_array)"
   ]
  },
  {
   "cell_type": "markdown",
   "id": "5eff64d5-05b1-43d2-b018-7f528177d42c",
   "metadata": {},
   "source": [
    "# 9 How many smokers are there"
   ]
  },
  {
   "cell_type": "code",
   "execution_count": 117,
   "id": "d1d9e592-d717-43be-a277-6a13ebce155d",
   "metadata": {},
   "outputs": [],
   "source": [
    "total_smokers_array = np.array([])\n",
    "for row in range(rows):\n",
    "    if  data[row][4]==1:\n",
    "        total_smokers_array = np.append(total_smokers_array, data[row][3])"
   ]
  },
  {
   "cell_type": "code",
   "execution_count": 118,
   "id": "57831f7d-719f-4de5-9a4e-3ecfe9fbc6c8",
   "metadata": {},
   "outputs": [
    {
     "data": {
      "text/plain": [
       "93"
      ]
     },
     "execution_count": 118,
     "metadata": {},
     "output_type": "execute_result"
    }
   ],
   "source": [
    "len(total_smokers_array)"
   ]
  },
  {
   "cell_type": "markdown",
   "id": "fbda6445-9183-403f-adea-a92db85f44e8",
   "metadata": {},
   "source": [
    "# 10 Total amount paid by female"
   ]
  },
  {
   "cell_type": "code",
   "execution_count": 120,
   "id": "f4354ac1-eddf-4267-89c3-41c68583b4fe",
   "metadata": {},
   "outputs": [],
   "source": [
    "female_total_bill_array = np.array([])\n",
    "for row in range(rows):\n",
    "    if  data[row][3]==0:\n",
    "        female_total_bill_array = np.append(female_total_bill_array, data[row][1])"
   ]
  },
  {
   "cell_type": "code",
   "execution_count": 129,
   "id": "c21a3668-e56b-4d40-83fb-559a10ed4ba3",
   "metadata": {},
   "outputs": [
    {
     "data": {
      "text/plain": [
       "1570.95"
      ]
     },
     "execution_count": 129,
     "metadata": {},
     "output_type": "execute_result"
    }
   ],
   "source": [
    "female_total_bill_array.sum().round(2)"
   ]
  },
  {
   "cell_type": "markdown",
   "id": "40000255-3b0e-4ecb-8312-e6b839c260ca",
   "metadata": {},
   "source": [
    "# 11. Total amount paid by male"
   ]
  },
  {
   "cell_type": "code",
   "execution_count": 126,
   "id": "e2d939d3-4487-4403-9c42-d2f1e452af46",
   "metadata": {},
   "outputs": [],
   "source": [
    "male_total_bill_array = np.array([])\n",
    "for row in range(rows):\n",
    "    if  data[row][3]==1:\n",
    "        male_total_bill_array = np.append(male_total_bill_array, data[row][1])"
   ]
  },
  {
   "cell_type": "code",
   "execution_count": 134,
   "id": "87fa4f3c-3054-4cd1-b96b-2fb43c640efe",
   "metadata": {},
   "outputs": [
    {
     "data": {
      "text/plain": [
       "3256.82"
      ]
     },
     "execution_count": 134,
     "metadata": {},
     "output_type": "execute_result"
    }
   ],
   "source": [
    "male_total_bill_array.sum().round(2)"
   ]
  },
  {
   "cell_type": "markdown",
   "id": "ecbbd7d6-8d1f-4e99-8927-1da57315561a",
   "metadata": {},
   "source": [
    "# 12.Min Tip given."
   ]
  },
  {
   "cell_type": "code",
   "execution_count": 135,
   "id": "18ddfa03-170d-4785-9b5b-8c00061adb97",
   "metadata": {},
   "outputs": [],
   "source": [
    "tip_array = np.array([])\n",
    "for row in range(rows):\n",
    "    tip_array = np.append(tip_array, data[row][2])"
   ]
  },
  {
   "cell_type": "code",
   "execution_count": 137,
   "id": "f8765b26-9d34-4a0d-bf0e-09a004007875",
   "metadata": {},
   "outputs": [
    {
     "data": {
      "text/plain": [
       "1.0"
      ]
     },
     "execution_count": 137,
     "metadata": {},
     "output_type": "execute_result"
    }
   ],
   "source": [
    "tip_array.min()"
   ]
  },
  {
   "cell_type": "markdown",
   "id": "d847f2d0-d919-4293-b660-adacf1a46eaa",
   "metadata": {},
   "source": [
    "# 13.Max Tip given."
   ]
  },
  {
   "cell_type": "code",
   "execution_count": 140,
   "id": "22bf7a7c-26ae-4da4-86cf-74838e21caf2",
   "metadata": {},
   "outputs": [
    {
     "data": {
      "text/plain": [
       "10.0"
      ]
     },
     "execution_count": 140,
     "metadata": {},
     "output_type": "execute_result"
    }
   ],
   "source": [
    "tip_array.max()"
   ]
  },
  {
   "cell_type": "code",
   "execution_count": null,
   "id": "c08ea8b2-02a8-4057-a68e-3506ccd03c2d",
   "metadata": {},
   "outputs": [],
   "source": []
  },
  {
   "cell_type": "code",
   "execution_count": 46,
   "id": "27f2a45a-6180-43fd-ac1a-365518857c33",
   "metadata": {},
   "outputs": [
    {
     "data": {
      "text/plain": [
       "array([[b'0', b'16.99', b'1.01', ..., b'1', b'0', b'2'],\n",
       "       [b'1', b'10.34', b'1.66', ..., b'1', b'0', b'3'],\n",
       "       [b'2', b'21.01', b'3.5', ..., b'1', b'0', b'3'],\n",
       "       ...,\n",
       "       [b'241', b'22.67', b'2.0', ..., b'0', b'0', b'2'],\n",
       "       [b'242', b'17.82', b'1.75', ..., b'0', b'0', b'2'],\n",
       "       [b'243', b'18.78', b'3.0', ..., b'2', b'0', b'2']], dtype=object)"
      ]
     },
     "execution_count": 46,
     "metadata": {},
     "output_type": "execute_result"
    }
   ],
   "source": [
    "data1=np.genfromtxt(r\"C:\\Users\\143sa\\Downloads\\tipsf.csv\",skip_header=1,delimiter=',',dtype=object,encoding=None)\n",
    "data1"
   ]
  },
  {
   "cell_type": "markdown",
   "id": "59f3f510-10c0-4d59-bf12-5c67f99c1f53",
   "metadata": {},
   "source": [
    "# 14 How many male went to lunch"
   ]
  },
  {
   "cell_type": "code",
   "execution_count": 54,
   "id": "b54fa1dd-4e70-4ed5-b665-5907dac3e0fe",
   "metadata": {},
   "outputs": [
    {
     "name": "stdout",
     "output_type": "stream",
     "text": [
      "number of male went to lunch are 33\n"
     ]
    }
   ],
   "source": [
    "male_lunch = 0\n",
    "for x in range(244):\n",
    "    if data1[x,3]==b'1' and data1[x,6]==b'1':\n",
    "        male_lunch+=1\n",
    "print(f'number of male went to lunch are {male_lunch}')"
   ]
  },
  {
   "cell_type": "code",
   "execution_count": null,
   "id": "6a767fb4-a66b-4ec7-8b83-136280e3b8a1",
   "metadata": {},
   "outputs": [],
   "source": []
  },
  {
   "cell_type": "markdown",
   "id": "e4ae37a5-bfeb-4d62-b17f-1a57a3316978",
   "metadata": {},
   "source": [
    "# 15 How many male went to dinner"
   ]
  },
  {
   "cell_type": "code",
   "execution_count": 52,
   "id": "928c16dc-e76d-443c-96b7-c4dce8b8f627",
   "metadata": {},
   "outputs": [
    {
     "name": "stdout",
     "output_type": "stream",
     "text": [
      "number of male went to dinner are 124\n"
     ]
    }
   ],
   "source": [
    "male_dinner = 0\n",
    "for x in range(244):\n",
    "    if data1[x,3]==b'1' and data1[x,6]==b'0':\n",
    "        male_dinner+=1\n",
    "print(f'number of male went to dinner are {male_dinner}')"
   ]
  },
  {
   "cell_type": "code",
   "execution_count": null,
   "id": "d04710ef-f231-4cc3-a3c4-e992e6936bbd",
   "metadata": {},
   "outputs": [],
   "source": []
  },
  {
   "cell_type": "markdown",
   "id": "f47dc919-4df0-4927-8775-861d0db2f7d7",
   "metadata": {},
   "source": [
    "# 14 How many female went to lunch"
   ]
  },
  {
   "cell_type": "code",
   "execution_count": 55,
   "id": "fff4682c-514a-44cd-92ee-b1317149e16a",
   "metadata": {},
   "outputs": [
    {
     "name": "stdout",
     "output_type": "stream",
     "text": [
      "number of Female went to lunch are 35\n"
     ]
    }
   ],
   "source": [
    "Female_lunch = 0\n",
    "for x in range(244):\n",
    "    if data1[x,3]==b'0' and data1[x,6]==b'1':\n",
    "        Female_lunch+=1\n",
    "print(f'number of Female went to lunch are {Female_lunch}')"
   ]
  },
  {
   "cell_type": "code",
   "execution_count": null,
   "id": "be8068da-aa3b-4fca-b7c5-97f8973f1580",
   "metadata": {},
   "outputs": [],
   "source": []
  },
  {
   "cell_type": "markdown",
   "id": "f983c4fd-b5c5-4cd2-a19a-0a7d2329a03d",
   "metadata": {},
   "source": [
    "# 15 How many female went to dinner"
   ]
  },
  {
   "cell_type": "code",
   "execution_count": 56,
   "id": "28ec566a-f6e6-408b-8eba-f4ea9d9be992",
   "metadata": {},
   "outputs": [
    {
     "name": "stdout",
     "output_type": "stream",
     "text": [
      "number of Female went to dinner are 52\n"
     ]
    }
   ],
   "source": [
    "Female_dinner = 0\n",
    "for x in range(244):\n",
    "    if data1[x,3]==b'0' and data1[x,6]==b'0':\n",
    "        Female_dinner+=1\n",
    "print(f'number of Female went to dinner are {Female_dinner}')"
   ]
  },
  {
   "cell_type": "markdown",
   "id": "53661205-1cac-46af-a6b0-225313f5ecff",
   "metadata": {},
   "source": []
  },
  {
   "cell_type": "markdown",
   "id": "4594ab2e-550b-4b7c-aa38-e754cad86d3a",
   "metadata": {},
   "source": [
    "# 16 Find out the average size"
   ]
  },
  {
   "cell_type": "code",
   "execution_count": 230,
   "id": "c4f7d578-9687-4a7d-a217-6aca32c42cf5",
   "metadata": {},
   "outputs": [],
   "source": [
    "size_array = np.array([])\n",
    "for row in range(rows):\n",
    "        size_array = np.append(size_array, data[row][7])"
   ]
  },
  {
   "cell_type": "code",
   "execution_count": 232,
   "id": "661ea29c-e3f9-412f-85d9-9f48c76ee3d4",
   "metadata": {},
   "outputs": [
    {
     "data": {
      "text/plain": [
       "2.57"
      ]
     },
     "execution_count": 232,
     "metadata": {},
     "output_type": "execute_result"
    }
   ],
   "source": [
    "size_array.mean().round(2)"
   ]
  },
  {
   "cell_type": "code",
   "execution_count": null,
   "id": "6c379d44-b723-42ff-a979-7d9d4a34a445",
   "metadata": {},
   "outputs": [],
   "source": []
  },
  {
   "cell_type": "markdown",
   "id": "4d7e7288-176f-4eeb-b4dc-de0f16f5a3c7",
   "metadata": {},
   "source": [
    "# 17 COUNT NUMBER OF MALE SMOKERS"
   ]
  },
  {
   "cell_type": "code",
   "execution_count": 47,
   "id": "1c4bfeed-9a4e-4721-a2ac-85579d56a30a",
   "metadata": {},
   "outputs": [
    {
     "name": "stdout",
     "output_type": "stream",
     "text": [
      "number of male smokers are 60\n"
     ]
    }
   ],
   "source": [
    "male_smokers=0\n",
    "for x in range(244):\n",
    "    if data1[x,3]==b'1' and data1[x,4]==b'1':\n",
    "        male_smokers+=1\n",
    "print(f'number of male smokers are {male_smokers}')"
   ]
  },
  {
   "cell_type": "markdown",
   "id": "c14087ab-43c4-4f8c-b94f-6f1a4ce841f7",
   "metadata": {},
   "source": [
    "# 18 COUNT NUMBER OF FEMALE SMOKERS"
   ]
  },
  {
   "cell_type": "code",
   "execution_count": 49,
   "id": "e9ec4110-8dd6-4a4a-958c-1ce238aa11c6",
   "metadata": {},
   "outputs": [
    {
     "name": "stdout",
     "output_type": "stream",
     "text": [
      "number of female smokers are 33\n"
     ]
    }
   ],
   "source": [
    "female_smok=0\n",
    "for x in range(244):\n",
    "    if data1[x,3]==b'0' and data1[x,4]==b'1':\n",
    "        female_smok+=1\n",
    "\n",
    "print(f'number of female smokers are {female_smok}')"
   ]
  },
  {
   "cell_type": "code",
   "execution_count": null,
   "id": "2359d8cb-3ffb-4098-84e9-e920fddb76b2",
   "metadata": {},
   "outputs": [],
   "source": []
  },
  {
   "cell_type": "code",
   "execution_count": null,
   "id": "67fdd510-43a0-4061-8ad6-bd7ba499ba30",
   "metadata": {},
   "outputs": [],
   "source": []
  },
  {
   "cell_type": "code",
   "execution_count": null,
   "id": "600bd8b7-703a-43f7-a9d5-ee27b926876c",
   "metadata": {},
   "outputs": [],
   "source": []
  },
  {
   "cell_type": "code",
   "execution_count": null,
   "id": "3a541175-1e70-4f09-b44c-112e8a358861",
   "metadata": {},
   "outputs": [],
   "source": []
  },
  {
   "cell_type": "code",
   "execution_count": null,
   "id": "82235a92-27f6-4d07-9cea-5ca6938a3114",
   "metadata": {},
   "outputs": [],
   "source": []
  },
  {
   "cell_type": "code",
   "execution_count": null,
   "id": "292bfcc8-3af9-4549-a195-d3cb245bddb4",
   "metadata": {},
   "outputs": [],
   "source": []
  },
  {
   "cell_type": "code",
   "execution_count": null,
   "id": "fde710dc-ac3d-4ba9-897e-4b2c7584a0c2",
   "metadata": {},
   "outputs": [],
   "source": []
  },
  {
   "cell_type": "code",
   "execution_count": null,
   "id": "3ddc650f-0412-489a-a76e-c66c0101622d",
   "metadata": {},
   "outputs": [],
   "source": []
  },
  {
   "cell_type": "code",
   "execution_count": null,
   "id": "f0fb557e-a5c2-40cf-a524-642fd3010f74",
   "metadata": {},
   "outputs": [],
   "source": []
  },
  {
   "cell_type": "code",
   "execution_count": null,
   "id": "71b7a2c3-aff2-49e1-8e77-f2a6383d6d7c",
   "metadata": {},
   "outputs": [],
   "source": []
  },
  {
   "cell_type": "code",
   "execution_count": null,
   "id": "0cb68add-f5f7-45d8-939e-459b532649d3",
   "metadata": {},
   "outputs": [],
   "source": []
  },
  {
   "cell_type": "code",
   "execution_count": null,
   "id": "ae4fb0b4-04fc-4533-a996-74c5b8cdfad8",
   "metadata": {},
   "outputs": [],
   "source": []
  },
  {
   "cell_type": "code",
   "execution_count": null,
   "id": "c48e6bdc-523d-484a-b719-c5556a689580",
   "metadata": {},
   "outputs": [],
   "source": []
  },
  {
   "cell_type": "code",
   "execution_count": null,
   "id": "d66aa8f2-30ce-4938-bea3-b115592780b5",
   "metadata": {},
   "outputs": [],
   "source": []
  },
  {
   "cell_type": "code",
   "execution_count": null,
   "id": "b2df9fd0-48e0-4acd-8b6f-0923c9ac31d3",
   "metadata": {},
   "outputs": [],
   "source": []
  },
  {
   "cell_type": "code",
   "execution_count": null,
   "id": "823a7c96-7d5a-47c9-8409-8689d88d261a",
   "metadata": {},
   "outputs": [],
   "source": []
  },
  {
   "cell_type": "code",
   "execution_count": 219,
   "id": "4f10184e-f791-4232-9415-4533735fcb6a",
   "metadata": {},
   "outputs": [
    {
     "ename": "IndexError",
     "evalue": "too many indices for array: array is 1-dimensional, but 2 were indexed",
     "output_type": "error",
     "traceback": [
      "\u001b[1;31m---------------------------------------------------------------------------\u001b[0m",
      "\u001b[1;31mIndexError\u001b[0m                                Traceback (most recent call last)",
      "\u001b[1;32m~\\AppData\\Local\\Temp/ipykernel_21432/2136404236.py\u001b[0m in \u001b[0;36m<module>\u001b[1;34m\u001b[0m\n\u001b[1;32m----> 1\u001b[1;33m \u001b[0mfiltered_rows\u001b[0m \u001b[1;33m=\u001b[0m \u001b[0mdata\u001b[0m\u001b[1;33m[\u001b[0m\u001b[1;33m(\u001b[0m\u001b[0mdata\u001b[0m\u001b[1;33m[\u001b[0m\u001b[1;33m:\u001b[0m\u001b[1;33m,\u001b[0m \u001b[1;36m3\u001b[0m\u001b[1;33m]\u001b[0m \u001b[1;33m>\u001b[0m \u001b[1;36m0\u001b[0m\u001b[1;33m)\u001b[0m \u001b[1;33m&\u001b[0m \u001b[1;33m(\u001b[0m\u001b[0mdata\u001b[0m\u001b[1;33m[\u001b[0m\u001b[1;33m:\u001b[0m\u001b[1;33m,\u001b[0m \u001b[1;36m6\u001b[0m\u001b[1;33m]\u001b[0m \u001b[1;33m>\u001b[0m \u001b[1;36m0\u001b[0m\u001b[1;33m)\u001b[0m\u001b[1;33m]\u001b[0m\u001b[1;33m\u001b[0m\u001b[1;33m\u001b[0m\u001b[0m\n\u001b[0m",
      "\u001b[1;31mIndexError\u001b[0m: too many indices for array: array is 1-dimensional, but 2 were indexed"
     ]
    }
   ],
   "source": [
    "filtered_rows = data[(data[:, 3] > 0) & (data[:, 6] > 0)]"
   ]
  },
  {
   "cell_type": "code",
   "execution_count": null,
   "id": "b917c137-3c0e-4f57-9852-26d5af711597",
   "metadata": {},
   "outputs": [],
   "source": []
  },
  {
   "cell_type": "code",
   "execution_count": null,
   "id": "f1318843-c655-41b5-8cdb-8493408744c9",
   "metadata": {},
   "outputs": [],
   "source": []
  },
  {
   "cell_type": "code",
   "execution_count": null,
   "id": "cb3e84ae-0b94-4142-b266-9d5b4ccdd327",
   "metadata": {},
   "outputs": [],
   "source": []
  },
  {
   "cell_type": "code",
   "execution_count": 218,
   "id": "1112f025-ec79-4e75-8a39-6485531b6cae",
   "metadata": {},
   "outputs": [
    {
     "ename": "IndexError",
     "evalue": "too many indices for array: array is 1-dimensional, but 2 were indexed",
     "output_type": "error",
     "traceback": [
      "\u001b[1;31m---------------------------------------------------------------------------\u001b[0m",
      "\u001b[1;31mIndexError\u001b[0m                                Traceback (most recent call last)",
      "\u001b[1;32m~\\AppData\\Local\\Temp/ipykernel_21432/2219436354.py\u001b[0m in \u001b[0;36m<module>\u001b[1;34m\u001b[0m\n\u001b[0;32m      5\u001b[0m \u001b[1;33m\u001b[0m\u001b[0m\n\u001b[0;32m      6\u001b[0m \u001b[1;31m# Select rows where the 4th column values are equal to 1\u001b[0m\u001b[1;33m\u001b[0m\u001b[1;33m\u001b[0m\u001b[0m\n\u001b[1;32m----> 7\u001b[1;33m \u001b[0mmask_4th\u001b[0m \u001b[1;33m=\u001b[0m \u001b[0mdata\u001b[0m\u001b[1;33m[\u001b[0m\u001b[1;33m:\u001b[0m\u001b[1;33m,\u001b[0m \u001b[1;36m3\u001b[0m\u001b[1;33m]\u001b[0m\u001b[1;33m>\u001b[0m \u001b[1;36m0\u001b[0m\u001b[1;33m\u001b[0m\u001b[1;33m\u001b[0m\u001b[0m\n\u001b[0m\u001b[0;32m      8\u001b[0m \u001b[1;33m\u001b[0m\u001b[0m\n\u001b[0;32m      9\u001b[0m \u001b[1;31m# Select rows where the 7th column values are equal to 1\u001b[0m\u001b[1;33m\u001b[0m\u001b[1;33m\u001b[0m\u001b[0m\n",
      "\u001b[1;31mIndexError\u001b[0m: too many indices for array: array is 1-dimensional, but 2 were indexed"
     ]
    }
   ],
   "source": [
    "import numpy as np\n",
    "\n",
    "# Assuming you have your 8-column array named 'data'\n",
    "# You can replace 'data' with your actual array name\n",
    "\n",
    "# Select rows where the 4th column values are equal to 1\n",
    "mask_4th = data[:, 3]> 0\n",
    "\n",
    "# Select rows where the 7th column values are equal to 1\n",
    "mask_7th = data[:, 6] > 0\n",
    "\n",
    "# Combine the masks using logical AND\n",
    "combined_mask = np.logical_and(mask_4th, mask_7th)\n",
    "\n",
    "# Get the values from the 7th column using the combined mask\n",
    "result_array = data[combined_mask, 6]\n",
    "\n",
    "print(result_array)\n"
   ]
  },
  {
   "cell_type": "code",
   "execution_count": 224,
   "id": "f3c30d28-eb45-482f-b181-ac4553150589",
   "metadata": {},
   "outputs": [],
   "source": [
    "def reduce(function, iterable, initializer=None):\n",
    "    it = iter(iterable)\n",
    "    if initializer is None:\n",
    "        try:\n",
    "            initializer = next(it)\n",
    "        except StopIteration:\n",
    "            raise TypeError('reduce() of empty sequence with no initial value')\n",
    "    accum_value = initializer\n",
    "    for x in it:\n",
    "        accum_value = function(accum_value, x)\n",
    "    return accum_value"
   ]
  },
  {
   "cell_type": "code",
   "execution_count": 228,
   "id": "9fa8c081-62ae-4e46-99a0-ae9c593202e3",
   "metadata": {},
   "outputs": [
    {
     "ename": "IndexError",
     "evalue": "too many indices for array: array is 1-dimensional, but 2 were indexed",
     "output_type": "error",
     "traceback": [
      "\u001b[1;31m---------------------------------------------------------------------------\u001b[0m",
      "\u001b[1;31mIndexError\u001b[0m                                Traceback (most recent call last)",
      "\u001b[1;32m~\\AppData\\Local\\Temp/ipykernel_21432/4265040644.py\u001b[0m in \u001b[0;36m<module>\u001b[1;34m\u001b[0m\n\u001b[1;32m----> 1\u001b[1;33m \u001b[0mc\u001b[0m\u001b[1;33m=\u001b[0m\u001b[0mreduce\u001b[0m\u001b[1;33m(\u001b[0m\u001b[1;33m(\u001b[0m\u001b[0mnp\u001b[0m\u001b[1;33m.\u001b[0m\u001b[0mlogical_and\u001b[0m\u001b[1;33m,\u001b[0m \u001b[1;33m[\u001b[0m\u001b[0mdata\u001b[0m\u001b[1;33m[\u001b[0m\u001b[1;33m:\u001b[0m\u001b[1;33m,\u001b[0m \u001b[1;36m3\u001b[0m\u001b[1;33m]\u001b[0m \u001b[1;33m>\u001b[0m \u001b[1;36m0\u001b[0m\u001b[1;33m,\u001b[0m \u001b[0mdata\u001b[0m\u001b[1;33m[\u001b[0m\u001b[1;33m:\u001b[0m\u001b[1;33m,\u001b[0m \u001b[1;36m6\u001b[0m\u001b[1;33m]\u001b[0m \u001b[1;33m>\u001b[0m \u001b[1;36m0\u001b[0m\u001b[1;33m]\u001b[0m\u001b[1;33m)\u001b[0m\u001b[1;33m)\u001b[0m\u001b[1;33m\u001b[0m\u001b[1;33m\u001b[0m\u001b[0m\n\u001b[0m",
      "\u001b[1;31mIndexError\u001b[0m: too many indices for array: array is 1-dimensional, but 2 were indexed"
     ]
    }
   ],
   "source": [
    "c=reduce((np.logical_and, [data[:, 3] > 0, data[:, 6] > 0]))"
   ]
  },
  {
   "cell_type": "code",
   "execution_count": 229,
   "id": "30e3c6ff-b6b8-43b6-95e3-6a46c1b32c81",
   "metadata": {},
   "outputs": [
    {
     "ename": "NameError",
     "evalue": "name 'c' is not defined",
     "output_type": "error",
     "traceback": [
      "\u001b[1;31m---------------------------------------------------------------------------\u001b[0m",
      "\u001b[1;31mNameError\u001b[0m                                 Traceback (most recent call last)",
      "\u001b[1;32m~\\AppData\\Local\\Temp/ipykernel_21432/1992189028.py\u001b[0m in \u001b[0;36m<module>\u001b[1;34m\u001b[0m\n\u001b[1;32m----> 1\u001b[1;33m \u001b[0mdx\u001b[0m \u001b[1;33m=\u001b[0m \u001b[0mnp\u001b[0m\u001b[1;33m.\u001b[0m\u001b[0mwhere\u001b[0m\u001b[1;33m(\u001b[0m\u001b[0mc\u001b[0m\u001b[1;33m)\u001b[0m\u001b[1;33m\u001b[0m\u001b[1;33m\u001b[0m\u001b[0m\n\u001b[0m",
      "\u001b[1;31mNameError\u001b[0m: name 'c' is not defined"
     ]
    }
   ],
   "source": [
    "dx = np.where(c)"
   ]
  },
  {
   "cell_type": "code",
   "execution_count": null,
   "id": "876657d3-c9c1-4b99-9bfa-2c677a9bca93",
   "metadata": {},
   "outputs": [],
   "source": []
  },
  {
   "cell_type": "code",
   "execution_count": null,
   "id": "1d49f5e1-4158-4aa6-a5f0-64ffe99aa684",
   "metadata": {},
   "outputs": [],
   "source": []
  },
  {
   "cell_type": "code",
   "execution_count": null,
   "id": "b76d04e2-26bd-42b9-880e-7c869da16fe4",
   "metadata": {},
   "outputs": [],
   "source": []
  },
  {
   "cell_type": "code",
   "execution_count": null,
   "id": "086111fb-5e87-4e3c-8458-43e38179d12d",
   "metadata": {},
   "outputs": [],
   "source": []
  },
  {
   "cell_type": "code",
   "execution_count": null,
   "id": "9552b8a6-aef6-44fb-911f-9841836e06c4",
   "metadata": {},
   "outputs": [],
   "source": []
  },
  {
   "cell_type": "code",
   "execution_count": null,
   "id": "28b915f1-6b8d-4ced-916f-33874e5414e8",
   "metadata": {},
   "outputs": [],
   "source": []
  },
  {
   "cell_type": "code",
   "execution_count": null,
   "id": "0d9958d1-bf92-4242-85c2-1e4577a080f0",
   "metadata": {},
   "outputs": [],
   "source": []
  },
  {
   "cell_type": "code",
   "execution_count": null,
   "id": "7d52be15-be85-42ef-935a-d3280c82f192",
   "metadata": {},
   "outputs": [],
   "source": []
  },
  {
   "cell_type": "code",
   "execution_count": null,
   "id": "81511367-ad2e-4ce3-a334-28f2995b2aa4",
   "metadata": {},
   "outputs": [],
   "source": []
  },
  {
   "cell_type": "code",
   "execution_count": null,
   "id": "c730ff91-109a-4185-b389-e5dbbfdc3307",
   "metadata": {},
   "outputs": [],
   "source": []
  },
  {
   "cell_type": "code",
   "execution_count": null,
   "id": "007a52b3-65ae-491e-8af6-d13453e98be9",
   "metadata": {},
   "outputs": [],
   "source": []
  },
  {
   "cell_type": "code",
   "execution_count": null,
   "id": "81eac731-c191-492e-b1a5-ba50dca8c7c5",
   "metadata": {},
   "outputs": [],
   "source": []
  },
  {
   "cell_type": "code",
   "execution_count": null,
   "id": "61b544c4-676c-4524-8e71-4621bea73cd9",
   "metadata": {},
   "outputs": [],
   "source": []
  },
  {
   "cell_type": "code",
   "execution_count": null,
   "id": "6fe8eefb-574b-401a-8858-2c99084d068d",
   "metadata": {},
   "outputs": [],
   "source": []
  },
  {
   "cell_type": "code",
   "execution_count": null,
   "id": "11f35735-a4b6-4be1-bea2-d0b1b3f8ac62",
   "metadata": {},
   "outputs": [],
   "source": []
  },
  {
   "cell_type": "code",
   "execution_count": null,
   "id": "1b0071bb-ffae-45fe-a8ee-e976a92a85a1",
   "metadata": {},
   "outputs": [],
   "source": []
  },
  {
   "cell_type": "code",
   "execution_count": null,
   "id": "e6e5e522-8385-4c3a-bb43-779479dc1bea",
   "metadata": {},
   "outputs": [],
   "source": []
  },
  {
   "cell_type": "code",
   "execution_count": null,
   "id": "41902118-af1c-4cf5-8e59-769d7d4e313d",
   "metadata": {},
   "outputs": [],
   "source": []
  },
  {
   "cell_type": "code",
   "execution_count": null,
   "id": "69952b91-339e-4188-b19b-bb43738040b7",
   "metadata": {},
   "outputs": [],
   "source": []
  },
  {
   "cell_type": "code",
   "execution_count": null,
   "id": "49ff04c7-b314-4ec7-8feb-30abe5590c29",
   "metadata": {},
   "outputs": [],
   "source": []
  },
  {
   "cell_type": "code",
   "execution_count": null,
   "id": "6ab50387-c7a1-4ceb-8e70-c6c1992e1541",
   "metadata": {},
   "outputs": [],
   "source": []
  },
  {
   "cell_type": "code",
   "execution_count": null,
   "id": "5b5adf3e-be65-45a5-b0d2-812d606cfe94",
   "metadata": {},
   "outputs": [],
   "source": []
  },
  {
   "cell_type": "code",
   "execution_count": null,
   "id": "60cb0c11-032d-4513-a24b-6003743c1713",
   "metadata": {},
   "outputs": [],
   "source": []
  },
  {
   "cell_type": "code",
   "execution_count": null,
   "id": "223c6882-a620-4fd4-8a37-dec7c40a7242",
   "metadata": {},
   "outputs": [],
   "source": []
  },
  {
   "cell_type": "code",
   "execution_count": null,
   "id": "8f304cf4-d699-410a-b7b0-653ce8583f61",
   "metadata": {},
   "outputs": [],
   "source": []
  },
  {
   "cell_type": "code",
   "execution_count": null,
   "id": "0cdef11e-c36b-4478-a477-a5f5adbf6ab2",
   "metadata": {},
   "outputs": [],
   "source": []
  },
  {
   "cell_type": "code",
   "execution_count": null,
   "id": "0df962c7-8277-4a0d-844e-fe34c2383892",
   "metadata": {},
   "outputs": [],
   "source": []
  },
  {
   "cell_type": "code",
   "execution_count": null,
   "id": "151c81f2-ea2a-4170-baa0-1623f360ef2e",
   "metadata": {},
   "outputs": [],
   "source": []
  },
  {
   "cell_type": "code",
   "execution_count": null,
   "id": "53bf594e-c8b4-49ce-9aeb-04e8de7b864e",
   "metadata": {},
   "outputs": [],
   "source": []
  },
  {
   "cell_type": "code",
   "execution_count": null,
   "id": "e3276d47-38ad-4756-bbd0-ff325bf54ada",
   "metadata": {},
   "outputs": [],
   "source": []
  },
  {
   "cell_type": "code",
   "execution_count": 61,
   "id": "78b91157-4c26-4b99-9a67-7e8dfb3bfed5",
   "metadata": {},
   "outputs": [
    {
     "name": "stdout",
     "output_type": "stream",
     "text": [
      "[4.]\n"
     ]
    }
   ],
   "source": [
    "import numpy as np\n",
    "\n",
    "# Existing array\n",
    "arr = np.array([])\n",
    "\n",
    "# Append a single element\n",
    "new_arr = np.append(arr, 4)\n",
    "\n",
    "print(new_arr)  # Output: [1 2 3 4]\n"
   ]
  },
  {
   "cell_type": "code",
   "execution_count": 62,
   "id": "1b2f6253-6070-4509-9b72-dbfc1a68f143",
   "metadata": {},
   "outputs": [
    {
     "data": {
      "text/plain": [
       "numpy.ndarray"
      ]
     },
     "execution_count": 62,
     "metadata": {},
     "output_type": "execute_result"
    }
   ],
   "source": [
    "type(new_arr)"
   ]
  },
  {
   "cell_type": "code",
   "execution_count": null,
   "id": "8d559ed7-c345-427e-b456-33e54475bba7",
   "metadata": {},
   "outputs": [],
   "source": []
  },
  {
   "cell_type": "code",
   "execution_count": null,
   "id": "1a378cee-a967-4c1b-a643-1f7732392b3d",
   "metadata": {},
   "outputs": [],
   "source": []
  },
  {
   "cell_type": "code",
   "execution_count": 56,
   "id": "488fafbf-b52a-4fb9-945c-9a9f835e3d81",
   "metadata": {},
   "outputs": [
    {
     "data": {
      "text/plain": [
       "array([(  0, 16.99,  1.01, 0, 0, 1, 0, 2),\n",
       "       (  1, 10.34,  1.66, 1, 0, 1, 0, 3),\n",
       "       (  2, 21.01,  3.5 , 1, 0, 1, 0, 3),\n",
       "       (  3, 23.68,  3.31, 1, 0, 1, 0, 2),\n",
       "       (  4, 24.59,  3.61, 0, 0, 1, 0, 4),\n",
       "       (  5, 25.29,  4.71, 1, 0, 1, 0, 4),\n",
       "       (  6,  8.77,  2.  , 1, 0, 1, 0, 2),\n",
       "       (  7, 26.88,  3.12, 1, 0, 1, 0, 4),\n",
       "       (  8, 15.04,  1.96, 1, 0, 1, 0, 2),\n",
       "       (  9, 14.78,  3.23, 1, 0, 1, 0, 2),\n",
       "       ( 10, 10.27,  1.71, 1, 0, 1, 0, 2),\n",
       "       ( 11, 35.26,  5.  , 0, 0, 1, 0, 4),\n",
       "       ( 12, 15.42,  1.57, 1, 0, 1, 0, 2),\n",
       "       ( 13, 18.43,  3.  , 1, 0, 1, 0, 4),\n",
       "       ( 14, 14.83,  3.02, 0, 0, 1, 0, 2),\n",
       "       ( 15, 21.58,  3.92, 1, 0, 1, 0, 2),\n",
       "       ( 16, 10.33,  1.67, 0, 0, 1, 0, 3),\n",
       "       ( 17, 16.29,  3.71, 1, 0, 1, 0, 3),\n",
       "       ( 18, 16.97,  3.5 , 0, 0, 1, 0, 3),\n",
       "       ( 19, 20.65,  3.35, 1, 0, 0, 0, 3),\n",
       "       ( 20, 17.92,  4.08, 1, 0, 0, 0, 2),\n",
       "       ( 21, 20.29,  2.75, 0, 0, 0, 0, 2),\n",
       "       ( 22, 15.77,  2.23, 0, 0, 0, 0, 2),\n",
       "       ( 23, 39.42,  7.58, 1, 0, 0, 0, 4),\n",
       "       ( 24, 19.82,  3.18, 1, 0, 0, 0, 2),\n",
       "       ( 25, 17.81,  2.34, 1, 0, 0, 0, 4),\n",
       "       ( 26, 13.37,  2.  , 1, 0, 0, 0, 2),\n",
       "       ( 27, 12.69,  2.  , 1, 0, 0, 0, 2),\n",
       "       ( 28, 21.7 ,  4.3 , 1, 0, 0, 0, 2),\n",
       "       ( 29, 19.65,  3.  , 0, 0, 0, 0, 2),\n",
       "       ( 30,  9.55,  1.45, 1, 0, 0, 0, 2),\n",
       "       ( 31, 18.35,  2.5 , 1, 0, 0, 0, 4),\n",
       "       ( 32, 15.06,  3.  , 0, 0, 0, 0, 2),\n",
       "       ( 33, 20.69,  2.45, 0, 0, 0, 0, 4),\n",
       "       ( 34, 17.78,  3.27, 1, 0, 0, 0, 2),\n",
       "       ( 35, 24.06,  3.6 , 1, 0, 0, 0, 3),\n",
       "       ( 36, 16.31,  2.  , 1, 0, 0, 0, 3),\n",
       "       ( 37, 16.93,  3.07, 0, 0, 0, 0, 3),\n",
       "       ( 38, 18.69,  2.31, 1, 0, 0, 0, 3),\n",
       "       ( 39, 31.27,  5.  , 1, 0, 0, 0, 3),\n",
       "       ( 40, 16.04,  2.24, 1, 0, 0, 0, 3),\n",
       "       ( 41, 17.46,  2.54, 1, 0, 1, 0, 2),\n",
       "       ( 42, 13.94,  3.06, 1, 0, 1, 0, 2),\n",
       "       ( 43,  9.68,  1.32, 1, 0, 1, 0, 2),\n",
       "       ( 44, 30.4 ,  5.6 , 1, 0, 1, 0, 4),\n",
       "       ( 45, 18.29,  3.  , 1, 0, 1, 0, 2),\n",
       "       ( 46, 22.23,  5.  , 1, 0, 1, 0, 2),\n",
       "       ( 47, 32.4 ,  6.  , 1, 0, 1, 0, 4),\n",
       "       ( 48, 28.55,  2.05, 1, 0, 1, 0, 3),\n",
       "       ( 49, 18.04,  3.  , 1, 0, 1, 0, 2),\n",
       "       ( 50, 12.54,  2.5 , 1, 0, 1, 0, 2),\n",
       "       ( 51, 10.29,  2.6 , 0, 0, 1, 0, 2),\n",
       "       ( 52, 34.81,  5.2 , 0, 0, 1, 0, 4),\n",
       "       ( 53,  9.94,  1.56, 1, 0, 1, 0, 2),\n",
       "       ( 54, 25.56,  4.34, 1, 0, 1, 0, 4),\n",
       "       ( 55, 19.49,  3.51, 1, 0, 1, 0, 2),\n",
       "       ( 56, 38.01,  3.  , 1, 1, 0, 0, 4),\n",
       "       ( 57, 26.41,  1.5 , 0, 0, 0, 0, 2),\n",
       "       ( 58, 11.24,  1.76, 1, 1, 0, 0, 2),\n",
       "       ( 59, 48.27,  6.73, 1, 0, 0, 0, 4),\n",
       "       ( 60, 20.29,  3.21, 1, 1, 0, 0, 2),\n",
       "       ( 61, 13.81,  2.  , 1, 1, 0, 0, 2),\n",
       "       ( 62, 11.02,  1.98, 1, 1, 0, 0, 2),\n",
       "       ( 63, 18.29,  3.76, 1, 1, 0, 0, 4),\n",
       "       ( 64, 17.59,  2.64, 1, 0, 0, 0, 3),\n",
       "       ( 65, 20.08,  3.15, 1, 0, 0, 0, 3),\n",
       "       ( 66, 16.45,  2.47, 0, 0, 0, 0, 2),\n",
       "       ( 67,  3.07,  1.  , 0, 1, 0, 0, 1),\n",
       "       ( 68, 20.23,  2.01, 1, 0, 0, 0, 2),\n",
       "       ( 69, 15.01,  2.09, 1, 1, 0, 0, 2),\n",
       "       ( 70, 12.02,  1.97, 1, 0, 0, 0, 2),\n",
       "       ( 71, 17.07,  3.  , 0, 0, 0, 0, 3),\n",
       "       ( 72, 26.86,  3.14, 0, 1, 0, 0, 2),\n",
       "       ( 73, 25.28,  5.  , 0, 1, 0, 0, 2),\n",
       "       ( 74, 14.73,  2.2 , 0, 0, 0, 0, 2),\n",
       "       ( 75, 10.51,  1.25, 1, 0, 0, 0, 2),\n",
       "       ( 76, 17.92,  3.08, 1, 1, 0, 0, 2),\n",
       "       ( 77, 27.2 ,  4.  , 1, 0, 2, 1, 4),\n",
       "       ( 78, 22.76,  3.  , 1, 0, 2, 1, 2),\n",
       "       ( 79, 17.29,  2.71, 1, 0, 2, 1, 2),\n",
       "       ( 80, 19.44,  3.  , 1, 1, 2, 1, 2),\n",
       "       ( 81, 16.66,  3.4 , 1, 0, 2, 1, 2),\n",
       "       ( 82, 10.07,  1.83, 0, 0, 2, 1, 1),\n",
       "       ( 83, 32.68,  5.  , 1, 1, 2, 1, 2),\n",
       "       ( 84, 15.98,  2.03, 1, 0, 2, 1, 2),\n",
       "       ( 85, 34.83,  5.17, 0, 0, 2, 1, 4),\n",
       "       ( 86, 13.03,  2.  , 1, 0, 2, 1, 2),\n",
       "       ( 87, 18.28,  4.  , 1, 0, 2, 1, 2),\n",
       "       ( 88, 24.71,  5.85, 1, 0, 2, 1, 2),\n",
       "       ( 89, 21.16,  3.  , 1, 0, 2, 1, 2),\n",
       "       ( 90, 28.97,  3.  , 1, 1, 3, 0, 2),\n",
       "       ( 91, 22.49,  3.5 , 1, 0, 3, 0, 2),\n",
       "       ( 92,  5.75,  1.  , 0, 1, 3, 0, 2),\n",
       "       ( 93, 16.32,  4.3 , 0, 1, 3, 0, 2),\n",
       "       ( 94, 22.75,  3.25, 0, 0, 3, 0, 2),\n",
       "       ( 95, 40.17,  4.73, 1, 1, 3, 0, 4),\n",
       "       ( 96, 27.28,  4.  , 1, 1, 3, 0, 2),\n",
       "       ( 97, 12.03,  1.5 , 1, 1, 3, 0, 2),\n",
       "       ( 98, 21.01,  3.  , 1, 1, 3, 0, 2),\n",
       "       ( 99, 12.46,  1.5 , 1, 0, 3, 0, 2),\n",
       "       (100, 11.35,  2.5 , 0, 1, 3, 0, 2),\n",
       "       (101, 15.38,  3.  , 0, 1, 3, 0, 2),\n",
       "       (102, 44.3 ,  2.5 , 0, 1, 0, 0, 3),\n",
       "       (103, 22.42,  3.48, 0, 1, 0, 0, 2),\n",
       "       (104, 20.92,  4.08, 0, 0, 0, 0, 2),\n",
       "       (105, 15.36,  1.64, 1, 1, 0, 0, 2),\n",
       "       (106, 20.49,  4.06, 1, 1, 0, 0, 2),\n",
       "       (107, 25.21,  4.29, 1, 1, 0, 0, 2),\n",
       "       (108, 18.24,  3.76, 1, 0, 0, 0, 2),\n",
       "       (109, 14.31,  4.  , 0, 1, 0, 0, 2),\n",
       "       (110, 14.  ,  3.  , 1, 0, 0, 0, 2),\n",
       "       (111,  7.25,  1.  , 0, 0, 0, 0, 1),\n",
       "       (112, 38.07,  4.  , 1, 0, 1, 0, 3),\n",
       "       (113, 23.95,  2.55, 1, 0, 1, 0, 2),\n",
       "       (114, 25.71,  4.  , 0, 0, 1, 0, 3),\n",
       "       (115, 17.31,  3.5 , 0, 0, 1, 0, 2),\n",
       "       (116, 29.93,  5.07, 1, 0, 1, 0, 4),\n",
       "       (117, 10.65,  1.5 , 0, 0, 2, 1, 2),\n",
       "       (118, 12.43,  1.8 , 0, 0, 2, 1, 2),\n",
       "       (119, 24.08,  2.92, 0, 0, 2, 1, 4),\n",
       "       (120, 11.69,  2.31, 1, 0, 2, 1, 2),\n",
       "       (121, 13.42,  1.68, 0, 0, 2, 1, 2),\n",
       "       (122, 14.26,  2.5 , 1, 0, 2, 1, 2),\n",
       "       (123, 15.95,  2.  , 1, 0, 2, 1, 2),\n",
       "       (124, 12.48,  2.52, 0, 0, 2, 1, 2),\n",
       "       (125, 29.8 ,  4.2 , 0, 0, 2, 1, 6),\n",
       "       (126,  8.52,  1.48, 1, 0, 2, 1, 2),\n",
       "       (127, 14.52,  2.  , 0, 0, 2, 1, 2),\n",
       "       (128, 11.38,  2.  , 0, 0, 2, 1, 2),\n",
       "       (129, 22.82,  2.18, 1, 0, 2, 1, 3),\n",
       "       (130, 19.08,  1.5 , 1, 0, 2, 1, 2),\n",
       "       (131, 20.27,  2.83, 0, 0, 2, 1, 2),\n",
       "       (132, 11.17,  1.5 , 0, 0, 2, 1, 2),\n",
       "       (133, 12.26,  2.  , 0, 0, 2, 1, 2),\n",
       "       (134, 18.26,  3.25, 0, 0, 2, 1, 2),\n",
       "       (135,  8.51,  1.25, 0, 0, 2, 1, 2),\n",
       "       (136, 10.33,  2.  , 0, 0, 2, 1, 2),\n",
       "       (137, 14.15,  2.  , 0, 0, 2, 1, 2),\n",
       "       (138, 16.  ,  2.  , 1, 1, 2, 1, 2),\n",
       "       (139, 13.16,  2.75, 0, 0, 2, 1, 2),\n",
       "       (140, 17.47,  3.5 , 0, 0, 2, 1, 2),\n",
       "       (141, 34.3 ,  6.7 , 1, 0, 2, 1, 6),\n",
       "       (142, 41.19,  5.  , 1, 0, 2, 1, 5),\n",
       "       (143, 27.05,  5.  , 0, 0, 2, 1, 6),\n",
       "       (144, 16.43,  2.3 , 0, 0, 2, 1, 2),\n",
       "       (145,  8.35,  1.5 , 0, 0, 2, 1, 2),\n",
       "       (146, 18.64,  1.36, 0, 0, 2, 1, 3),\n",
       "       (147, 11.87,  1.63, 0, 0, 2, 1, 2),\n",
       "       (148,  9.78,  1.73, 1, 0, 2, 1, 2),\n",
       "       (149,  7.51,  2.  , 1, 0, 2, 1, 2),\n",
       "       (150, 14.07,  2.5 , 1, 0, 1, 0, 2),\n",
       "       (151, 13.13,  2.  , 1, 0, 1, 0, 2),\n",
       "       (152, 17.26,  2.74, 1, 0, 1, 0, 3),\n",
       "       (153, 24.55,  2.  , 1, 0, 1, 0, 4),\n",
       "       (154, 19.77,  2.  , 1, 0, 1, 0, 4),\n",
       "       (155, 29.85,  5.14, 0, 0, 1, 0, 5),\n",
       "       (156, 48.17,  5.  , 1, 0, 1, 0, 6),\n",
       "       (157, 25.  ,  3.75, 0, 0, 1, 0, 4),\n",
       "       (158, 13.39,  2.61, 0, 0, 1, 0, 2),\n",
       "       (159, 16.49,  2.  , 1, 0, 1, 0, 4),\n",
       "       (160, 21.5 ,  3.5 , 1, 0, 1, 0, 4),\n",
       "       (161, 12.66,  2.5 , 1, 0, 1, 0, 2),\n",
       "       (162, 16.21,  2.  , 0, 0, 1, 0, 3),\n",
       "       (163, 13.81,  2.  , 1, 0, 1, 0, 2),\n",
       "       (164, 17.51,  3.  , 0, 1, 1, 0, 2),\n",
       "       (165, 24.52,  3.48, 1, 0, 1, 0, 3),\n",
       "       (166, 20.76,  2.24, 1, 0, 1, 0, 2),\n",
       "       (167, 31.71,  4.5 , 1, 0, 1, 0, 4),\n",
       "       (168, 10.59,  1.61, 0, 1, 0, 0, 2),\n",
       "       (169, 10.63,  2.  , 0, 1, 0, 0, 2),\n",
       "       (170, 50.81, 10.  , 1, 1, 0, 0, 3),\n",
       "       (171, 15.81,  3.16, 1, 1, 0, 0, 2),\n",
       "       (172,  7.25,  5.15, 1, 1, 1, 0, 2),\n",
       "       (173, 31.85,  3.18, 1, 1, 1, 0, 2),\n",
       "       (174, 16.82,  4.  , 1, 1, 1, 0, 2),\n",
       "       (175, 32.9 ,  3.11, 1, 1, 1, 0, 2),\n",
       "       (176, 17.89,  2.  , 1, 1, 1, 0, 2),\n",
       "       (177, 14.48,  2.  , 1, 1, 1, 0, 2),\n",
       "       (178,  9.6 ,  4.  , 0, 1, 1, 0, 2),\n",
       "       (179, 34.63,  3.55, 1, 1, 1, 0, 2),\n",
       "       (180, 34.65,  3.68, 1, 1, 1, 0, 4),\n",
       "       (181, 23.33,  5.65, 1, 1, 1, 0, 2),\n",
       "       (182, 45.35,  3.5 , 1, 1, 1, 0, 3),\n",
       "       (183, 23.17,  6.5 , 1, 1, 1, 0, 4),\n",
       "       (184, 40.55,  3.  , 1, 1, 1, 0, 2),\n",
       "       (185, 20.69,  5.  , 1, 0, 1, 0, 5),\n",
       "       (186, 20.9 ,  3.5 , 0, 1, 1, 0, 3),\n",
       "       (187, 30.46,  2.  , 1, 1, 1, 0, 5),\n",
       "       (188, 18.15,  3.5 , 0, 1, 1, 0, 3),\n",
       "       (189, 23.1 ,  4.  , 1, 1, 1, 0, 3),\n",
       "       (190, 15.69,  1.5 , 1, 1, 1, 0, 2),\n",
       "       (191, 19.81,  4.19, 0, 1, 2, 1, 2),\n",
       "       (192, 28.44,  2.56, 1, 1, 2, 1, 2),\n",
       "       (193, 15.48,  2.02, 1, 1, 2, 1, 2),\n",
       "       (194, 16.58,  4.  , 1, 1, 2, 1, 2),\n",
       "       (195,  7.56,  1.44, 1, 0, 2, 1, 2),\n",
       "       (196, 10.34,  2.  , 1, 1, 2, 1, 2),\n",
       "       (197, 43.11,  5.  , 0, 1, 2, 1, 4),\n",
       "       (198, 13.  ,  2.  , 0, 1, 2, 1, 2),\n",
       "       (199, 13.51,  2.  , 1, 1, 2, 1, 2),\n",
       "       (200, 18.71,  4.  , 1, 1, 2, 1, 3),\n",
       "       (201, 12.74,  2.01, 0, 1, 2, 1, 2),\n",
       "       (202, 13.  ,  2.  , 0, 1, 2, 1, 2),\n",
       "       (203, 16.4 ,  2.5 , 0, 1, 2, 1, 2),\n",
       "       (204, 20.53,  4.  , 1, 1, 2, 1, 4),\n",
       "       (205, 16.47,  3.23, 0, 1, 2, 1, 3),\n",
       "       (206, 26.59,  3.41, 1, 1, 0, 0, 3),\n",
       "       (207, 38.73,  3.  , 1, 1, 0, 0, 4),\n",
       "       (208, 24.27,  2.03, 1, 1, 0, 0, 2),\n",
       "       (209, 12.76,  2.23, 0, 1, 0, 0, 2),\n",
       "       (210, 30.06,  2.  , 1, 1, 0, 0, 3),\n",
       "       (211, 25.89,  5.16, 1, 1, 0, 0, 4),\n",
       "       (212, 48.33,  9.  , 1, 0, 0, 0, 4),\n",
       "       (213, 13.27,  2.5 , 0, 1, 0, 0, 2),\n",
       "       (214, 28.17,  6.5 , 0, 1, 0, 0, 3),\n",
       "       (215, 12.9 ,  1.1 , 0, 1, 0, 0, 2),\n",
       "       (216, 28.15,  3.  , 1, 1, 0, 0, 5),\n",
       "       (217, 11.59,  1.5 , 1, 1, 0, 0, 2),\n",
       "       (218,  7.74,  1.44, 1, 1, 0, 0, 2),\n",
       "       (219, 30.14,  3.09, 0, 1, 0, 0, 4),\n",
       "       (220, 12.16,  2.2 , 1, 1, 3, 1, 2),\n",
       "       (221, 13.42,  3.48, 0, 1, 3, 1, 2),\n",
       "       (222,  8.58,  1.92, 1, 1, 3, 1, 1),\n",
       "       (223, 15.98,  3.  , 0, 0, 3, 1, 3),\n",
       "       (224, 13.42,  1.58, 1, 1, 3, 1, 2),\n",
       "       (225, 16.27,  2.5 , 0, 1, 3, 1, 2),\n",
       "       (226, 10.09,  2.  , 0, 1, 3, 1, 2),\n",
       "       (227, 20.45,  3.  , 1, 0, 0, 0, 4),\n",
       "       (228, 13.28,  2.72, 1, 0, 0, 0, 2),\n",
       "       (229, 22.12,  2.88, 0, 1, 0, 0, 2),\n",
       "       (230, 24.01,  2.  , 1, 1, 0, 0, 4),\n",
       "       (231, 15.69,  3.  , 1, 1, 0, 0, 3),\n",
       "       (232, 11.61,  3.39, 1, 0, 0, 0, 2),\n",
       "       (233, 10.77,  1.47, 1, 0, 0, 0, 2),\n",
       "       (234, 15.53,  3.  , 1, 1, 0, 0, 2),\n",
       "       (235, 10.07,  1.25, 1, 0, 0, 0, 2),\n",
       "       (236, 12.6 ,  1.  , 1, 1, 0, 0, 2),\n",
       "       (237, 32.83,  1.17, 1, 1, 0, 0, 2),\n",
       "       (238, 35.83,  4.67, 0, 0, 0, 0, 3),\n",
       "       (239, 29.03,  5.92, 1, 0, 0, 0, 3),\n",
       "       (240, 27.18,  2.  , 0, 1, 0, 0, 2),\n",
       "       (241, 22.67,  2.  , 1, 1, 0, 0, 2),\n",
       "       (242, 17.82,  1.75, 1, 0, 0, 0, 2),\n",
       "       (243, 18.78,  3.  , 0, 0, 2, 0, 2)],\n",
       "      dtype=[('f0', '<i4'), ('f1', '<f8'), ('f2', '<f8'), ('f3', '<i4'), ('f4', '<i4'), ('f5', '<i4'), ('f6', '<i4'), ('f7', '<i4')])"
      ]
     },
     "execution_count": 56,
     "metadata": {},
     "output_type": "execute_result"
    }
   ],
   "source": [
    "data"
   ]
  },
  {
   "cell_type": "code",
   "execution_count": null,
   "id": "1fcfe435-cfe1-4c2c-8f53-00d9b24167d6",
   "metadata": {},
   "outputs": [],
   "source": []
  },
  {
   "cell_type": "code",
   "execution_count": null,
   "id": "1797a7b3-2f6b-47fc-928e-1fcdafa59f00",
   "metadata": {},
   "outputs": [],
   "source": []
  },
  {
   "cell_type": "code",
   "execution_count": null,
   "id": "35f417f8-5b80-454b-b318-9c84519049e1",
   "metadata": {},
   "outputs": [],
   "source": []
  }
 ],
 "metadata": {
  "kernelspec": {
   "display_name": "Python 3 (ipykernel)",
   "language": "python",
   "name": "python3"
  },
  "language_info": {
   "codemirror_mode": {
    "name": "ipython",
    "version": 3
   },
   "file_extension": ".py",
   "mimetype": "text/x-python",
   "name": "python",
   "nbconvert_exporter": "python",
   "pygments_lexer": "ipython3",
   "version": "3.9.7"
  }
 },
 "nbformat": 4,
 "nbformat_minor": 5
}

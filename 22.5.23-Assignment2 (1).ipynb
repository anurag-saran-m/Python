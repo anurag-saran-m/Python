{
 "cells": [
  {
   "cell_type": "code",
   "execution_count": 34,
   "id": "1bfe81a1-84b5-43e8-a91f-d8fe16b20904",
   "metadata": {},
   "outputs": [
    {
     "name": "stdin",
     "output_type": "stream",
     "text": [
      "Type your number:  2\n",
      "type your number:  2\n"
     ]
    },
    {
     "name": "stdout",
     "output_type": "stream",
     "text": [
      "Multiplication: 4\n",
      "Division: 1.0\n"
     ]
    }
   ],
   "source": [
    "#1.Write a program to accept two numbers from the user and calculate multiplication, division \n",
    "First_number=int(input(\"Type your number: \"))\n",
    "Last_number=int(input(\"type your number: \"))\n",
    "operator=(\"*\",\"/\")\n",
    "for y in range(1):\n",
    "    print(\"Multiplication: \" + str(First_number*Last_number))\n",
    "    print(\"Division: \" + str(First_number/Last_number))"
   ]
  },
  {
   "cell_type": "code",
   "execution_count": 30,
   "id": "fc031171-951d-4266-9d50-0e4c913aab93",
   "metadata": {},
   "outputs": [
    {
     "name": "stdout",
     "output_type": "stream",
     "text": [
      "a\n",
      "c\n",
      "e\n",
      "g\n",
      "aceg\n"
     ]
    }
   ],
   "source": [
    "#2.Write a python program to print the characters from a string that are present at an even index \n",
    "\n",
    "x= \"abcdefgh\"\n",
    "\n",
    "z=x[0::2]\n",
    "\n",
    "for y in range(0,len(x),2):\n",
    "        print(x[y])\n",
    "        \n",
    "print(z)\n",
    "        "
   ]
  },
  {
   "cell_type": "code",
   "execution_count": 35,
   "id": "d2535581-3535-4b60-ba1f-d7f5d243fe3b",
   "metadata": {},
   "outputs": [
    {
     "name": "stdout",
     "output_type": "stream",
     "text": [
      "b\n",
      "d\n",
      "f\n",
      "h\n",
      "bdfh\n"
     ]
    }
   ],
   "source": [
    "#3.Write a python program to print the characters from a string that are present at an odd index \n",
    "x= \"abcdefgh\"\n",
    "\n",
    "z=x[1::2]\n",
    "\n",
    "for y in range(1,len(x),2):\n",
    "        print(x[y])\n",
    "        \n",
    "print(z)\n"
   ]
  },
  {
   "cell_type": "code",
   "execution_count": 87,
   "id": "519ec798-c538-488a-a757-eb79a74ebea2",
   "metadata": {},
   "outputs": [
    {
     "name": "stdin",
     "output_type": "stream",
     "text": [
      "Type your number:  3\n",
      "type your number:  2\n"
     ]
    },
    {
     "name": "stdout",
     "output_type": "stream",
     "text": [
      "Division: 1\n"
     ]
    }
   ],
   "source": [
    "#4.\"\"\"Write a python program which will print the sum of the 2 numbers if the 2 numbers are even or it will print the difference of two numbers\"\"\"\n",
    "First_num=int(input(\"Type your number: \"))\n",
    "Last_num=int(input(\"type your number: \"))\n",
    "operator=(\"+\",\"-\")\n",
    "\n",
    "if First_num%2==0 and Last_num%2==0:\n",
    "    print(\"Addition: \" + str(First_num+Last_num))\n",
    "else:\n",
    "    print(\"Division: \" + str(First_num-Last_num))\n",
    "\n"
   ]
  },
  {
   "cell_type": "code",
   "execution_count": 43,
   "id": "b5f9976d-7f4d-4be4-abdf-6a78be4ec5b9",
   "metadata": {},
   "outputs": [
    {
     "data": {
      "text/plain": [
       "'FiBoNaCcI'"
      ]
     },
     "execution_count": 43,
     "metadata": {},
     "output_type": "execute_result"
    }
   ],
   "source": [
    "#5. Write a python program to convert all even indexed alphabets to upper and odd indexed char \n",
    "var6= \"fibonacci\"\n",
    "\n",
    "var6[0].upper()+var6[1].lower()+var6[2].upper()+var6[3].lower()+var6[4].upper()+var6[5].lower()+var6[6].upper()\\\n",
    "+var6[7].lower()+var6[8].upper()"
   ]
  },
  {
   "cell_type": "code",
   "execution_count": 46,
   "id": "8107b46c-a0d3-402a-b473-82725301bf93",
   "metadata": {},
   "outputs": [
    {
     "name": "stdin",
     "output_type": "stream",
     "text": [
      "type any number:  10\n"
     ]
    },
    {
     "name": "stdout",
     "output_type": "stream",
     "text": [
      "divisible by 5 or not: True\n"
     ]
    }
   ],
   "source": [
    "#6.Write a python program which will print True if the input number is divisible by 5 or else False\n",
    "num=int(input(\"type any number: \"))\n",
    "if num%5==0:\n",
    "    print(\"divisible by 5 or not: \" + str(True))\n",
    "else: print(False)"
   ]
  },
  {
   "cell_type": "code",
   "execution_count": 49,
   "id": "84b0b634-ec28-4d12-a6bd-08384a6871ea",
   "metadata": {},
   "outputs": [
    {
     "name": "stdin",
     "output_type": "stream",
     "text": [
      "Type your number:  100\n",
      "type your number:  11\n"
     ]
    },
    {
     "name": "stdout",
     "output_type": "stream",
     "text": [
      "1100\n"
     ]
    }
   ],
   "source": [
    "#7.Given two integer numbers return their product only if the product is greater than 1000, else return their sum \n",
    "First_number=int(input(\"Type your number: \"))\n",
    "Last_number=int(input(\"type your number: \"))\n",
    "y= First_number*Last_number\n",
    "z= First_number+Last_number\n",
    "if y>1000:\n",
    "    print(y)\n",
    "else: print(z)"
   ]
  },
  {
   "cell_type": "code",
   "execution_count": 55,
   "id": "0beeb726-5342-4bd5-9e26-0d9129f1e833",
   "metadata": {},
   "outputs": [
    {
     "name": "stdout",
     "output_type": "stream",
     "text": [
      "pjtvos\n"
     ]
    }
   ],
   "source": [
    "#8.Given 2 strings x, y write a program to return a new string made of x and y’s first, middle, and last characters\n",
    "x= \"pytho\"\n",
    "y= \"javas\"\n",
    "z= x[0]+y[0]+x[2]+y[2]+x[4]+y[4]\n",
    "print(z)"
   ]
  },
  {
   "cell_type": "code",
   "execution_count": 59,
   "id": "1d7b31ad-41a0-4725-98f2-08508466965f",
   "metadata": {},
   "outputs": [
    {
     "name": "stdin",
     "output_type": "stream",
     "text": [
      "Enter three names:  ram rahim rustum\n"
     ]
    },
    {
     "name": "stdout",
     "output_type": "stream",
     "text": [
      "Name 1: ram,\n",
      "Name 2: rahim,\n",
      "Name 3: rustum\n"
     ]
    }
   ],
   "source": [
    "#9. Write a python program to take three names as input from a user in the single input () function call\n",
    "names = input(\"Enter three names: \").split()\n",
    "names[:3] = person1, person2, person3\n",
    "\n",
    "print(\"Name 1:\", person1)\n",
    "print(\"Name 2:\", person2)\n",
    "print(\"Name 3:\", person3)\n"
   ]
  },
  {
   "cell_type": "code",
   "execution_count": 71,
   "id": "50f2e338-c6f2-4e47-9c74-73a323cc946c",
   "metadata": {},
   "outputs": [
    {
     "name": "stdout",
     "output_type": "stream",
     "text": [
      "malayala@\n",
      "abc@b@b\n"
     ]
    }
   ],
   "source": [
    "#10. Write a Python program to get a string from a given string where all occurrences of its first char have been changed to '@', except the first char itself.\n",
    "x= \"malayalam\"\n",
    "y=x[0]\n",
    "z=y+x[1:].replace(\"m\",\"@\")\n",
    "\n",
    "a=\"abcabab\"\n",
    "b=a[0]\n",
    "c=b+a[1:].replace(\"a\",\"@\")\n",
    "\n",
    "print(z)\n",
    "print(c)"
   ]
  },
  {
   "cell_type": "code",
   "execution_count": 86,
   "id": "2a61e264-bc0d-4f9d-a10e-2608a2c6b306",
   "metadata": {},
   "outputs": [
    {
     "name": "stdin",
     "output_type": "stream",
     "text": [
      "type any word:  accord\n"
     ]
    },
    {
     "name": "stdout",
     "output_type": "stream",
     "text": [
      "according\n"
     ]
    }
   ],
   "source": [
    "#11. Write a Python program to add 'ing' at the end of a given string (string length should be equal to or more than 3). If the given string already ends with 'ing' then add 'ly' instead. If the string length of the given string is less than 3, leave it unchanged\n",
    "x= input(\"type any word: \")\n",
    "z=len(x)\n",
    "if z<3:\n",
    "    print(x)\n",
    "\n",
    "elif x.endswith(\"ing\"):\n",
    "    print(x+\"ly\") \n",
    "\n",
    "else: print(x+\"ing\") \n"
   ]
  },
  {
   "cell_type": "code",
   "execution_count": 92,
   "id": "b7b8905f-e991-4fe6-b7fd-cc9f6382440c",
   "metadata": {},
   "outputs": [
    {
     "name": "stdin",
     "output_type": "stream",
     "text": [
      "Type your number:  5\n",
      "type your number:  5\n"
     ]
    },
    {
     "name": "stdout",
     "output_type": "stream",
     "text": [
      "True\n"
     ]
    }
   ],
   "source": [
    "#12. Write a python program that accepts two inputs num1 and num2 print True if one of them is 10 or if their sum is 10 otherwise print False\n",
    "F_num=int(input(\"Type your number: \"))\n",
    "L_num=int(input(\"type your number: \"))\n",
    "if F_num==10 or L_num==10 or F_num+L_num==10:\n",
    "    print(True)\n",
    "else: print(False)"
   ]
  },
  {
   "cell_type": "code",
   "execution_count": 95,
   "id": "7b60d23c-561b-4a46-a3e9-fb623336526f",
   "metadata": {},
   "outputs": [
    {
     "name": "stdin",
     "output_type": "stream",
     "text": [
      "Type your number:  2\n",
      "type your number:  2\n",
      "type your number:  3\n"
     ]
    },
    {
     "name": "stdout",
     "output_type": "stream",
     "text": [
      "True\n"
     ]
    }
   ],
   "source": [
    "#13. Write a python program that accepts three inputs x, y and z print True if x*y>z otherwise False\n",
    "A=int(input(\"Type your number: \"))\n",
    "B=int(input(\"type your number: \"))\n",
    "C=int(input(\"type your number: \"))\n",
    "if A*B>C:\n",
    "    print(True)\n",
    "else: print(False)"
   ]
  },
  {
   "cell_type": "code",
   "execution_count": 98,
   "id": "30e9cafe-9596-49d8-a289-3258c8df5771",
   "metadata": {},
   "outputs": [
    {
     "name": "stdin",
     "output_type": "stream",
     "text": [
      "type any string:  @123ab\n",
      "type any string:  @#_. *\n"
     ]
    },
    {
     "name": "stdout",
     "output_type": "stream",
     "text": [
      "True\n"
     ]
    }
   ],
   "source": [
    "#14. Write a python program that accepts two strings inputs return True depending on whether the total number of characters in the first string is equal to the total number of characters in the second string.\n",
    "var1=input(\"type any string: \")\n",
    "var2=input(\"type any string: \")\n",
    "if len(var1) == len(var2):\n",
    "    print(True)\n"
   ]
  },
  {
   "cell_type": "code",
   "execution_count": 101,
   "id": "d106a0c9-80f6-48c4-8d8c-2bd309d0be12",
   "metadata": {},
   "outputs": [
    {
     "name": "stdin",
     "output_type": "stream",
     "text": [
      "type any string:  rambo\n"
     ]
    },
    {
     "name": "stdout",
     "output_type": "stream",
     "text": [
      "ramramram\n"
     ]
    }
   ],
   "source": [
    "#15. Write a python program that takes a string input, we'll say that the front is the first three characters of the string.\n",
    "#If the string length is less than three characters, the front is whatever is there.\n",
    "#Return a new string, which is three copies of the front\n",
    "var1=input(\"type any string: \")\n",
    "front = var1[:3]\n",
    "print(front*3)"
   ]
  },
  {
   "cell_type": "code",
   "execution_count": 109,
   "id": "34955ea3-16c0-4c0e-9291-44478ff4ad8d",
   "metadata": {},
   "outputs": [
    {
     "name": "stdin",
     "output_type": "stream",
     "text": [
      "type any string:  ends\n"
     ]
    },
    {
     "name": "stdout",
     "output_type": "stream",
     "text": [
      "plural\n"
     ]
    }
   ],
   "source": [
    "#16. Write a python program that takes in a word and determines whether or not it is plural. \n",
    "#A plural word is one that ends in \"s\".\n",
    "var1=input(\"type any string: \")\n",
    "if var1.endswith(\"s\"):\n",
    "    print(\"plural\")\n",
    "else: print(\"not a plural\")"
   ]
  },
  {
   "cell_type": "code",
   "execution_count": 108,
   "id": "282e3c01-89c0-4f4d-a779-ddc0f8aa61f0",
   "metadata": {},
   "outputs": [
    {
     "name": "stdin",
     "output_type": "stream",
     "text": [
      "type yor age:  18\n",
      "are you on break:y/n  yes\n"
     ]
    },
    {
     "name": "stdout",
     "output_type": "stream",
     "text": [
      "Do not serve drinks\n"
     ]
    }
   ],
   "source": [
    "#17. A bartender is writing a simple program to determine whether he should serve drinks to someone.\n",
    "#He only serves drinks to people 18 and older and when he's not on break (True means break and False means not a break time).\n",
    "#Given the person's age, and whether break time is in session, \n",
    "#create a python program which prints whether he should serve drinks or not.\n",
    "\n",
    "age= int(input(\"type yor age: \"))\n",
    "is_break = input(\"are you on break:yes/no \")\n",
    "         \n",
    "if age >= 18 and is_break==\"no\":\n",
    "        print( \"Serve drinks\")\n",
    "else: print( \"Do not serve drinks\")"
   ]
  },
  {
   "cell_type": "code",
   "execution_count": null,
   "id": "dcc80c1c-c0f6-4a82-aea9-a04e30879bbf",
   "metadata": {},
   "outputs": [],
   "source": [
    "#18.Manoj Kumar has family and friends. Help him remind them who is who. \n",
    "#Given a string with a name, return the relation of that person to Manoj Kumar.\n"
   ]
  },
  {
   "cell_type": "code",
   "execution_count": null,
   "id": "05772039-97ad-41ba-b559-277fe3cd1133",
   "metadata": {},
   "outputs": [],
   "source": [
    "#19. Write a python program that takes a string, breaks it up and returns it with vowels first, consonants second. \n",
    "#For any character that's not a vowel (like special characters or spaces), treat them like consonants\n",
    "\n"
   ]
  },
  {
   "cell_type": "code",
   "execution_count": 110,
   "id": "ffec1e57-f6f8-49e8-9fa5-cbf6575c0506",
   "metadata": {},
   "outputs": [
    {
     "name": "stdin",
     "output_type": "stream",
     "text": [
      "type 0 to start 0\n",
      "type a number 2\n",
      "type a symbol +,-,*,/,//,% = +\n",
      "type a number 2\n"
     ]
    },
    {
     "name": "stdout",
     "output_type": "stream",
     "text": [
      "4\n"
     ]
    },
    {
     "name": "stdin",
     "output_type": "stream",
     "text": [
      " press y/n to continue: n\n"
     ]
    }
   ],
   "source": [
    "# Create a dynamic calculator which asks for numbers and operator and return the answers\n",
    "x=input(\"type 0 to start\")\n",
    "\n",
    "while x==\"0\":\n",
    "    num1=int(input(\"type a number\"))\n",
    "    operator=input(\"type a symbol +,-,*,/,//,% =\")\n",
    "    num2=int(input(\"type a number\"))\n",
    "    \n",
    "    if operator==\"+\":\n",
    "        print(num1+num2)\n",
    "        y=input(\" press y/n to continue:\")\n",
    "    elif operator==\"-\":\n",
    "        print(num1-num2)\n",
    "        y=input(\" press y/n to continue:\")\n",
    "    \n",
    "    elif operator==\"*\":\n",
    "        print(num1*num2)\n",
    "        y=input(\" press y/n to continue:\")\n",
    "    \n",
    "    elif operator==\"/\":\n",
    "        print(num1/num2)\n",
    "        y=input(\" press y/n to continue:\")\n",
    "\n",
    "        \n",
    "    if y==\"n\":\n",
    "        break\n",
    "    \n",
    "        \n",
    "    else:\n",
    "        continue"
   ]
  },
  {
   "cell_type": "code",
   "execution_count": null,
   "id": "067dd498-dda3-4a74-abb7-6b8650c5ee76",
   "metadata": {},
   "outputs": [],
   "source": []
  },
  {
   "cell_type": "code",
   "execution_count": null,
   "id": "0c0dbfdc-df2e-45f2-8533-14500d3cd2f2",
   "metadata": {},
   "outputs": [],
   "source": []
  },
  {
   "cell_type": "code",
   "execution_count": null,
   "id": "c53e05eb-54b5-4ad2-a93f-085be6475282",
   "metadata": {},
   "outputs": [],
   "source": []
  },
  {
   "cell_type": "code",
   "execution_count": null,
   "id": "69be0f29-2528-4c9f-a68b-daa446fa55d1",
   "metadata": {},
   "outputs": [],
   "source": []
  }
 ],
 "metadata": {
  "kernelspec": {
   "display_name": "Python 3 (ipykernel)",
   "language": "python",
   "name": "python3"
  },
  "language_info": {
   "codemirror_mode": {
    "name": "ipython",
    "version": 3
   },
   "file_extension": ".py",
   "mimetype": "text/x-python",
   "name": "python",
   "nbconvert_exporter": "python",
   "pygments_lexer": "ipython3",
   "version": "3.9.7"
  }
 },
 "nbformat": 4,
 "nbformat_minor": 5
}

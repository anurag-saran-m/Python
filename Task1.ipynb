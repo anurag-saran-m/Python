{
 "cells": [
  {
   "cell_type": "code",
   "execution_count": 4,
   "id": "70037e86-0963-4d9a-a741-4f2b6fa91031",
   "metadata": {},
   "outputs": [
    {
     "data": {
      "text/plain": [
       "'anurag'"
      ]
     },
     "execution_count": 4,
     "metadata": {},
     "output_type": "execute_result"
    }
   ],
   "source": [
    "# Write a python program to convert a string to lower case\n",
    "X=\"ANURAG\"\n",
    "X.lower()"
   ]
  },
  {
   "cell_type": "code",
   "execution_count": 2,
   "id": "3194c482-fa85-428e-a55c-f5be8b37c6f6",
   "metadata": {},
   "outputs": [
    {
     "data": {
      "text/plain": [
       "'anurag'"
      ]
     },
     "execution_count": 2,
     "metadata": {},
     "output_type": "execute_result"
    }
   ],
   "source": []
  },
  {
   "cell_type": "code",
   "execution_count": 8,
   "id": "51793fab-21fb-4488-b5fb-acb9225419f2",
   "metadata": {},
   "outputs": [
    {
     "name": "stdin",
     "output_type": "stream",
     "text": [
      "PYTHON PYTHON\n"
     ]
    },
    {
     "name": "stdout",
     "output_type": "stream",
     "text": [
      "PyThOn\n"
     ]
    }
   ],
   "source": [
    "# Write a python program to convert only odd indexed characters in a string to lower case\n",
    "x=input(\"PYTHON\")\n",
    "y=list(x)\n",
    "a=\"\"\n",
    "for z in range(0,len(x)):\n",
    "    if z%2==0:\n",
    "        a+=str(x[z])\n",
    "    else:\n",
    "        a+=str(x[z]).lower()\n",
    "print(a)\n",
    "    "
   ]
  },
  {
   "cell_type": "code",
   "execution_count": 9,
   "id": "511e5aa2-e193-4e1f-adab-b06256542ea5",
   "metadata": {},
   "outputs": [
    {
     "name": "stdin",
     "output_type": "stream",
     "text": [
      "PYTHON PYTHON\n"
     ]
    },
    {
     "name": "stdout",
     "output_type": "stream",
     "text": [
      "pYtHoN\n"
     ]
    }
   ],
   "source": [
    "# Write a python program to convert only even indexed characters in a string to lower case\n",
    "x=input(\"PYTHON\")\n",
    "a=\"\"\n",
    "for z in range(0,len(x)):\n",
    "    if z%2!=0:\n",
    "        a+=str(x[z])\n",
    "    else:\n",
    "        a+=str(x[z]).lower()\n",
    "print(a)"
   ]
  },
  {
   "cell_type": "code",
   "execution_count": 2,
   "id": "821be37c-86c3-43f5-8621-a599a37f72d7",
   "metadata": {},
   "outputs": [
    {
     "name": "stdin",
     "output_type": "stream",
     "text": [
      "PYTHON python\n"
     ]
    },
    {
     "name": "stdout",
     "output_type": "stream",
     "text": [
      "pYtHoN\n"
     ]
    }
   ],
   "source": [
    "# Write a python program to convert only odd indexed characters in a string to upper case\n",
    "x=input(\"PYTHON\")\n",
    "y=list(x)\n",
    "a=\"\"\n",
    "for z in range(0,len(x)):\n",
    "    if z%2==0:\n",
    "        a+=str(x[z])\n",
    "    else:\n",
    "        a+=str(x[z]).upper()\n",
    "print(a)"
   ]
  },
  {
   "cell_type": "code",
   "execution_count": 3,
   "id": "9b096a05-c53d-42e9-9578-8b1d6830d097",
   "metadata": {},
   "outputs": [
    {
     "name": "stdin",
     "output_type": "stream",
     "text": [
      "PYTHON python\n"
     ]
    },
    {
     "name": "stdout",
     "output_type": "stream",
     "text": [
      "PyThOn\n"
     ]
    }
   ],
   "source": [
    "# Write a python program to convert only even indexed characters in a string to upper case\n",
    "x=input(\"PYTHON\")\n",
    "a=\"\"\n",
    "for z in range(0,len(x)):\n",
    "    if z%2!=0:\n",
    "        a+=str(x[z])\n",
    "    else:\n",
    "        a+=str(x[z]).upper()\n",
    "print(a)"
   ]
  },
  {
   "cell_type": "code",
   "execution_count": 57,
   "id": "9935d5ad-5a87-4e09-baa9-5ef62d043c5a",
   "metadata": {},
   "outputs": [
    {
     "name": "stdin",
     "output_type": "stream",
     "text": [
      "type your name  abc\n",
      "type Male/Female  Male\n",
      "type your age 22\n",
      "type you phone no 22222222\n",
      "type father name def\n",
      "type mothers name ghi\n"
     ]
    },
    {
     "name": "stdout",
     "output_type": "stream",
     "text": [
      "Bio_data\n",
      " My name is abc\n",
      " My gender is Male\n",
      " My age is 22\n",
      " My Ph_no is 22222222\n",
      " My father's name isdef\n",
      " My mother's name is ghi\n"
     ]
    }
   ],
   "source": [
    "Name=input(\"type your name \")\n",
    "Gender= input(\"type Male/Female \")\n",
    "Age= int(input(\"type your age\"))\n",
    "Ph_no = int(input(\"type you phone no\"))\n",
    "Fathers_name = input(\"type father name\")\n",
    "Mothers_name = input(\"type mothers name\")\n",
    "Bio_data = \" My name is {0}\\n My gender is {1}\\n My age is {2}\\n My Ph_no is {3}\\n My father's name is{4}\\n\\\n",
    " My mother's name is {5}\"\n",
    "print(\"Bio_data\")\n",
    "print(Bio_data.format(Name,Gender,Age,Ph_no,Fathers_name,Mothers_name))"
   ]
  },
  {
   "cell_type": "code",
   "execution_count": 6,
   "id": "3899c069-b64d-4f41-91fd-74d1052e26b5",
   "metadata": {},
   "outputs": [
    {
     "name": "stdin",
     "output_type": "stream",
     "text": [
      "Please enter any string consisting '@' in order to count its occurence  abc@123@xyzmail.com\n"
     ]
    },
    {
     "name": "stdout",
     "output_type": "stream",
     "text": [
      "@ occurred 2 number of times\n"
     ]
    }
   ],
   "source": [
    "#7.Write a python program to count how many times “@” occurred\n",
    "x=input(\"Please enter any string consisting '@' in order to count its occurence \")\n",
    "print(\"@ occurred \"+str(x.count(\"@\"))+\" number of times\")"
   ]
  },
  {
   "cell_type": "code",
   "execution_count": 12,
   "id": "f1f5b2e0-ffea-4c2b-a193-73bdbe7beab2",
   "metadata": {},
   "outputs": [
    {
     "name": "stdout",
     "output_type": "stream",
     "text": [
      "name1,name2,name3\n"
     ]
    }
   ],
   "source": [
    "#8.Write a python program to get only names from the string “name1.@gmail.com,name2.@gmail.com,name3.@gmail.com”\n",
    "#Output-name1,name2,name3\n",
    "x = 'name1.@gmail.com,name2.@gmail.com,name3.@gmail.com'\n",
    "y= x.split(\".@gmail.com\")\n",
    "a=\"\"\n",
    "for z in range(0,3):\n",
    "    a+=str(y[z])\n",
    "print(a)\n"
   ]
  },
  {
   "cell_type": "code",
   "execution_count": 34,
   "id": "bcc05ac1-8636-4bc8-b815-5d2dc7cf0b5b",
   "metadata": {},
   "outputs": [
    {
     "name": "stdin",
     "output_type": "stream",
     "text": [
      "mynameissan or any string of odd length more than 9:  mynameisanu\n"
     ]
    },
    {
     "name": "stdout",
     "output_type": "stream",
     "text": [
      "mei\n",
      "middle index value 5\n",
      "given string length is 11\n"
     ]
    }
   ],
   "source": [
    "#9.Given a string of odd length greater than 9, return a new string made of the middle three characters of that\n",
    "#Ex:- “mynameissan\n",
    "#Output:- “mei”\n",
    "x = input(\"mynameissan or any string of odd length more than 9: \")\n",
    "y=len(x)\n",
    "if y%2!=0 and y>9:\n",
    "    z=y//2\n",
    "    print(x[(z-1):(z+2)])\n",
    "print(\"middle index value \"+ str(z))\n",
    "print(\"given string length is \" + str(len(x)))"
   ]
  },
  {
   "cell_type": "code",
   "execution_count": null,
   "id": "066c4d9a-f673-405d-9908-e65a1a962631",
   "metadata": {},
   "outputs": [],
   "source": []
  },
  {
   "cell_type": "code",
   "execution_count": 60,
   "id": "aa19a00e-bd7e-4bc9-8e6f-8d6762a63c4d",
   "metadata": {},
   "outputs": [
    {
     "name": "stdin",
     "output_type": "stream",
     "text": [
      "Please enter a string  myme\n",
      "Enetr a string of 2 characters you want to insert in the middle:  _na\n"
     ]
    },
    {
     "name": "stdout",
     "output_type": "stream",
     "text": [
      "my_name\n"
     ]
    }
   ],
   "source": [
    "#9.Given a string of odd length greater that 9, return a new string made of the middle three characters of a given String\n",
    "#Ex:- “mynameissan\n",
    "#Output:- “mei”\n",
    "x=input(\"Please enter a string \")\n",
    "y=input(\"Enetr a string of 2 characters you want to insert in the middle: \")\n",
    "z=len(x)//2\n",
    "print(x[:z]+y+x[z:])"
   ]
  },
  {
   "cell_type": "code",
   "execution_count": 46,
   "id": "ad37cfdb-8fee-4730-b688-db2b5c8515bf",
   "metadata": {},
   "outputs": [],
   "source": [
    "#11. Write a program to remove vowels from the entire alphabets\n",
    "#Ex:- “abcdefghijklmnopqrstuvwxyz” Output:- “bcdfghjklmnpqrstvwxyz\n",
    "yy=\"a\\bbcde\\bfghi\\bjklmno\\bpqrstu\\bvwxyz\""
   ]
  },
  {
   "cell_type": "code",
   "execution_count": 47,
   "id": "e76b749c-28be-4e89-a6b7-55a0b2decde8",
   "metadata": {},
   "outputs": [
    {
     "name": "stdout",
     "output_type": "stream",
     "text": [
      "bcdfghjklmnpqrstvwxyz\n"
     ]
    }
   ],
   "source": [
    "print(yy)"
   ]
  },
  {
   "cell_type": "code",
   "execution_count": 55,
   "id": "617faf00-741c-4281-94c0-2d930113a05b",
   "metadata": {},
   "outputs": [
    {
     "name": "stdout",
     "output_type": "stream",
     "text": [
      "bcdfghjklmnpqrstvwxyz\n"
     ]
    }
   ],
   "source": [
    "alphabets=\"abcdefghijklmnopqrstuvwxyz\"\n",
    "vowels = \"aeiou\"\n",
    "a=\"\"\n",
    "for letter in alphabets:\n",
    "    if letter not in vowels:\n",
    "        a=a+letter\n",
    "print(a)"
   ]
  },
  {
   "cell_type": "code",
   "execution_count": null,
   "id": "5655f5b9-7556-4da7-a0c4-40d1bb777358",
   "metadata": {},
   "outputs": [],
   "source": []
  }
 ],
 "metadata": {
  "kernelspec": {
   "display_name": "Python 3 (ipykernel)",
   "language": "python",
   "name": "python3"
  },
  "language_info": {
   "codemirror_mode": {
    "name": "ipython",
    "version": 3
   },
   "file_extension": ".py",
   "mimetype": "text/x-python",
   "name": "python",
   "nbconvert_exporter": "python",
   "pygments_lexer": "ipython3",
   "version": "3.9.7"
  }
 },
 "nbformat": 4,
 "nbformat_minor": 5
}
